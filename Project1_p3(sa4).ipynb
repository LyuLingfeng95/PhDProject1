{
 "cells": [
  {
   "cell_type": "code",
   "execution_count": 1,
   "id": "0e4b4336",
   "metadata": {},
   "outputs": [],
   "source": [
    "import datetime as dt\n",
    "import difflib\n",
    "import json\n",
    "import math\n",
    "import os\n",
    "import string\n",
    "import sys\n",
    "from datetime import timedelta\n",
    "from random import sample\n",
    "\n",
    "import folium\n",
    "import matplotlib as mpl\n",
    "import matplotlib.pyplot as plt\n",
    "import missingno as msno\n",
    "import numpy as np\n",
    "import pandas as pd\n",
    "import pyreadstat\n",
    "import seaborn as sns\n",
    "import statsmodels.tools.tools as sm\n",
    "import statsmodels.base as sb\n",
    "from folium.features import CustomIcon\n",
    "from folium.plugins import FastMarkerCluster, HeatMap, MarkerCluster\n",
    "from linearmodels.panel.model import PooledOLS\n",
    "from scipy.signal import savgol_filter\n",
    "from sklearn.decomposition import PCA\n",
    "from sklearn.impute import SimpleImputer\n",
    "from sklearn.preprocessing import StandardScaler\n",
    "from statsmodels.stats.stattools import durbin_watson\n",
    "from statsmodels.tools.eval_measures import aic, rmse\n",
    "from statsmodels.tsa.api import VAR\n",
    "from statsmodels.tsa.stattools import adfuller\n",
    "import yfinance as yf\n",
    "from yahoofinancials import YahooFinancials\n",
    "import pickle\n",
    "import array_to_latex as a2l\n",
    "import markdown\n",
    "from sklearn.preprocessing import PolynomialFeatures\n",
    "from sklearn.preprocessing import StandardScaler\n",
    "import pdfkit as pdf"
   ]
  },
  {
   "cell_type": "code",
   "execution_count": 2,
   "id": "03cbcdad",
   "metadata": {},
   "outputs": [],
   "source": [
    "data = pd.read_csv(\n",
    "    \"./markettrends0.csv\",\n",
    "    dtype={\n",
    "        \"state\": \"str\",\n",
    "        \"sa3_name16\": \"str\",\n",
    "        \"sa4_name16\": \"str\",\n",
    "        \"postcode\": \"str\",\n",
    "        \"state\": \"str\",\n",
    "        \"property_type\": \"str\",\n",
    "    },\n",
    ")\n",
    "ndata = data.fillna(\n",
    "    {\"Volume of new rental listings (1 month)\": 0, \"Volume of sales (1 month)\": 0}\n",
    ").dropna(subset=[\"postcode\"])\n",
    "ndatahouses = ndata[:][ndata.property_type == \"Houses\"]\n",
    "ndataunits = ndata[:][ndata.property_type == \"Units\"]"
   ]
  },
  {
   "cell_type": "code",
   "execution_count": 3,
   "id": "113f95f9",
   "metadata": {},
   "outputs": [],
   "source": [
    "UniqueNames_sa4 = ndatahouses.sa4_name16.unique()[:-1]"
   ]
  },
  {
   "cell_type": "code",
   "execution_count": null,
   "id": "67a25e90",
   "metadata": {},
   "outputs": [],
   "source": [
    "# year = list(range(2001, 2021))\n",
    "\n",
    "# DataFrameDict_HILDA = {elem: pd.DataFrame for elem in year}\n",
    "# for key in DataFrameDict_HILDA.keys():\n",
    "#     order = key - 2001\n",
    "#     ini = string.ascii_lowercase[order]\n",
    "#     df, meta = pyreadstat.read_dta(f\"Household_{ini}200u.dta\")\n",
    "#     df.columns = df.columns.str[1:]\n",
    "#     DataFrameDict_HILDA[key] = df    "
   ]
  },
  {
   "cell_type": "code",
   "execution_count": null,
   "id": "f775eef4",
   "metadata": {},
   "outputs": [],
   "source": [
    "# DataFrameDict_HILDAp = {elem: pd.DataFrame for elem in year}\n",
    "# for key in DataFrameDict_HILDAp.keys():\n",
    "#     order = key - 2001\n",
    "#     ini = string.ascii_lowercase[order]\n",
    "#     df, meta = pyreadstat.read_dta(f\"Rperson_{ini}200u.dta\")\n",
    "#     df.columns = df.columns.str[1:]\n",
    "#     DataFrameDict_HILDAp[key] = df\n",
    "    \n",
    "# DataFrameDict_HILDA_cw = {elem: pd.DataFrame for elem in year}\n",
    "# for key in DataFrameDict_HILDA_cw.keys():\n",
    "#     order = key - 2001\n",
    "#     ini = string.ascii_lowercase[order]\n",
    "#     df, meta = pyreadstat.read_dta(f\"Combined_{ini}200u.dta\")\n",
    "#     df.columns = df.columns.str[1:]\n",
    "#     DataFrameDict_HILDA_cw[key] = df"
   ]
  },
  {
   "cell_type": "code",
   "execution_count": null,
   "id": "6cb36a57",
   "metadata": {},
   "outputs": [],
   "source": [
    "# list_postcodes = DataFrameDict_HILDA[2001][\"hhpcode\"]\n",
    "# for key in DataFrameDict_HILDA.keys():\n",
    "#     list_ny = DataFrameDict_HILDA[key][\"hhpcode\"]\n",
    "#     list_postcodes = list(set(list_postcodes).intersection(list_ny))\n",
    "# count_dict = dict()\n",
    "# for key in DataFrameDict_HILDA.keys():\n",
    "#     for item in DataFrameDict_HILDA[key][\"hhpcode\"].unique():\n",
    "#         if item in count_dict:\n",
    "#             count_dict[item] += 1\n",
    "#         else:\n",
    "#             count_dict[item] = 1\n",
    "# df_allpostcode = pd.DataFrame(count_dict.items())\n",
    "# HILDAallpc = df_allpostcode[0].values\n",
    "# df_retainedpc = df_allpostcode.drop(df_allpostcode[df_allpostcode[1] < 20].index)"
   ]
  },
  {
   "cell_type": "code",
   "execution_count": null,
   "id": "65181918",
   "metadata": {},
   "outputs": [],
   "source": [
    "# UniquePostcode = df_retainedpc[0]\n",
    "# DataFrameDict_postcode = {elem: pd.DataFrame for elem in UniquePostcode}\n",
    "# for key in DataFrameDict_postcode.keys():\n",
    "#     DataFrameDict_postcode[key] = ndatahouses[:][ndatahouses.postcode == key]"
   ]
  },
  {
   "cell_type": "code",
   "execution_count": 4,
   "id": "cba97a29",
   "metadata": {},
   "outputs": [],
   "source": [
    "# with open('DataFrameDict_postcode.pickle', 'wb') as f:\n",
    "#     pickle.dump(DataFrameDict_postcode, f)\n",
    "with open('DataFrameDict_postcode.pickle', 'rb') as f:\n",
    "     DataFrameDict_postcode =  pickle.load(f)    "
   ]
  },
  {
   "cell_type": "code",
   "execution_count": 5,
   "id": "2551813b",
   "metadata": {},
   "outputs": [],
   "source": [
    "aveHPI_lv3 = []\n",
    "lst = [\"postcode\", \"sa4\", \"state\", \"logHPI\", \"logHPIdiff\"]\n",
    "# Calling DataFrame constructor on list\n",
    "for key in DataFrameDict_postcode.keys():\n",
    "    df = pd.DataFrame([], columns=lst)\n",
    "    df[\"Description\"] = DataFrameDict_postcode[key][\"value_at_date\"].loc[\n",
    "        (\"2020-01\" > DataFrameDict_postcode[key][\"value_at_date\"])\n",
    "        & (DataFrameDict_postcode[key][\"value_at_date\"] > \"1999-12\")\n",
    "    ]\n",
    "    df[\"logHPI\"] =np.log2(\n",
    "        DataFrameDict_postcode[key][\"Hedonic Home Value Index\"].loc[\n",
    "            (\"2020-01\" > DataFrameDict_postcode[key][\"value_at_date\"])\n",
    "            & (DataFrameDict_postcode[key][\"value_at_date\"] > \"1999-12\")\n",
    "        ]\n",
    "    )\n",
    "    df[\"postcode\"] = key\n",
    "    df[\"sa4\"] = DataFrameDict_postcode[key][\"sa4_name16\"].loc[\n",
    "        ( DataFrameDict_postcode[key][\"postcode\"] == key)]\n",
    "    df[\"state\"] = DataFrameDict_postcode[key][\"state\"].loc[\n",
    "        ( DataFrameDict_postcode[key][\"postcode\"] == key)]\n",
    "    \n",
    "    df[\"logHPIdiff\"] = df[\"logHPI\"].diff(1)\n",
    "    aveHPI_lv3.append(df)\n",
    "\n",
    "aveHPIdf_lv3 = pd.concat(aveHPI_lv3)\n",
    "aveHPIdf_lv3 = aveHPIdf_lv3.reset_index(drop=True)\n",
    "aveHPIdf_lv3['date'] = pd.to_datetime(aveHPIdf_lv3['Description'],errors = 'coerce')\n",
    "aveHPIdf_lv3['year'] = pd.DatetimeIndex(aveHPIdf_lv3['date']).year\n",
    "\n"
   ]
  },
  {
   "cell_type": "code",
   "execution_count": null,
   "id": "be4bdd69",
   "metadata": {},
   "outputs": [],
   "source": [
    "# avg_3 = aveHPIdf_lv3.groupby([\"sa4\",\"year\"])[\"logHPIdiff\"].agg([\"mean\"]).reset_index()\n",
    "# avg_3['date'] = pd.to_datetime(avg_3['year'].apply(str)) + pd.offsets.YearEnd()\n",
    "# avg_3= avg_3.set_index(\"date\")\n",
    "\n",
    "\n"
   ]
  },
  {
   "cell_type": "code",
   "execution_count": 6,
   "id": "97ef99a6",
   "metadata": {},
   "outputs": [],
   "source": [
    "def person_cat(postcode, lst):\n",
    "    df_tmp = pd.DataFrame([], columns=lst)\n",
    "    for key in DataFrameDict_HILDA.keys():\n",
    "        lst0 = list(set(lst) - set(DataFrameDict_HILDAp[key].columns))\n",
    "        lst1 = list(set(lst) - set(lst0))\n",
    "        df = (\n",
    "            DataFrameDict_HILDAp[key][lst1]\n",
    "            .loc[DataFrameDict_HILDAp[key][\"hhpcode\"] == postcode]\n",
    "            .astype(str)\n",
    "        )\n",
    "        df[\"date\"] = str(key)\n",
    "        df_tmp = pd.concat([df_tmp, df], axis=0, ignore_index=True)\n",
    "    df_dummy = pd.get_dummies(df_tmp, columns=df_tmp.columns[:-1], dummy_na=True)\n",
    "    dfHILDA = df_dummy.groupby(\"date\").mean().reset_index()\n",
    "    return nan_dum(dfHILDA)\n",
    "def house_cat(postcode, lst):\n",
    "    df_tmp = pd.DataFrame([], columns=lst)\n",
    "    for key in DataFrameDict_HILDA.keys():\n",
    "        lst0 = list(set(lst) - set(DataFrameDict_HILDA[key].columns))\n",
    "        lst1 = list(set(lst) - set(lst0))\n",
    "        df = (\n",
    "            DataFrameDict_HILDA[key][lst1]\n",
    "            .loc[DataFrameDict_HILDA[key][\"hhpcode\"] == postcode]\n",
    "            .astype(str)\n",
    "        )\n",
    "        df[\"date\"] = str(key)\n",
    "        df_tmp = pd.concat([df_tmp, df], axis=0, ignore_index=True)\n",
    "    df_dummy = pd.get_dummies(df_tmp, columns=df_tmp.columns[:-1], dummy_na=True)\n",
    "    dfHILDA = df_dummy.groupby(\"date\").mean().reset_index()\n",
    "    return nan_dum(dfHILDA)\n",
    "def person_num(postcode, lst):\n",
    "    df_tmp = pd.DataFrame([], columns=lst)\n",
    "    for key in DataFrameDict_HILDA.keys():\n",
    "        lst0 = list(set(lst) - set(DataFrameDict_HILDAp[key].columns))\n",
    "        lst1 = list(set(lst) - set(lst0))\n",
    "        df = DataFrameDict_HILDAp[key][lst1].loc[\n",
    "            DataFrameDict_HILDAp[key][\"hhpcode\"] == postcode\n",
    "        ]\n",
    "        df[\"date\"] = str(key)\n",
    "        df_tmp = pd.concat([df_tmp, df], axis=0, ignore_index=True)\n",
    "    dfHILDA = df_tmp.groupby(\"date\").agg({lambda x: x.mean(skipna=False)})\n",
    "    dfHILDA.columns = lst\n",
    "    return dfHILDA.reset_index()\n",
    "def house_num(postcode, lst):\n",
    "    df_tmp = pd.DataFrame([], columns=lst)\n",
    "    for key in DataFrameDict_HILDA.keys():\n",
    "        lst0 = list(set(lst) - set(DataFrameDict_HILDA[key].columns))\n",
    "        lst1 = list(set(lst) - set(lst0))\n",
    "        df = DataFrameDict_HILDA[key][lst1].loc[\n",
    "            DataFrameDict_HILDA[key][\"hhpcode\"] == postcode\n",
    "        ]\n",
    "        df[\"date\"] = str(key)\n",
    "        df_tmp = pd.concat([df_tmp, df], axis=0, ignore_index=True)\n",
    "    dfHILDA = df_tmp.groupby(\"date\").agg({lambda x: x.mean(skipna=False)})\n",
    "    dfHILDA.columns = lst\n",
    "    return dfHILDA.reset_index()\n",
    "def HILDAext_cat(postcode, lst1, lst2):\n",
    "    dfHILDA1 = house_cat(postcode, lst1)\n",
    "    dfHILDA1[\"date\"] = pd.to_datetime(dfHILDA1[\"date\"]) + pd.offsets.YearEnd()\n",
    "    dfHILDA2 = person_cat(postcode, lst2)\n",
    "    dfHILDA2[\"date\"] = pd.to_datetime(dfHILDA2[\"date\"]) + pd.offsets.YearEnd()\n",
    "    dfHILDA = pd.merge(dfHILDA1, dfHILDA2, on=\"date\", how=\"left\")\n",
    "    return dfHILDA\n",
    "def HILDAext_num(postcode, lst1, lst2):\n",
    "    dfHILDA1 = house_num(postcode, lst1)\n",
    "    dfHILDA1[\"date\"] = pd.to_datetime(dfHILDA1[\"date\"]) + pd.offsets.YearEnd()\n",
    "    dfHILDA2 = person_num(postcode, lst2)\n",
    "    dfHILDA2[\"date\"] = pd.to_datetime(dfHILDA2[\"date\"]) + pd.offsets.YearEnd()\n",
    "    dfHILDA = pd.merge(dfHILDA1, dfHILDA2, on=\"date\", how=\"left\")\n",
    "    return dfHILDA\n",
    "def q1(x):\n",
    "    return x.quantile(0.25)\n",
    "def q3(x):\n",
    "    return x.quantile(0.75)\n",
    "lst_age = [f'hgdob{i}' for i in range(1, 21)]\n",
    "\n",
    "def HILDAext_age(postcode):    \n",
    "    df_tmp = pd.DataFrame()\n",
    "    for key in DataFrameDict_HILDA.keys():\n",
    "        df = DataFrameDict_HILDA[key][lst_age].loc[DataFrameDict_HILDA[key][\"hhpcode\"] == postcode]\n",
    "        df[\"date\"] = str(key)\n",
    "        df = df.melt(id_vars='date', var_name='Indicator name', value_name='birth_date').sort_values('date', ascending=False).reset_index(drop=True)\n",
    "        df['birthDate'] = pd.to_datetime(df['birth_date'].replace(r'-','na',regex=True),errors = 'coerce')\n",
    "        df['year'] = pd.DatetimeIndex(df['birthDate']).year\n",
    "        df['age'] = key +1 - df['year']\n",
    "        df_tmp = pd.concat([df_tmp, df[['date','age']]], axis=0, ignore_index=True)\n",
    "    f = {'age': ['median', 'std', q1, q3,'count']} \n",
    "    dfHILDAage = df_tmp.groupby('date').agg(f)\n",
    "    dfHILDAage = dfHILDAage.set_axis(dfHILDAage.columns.map(''.join), axis=1, inplace=False).reset_index()\n",
    "    dfHILDAage[\"date\"] = pd.to_datetime(dfHILDAage[\"date\"]) + pd.offsets.YearEnd()\n",
    "    return dfHILDAage\n",
    "\n",
    "\n"
   ]
  },
  {
   "cell_type": "code",
   "execution_count": 7,
   "id": "c765123f",
   "metadata": {},
   "outputs": [],
   "source": [
    "import re\n",
    "\n",
    "\n",
    "def nan_dum(df):\n",
    "    df1_ohe = df\n",
    "    nan_df = df1_ohe.loc[:, df1_ohe.columns.str.endswith(\"_nan\")]\n",
    "    pattern = \"^([^_]*)_\"\n",
    "    regex = re.compile(pattern)\n",
    "    for index in df1_ohe.index:\n",
    "        for col_nan in nan_df.columns:\n",
    "            if df1_ohe.loc[index, col_nan] == 1:\n",
    "                col_id = regex.search(col_nan).group(1)\n",
    "                targets = df1_ohe.columns[df1_ohe.columns.str.startswith(col_id + \"_\")]\n",
    "                df1_ohe.loc[index, targets] = np.nan\n",
    "    df1_ohe.drop(\n",
    "        df1_ohe.columns[df1_ohe.columns.str.endswith(\"_nan\")], axis=1, inplace=True\n",
    "    )\n",
    "    return df1_ohe"
   ]
  },
  {
   "cell_type": "code",
   "execution_count": 8,
   "id": "0b39da73",
   "metadata": {},
   "outputs": [],
   "source": [
    "varnames_catp = [\"ancob\", \"edhigh1\", \"anatsi\", \"chkb12\", \"sex\"]\n",
    "# varnames_nump = [\"wsce\", \"baynoa\"]\n",
    "varnames_nump = [\"wsce\"]\n",
    "varnames_cath = []\n",
    "#varnames_cath = [\"xpgroci\"]\n",
    "varnames_numh = [\"hsdebt\"]\n",
    "\n",
    "# UniqueNames_Hsa4 = avg_3.sa4.unique()[:-1]\n",
    "# DataFrameDict_Hsa4 = {elem: pd.DataFrame for elem in UniqueNames_Hsa4}\n",
    "\n",
    "# for key in DataFrameDict_Hsa4.keys():\n",
    "#     lstpcCL= ndatahouses['postcode'].loc[ndatahouses['sa4_name16'] == key].unique()\n",
    "#     lst0 = list(set(lstpcCL) - set(HILDAallpc))\n",
    "#     lstpc  = list(set(lstpcCL) - set(lst0))\n",
    "#     df_tmp = pd.DataFrame([])\n",
    "#     for key_pc in lstpc:\n",
    "#         HILDAextract_num = HILDAext_num(key_pc, varnames_numh, varnames_nump)\n",
    "#         HILDAextract_cat = HILDAext_cat(key_pc, varnames_cath, varnames_catp)\n",
    "#         HILDAextract_age = HILDAext_age(key_pc)\n",
    "#         HILDAextract = pd.merge(HILDAextract_num, HILDAextract_cat, on=\"date\", how=\"left\")\n",
    "#         HILDAextract = pd.merge( HILDAextract , HILDAextract_age, on=\"date\", how=\"left\")\n",
    "#         df_tmp = pd.concat([df_tmp, HILDAextract], axis=0, ignore_index=True)\n",
    "#     dfHILDA = df_tmp.groupby(\"date\").agg({lambda x: x.mean(skipna=True)})\n",
    "#     list1, list2 = zip(*dfHILDA.columns)\n",
    "#     dfHILDA.columns = list1\n",
    "#     DataFrameDict_Hsa4[key] = dfHILDA.reset_index()    "
   ]
  },
  {
   "cell_type": "code",
   "execution_count": null,
   "id": "bd57cd65",
   "metadata": {},
   "outputs": [],
   "source": [
    "# with open('DataFrameDict_Hsa4.pickle', 'wb') as f:\n",
    "#     pickle.dump(DataFrameDict_Hsa4, f)\n",
    "# with open('DataFrameDict_Hsa4.pickle', 'rb') as f:\n",
    "#     DataFrameDict_Hsa4 =  pickle.load(f)    "
   ]
  },
  {
   "cell_type": "code",
   "execution_count": 9,
   "id": "736eadd6",
   "metadata": {},
   "outputs": [],
   "source": [
    "with open('DataFrameDict_Hsa4.pickle', 'rb') as f:\n",
    "    DataFrameDict_Hsa4 =  pickle.load(f)"
   ]
  },
  {
   "cell_type": "code",
   "execution_count": 10,
   "id": "05e9bcf4",
   "metadata": {},
   "outputs": [],
   "source": [
    "def HILDA2PCsa4(key, marks):\n",
    "    df = DataFrameDict_Hsa4[key].interpolate(\"bfill\").interpolate(\"ffill\")\n",
    "    df = df.set_index(\"date\")\n",
    "    df1 = df.resample(\"Y\").mean().iloc[:, :]\n",
    "    \n",
    "    vrst = pd.DataFrame([])\n",
    "    for vn in df1.columns.values[1:]:\n",
    "        vrst = pd.concat([vrst, selectStationaySeries3(df1[vn], vn, marks)], axis=1)\n",
    "    vrdata = vrst.reset_index()\n",
    "    \n",
    "    pca = PCA()\n",
    "    X_train = vrdata.loc[:, vrdata.columns != \"date\"]\n",
    "    scaler = StandardScaler()\n",
    "    X_train_std = scaler.fit_transform(X_train)\n",
    "\n",
    "    pca.fit(X_train_std)\n",
    "    cumsum = np.cumsum(pca.explained_variance_ratio_)\n",
    "    d = np.argmax(cumsum >= 0.9) + 1\n",
    "    print(d)\n",
    "\n",
    "    pca_d = PCA(n_components=d)\n",
    "    pca_d.fit(X_train_std)\n",
    "    X_pca_d = pca_d.transform(X_train_std)\n",
    "    PCnames = []\n",
    "    for i in range(1, d + 1, 1):\n",
    "        PCnames.append(f\"sa4PC{i}\")\n",
    "    pcadf = pd.DataFrame(X_pca_d, columns=PCnames)\n",
    "    pcadf['date'] = DataFrameDict_Hsa4[key]['date']  \n",
    "    pcadf[\"date\"] = pd.to_datetime(pcadf[\"date\"]) - pd.offsets.MonthEnd(6)\n",
    "    pcadf[\"date\"] = pcadf[\"date\"]\n",
    "    return pcadf"
   ]
  },
  {
   "cell_type": "code",
   "execution_count": 11,
   "id": "f1f9e0d3",
   "metadata": {},
   "outputs": [],
   "source": [
    "def HILDAvarExt(key, marks):\n",
    "    df = DataFrameDict_Hsa4[key].interpolate(\"bfill\").interpolate(\"ffill\")\n",
    "    df = df.set_index(\"date\")\n",
    "    df1 = df.resample(\"Y\").mean().iloc[:, :]\n",
    "    vrst = pd.DataFrame([], columns = df_marks['Variable Names'].values)\n",
    "    lst = list( set(df_marks['Variable Names'].values) & set(df1.columns.values[1:]))\n",
    "    for vn in lst:\n",
    "        vrst[vn] = selectStationaySeries3(df1[vn], vn, marks)\n",
    "    vrdata = vrst.reset_index().fillna(value = 0) \n",
    "    return(vrdata)"
   ]
  },
  {
   "cell_type": "code",
   "execution_count": 12,
   "id": "02887d90",
   "metadata": {},
   "outputs": [],
   "source": [
    "def PCA_val(gamma1,marks,vrdata):\n",
    "    tmp = pd.DataFrame([], columns = marks['Variable Names'].values)\n",
    "    for key in DataFrameDict_Hsa4.keys(): \n",
    "        df = HILDAvarExt(key,marks)\n",
    "        df1= df[vrdata.columns.tolist()]\n",
    "        df2 = df1.drop(df1.columns[0], axis=1)\n",
    "        \n",
    "        vrdata1 = vrdata.drop(vrdata.columns[0],axis=1)\n",
    "        vrdata2= vrdata1.apply(lambda x: x*gamma1)\n",
    "        \n",
    "        df_add = df2.add(vrdata2, fill_value=0)\n",
    "        tmp = pd.concat([tmp, df_add],axis = 0)\n",
    "        \n",
    "    pca = PCA()\n",
    "    X_train = tmp\n",
    "    scaler = StandardScaler()\n",
    "    X_train_std = scaler.fit_transform(X_train)\n",
    "\n",
    "    pca.fit(X_train_std)\n",
    "    cumsum = np.cumsum(pca.explained_variance_ratio_)\n",
    "    d2 = np.argmax(cumsum >= 0.9) + 1\n",
    "\n",
    "\n",
    "    pca_d_sa4 = PCA(n_components=d2)\n",
    "    pca_d_sa4.fit(X_train_std)\n",
    "    X_pca_d_sa4 = pca_d_sa4.transform(X_train_std)\n",
    "\n",
    "    PCnames = []\n",
    "    for i in range(1, d2 + 1, 1):\n",
    "        PCnames.append(f\"sa4PC{i}\")\n",
    "    \n",
    "    pcadf = pd.DataFrame(X_pca_d_sa4, columns=PCnames)\n",
    "    pcadf_sa4_date = pcadf\n",
    "    return  d2, pca_d_sa4"
   ]
  },
  {
   "cell_type": "code",
   "execution_count": 13,
   "id": "7539d8d3",
   "metadata": {},
   "outputs": [],
   "source": [
    "def person_cat_all(lst):\n",
    "    df_tmp = pd.DataFrame([], columns=lst)\n",
    "    for key in DataFrameDict_HILDA.keys():\n",
    "        lst0 = list(set(lst) - set(DataFrameDict_HILDAp[key].columns))\n",
    "        lst1 = list(set(lst) - set(lst0))\n",
    "        df = (\n",
    "            DataFrameDict_HILDAp[key][lst1]\n",
    "            .astype(str)\n",
    "        )\n",
    "        df[\"date\"] = str(key)\n",
    "        df_tmp = pd.concat([df_tmp, df], axis=0, ignore_index=True)\n",
    "    df_dummy = pd.get_dummies(df_tmp, columns=df_tmp.columns[:-1], dummy_na=True)\n",
    "    dfHILDA = df_dummy.groupby(\"date\").mean().reset_index()\n",
    "    return nan_dum(dfHILDA)\n",
    "def house_cat_all(lst):\n",
    "    df_tmp = pd.DataFrame([], columns=lst)\n",
    "    for key in DataFrameDict_HILDA.keys():\n",
    "        lst0 = list(set(lst) - set(DataFrameDict_HILDA[key].columns))\n",
    "        lst1 = list(set(lst) - set(lst0))\n",
    "        df = (\n",
    "            DataFrameDict_HILDA[key][lst1].astype(str)\n",
    "        )\n",
    "        df[\"date\"] = str(key)\n",
    "        df_tmp = pd.concat([df_tmp, df], axis=0, ignore_index=True)\n",
    "    df_dummy = pd.get_dummies(df_tmp, columns=df_tmp.columns[:-1], dummy_na=True)\n",
    "    dfHILDA = df_dummy.groupby(\"date\").mean().reset_index()\n",
    "    return nan_dum(dfHILDA)\n",
    "def person_num_all(lst):\n",
    "    df_tmp = pd.DataFrame([], columns=lst)\n",
    "    for key in DataFrameDict_HILDA.keys():\n",
    "        lst0 = list(set(lst) - set(DataFrameDict_HILDAp[key].columns))\n",
    "        lst1 = list(set(lst) - set(lst0))\n",
    "        df = DataFrameDict_HILDAp[key][lst1]\n",
    "        df[\"date\"] = str(key)\n",
    "        df_tmp = pd.concat([df_tmp, df], axis=0, ignore_index=True)\n",
    "    dfHILDA = df_tmp.groupby(\"date\").agg({lambda x: x.mean(skipna=False)})\n",
    "    dfHILDA.columns = lst\n",
    "    return dfHILDA.reset_index()\n",
    "def house_num_all(lst):\n",
    "    df_tmp = pd.DataFrame([], columns=lst)\n",
    "    for key in DataFrameDict_HILDA.keys():\n",
    "        lst0 = list(set(lst) - set(DataFrameDict_HILDA[key].columns))\n",
    "        lst1 = list(set(lst) - set(lst0))\n",
    "        df = DataFrameDict_HILDA[key][lst1]\n",
    "        df[\"date\"] = str(key)\n",
    "        df_tmp = pd.concat([df_tmp, df], axis=0, ignore_index=True)\n",
    "    dfHILDA = df_tmp.groupby(\"date\").agg({lambda x: x.mean(skipna=False)})\n",
    "    dfHILDA.columns = lst\n",
    "    return dfHILDA.reset_index()\n",
    "def HILDAext_cat_all(lst1, lst2):\n",
    "    dfHILDA1 = house_cat_all( lst1)\n",
    "    dfHILDA1[\"date\"] = pd.to_datetime(dfHILDA1[\"date\"]) + pd.offsets.YearEnd()\n",
    "    dfHILDA2 = person_cat_all(lst2)\n",
    "    dfHILDA2[\"date\"] = pd.to_datetime(dfHILDA2[\"date\"]) + pd.offsets.YearEnd()\n",
    "    dfHILDA = pd.merge(dfHILDA1, dfHILDA2, on=\"date\", how=\"left\")\n",
    "    return dfHILDA\n",
    "def HILDAext_num_all( lst1, lst2):\n",
    "    dfHILDA1 = house_num_all(lst1)\n",
    "    dfHILDA1[\"date\"] = pd.to_datetime(dfHILDA1[\"date\"]) + pd.offsets.YearEnd()\n",
    "    dfHILDA2 = person_num_all(lst2)\n",
    "    dfHILDA2[\"date\"] = pd.to_datetime(dfHILDA2[\"date\"]) + pd.offsets.YearEnd()\n",
    "    dfHILDA = pd.merge(dfHILDA1, dfHILDA2, on=\"date\", how=\"left\")\n",
    "    return dfHILDA\n",
    "lst_age = [f'hgdob{i}' for i in range(1, 21)]\n",
    "def HILDAext_age_all():    \n",
    "    df_tmp = pd.DataFrame()\n",
    "    for key in DataFrameDict_HILDA.keys():\n",
    "        df = DataFrameDict_HILDA[key][lst_age]\n",
    "        df[\"date\"] = str(key)\n",
    "        df = df.melt(id_vars='date', var_name='Indicator name', value_name='birth_date').sort_values('date', ascending=False).reset_index(drop=True)\n",
    "        df['birthDate'] = pd.to_datetime(df['birth_date'].replace(r'-','na',regex=True),errors = 'coerce')\n",
    "        df['year'] = pd.DatetimeIndex(df['birthDate']).year\n",
    "        df['age'] = key +1 - df['year']\n",
    "        df_tmp = pd.concat([df_tmp, df[['date','age']]], axis=0, ignore_index=True)\n",
    "    f = {'age': ['median', 'std', q1, q3,'count']} \n",
    "    dfHILDAage = df_tmp.groupby('date').agg(f)\n",
    "    dfHILDAage = dfHILDAage.set_axis(dfHILDAage.columns.map(''.join), axis=1, inplace=False).reset_index()\n",
    "    dfHILDAage[\"date\"] = pd.to_datetime(dfHILDAage[\"date\"]) + pd.offsets.YearEnd()\n",
    "    return dfHILDAage"
   ]
  },
  {
   "cell_type": "code",
   "execution_count": 14,
   "id": "e787a555",
   "metadata": {},
   "outputs": [],
   "source": [
    "# HILDAextract_num_all = HILDAext_num_all(varnames_numh, varnames_nump)\n",
    "# HILDAextract_cat_all = HILDAext_cat_all(varnames_cath, varnames_catp)\n",
    "# HILDAextract_age_all = HILDAext_age_all()\n",
    "# HILDAextract_all = pd.merge(HILDAextract_num_all, HILDAextract_cat_all, on=\"date\", how=\"left\")\n",
    "# HILDAextract_all = pd.merge( HILDAextract_all , HILDAextract_age_all, on=\"date\", how=\"left\")\n",
    "# df_tmp = HILDAextract_all\n",
    "# dfHILDA = df_tmp.groupby(\"date\").agg({lambda x: x.mean(skipna=True)})\n",
    "# list1, list2 = zip(*dfHILDA.columns)\n",
    "# dfHILDA.columns = list1\n",
    "# dfHILDA = dfHILDA.reset_index()\n",
    "\n",
    "# def datasetcut(df):\n",
    "#     lst_whole = list(df.columns)\n",
    "#     result_ancob = [i for i in lst_whole if i.startswith('ancob_')]\n",
    "#     list_ancob0 = ['1101', '2100', '1201', '7103', '5204', '6101', '9225', '5105', '2308']\n",
    "#     list_ancob =  ['ancob_' + sub for sub in list_ancob0]\n",
    "#     result_edhigh = [i for i in lst_whole if i.startswith('edhigh1_')]\n",
    "#     list_edhigh0= ['1','2','3','4','5','8','9']\n",
    "#     list_edhigh =  ['edhigh1_' + sub for sub in list_edhigh0]\n",
    "#     result_anatsi = [i for i in lst_whole if i.startswith('anatsi_')]\n",
    "#     list_anatsi0= ['1','2','3','4']\n",
    "#     list_anatsi =  ['anatsi_' + sub for sub in list_anatsi0]\n",
    "#     result_chkb =  [i for i in lst_whole if i.startswith('chkb12_')]\n",
    "#     list_chkb0= ['1','2','3','4']\n",
    "#     list_chkb =  ['chkb12_' + sub for sub in list_chkb0]\n",
    "#     list_deleted =  [i for i in lst_whole if i.startswith(('ancob_','edhigh1_','chkb12_','anatsi_'))]\n",
    "#     list_remained = [vn for vn in lst_whole if vn not in list_deleted]\n",
    "#     list_final = list_remained + list_ancob + list_edhigh + list_anatsi + list_chkb\n",
    "#     return df[list_final]\n",
    "\n",
    "# dfHILDA_cut =  datasetcut(dfHILDA)"
   ]
  },
  {
   "cell_type": "code",
   "execution_count": 15,
   "id": "86e4ebd2",
   "metadata": {},
   "outputs": [],
   "source": [
    "# with open('dfHILDA_cut.pickle', 'wb') as f:\n",
    "#     pickle.dump(dfHILDA_cut, f)\n",
    "with open('dfHILDA_cut.pickle', 'rb') as f:\n",
    "      dfHILDA_cut =  pickle.load(f)    "
   ]
  },
  {
   "cell_type": "code",
   "execution_count": 18,
   "id": "886a7c3a",
   "metadata": {},
   "outputs": [],
   "source": [
    "with open('dfHILDA.pickle', 'rb') as f:\n",
    "      dfHILDA =  pickle.load(f)    "
   ]
  },
  {
   "cell_type": "code",
   "execution_count": 19,
   "id": "681e96cc",
   "metadata": {},
   "outputs": [
    {
     "name": "stdout",
     "output_type": "stream",
     "text": [
      "6\n"
     ]
    }
   ],
   "source": [
    "threshold = 0.01\n",
    "df = dfHILDA_cut.set_index(\"date\")\n",
    "df1 = df.resample(\"Y\").mean().iloc[:, :]\n",
    "vrst = pd.DataFrame([])\n",
    "\n",
    "# need a dataframe to writedown the way to stabilize all variables\n",
    "df_marks = pd.DataFrame([],\n",
    "                   columns=['Variable Names', 'Approach'])\n",
    "\n",
    "\n",
    "for vn in df1.columns.values[1:]:\n",
    "    \n",
    "    variable_tar = df1[vn]\n",
    "    \n",
    "    count1 = np.isinf(variable_tar.pct_change(1)).values.sum()\n",
    "    count2 = np.isinf(variable_tar.pct_change(1)).values.sum()\n",
    "    \n",
    "    if adfuller(variable_tar.interpolate(\"bfill\").interpolate(\"ffill\"))[1] < threshold:\n",
    "            stationary_variable = variable_tar.interpolate(\"bfill\").interpolate(\"ffill\")\n",
    "            suffix =  \"original\"\n",
    "            new_row = {'Variable Names': vn,'Approach': suffix}\n",
    "            df_marks = df_marks.append(new_row, ignore_index=True)\n",
    "            newseries = pd.DataFrame(stationary_variable)\n",
    "            vrst = pd.concat([vrst, newseries], axis=1)\n",
    "\n",
    "    \n",
    "    \n",
    "    elif count1 == 0:\n",
    "        try:\n",
    "            if adfuller(variable_tar.pct_change(1).interpolate(\"bfill\").interpolate(\"ffill\"))[1] < threshold:\n",
    "                stationary_variable = variable_tar.pct_change(1).interpolate(\"bfill\").interpolate(\"ffill\")\n",
    "                suffix = \"1storderdiff\"\n",
    "                new_row = {'Variable Names': vn,'Approach': suffix}\n",
    "                df_marks = df_marks.append(new_row, ignore_index=True)\n",
    "                newseries = pd.DataFrame(stationary_variable)\n",
    "                vrst = pd.concat([vrst, newseries], axis=1)\n",
    "\n",
    "        except np.linalg.LinAlgError as e1:\n",
    "            print('except:', e1)\n",
    "    \n",
    "    \n",
    "    elif count2 == 0:\n",
    "        try: \n",
    "            if adfuller(variable_tar.pct_change(1).diff().dropna(how=\"all\"))[1] < threshold:\n",
    "                stationary_variable = variable_tar.pct_change(1).diff().dropna(how=\"all\")\n",
    "                suffix = \"2ndorderdiff\"\n",
    "                new_row = {'Variable Names': vn,'Approach': suffix}\n",
    "                df_marks = df_marks.append(new_row, ignore_index=True)\n",
    "                newseries = pd.DataFrame(stationary_variable)\n",
    "                vrst = pd.concat([vrst, newseries], axis=1)\n",
    "\n",
    "        except np.linalg.LinAlgError as e1:\n",
    "            print('except:', e1)     \n",
    "    \n",
    "    else:\n",
    "        print('not found')\n",
    "\n",
    "    \n",
    "    \n",
    "vrdata = vrst.reset_index()\n",
    "    \n",
    "pca = PCA()\n",
    "X_train = vrdata.loc[:, vrdata.columns != \"date\"]\n",
    "scaler = StandardScaler()\n",
    "X_train_std = scaler.fit_transform(X_train)\n",
    "\n",
    "pca.fit(X_train_std)\n",
    "cumsum = np.cumsum(pca.explained_variance_ratio_)\n",
    "d2 = np.argmax(cumsum >= 0.9) + 1\n",
    "print(d2)\n",
    "\n",
    "pca_d_sa4 = PCA(n_components=d2)\n",
    "pca_d_sa4.fit(X_train_std)\n",
    "X_pca_d_sa4 = pca_d_sa4.transform(X_train_std)\n",
    "\n",
    "PCnames = []\n",
    "for i in range(1, d2 + 1, 1):\n",
    "    PCnames.append(f\"sa4PC{i}\")\n",
    "    \n",
    "pcadf = pd.DataFrame(X_pca_d_sa4, columns=PCnames)\n",
    "pcadf['date'] = dfHILDA['date']  \n",
    "pcadf[\"date\"] = pd.to_datetime(pcadf[\"date\"]) - pd.offsets.MonthEnd(6)\n",
    "pcadf_sa4_date = pcadf"
   ]
  },
  {
   "cell_type": "code",
   "execution_count": 20,
   "id": "7e2e78e1",
   "metadata": {},
   "outputs": [],
   "source": [
    "marks1 = df_marks['Variable Names'].loc[df_marks['Approach'] == 'original'].values\n",
    "marks2 = df_marks['Variable Names'].loc[df_marks['Approach'] == \"1storderdiff\"].values\n",
    "marks3 = df_marks['Variable Names'].loc[df_marks['Approach'] == \"2ndorderdiff\"].values\n",
    "def selectStationaySeries3(variable_tar, vn, marks):\n",
    "    \n",
    "    count1 = np.isinf(variable_tar.pct_change(1)).values.sum()\n",
    "    count2 = np.isinf(variable_tar.pct_change(1)).values.sum()\n",
    "    marks1 =marks['Variable Names'].loc[marks['Approach'] == 'original'].values\n",
    "    marks2 =marks['Variable Names'].loc[marks['Approach'] == \"1storderdiff\"].values\n",
    "    marks3 =marks['Variable Names'].loc[marks['Approach'] == \"2ndorderdiff\"].values\n",
    "    \n",
    "    if vn in marks1:\n",
    "            stationary_variable = variable_tar.interpolate(\"bfill\").interpolate(\"ffill\")\n",
    "            suffix =  \"original\"\n",
    "            #print(suffix)\n",
    "            return(pd.DataFrame(stationary_variable))\n",
    "    \n",
    "    \n",
    "    elif count1 == 0 and vn in marks2:\n",
    "        try:\n",
    "            if adfuller(variable_tar.pct_change(1).interpolate(\"bfill\").interpolate(\"ffill\"))[1] < threshold:\n",
    "                stationary_variable = variable_tar.pct_change(1).interpolate(\"bfill\").interpolate(\"ffill\")\n",
    "                suffix = \"1storderdiff\"\n",
    "                #print(suffix)\n",
    "                return(pd.DataFrame(stationary_variable))\n",
    "        except np.linalg.LinAlgError as e1:\n",
    "            print('except:', e1)\n",
    "    \n",
    "    \n",
    "    elif count2 == 0 and vn in marks3:\n",
    "        try: \n",
    "            if adfuller(variable_tar.pct_change(1).diff().dropna(how=\"all\"))[1] < threshold:\n",
    "                stationary_variable = variable_tar.pct_change(1).diff().dropna(how=\"all\")\n",
    "                suffix = \"2ndorderdiff\"\n",
    "                #print(suffix)\n",
    "                return(pd.DataFrame(stationary_variable))\n",
    "        except np.linalg.LinAlgError as e1:\n",
    "            print('except:', e1)     "
   ]
  },
  {
   "cell_type": "code",
   "execution_count": 21,
   "id": "f77a2d84",
   "metadata": {},
   "outputs": [],
   "source": [
    "def HILDA2PCsa4(key, marks):\n",
    "    df = DataFrameDict_Hsa4[key].interpolate(\"bfill\").interpolate(\"ffill\")\n",
    "    df = df.set_index(\"date\")\n",
    "    df1 = df.resample(\"Y\").mean().iloc[:, :]\n",
    "    \n",
    "    vrst = pd.DataFrame([])\n",
    "    for vn in df1.columns.values[1:]:\n",
    "        vrst = pd.concat([vrst, selectStationaySeries3(df1[vn], vn, marks)], axis=1)\n",
    "    vrdata = vrst.reset_index()\n",
    "    \n",
    "    pca = PCA()\n",
    "    X_train = vrdata.loc[:, vrdata.columns != \"date\"]\n",
    "    scaler = StandardScaler()\n",
    "    X_train_std = scaler.fit_transform(X_train)\n",
    "\n",
    "    pca.fit(X_train_std)\n",
    "    cumsum = np.cumsum(pca.explained_variance_ratio_)\n",
    "    d = np.argmax(cumsum >= 0.9) + 1\n",
    "    print(d)\n",
    "\n",
    "    pca_d = PCA(n_components=d)\n",
    "    pca_d.fit(X_train_std)\n",
    "    X_pca_d = pca_d.transform(X_train_std)\n",
    "    PCnames = []\n",
    "    for i in range(1, d + 1, 1):\n",
    "        PCnames.append(f\"sa4PC{i}\")\n",
    "    pcadf = pd.DataFrame(X_pca_d, columns=PCnames)\n",
    "    pcadf['date'] = DataFrameDict_Hsa4[key]['date']  \n",
    "    pcadf[\"date\"] = pd.to_datetime(pcadf[\"date\"]) - pd.offsets.MonthEnd(6)\n",
    "    pcadf[\"date\"] = pcadf[\"date\"]\n",
    "    return pcadf"
   ]
  },
  {
   "cell_type": "code",
   "execution_count": 22,
   "id": "ca9ab540",
   "metadata": {},
   "outputs": [],
   "source": [
    "def HILDAvarExt(key, marks):\n",
    "    df = DataFrameDict_Hsa4[key].interpolate(\"bfill\").interpolate(\"ffill\")\n",
    "    df = df.set_index(\"date\")\n",
    "    df1 = df.resample(\"Y\").mean().iloc[:, :]\n",
    "    vrst = pd.DataFrame([], columns = df_marks['Variable Names'].values)\n",
    "    lst = list( set(df_marks['Variable Names'].values) & set(df1.columns.values[1:]))\n",
    "    for vn in lst:\n",
    "        vrst[vn] = selectStationaySeries3(df1[vn], vn, marks)\n",
    "    vrdata = vrst.reset_index().fillna(value = 0) \n",
    "    return(vrdata)\n"
   ]
  },
  {
   "cell_type": "code",
   "execution_count": 23,
   "id": "8e85f0d4",
   "metadata": {},
   "outputs": [],
   "source": [
    "def PCA_val(gamma1,marks,vrdata):\n",
    "    tmp = pd.DataFrame([], columns = marks['Variable Names'].values)\n",
    "    for key in DataFrameDict_Hsa4.keys(): \n",
    "        df = HILDAvarExt(key,marks)\n",
    "        df1= df[vrdata.columns.tolist()]\n",
    "        df2 = df1.drop(df1.columns[0], axis=1)\n",
    "        \n",
    "        vrdata1 = vrdata.drop(vrdata.columns[0],axis=1)\n",
    "        vrdata2= vrdata1.apply(lambda x: x*gamma1)\n",
    "        \n",
    "        df_add = df2.add(vrdata2, fill_value=0)\n",
    "        tmp = pd.concat([tmp, df_add],axis = 0)\n",
    "        \n",
    "    pca = PCA()\n",
    "    X_train = tmp\n",
    "    scaler = StandardScaler()\n",
    "    X_train_std = scaler.fit_transform(X_train)\n",
    "\n",
    "    pca.fit(X_train_std)\n",
    "    cumsum = np.cumsum(pca.explained_variance_ratio_)\n",
    "    d2 = np.argmax(cumsum >= 0.9) + 1\n",
    "\n",
    "\n",
    "    pca_d_sa4 = PCA(n_components=d2)\n",
    "    pca_d_sa4.fit(X_train_std)\n",
    "    X_pca_d_sa4 = pca_d_sa4.transform(X_train_std)\n",
    "\n",
    "    PCnames = []\n",
    "    for i in range(1, d2 + 1, 1):\n",
    "        PCnames.append(f\"sa4PC{i}\")\n",
    "    \n",
    "    pcadf = pd.DataFrame(X_pca_d_sa4, columns=PCnames)\n",
    "    pcadf_sa4_date = pcadf\n",
    "    return  d2, pca_d_sa4"
   ]
  },
  {
   "cell_type": "code",
   "execution_count": 24,
   "id": "028b04b9",
   "metadata": {},
   "outputs": [
    {
     "name": "stderr",
     "output_type": "stream",
     "text": [
      "/Users/leiflyu/miniforge3/lib/python3.9/site-packages/statsmodels/regression/linear_model.py:903: RuntimeWarning: divide by zero encountered in log\n",
      "  llf = -nobs2*np.log(2*np.pi) - nobs2*np.log(ssr / nobs) - nobs2\n",
      "/Users/leiflyu/miniforge3/lib/python3.9/site-packages/statsmodels/regression/linear_model.py:903: RuntimeWarning: divide by zero encountered in log\n",
      "  llf = -nobs2*np.log(2*np.pi) - nobs2*np.log(ssr / nobs) - nobs2\n",
      "/Users/leiflyu/miniforge3/lib/python3.9/site-packages/statsmodels/regression/linear_model.py:903: RuntimeWarning: divide by zero encountered in log\n",
      "  llf = -nobs2*np.log(2*np.pi) - nobs2*np.log(ssr / nobs) - nobs2\n",
      "/Users/leiflyu/miniforge3/lib/python3.9/site-packages/statsmodels/regression/linear_model.py:903: RuntimeWarning: divide by zero encountered in log\n",
      "  llf = -nobs2*np.log(2*np.pi) - nobs2*np.log(ssr / nobs) - nobs2\n",
      "/Users/leiflyu/miniforge3/lib/python3.9/site-packages/statsmodels/regression/linear_model.py:903: RuntimeWarning: divide by zero encountered in log\n",
      "  llf = -nobs2*np.log(2*np.pi) - nobs2*np.log(ssr / nobs) - nobs2\n",
      "/Users/leiflyu/miniforge3/lib/python3.9/site-packages/statsmodels/regression/linear_model.py:903: RuntimeWarning: divide by zero encountered in log\n",
      "  llf = -nobs2*np.log(2*np.pi) - nobs2*np.log(ssr / nobs) - nobs2\n",
      "/Users/leiflyu/miniforge3/lib/python3.9/site-packages/statsmodels/regression/linear_model.py:903: RuntimeWarning: divide by zero encountered in log\n",
      "  llf = -nobs2*np.log(2*np.pi) - nobs2*np.log(ssr / nobs) - nobs2\n"
     ]
    },
    {
     "name": "stdout",
     "output_type": "stream",
     "text": [
      "0\n"
     ]
    },
    {
     "name": "stderr",
     "output_type": "stream",
     "text": [
      "/Users/leiflyu/miniforge3/lib/python3.9/site-packages/statsmodels/regression/linear_model.py:903: RuntimeWarning: divide by zero encountered in log\n",
      "  llf = -nobs2*np.log(2*np.pi) - nobs2*np.log(ssr / nobs) - nobs2\n",
      "/Users/leiflyu/miniforge3/lib/python3.9/site-packages/statsmodels/regression/linear_model.py:903: RuntimeWarning: divide by zero encountered in log\n",
      "  llf = -nobs2*np.log(2*np.pi) - nobs2*np.log(ssr / nobs) - nobs2\n",
      "/Users/leiflyu/miniforge3/lib/python3.9/site-packages/statsmodels/regression/linear_model.py:903: RuntimeWarning: divide by zero encountered in log\n",
      "  llf = -nobs2*np.log(2*np.pi) - nobs2*np.log(ssr / nobs) - nobs2\n",
      "/Users/leiflyu/miniforge3/lib/python3.9/site-packages/statsmodels/regression/linear_model.py:903: RuntimeWarning: divide by zero encountered in log\n",
      "  llf = -nobs2*np.log(2*np.pi) - nobs2*np.log(ssr / nobs) - nobs2\n",
      "/Users/leiflyu/miniforge3/lib/python3.9/site-packages/statsmodels/regression/linear_model.py:903: RuntimeWarning: divide by zero encountered in log\n",
      "  llf = -nobs2*np.log(2*np.pi) - nobs2*np.log(ssr / nobs) - nobs2\n",
      "/Users/leiflyu/miniforge3/lib/python3.9/site-packages/statsmodels/regression/linear_model.py:903: RuntimeWarning: divide by zero encountered in log\n",
      "  llf = -nobs2*np.log(2*np.pi) - nobs2*np.log(ssr / nobs) - nobs2\n",
      "/Users/leiflyu/miniforge3/lib/python3.9/site-packages/statsmodels/regression/linear_model.py:903: RuntimeWarning: divide by zero encountered in log\n",
      "  llf = -nobs2*np.log(2*np.pi) - nobs2*np.log(ssr / nobs) - nobs2\n"
     ]
    },
    {
     "name": "stdout",
     "output_type": "stream",
     "text": [
      "1\n"
     ]
    },
    {
     "name": "stderr",
     "output_type": "stream",
     "text": [
      "/Users/leiflyu/miniforge3/lib/python3.9/site-packages/statsmodels/regression/linear_model.py:903: RuntimeWarning: divide by zero encountered in log\n",
      "  llf = -nobs2*np.log(2*np.pi) - nobs2*np.log(ssr / nobs) - nobs2\n",
      "/Users/leiflyu/miniforge3/lib/python3.9/site-packages/statsmodels/regression/linear_model.py:903: RuntimeWarning: divide by zero encountered in log\n",
      "  llf = -nobs2*np.log(2*np.pi) - nobs2*np.log(ssr / nobs) - nobs2\n",
      "/Users/leiflyu/miniforge3/lib/python3.9/site-packages/statsmodels/regression/linear_model.py:903: RuntimeWarning: divide by zero encountered in log\n",
      "  llf = -nobs2*np.log(2*np.pi) - nobs2*np.log(ssr / nobs) - nobs2\n",
      "/Users/leiflyu/miniforge3/lib/python3.9/site-packages/statsmodels/regression/linear_model.py:903: RuntimeWarning: divide by zero encountered in log\n",
      "  llf = -nobs2*np.log(2*np.pi) - nobs2*np.log(ssr / nobs) - nobs2\n",
      "/Users/leiflyu/miniforge3/lib/python3.9/site-packages/statsmodels/regression/linear_model.py:903: RuntimeWarning: divide by zero encountered in log\n",
      "  llf = -nobs2*np.log(2*np.pi) - nobs2*np.log(ssr / nobs) - nobs2\n",
      "/Users/leiflyu/miniforge3/lib/python3.9/site-packages/statsmodels/regression/linear_model.py:903: RuntimeWarning: divide by zero encountered in log\n",
      "  llf = -nobs2*np.log(2*np.pi) - nobs2*np.log(ssr / nobs) - nobs2\n",
      "/Users/leiflyu/miniforge3/lib/python3.9/site-packages/statsmodels/regression/linear_model.py:903: RuntimeWarning: divide by zero encountered in log\n",
      "  llf = -nobs2*np.log(2*np.pi) - nobs2*np.log(ssr / nobs) - nobs2\n"
     ]
    },
    {
     "name": "stdout",
     "output_type": "stream",
     "text": [
      "2\n"
     ]
    },
    {
     "name": "stderr",
     "output_type": "stream",
     "text": [
      "/Users/leiflyu/miniforge3/lib/python3.9/site-packages/statsmodels/regression/linear_model.py:903: RuntimeWarning: divide by zero encountered in log\n",
      "  llf = -nobs2*np.log(2*np.pi) - nobs2*np.log(ssr / nobs) - nobs2\n",
      "/Users/leiflyu/miniforge3/lib/python3.9/site-packages/statsmodels/regression/linear_model.py:903: RuntimeWarning: divide by zero encountered in log\n",
      "  llf = -nobs2*np.log(2*np.pi) - nobs2*np.log(ssr / nobs) - nobs2\n",
      "/Users/leiflyu/miniforge3/lib/python3.9/site-packages/statsmodels/regression/linear_model.py:903: RuntimeWarning: divide by zero encountered in log\n",
      "  llf = -nobs2*np.log(2*np.pi) - nobs2*np.log(ssr / nobs) - nobs2\n",
      "/Users/leiflyu/miniforge3/lib/python3.9/site-packages/statsmodels/regression/linear_model.py:903: RuntimeWarning: divide by zero encountered in log\n",
      "  llf = -nobs2*np.log(2*np.pi) - nobs2*np.log(ssr / nobs) - nobs2\n",
      "/Users/leiflyu/miniforge3/lib/python3.9/site-packages/statsmodels/regression/linear_model.py:903: RuntimeWarning: divide by zero encountered in log\n",
      "  llf = -nobs2*np.log(2*np.pi) - nobs2*np.log(ssr / nobs) - nobs2\n",
      "/Users/leiflyu/miniforge3/lib/python3.9/site-packages/statsmodels/regression/linear_model.py:903: RuntimeWarning: divide by zero encountered in log\n",
      "  llf = -nobs2*np.log(2*np.pi) - nobs2*np.log(ssr / nobs) - nobs2\n",
      "/Users/leiflyu/miniforge3/lib/python3.9/site-packages/statsmodels/regression/linear_model.py:903: RuntimeWarning: divide by zero encountered in log\n",
      "  llf = -nobs2*np.log(2*np.pi) - nobs2*np.log(ssr / nobs) - nobs2\n"
     ]
    },
    {
     "name": "stdout",
     "output_type": "stream",
     "text": [
      "3\n"
     ]
    },
    {
     "name": "stderr",
     "output_type": "stream",
     "text": [
      "/Users/leiflyu/miniforge3/lib/python3.9/site-packages/statsmodels/regression/linear_model.py:903: RuntimeWarning: divide by zero encountered in log\n",
      "  llf = -nobs2*np.log(2*np.pi) - nobs2*np.log(ssr / nobs) - nobs2\n",
      "/Users/leiflyu/miniforge3/lib/python3.9/site-packages/statsmodels/regression/linear_model.py:903: RuntimeWarning: divide by zero encountered in log\n",
      "  llf = -nobs2*np.log(2*np.pi) - nobs2*np.log(ssr / nobs) - nobs2\n",
      "/Users/leiflyu/miniforge3/lib/python3.9/site-packages/statsmodels/regression/linear_model.py:903: RuntimeWarning: divide by zero encountered in log\n",
      "  llf = -nobs2*np.log(2*np.pi) - nobs2*np.log(ssr / nobs) - nobs2\n",
      "/Users/leiflyu/miniforge3/lib/python3.9/site-packages/statsmodels/regression/linear_model.py:903: RuntimeWarning: divide by zero encountered in log\n",
      "  llf = -nobs2*np.log(2*np.pi) - nobs2*np.log(ssr / nobs) - nobs2\n",
      "/Users/leiflyu/miniforge3/lib/python3.9/site-packages/statsmodels/regression/linear_model.py:903: RuntimeWarning: divide by zero encountered in log\n",
      "  llf = -nobs2*np.log(2*np.pi) - nobs2*np.log(ssr / nobs) - nobs2\n",
      "/Users/leiflyu/miniforge3/lib/python3.9/site-packages/statsmodels/regression/linear_model.py:903: RuntimeWarning: divide by zero encountered in log\n",
      "  llf = -nobs2*np.log(2*np.pi) - nobs2*np.log(ssr / nobs) - nobs2\n",
      "/Users/leiflyu/miniforge3/lib/python3.9/site-packages/statsmodels/regression/linear_model.py:903: RuntimeWarning: divide by zero encountered in log\n",
      "  llf = -nobs2*np.log(2*np.pi) - nobs2*np.log(ssr / nobs) - nobs2\n"
     ]
    },
    {
     "name": "stdout",
     "output_type": "stream",
     "text": [
      "4\n"
     ]
    },
    {
     "name": "stderr",
     "output_type": "stream",
     "text": [
      "/Users/leiflyu/miniforge3/lib/python3.9/site-packages/statsmodels/regression/linear_model.py:903: RuntimeWarning: divide by zero encountered in log\n",
      "  llf = -nobs2*np.log(2*np.pi) - nobs2*np.log(ssr / nobs) - nobs2\n",
      "/Users/leiflyu/miniforge3/lib/python3.9/site-packages/statsmodels/regression/linear_model.py:903: RuntimeWarning: divide by zero encountered in log\n",
      "  llf = -nobs2*np.log(2*np.pi) - nobs2*np.log(ssr / nobs) - nobs2\n",
      "/Users/leiflyu/miniforge3/lib/python3.9/site-packages/statsmodels/regression/linear_model.py:903: RuntimeWarning: divide by zero encountered in log\n",
      "  llf = -nobs2*np.log(2*np.pi) - nobs2*np.log(ssr / nobs) - nobs2\n",
      "/Users/leiflyu/miniforge3/lib/python3.9/site-packages/statsmodels/regression/linear_model.py:903: RuntimeWarning: divide by zero encountered in log\n",
      "  llf = -nobs2*np.log(2*np.pi) - nobs2*np.log(ssr / nobs) - nobs2\n",
      "/Users/leiflyu/miniforge3/lib/python3.9/site-packages/statsmodels/regression/linear_model.py:903: RuntimeWarning: divide by zero encountered in log\n",
      "  llf = -nobs2*np.log(2*np.pi) - nobs2*np.log(ssr / nobs) - nobs2\n",
      "/Users/leiflyu/miniforge3/lib/python3.9/site-packages/statsmodels/regression/linear_model.py:903: RuntimeWarning: divide by zero encountered in log\n",
      "  llf = -nobs2*np.log(2*np.pi) - nobs2*np.log(ssr / nobs) - nobs2\n",
      "/Users/leiflyu/miniforge3/lib/python3.9/site-packages/statsmodels/regression/linear_model.py:903: RuntimeWarning: divide by zero encountered in log\n",
      "  llf = -nobs2*np.log(2*np.pi) - nobs2*np.log(ssr / nobs) - nobs2\n"
     ]
    },
    {
     "name": "stdout",
     "output_type": "stream",
     "text": [
      "5\n"
     ]
    },
    {
     "name": "stderr",
     "output_type": "stream",
     "text": [
      "/Users/leiflyu/miniforge3/lib/python3.9/site-packages/statsmodels/regression/linear_model.py:903: RuntimeWarning: divide by zero encountered in log\n",
      "  llf = -nobs2*np.log(2*np.pi) - nobs2*np.log(ssr / nobs) - nobs2\n",
      "/Users/leiflyu/miniforge3/lib/python3.9/site-packages/statsmodels/regression/linear_model.py:903: RuntimeWarning: divide by zero encountered in log\n",
      "  llf = -nobs2*np.log(2*np.pi) - nobs2*np.log(ssr / nobs) - nobs2\n",
      "/Users/leiflyu/miniforge3/lib/python3.9/site-packages/statsmodels/regression/linear_model.py:903: RuntimeWarning: divide by zero encountered in log\n",
      "  llf = -nobs2*np.log(2*np.pi) - nobs2*np.log(ssr / nobs) - nobs2\n",
      "/Users/leiflyu/miniforge3/lib/python3.9/site-packages/statsmodels/regression/linear_model.py:903: RuntimeWarning: divide by zero encountered in log\n",
      "  llf = -nobs2*np.log(2*np.pi) - nobs2*np.log(ssr / nobs) - nobs2\n",
      "/Users/leiflyu/miniforge3/lib/python3.9/site-packages/statsmodels/regression/linear_model.py:903: RuntimeWarning: divide by zero encountered in log\n",
      "  llf = -nobs2*np.log(2*np.pi) - nobs2*np.log(ssr / nobs) - nobs2\n",
      "/Users/leiflyu/miniforge3/lib/python3.9/site-packages/statsmodels/regression/linear_model.py:903: RuntimeWarning: divide by zero encountered in log\n",
      "  llf = -nobs2*np.log(2*np.pi) - nobs2*np.log(ssr / nobs) - nobs2\n",
      "/Users/leiflyu/miniforge3/lib/python3.9/site-packages/statsmodels/regression/linear_model.py:903: RuntimeWarning: divide by zero encountered in log\n",
      "  llf = -nobs2*np.log(2*np.pi) - nobs2*np.log(ssr / nobs) - nobs2\n"
     ]
    },
    {
     "name": "stdout",
     "output_type": "stream",
     "text": [
      "6\n"
     ]
    },
    {
     "name": "stderr",
     "output_type": "stream",
     "text": [
      "/Users/leiflyu/miniforge3/lib/python3.9/site-packages/statsmodels/regression/linear_model.py:903: RuntimeWarning: divide by zero encountered in log\n",
      "  llf = -nobs2*np.log(2*np.pi) - nobs2*np.log(ssr / nobs) - nobs2\n",
      "/Users/leiflyu/miniforge3/lib/python3.9/site-packages/statsmodels/regression/linear_model.py:903: RuntimeWarning: divide by zero encountered in log\n",
      "  llf = -nobs2*np.log(2*np.pi) - nobs2*np.log(ssr / nobs) - nobs2\n",
      "/Users/leiflyu/miniforge3/lib/python3.9/site-packages/statsmodels/regression/linear_model.py:903: RuntimeWarning: divide by zero encountered in log\n",
      "  llf = -nobs2*np.log(2*np.pi) - nobs2*np.log(ssr / nobs) - nobs2\n",
      "/Users/leiflyu/miniforge3/lib/python3.9/site-packages/statsmodels/regression/linear_model.py:903: RuntimeWarning: divide by zero encountered in log\n",
      "  llf = -nobs2*np.log(2*np.pi) - nobs2*np.log(ssr / nobs) - nobs2\n",
      "/Users/leiflyu/miniforge3/lib/python3.9/site-packages/statsmodels/regression/linear_model.py:903: RuntimeWarning: divide by zero encountered in log\n",
      "  llf = -nobs2*np.log(2*np.pi) - nobs2*np.log(ssr / nobs) - nobs2\n",
      "/Users/leiflyu/miniforge3/lib/python3.9/site-packages/statsmodels/regression/linear_model.py:903: RuntimeWarning: divide by zero encountered in log\n",
      "  llf = -nobs2*np.log(2*np.pi) - nobs2*np.log(ssr / nobs) - nobs2\n",
      "/Users/leiflyu/miniforge3/lib/python3.9/site-packages/statsmodels/regression/linear_model.py:903: RuntimeWarning: divide by zero encountered in log\n",
      "  llf = -nobs2*np.log(2*np.pi) - nobs2*np.log(ssr / nobs) - nobs2\n"
     ]
    },
    {
     "name": "stdout",
     "output_type": "stream",
     "text": [
      "7\n"
     ]
    },
    {
     "name": "stderr",
     "output_type": "stream",
     "text": [
      "/Users/leiflyu/miniforge3/lib/python3.9/site-packages/statsmodels/regression/linear_model.py:903: RuntimeWarning: divide by zero encountered in log\n",
      "  llf = -nobs2*np.log(2*np.pi) - nobs2*np.log(ssr / nobs) - nobs2\n",
      "/Users/leiflyu/miniforge3/lib/python3.9/site-packages/statsmodels/regression/linear_model.py:903: RuntimeWarning: divide by zero encountered in log\n",
      "  llf = -nobs2*np.log(2*np.pi) - nobs2*np.log(ssr / nobs) - nobs2\n",
      "/Users/leiflyu/miniforge3/lib/python3.9/site-packages/statsmodels/regression/linear_model.py:903: RuntimeWarning: divide by zero encountered in log\n",
      "  llf = -nobs2*np.log(2*np.pi) - nobs2*np.log(ssr / nobs) - nobs2\n",
      "/Users/leiflyu/miniforge3/lib/python3.9/site-packages/statsmodels/regression/linear_model.py:903: RuntimeWarning: divide by zero encountered in log\n",
      "  llf = -nobs2*np.log(2*np.pi) - nobs2*np.log(ssr / nobs) - nobs2\n",
      "/Users/leiflyu/miniforge3/lib/python3.9/site-packages/statsmodels/regression/linear_model.py:903: RuntimeWarning: divide by zero encountered in log\n",
      "  llf = -nobs2*np.log(2*np.pi) - nobs2*np.log(ssr / nobs) - nobs2\n",
      "/Users/leiflyu/miniforge3/lib/python3.9/site-packages/statsmodels/regression/linear_model.py:903: RuntimeWarning: divide by zero encountered in log\n",
      "  llf = -nobs2*np.log(2*np.pi) - nobs2*np.log(ssr / nobs) - nobs2\n",
      "/Users/leiflyu/miniforge3/lib/python3.9/site-packages/statsmodels/regression/linear_model.py:903: RuntimeWarning: divide by zero encountered in log\n",
      "  llf = -nobs2*np.log(2*np.pi) - nobs2*np.log(ssr / nobs) - nobs2\n"
     ]
    },
    {
     "name": "stdout",
     "output_type": "stream",
     "text": [
      "8\n"
     ]
    },
    {
     "name": "stderr",
     "output_type": "stream",
     "text": [
      "/Users/leiflyu/miniforge3/lib/python3.9/site-packages/statsmodels/regression/linear_model.py:903: RuntimeWarning: divide by zero encountered in log\n",
      "  llf = -nobs2*np.log(2*np.pi) - nobs2*np.log(ssr / nobs) - nobs2\n",
      "/Users/leiflyu/miniforge3/lib/python3.9/site-packages/statsmodels/regression/linear_model.py:903: RuntimeWarning: divide by zero encountered in log\n",
      "  llf = -nobs2*np.log(2*np.pi) - nobs2*np.log(ssr / nobs) - nobs2\n",
      "/Users/leiflyu/miniforge3/lib/python3.9/site-packages/statsmodels/regression/linear_model.py:903: RuntimeWarning: divide by zero encountered in log\n",
      "  llf = -nobs2*np.log(2*np.pi) - nobs2*np.log(ssr / nobs) - nobs2\n",
      "/Users/leiflyu/miniforge3/lib/python3.9/site-packages/statsmodels/regression/linear_model.py:903: RuntimeWarning: divide by zero encountered in log\n",
      "  llf = -nobs2*np.log(2*np.pi) - nobs2*np.log(ssr / nobs) - nobs2\n",
      "/Users/leiflyu/miniforge3/lib/python3.9/site-packages/statsmodels/regression/linear_model.py:903: RuntimeWarning: divide by zero encountered in log\n",
      "  llf = -nobs2*np.log(2*np.pi) - nobs2*np.log(ssr / nobs) - nobs2\n",
      "/Users/leiflyu/miniforge3/lib/python3.9/site-packages/statsmodels/regression/linear_model.py:903: RuntimeWarning: divide by zero encountered in log\n",
      "  llf = -nobs2*np.log(2*np.pi) - nobs2*np.log(ssr / nobs) - nobs2\n",
      "/Users/leiflyu/miniforge3/lib/python3.9/site-packages/statsmodels/regression/linear_model.py:903: RuntimeWarning: divide by zero encountered in log\n",
      "  llf = -nobs2*np.log(2*np.pi) - nobs2*np.log(ssr / nobs) - nobs2\n"
     ]
    },
    {
     "name": "stdout",
     "output_type": "stream",
     "text": [
      "9\n"
     ]
    },
    {
     "name": "stderr",
     "output_type": "stream",
     "text": [
      "/Users/leiflyu/miniforge3/lib/python3.9/site-packages/statsmodels/regression/linear_model.py:903: RuntimeWarning: divide by zero encountered in log\n",
      "  llf = -nobs2*np.log(2*np.pi) - nobs2*np.log(ssr / nobs) - nobs2\n",
      "/Users/leiflyu/miniforge3/lib/python3.9/site-packages/statsmodels/regression/linear_model.py:903: RuntimeWarning: divide by zero encountered in log\n",
      "  llf = -nobs2*np.log(2*np.pi) - nobs2*np.log(ssr / nobs) - nobs2\n",
      "/Users/leiflyu/miniforge3/lib/python3.9/site-packages/statsmodels/regression/linear_model.py:903: RuntimeWarning: divide by zero encountered in log\n",
      "  llf = -nobs2*np.log(2*np.pi) - nobs2*np.log(ssr / nobs) - nobs2\n",
      "/Users/leiflyu/miniforge3/lib/python3.9/site-packages/statsmodels/regression/linear_model.py:903: RuntimeWarning: divide by zero encountered in log\n",
      "  llf = -nobs2*np.log(2*np.pi) - nobs2*np.log(ssr / nobs) - nobs2\n",
      "/Users/leiflyu/miniforge3/lib/python3.9/site-packages/statsmodels/regression/linear_model.py:903: RuntimeWarning: divide by zero encountered in log\n",
      "  llf = -nobs2*np.log(2*np.pi) - nobs2*np.log(ssr / nobs) - nobs2\n",
      "/Users/leiflyu/miniforge3/lib/python3.9/site-packages/statsmodels/regression/linear_model.py:903: RuntimeWarning: divide by zero encountered in log\n",
      "  llf = -nobs2*np.log(2*np.pi) - nobs2*np.log(ssr / nobs) - nobs2\n",
      "/Users/leiflyu/miniforge3/lib/python3.9/site-packages/statsmodels/regression/linear_model.py:903: RuntimeWarning: divide by zero encountered in log\n",
      "  llf = -nobs2*np.log(2*np.pi) - nobs2*np.log(ssr / nobs) - nobs2\n"
     ]
    },
    {
     "name": "stdout",
     "output_type": "stream",
     "text": [
      "10\n"
     ]
    },
    {
     "name": "stderr",
     "output_type": "stream",
     "text": [
      "/Users/leiflyu/miniforge3/lib/python3.9/site-packages/statsmodels/regression/linear_model.py:903: RuntimeWarning: divide by zero encountered in log\n",
      "  llf = -nobs2*np.log(2*np.pi) - nobs2*np.log(ssr / nobs) - nobs2\n",
      "/Users/leiflyu/miniforge3/lib/python3.9/site-packages/statsmodels/regression/linear_model.py:903: RuntimeWarning: divide by zero encountered in log\n",
      "  llf = -nobs2*np.log(2*np.pi) - nobs2*np.log(ssr / nobs) - nobs2\n",
      "/Users/leiflyu/miniforge3/lib/python3.9/site-packages/statsmodels/regression/linear_model.py:903: RuntimeWarning: divide by zero encountered in log\n",
      "  llf = -nobs2*np.log(2*np.pi) - nobs2*np.log(ssr / nobs) - nobs2\n",
      "/Users/leiflyu/miniforge3/lib/python3.9/site-packages/statsmodels/regression/linear_model.py:903: RuntimeWarning: divide by zero encountered in log\n",
      "  llf = -nobs2*np.log(2*np.pi) - nobs2*np.log(ssr / nobs) - nobs2\n",
      "/Users/leiflyu/miniforge3/lib/python3.9/site-packages/statsmodels/regression/linear_model.py:903: RuntimeWarning: divide by zero encountered in log\n",
      "  llf = -nobs2*np.log(2*np.pi) - nobs2*np.log(ssr / nobs) - nobs2\n",
      "/Users/leiflyu/miniforge3/lib/python3.9/site-packages/statsmodels/regression/linear_model.py:903: RuntimeWarning: divide by zero encountered in log\n",
      "  llf = -nobs2*np.log(2*np.pi) - nobs2*np.log(ssr / nobs) - nobs2\n",
      "/Users/leiflyu/miniforge3/lib/python3.9/site-packages/statsmodels/regression/linear_model.py:903: RuntimeWarning: divide by zero encountered in log\n",
      "  llf = -nobs2*np.log(2*np.pi) - nobs2*np.log(ssr / nobs) - nobs2\n"
     ]
    },
    {
     "name": "stdout",
     "output_type": "stream",
     "text": [
      "11\n"
     ]
    },
    {
     "name": "stderr",
     "output_type": "stream",
     "text": [
      "/Users/leiflyu/miniforge3/lib/python3.9/site-packages/statsmodels/regression/linear_model.py:903: RuntimeWarning: divide by zero encountered in log\n",
      "  llf = -nobs2*np.log(2*np.pi) - nobs2*np.log(ssr / nobs) - nobs2\n",
      "/Users/leiflyu/miniforge3/lib/python3.9/site-packages/statsmodels/regression/linear_model.py:903: RuntimeWarning: divide by zero encountered in log\n",
      "  llf = -nobs2*np.log(2*np.pi) - nobs2*np.log(ssr / nobs) - nobs2\n",
      "/Users/leiflyu/miniforge3/lib/python3.9/site-packages/statsmodels/regression/linear_model.py:903: RuntimeWarning: divide by zero encountered in log\n",
      "  llf = -nobs2*np.log(2*np.pi) - nobs2*np.log(ssr / nobs) - nobs2\n",
      "/Users/leiflyu/miniforge3/lib/python3.9/site-packages/statsmodels/regression/linear_model.py:903: RuntimeWarning: divide by zero encountered in log\n",
      "  llf = -nobs2*np.log(2*np.pi) - nobs2*np.log(ssr / nobs) - nobs2\n",
      "/Users/leiflyu/miniforge3/lib/python3.9/site-packages/statsmodels/regression/linear_model.py:903: RuntimeWarning: divide by zero encountered in log\n",
      "  llf = -nobs2*np.log(2*np.pi) - nobs2*np.log(ssr / nobs) - nobs2\n",
      "/Users/leiflyu/miniforge3/lib/python3.9/site-packages/statsmodels/regression/linear_model.py:903: RuntimeWarning: divide by zero encountered in log\n",
      "  llf = -nobs2*np.log(2*np.pi) - nobs2*np.log(ssr / nobs) - nobs2\n",
      "/Users/leiflyu/miniforge3/lib/python3.9/site-packages/statsmodels/regression/linear_model.py:903: RuntimeWarning: divide by zero encountered in log\n",
      "  llf = -nobs2*np.log(2*np.pi) - nobs2*np.log(ssr / nobs) - nobs2\n"
     ]
    },
    {
     "name": "stdout",
     "output_type": "stream",
     "text": [
      "12\n"
     ]
    },
    {
     "name": "stderr",
     "output_type": "stream",
     "text": [
      "/Users/leiflyu/miniforge3/lib/python3.9/site-packages/statsmodels/regression/linear_model.py:903: RuntimeWarning: divide by zero encountered in log\n",
      "  llf = -nobs2*np.log(2*np.pi) - nobs2*np.log(ssr / nobs) - nobs2\n",
      "/Users/leiflyu/miniforge3/lib/python3.9/site-packages/statsmodels/regression/linear_model.py:903: RuntimeWarning: divide by zero encountered in log\n",
      "  llf = -nobs2*np.log(2*np.pi) - nobs2*np.log(ssr / nobs) - nobs2\n",
      "/Users/leiflyu/miniforge3/lib/python3.9/site-packages/statsmodels/regression/linear_model.py:903: RuntimeWarning: divide by zero encountered in log\n",
      "  llf = -nobs2*np.log(2*np.pi) - nobs2*np.log(ssr / nobs) - nobs2\n",
      "/Users/leiflyu/miniforge3/lib/python3.9/site-packages/statsmodels/regression/linear_model.py:903: RuntimeWarning: divide by zero encountered in log\n",
      "  llf = -nobs2*np.log(2*np.pi) - nobs2*np.log(ssr / nobs) - nobs2\n",
      "/Users/leiflyu/miniforge3/lib/python3.9/site-packages/statsmodels/regression/linear_model.py:903: RuntimeWarning: divide by zero encountered in log\n",
      "  llf = -nobs2*np.log(2*np.pi) - nobs2*np.log(ssr / nobs) - nobs2\n",
      "/Users/leiflyu/miniforge3/lib/python3.9/site-packages/statsmodels/regression/linear_model.py:903: RuntimeWarning: divide by zero encountered in log\n",
      "  llf = -nobs2*np.log(2*np.pi) - nobs2*np.log(ssr / nobs) - nobs2\n",
      "/Users/leiflyu/miniforge3/lib/python3.9/site-packages/statsmodels/regression/linear_model.py:903: RuntimeWarning: divide by zero encountered in log\n",
      "  llf = -nobs2*np.log(2*np.pi) - nobs2*np.log(ssr / nobs) - nobs2\n"
     ]
    },
    {
     "name": "stdout",
     "output_type": "stream",
     "text": [
      "13\n"
     ]
    },
    {
     "name": "stderr",
     "output_type": "stream",
     "text": [
      "/Users/leiflyu/miniforge3/lib/python3.9/site-packages/statsmodels/regression/linear_model.py:903: RuntimeWarning: divide by zero encountered in log\n",
      "  llf = -nobs2*np.log(2*np.pi) - nobs2*np.log(ssr / nobs) - nobs2\n",
      "/Users/leiflyu/miniforge3/lib/python3.9/site-packages/statsmodels/regression/linear_model.py:903: RuntimeWarning: divide by zero encountered in log\n",
      "  llf = -nobs2*np.log(2*np.pi) - nobs2*np.log(ssr / nobs) - nobs2\n",
      "/Users/leiflyu/miniforge3/lib/python3.9/site-packages/statsmodels/regression/linear_model.py:903: RuntimeWarning: divide by zero encountered in log\n",
      "  llf = -nobs2*np.log(2*np.pi) - nobs2*np.log(ssr / nobs) - nobs2\n",
      "/Users/leiflyu/miniforge3/lib/python3.9/site-packages/statsmodels/regression/linear_model.py:903: RuntimeWarning: divide by zero encountered in log\n",
      "  llf = -nobs2*np.log(2*np.pi) - nobs2*np.log(ssr / nobs) - nobs2\n",
      "/Users/leiflyu/miniforge3/lib/python3.9/site-packages/statsmodels/regression/linear_model.py:903: RuntimeWarning: divide by zero encountered in log\n",
      "  llf = -nobs2*np.log(2*np.pi) - nobs2*np.log(ssr / nobs) - nobs2\n",
      "/Users/leiflyu/miniforge3/lib/python3.9/site-packages/statsmodels/regression/linear_model.py:903: RuntimeWarning: divide by zero encountered in log\n",
      "  llf = -nobs2*np.log(2*np.pi) - nobs2*np.log(ssr / nobs) - nobs2\n",
      "/Users/leiflyu/miniforge3/lib/python3.9/site-packages/statsmodels/regression/linear_model.py:903: RuntimeWarning: divide by zero encountered in log\n",
      "  llf = -nobs2*np.log(2*np.pi) - nobs2*np.log(ssr / nobs) - nobs2\n"
     ]
    },
    {
     "name": "stdout",
     "output_type": "stream",
     "text": [
      "14\n"
     ]
    },
    {
     "name": "stderr",
     "output_type": "stream",
     "text": [
      "/Users/leiflyu/miniforge3/lib/python3.9/site-packages/statsmodels/regression/linear_model.py:903: RuntimeWarning: divide by zero encountered in log\n",
      "  llf = -nobs2*np.log(2*np.pi) - nobs2*np.log(ssr / nobs) - nobs2\n",
      "/Users/leiflyu/miniforge3/lib/python3.9/site-packages/statsmodels/regression/linear_model.py:903: RuntimeWarning: divide by zero encountered in log\n",
      "  llf = -nobs2*np.log(2*np.pi) - nobs2*np.log(ssr / nobs) - nobs2\n",
      "/Users/leiflyu/miniforge3/lib/python3.9/site-packages/statsmodels/regression/linear_model.py:903: RuntimeWarning: divide by zero encountered in log\n",
      "  llf = -nobs2*np.log(2*np.pi) - nobs2*np.log(ssr / nobs) - nobs2\n",
      "/Users/leiflyu/miniforge3/lib/python3.9/site-packages/statsmodels/regression/linear_model.py:903: RuntimeWarning: divide by zero encountered in log\n",
      "  llf = -nobs2*np.log(2*np.pi) - nobs2*np.log(ssr / nobs) - nobs2\n",
      "/Users/leiflyu/miniforge3/lib/python3.9/site-packages/statsmodels/regression/linear_model.py:903: RuntimeWarning: divide by zero encountered in log\n",
      "  llf = -nobs2*np.log(2*np.pi) - nobs2*np.log(ssr / nobs) - nobs2\n",
      "/Users/leiflyu/miniforge3/lib/python3.9/site-packages/statsmodels/regression/linear_model.py:903: RuntimeWarning: divide by zero encountered in log\n",
      "  llf = -nobs2*np.log(2*np.pi) - nobs2*np.log(ssr / nobs) - nobs2\n",
      "/Users/leiflyu/miniforge3/lib/python3.9/site-packages/statsmodels/regression/linear_model.py:903: RuntimeWarning: divide by zero encountered in log\n",
      "  llf = -nobs2*np.log(2*np.pi) - nobs2*np.log(ssr / nobs) - nobs2\n"
     ]
    },
    {
     "name": "stdout",
     "output_type": "stream",
     "text": [
      "15\n"
     ]
    },
    {
     "name": "stderr",
     "output_type": "stream",
     "text": [
      "/Users/leiflyu/miniforge3/lib/python3.9/site-packages/statsmodels/regression/linear_model.py:903: RuntimeWarning: divide by zero encountered in log\n",
      "  llf = -nobs2*np.log(2*np.pi) - nobs2*np.log(ssr / nobs) - nobs2\n",
      "/Users/leiflyu/miniforge3/lib/python3.9/site-packages/statsmodels/regression/linear_model.py:903: RuntimeWarning: divide by zero encountered in log\n",
      "  llf = -nobs2*np.log(2*np.pi) - nobs2*np.log(ssr / nobs) - nobs2\n",
      "/Users/leiflyu/miniforge3/lib/python3.9/site-packages/statsmodels/regression/linear_model.py:903: RuntimeWarning: divide by zero encountered in log\n",
      "  llf = -nobs2*np.log(2*np.pi) - nobs2*np.log(ssr / nobs) - nobs2\n",
      "/Users/leiflyu/miniforge3/lib/python3.9/site-packages/statsmodels/regression/linear_model.py:903: RuntimeWarning: divide by zero encountered in log\n",
      "  llf = -nobs2*np.log(2*np.pi) - nobs2*np.log(ssr / nobs) - nobs2\n",
      "/Users/leiflyu/miniforge3/lib/python3.9/site-packages/statsmodels/regression/linear_model.py:903: RuntimeWarning: divide by zero encountered in log\n",
      "  llf = -nobs2*np.log(2*np.pi) - nobs2*np.log(ssr / nobs) - nobs2\n",
      "/Users/leiflyu/miniforge3/lib/python3.9/site-packages/statsmodels/regression/linear_model.py:903: RuntimeWarning: divide by zero encountered in log\n",
      "  llf = -nobs2*np.log(2*np.pi) - nobs2*np.log(ssr / nobs) - nobs2\n",
      "/Users/leiflyu/miniforge3/lib/python3.9/site-packages/statsmodels/regression/linear_model.py:903: RuntimeWarning: divide by zero encountered in log\n",
      "  llf = -nobs2*np.log(2*np.pi) - nobs2*np.log(ssr / nobs) - nobs2\n"
     ]
    },
    {
     "name": "stdout",
     "output_type": "stream",
     "text": [
      "16\n"
     ]
    },
    {
     "name": "stderr",
     "output_type": "stream",
     "text": [
      "/Users/leiflyu/miniforge3/lib/python3.9/site-packages/statsmodels/regression/linear_model.py:903: RuntimeWarning: divide by zero encountered in log\n",
      "  llf = -nobs2*np.log(2*np.pi) - nobs2*np.log(ssr / nobs) - nobs2\n",
      "/Users/leiflyu/miniforge3/lib/python3.9/site-packages/statsmodels/regression/linear_model.py:903: RuntimeWarning: divide by zero encountered in log\n",
      "  llf = -nobs2*np.log(2*np.pi) - nobs2*np.log(ssr / nobs) - nobs2\n",
      "/Users/leiflyu/miniforge3/lib/python3.9/site-packages/statsmodels/regression/linear_model.py:903: RuntimeWarning: divide by zero encountered in log\n",
      "  llf = -nobs2*np.log(2*np.pi) - nobs2*np.log(ssr / nobs) - nobs2\n",
      "/Users/leiflyu/miniforge3/lib/python3.9/site-packages/statsmodels/regression/linear_model.py:903: RuntimeWarning: divide by zero encountered in log\n",
      "  llf = -nobs2*np.log(2*np.pi) - nobs2*np.log(ssr / nobs) - nobs2\n",
      "/Users/leiflyu/miniforge3/lib/python3.9/site-packages/statsmodels/regression/linear_model.py:903: RuntimeWarning: divide by zero encountered in log\n",
      "  llf = -nobs2*np.log(2*np.pi) - nobs2*np.log(ssr / nobs) - nobs2\n",
      "/Users/leiflyu/miniforge3/lib/python3.9/site-packages/statsmodels/regression/linear_model.py:903: RuntimeWarning: divide by zero encountered in log\n",
      "  llf = -nobs2*np.log(2*np.pi) - nobs2*np.log(ssr / nobs) - nobs2\n",
      "/Users/leiflyu/miniforge3/lib/python3.9/site-packages/statsmodels/regression/linear_model.py:903: RuntimeWarning: divide by zero encountered in log\n",
      "  llf = -nobs2*np.log(2*np.pi) - nobs2*np.log(ssr / nobs) - nobs2\n"
     ]
    },
    {
     "name": "stdout",
     "output_type": "stream",
     "text": [
      "17\n"
     ]
    },
    {
     "name": "stderr",
     "output_type": "stream",
     "text": [
      "/Users/leiflyu/miniforge3/lib/python3.9/site-packages/statsmodels/regression/linear_model.py:903: RuntimeWarning: divide by zero encountered in log\n",
      "  llf = -nobs2*np.log(2*np.pi) - nobs2*np.log(ssr / nobs) - nobs2\n",
      "/Users/leiflyu/miniforge3/lib/python3.9/site-packages/statsmodels/regression/linear_model.py:903: RuntimeWarning: divide by zero encountered in log\n",
      "  llf = -nobs2*np.log(2*np.pi) - nobs2*np.log(ssr / nobs) - nobs2\n",
      "/Users/leiflyu/miniforge3/lib/python3.9/site-packages/statsmodels/regression/linear_model.py:903: RuntimeWarning: divide by zero encountered in log\n",
      "  llf = -nobs2*np.log(2*np.pi) - nobs2*np.log(ssr / nobs) - nobs2\n",
      "/Users/leiflyu/miniforge3/lib/python3.9/site-packages/statsmodels/regression/linear_model.py:903: RuntimeWarning: divide by zero encountered in log\n",
      "  llf = -nobs2*np.log(2*np.pi) - nobs2*np.log(ssr / nobs) - nobs2\n",
      "/Users/leiflyu/miniforge3/lib/python3.9/site-packages/statsmodels/regression/linear_model.py:903: RuntimeWarning: divide by zero encountered in log\n",
      "  llf = -nobs2*np.log(2*np.pi) - nobs2*np.log(ssr / nobs) - nobs2\n",
      "/Users/leiflyu/miniforge3/lib/python3.9/site-packages/statsmodels/regression/linear_model.py:903: RuntimeWarning: divide by zero encountered in log\n",
      "  llf = -nobs2*np.log(2*np.pi) - nobs2*np.log(ssr / nobs) - nobs2\n",
      "/Users/leiflyu/miniforge3/lib/python3.9/site-packages/statsmodels/regression/linear_model.py:903: RuntimeWarning: divide by zero encountered in log\n",
      "  llf = -nobs2*np.log(2*np.pi) - nobs2*np.log(ssr / nobs) - nobs2\n"
     ]
    },
    {
     "name": "stdout",
     "output_type": "stream",
     "text": [
      "18\n"
     ]
    },
    {
     "name": "stderr",
     "output_type": "stream",
     "text": [
      "/Users/leiflyu/miniforge3/lib/python3.9/site-packages/statsmodels/regression/linear_model.py:903: RuntimeWarning: divide by zero encountered in log\n",
      "  llf = -nobs2*np.log(2*np.pi) - nobs2*np.log(ssr / nobs) - nobs2\n",
      "/Users/leiflyu/miniforge3/lib/python3.9/site-packages/statsmodels/regression/linear_model.py:903: RuntimeWarning: divide by zero encountered in log\n",
      "  llf = -nobs2*np.log(2*np.pi) - nobs2*np.log(ssr / nobs) - nobs2\n",
      "/Users/leiflyu/miniforge3/lib/python3.9/site-packages/statsmodels/regression/linear_model.py:903: RuntimeWarning: divide by zero encountered in log\n",
      "  llf = -nobs2*np.log(2*np.pi) - nobs2*np.log(ssr / nobs) - nobs2\n",
      "/Users/leiflyu/miniforge3/lib/python3.9/site-packages/statsmodels/regression/linear_model.py:903: RuntimeWarning: divide by zero encountered in log\n",
      "  llf = -nobs2*np.log(2*np.pi) - nobs2*np.log(ssr / nobs) - nobs2\n",
      "/Users/leiflyu/miniforge3/lib/python3.9/site-packages/statsmodels/regression/linear_model.py:903: RuntimeWarning: divide by zero encountered in log\n",
      "  llf = -nobs2*np.log(2*np.pi) - nobs2*np.log(ssr / nobs) - nobs2\n",
      "/Users/leiflyu/miniforge3/lib/python3.9/site-packages/statsmodels/regression/linear_model.py:903: RuntimeWarning: divide by zero encountered in log\n",
      "  llf = -nobs2*np.log(2*np.pi) - nobs2*np.log(ssr / nobs) - nobs2\n",
      "/Users/leiflyu/miniforge3/lib/python3.9/site-packages/statsmodels/regression/linear_model.py:903: RuntimeWarning: divide by zero encountered in log\n",
      "  llf = -nobs2*np.log(2*np.pi) - nobs2*np.log(ssr / nobs) - nobs2\n"
     ]
    },
    {
     "name": "stdout",
     "output_type": "stream",
     "text": [
      "19\n"
     ]
    },
    {
     "name": "stderr",
     "output_type": "stream",
     "text": [
      "/Users/leiflyu/miniforge3/lib/python3.9/site-packages/statsmodels/regression/linear_model.py:903: RuntimeWarning: divide by zero encountered in log\n",
      "  llf = -nobs2*np.log(2*np.pi) - nobs2*np.log(ssr / nobs) - nobs2\n",
      "/Users/leiflyu/miniforge3/lib/python3.9/site-packages/statsmodels/regression/linear_model.py:903: RuntimeWarning: divide by zero encountered in log\n",
      "  llf = -nobs2*np.log(2*np.pi) - nobs2*np.log(ssr / nobs) - nobs2\n",
      "/Users/leiflyu/miniforge3/lib/python3.9/site-packages/statsmodels/regression/linear_model.py:903: RuntimeWarning: divide by zero encountered in log\n",
      "  llf = -nobs2*np.log(2*np.pi) - nobs2*np.log(ssr / nobs) - nobs2\n",
      "/Users/leiflyu/miniforge3/lib/python3.9/site-packages/statsmodels/regression/linear_model.py:903: RuntimeWarning: divide by zero encountered in log\n",
      "  llf = -nobs2*np.log(2*np.pi) - nobs2*np.log(ssr / nobs) - nobs2\n",
      "/Users/leiflyu/miniforge3/lib/python3.9/site-packages/statsmodels/regression/linear_model.py:903: RuntimeWarning: divide by zero encountered in log\n",
      "  llf = -nobs2*np.log(2*np.pi) - nobs2*np.log(ssr / nobs) - nobs2\n",
      "/Users/leiflyu/miniforge3/lib/python3.9/site-packages/statsmodels/regression/linear_model.py:903: RuntimeWarning: divide by zero encountered in log\n",
      "  llf = -nobs2*np.log(2*np.pi) - nobs2*np.log(ssr / nobs) - nobs2\n",
      "/Users/leiflyu/miniforge3/lib/python3.9/site-packages/statsmodels/regression/linear_model.py:903: RuntimeWarning: divide by zero encountered in log\n",
      "  llf = -nobs2*np.log(2*np.pi) - nobs2*np.log(ssr / nobs) - nobs2\n"
     ]
    },
    {
     "name": "stdout",
     "output_type": "stream",
     "text": [
      "20\n"
     ]
    },
    {
     "name": "stderr",
     "output_type": "stream",
     "text": [
      "/Users/leiflyu/miniforge3/lib/python3.9/site-packages/statsmodels/regression/linear_model.py:903: RuntimeWarning: divide by zero encountered in log\n",
      "  llf = -nobs2*np.log(2*np.pi) - nobs2*np.log(ssr / nobs) - nobs2\n",
      "/Users/leiflyu/miniforge3/lib/python3.9/site-packages/statsmodels/regression/linear_model.py:903: RuntimeWarning: divide by zero encountered in log\n",
      "  llf = -nobs2*np.log(2*np.pi) - nobs2*np.log(ssr / nobs) - nobs2\n",
      "/Users/leiflyu/miniforge3/lib/python3.9/site-packages/statsmodels/regression/linear_model.py:903: RuntimeWarning: divide by zero encountered in log\n",
      "  llf = -nobs2*np.log(2*np.pi) - nobs2*np.log(ssr / nobs) - nobs2\n",
      "/Users/leiflyu/miniforge3/lib/python3.9/site-packages/statsmodels/regression/linear_model.py:903: RuntimeWarning: divide by zero encountered in log\n",
      "  llf = -nobs2*np.log(2*np.pi) - nobs2*np.log(ssr / nobs) - nobs2\n",
      "/Users/leiflyu/miniforge3/lib/python3.9/site-packages/statsmodels/regression/linear_model.py:903: RuntimeWarning: divide by zero encountered in log\n",
      "  llf = -nobs2*np.log(2*np.pi) - nobs2*np.log(ssr / nobs) - nobs2\n",
      "/Users/leiflyu/miniforge3/lib/python3.9/site-packages/statsmodels/regression/linear_model.py:903: RuntimeWarning: divide by zero encountered in log\n",
      "  llf = -nobs2*np.log(2*np.pi) - nobs2*np.log(ssr / nobs) - nobs2\n",
      "/Users/leiflyu/miniforge3/lib/python3.9/site-packages/statsmodels/regression/linear_model.py:903: RuntimeWarning: divide by zero encountered in log\n",
      "  llf = -nobs2*np.log(2*np.pi) - nobs2*np.log(ssr / nobs) - nobs2\n"
     ]
    },
    {
     "name": "stdout",
     "output_type": "stream",
     "text": [
      "21\n"
     ]
    },
    {
     "name": "stderr",
     "output_type": "stream",
     "text": [
      "/Users/leiflyu/miniforge3/lib/python3.9/site-packages/statsmodels/regression/linear_model.py:903: RuntimeWarning: divide by zero encountered in log\n",
      "  llf = -nobs2*np.log(2*np.pi) - nobs2*np.log(ssr / nobs) - nobs2\n",
      "/Users/leiflyu/miniforge3/lib/python3.9/site-packages/statsmodels/regression/linear_model.py:903: RuntimeWarning: divide by zero encountered in log\n",
      "  llf = -nobs2*np.log(2*np.pi) - nobs2*np.log(ssr / nobs) - nobs2\n",
      "/Users/leiflyu/miniforge3/lib/python3.9/site-packages/statsmodels/regression/linear_model.py:903: RuntimeWarning: divide by zero encountered in log\n",
      "  llf = -nobs2*np.log(2*np.pi) - nobs2*np.log(ssr / nobs) - nobs2\n",
      "/Users/leiflyu/miniforge3/lib/python3.9/site-packages/statsmodels/regression/linear_model.py:903: RuntimeWarning: divide by zero encountered in log\n",
      "  llf = -nobs2*np.log(2*np.pi) - nobs2*np.log(ssr / nobs) - nobs2\n",
      "/Users/leiflyu/miniforge3/lib/python3.9/site-packages/statsmodels/regression/linear_model.py:903: RuntimeWarning: divide by zero encountered in log\n",
      "  llf = -nobs2*np.log(2*np.pi) - nobs2*np.log(ssr / nobs) - nobs2\n",
      "/Users/leiflyu/miniforge3/lib/python3.9/site-packages/statsmodels/regression/linear_model.py:903: RuntimeWarning: divide by zero encountered in log\n",
      "  llf = -nobs2*np.log(2*np.pi) - nobs2*np.log(ssr / nobs) - nobs2\n",
      "/Users/leiflyu/miniforge3/lib/python3.9/site-packages/statsmodels/regression/linear_model.py:903: RuntimeWarning: divide by zero encountered in log\n",
      "  llf = -nobs2*np.log(2*np.pi) - nobs2*np.log(ssr / nobs) - nobs2\n"
     ]
    },
    {
     "name": "stdout",
     "output_type": "stream",
     "text": [
      "22\n"
     ]
    },
    {
     "name": "stderr",
     "output_type": "stream",
     "text": [
      "/Users/leiflyu/miniforge3/lib/python3.9/site-packages/statsmodels/regression/linear_model.py:903: RuntimeWarning: divide by zero encountered in log\n",
      "  llf = -nobs2*np.log(2*np.pi) - nobs2*np.log(ssr / nobs) - nobs2\n",
      "/Users/leiflyu/miniforge3/lib/python3.9/site-packages/statsmodels/regression/linear_model.py:903: RuntimeWarning: divide by zero encountered in log\n",
      "  llf = -nobs2*np.log(2*np.pi) - nobs2*np.log(ssr / nobs) - nobs2\n",
      "/Users/leiflyu/miniforge3/lib/python3.9/site-packages/statsmodels/regression/linear_model.py:903: RuntimeWarning: divide by zero encountered in log\n",
      "  llf = -nobs2*np.log(2*np.pi) - nobs2*np.log(ssr / nobs) - nobs2\n",
      "/Users/leiflyu/miniforge3/lib/python3.9/site-packages/statsmodels/regression/linear_model.py:903: RuntimeWarning: divide by zero encountered in log\n",
      "  llf = -nobs2*np.log(2*np.pi) - nobs2*np.log(ssr / nobs) - nobs2\n",
      "/Users/leiflyu/miniforge3/lib/python3.9/site-packages/statsmodels/regression/linear_model.py:903: RuntimeWarning: divide by zero encountered in log\n",
      "  llf = -nobs2*np.log(2*np.pi) - nobs2*np.log(ssr / nobs) - nobs2\n",
      "/Users/leiflyu/miniforge3/lib/python3.9/site-packages/statsmodels/regression/linear_model.py:903: RuntimeWarning: divide by zero encountered in log\n",
      "  llf = -nobs2*np.log(2*np.pi) - nobs2*np.log(ssr / nobs) - nobs2\n",
      "/Users/leiflyu/miniforge3/lib/python3.9/site-packages/statsmodels/regression/linear_model.py:903: RuntimeWarning: divide by zero encountered in log\n",
      "  llf = -nobs2*np.log(2*np.pi) - nobs2*np.log(ssr / nobs) - nobs2\n"
     ]
    },
    {
     "name": "stdout",
     "output_type": "stream",
     "text": [
      "23\n"
     ]
    },
    {
     "name": "stderr",
     "output_type": "stream",
     "text": [
      "/Users/leiflyu/miniforge3/lib/python3.9/site-packages/statsmodels/regression/linear_model.py:903: RuntimeWarning: divide by zero encountered in log\n",
      "  llf = -nobs2*np.log(2*np.pi) - nobs2*np.log(ssr / nobs) - nobs2\n",
      "/Users/leiflyu/miniforge3/lib/python3.9/site-packages/statsmodels/regression/linear_model.py:903: RuntimeWarning: divide by zero encountered in log\n",
      "  llf = -nobs2*np.log(2*np.pi) - nobs2*np.log(ssr / nobs) - nobs2\n",
      "/Users/leiflyu/miniforge3/lib/python3.9/site-packages/statsmodels/regression/linear_model.py:903: RuntimeWarning: divide by zero encountered in log\n",
      "  llf = -nobs2*np.log(2*np.pi) - nobs2*np.log(ssr / nobs) - nobs2\n",
      "/Users/leiflyu/miniforge3/lib/python3.9/site-packages/statsmodels/regression/linear_model.py:903: RuntimeWarning: divide by zero encountered in log\n",
      "  llf = -nobs2*np.log(2*np.pi) - nobs2*np.log(ssr / nobs) - nobs2\n",
      "/Users/leiflyu/miniforge3/lib/python3.9/site-packages/statsmodels/regression/linear_model.py:903: RuntimeWarning: divide by zero encountered in log\n",
      "  llf = -nobs2*np.log(2*np.pi) - nobs2*np.log(ssr / nobs) - nobs2\n",
      "/Users/leiflyu/miniforge3/lib/python3.9/site-packages/statsmodels/regression/linear_model.py:903: RuntimeWarning: divide by zero encountered in log\n",
      "  llf = -nobs2*np.log(2*np.pi) - nobs2*np.log(ssr / nobs) - nobs2\n",
      "/Users/leiflyu/miniforge3/lib/python3.9/site-packages/statsmodels/regression/linear_model.py:903: RuntimeWarning: divide by zero encountered in log\n",
      "  llf = -nobs2*np.log(2*np.pi) - nobs2*np.log(ssr / nobs) - nobs2\n"
     ]
    },
    {
     "name": "stdout",
     "output_type": "stream",
     "text": [
      "24\n"
     ]
    },
    {
     "name": "stderr",
     "output_type": "stream",
     "text": [
      "/Users/leiflyu/miniforge3/lib/python3.9/site-packages/statsmodels/regression/linear_model.py:903: RuntimeWarning: divide by zero encountered in log\n",
      "  llf = -nobs2*np.log(2*np.pi) - nobs2*np.log(ssr / nobs) - nobs2\n",
      "/Users/leiflyu/miniforge3/lib/python3.9/site-packages/statsmodels/regression/linear_model.py:903: RuntimeWarning: divide by zero encountered in log\n",
      "  llf = -nobs2*np.log(2*np.pi) - nobs2*np.log(ssr / nobs) - nobs2\n",
      "/Users/leiflyu/miniforge3/lib/python3.9/site-packages/statsmodels/regression/linear_model.py:903: RuntimeWarning: divide by zero encountered in log\n",
      "  llf = -nobs2*np.log(2*np.pi) - nobs2*np.log(ssr / nobs) - nobs2\n",
      "/Users/leiflyu/miniforge3/lib/python3.9/site-packages/statsmodels/regression/linear_model.py:903: RuntimeWarning: divide by zero encountered in log\n",
      "  llf = -nobs2*np.log(2*np.pi) - nobs2*np.log(ssr / nobs) - nobs2\n",
      "/Users/leiflyu/miniforge3/lib/python3.9/site-packages/statsmodels/regression/linear_model.py:903: RuntimeWarning: divide by zero encountered in log\n",
      "  llf = -nobs2*np.log(2*np.pi) - nobs2*np.log(ssr / nobs) - nobs2\n",
      "/Users/leiflyu/miniforge3/lib/python3.9/site-packages/statsmodels/regression/linear_model.py:903: RuntimeWarning: divide by zero encountered in log\n",
      "  llf = -nobs2*np.log(2*np.pi) - nobs2*np.log(ssr / nobs) - nobs2\n",
      "/Users/leiflyu/miniforge3/lib/python3.9/site-packages/statsmodels/regression/linear_model.py:903: RuntimeWarning: divide by zero encountered in log\n",
      "  llf = -nobs2*np.log(2*np.pi) - nobs2*np.log(ssr / nobs) - nobs2\n"
     ]
    },
    {
     "name": "stdout",
     "output_type": "stream",
     "text": [
      "25\n"
     ]
    },
    {
     "name": "stderr",
     "output_type": "stream",
     "text": [
      "/Users/leiflyu/miniforge3/lib/python3.9/site-packages/statsmodels/regression/linear_model.py:903: RuntimeWarning: divide by zero encountered in log\n",
      "  llf = -nobs2*np.log(2*np.pi) - nobs2*np.log(ssr / nobs) - nobs2\n",
      "/Users/leiflyu/miniforge3/lib/python3.9/site-packages/statsmodels/regression/linear_model.py:903: RuntimeWarning: divide by zero encountered in log\n",
      "  llf = -nobs2*np.log(2*np.pi) - nobs2*np.log(ssr / nobs) - nobs2\n",
      "/Users/leiflyu/miniforge3/lib/python3.9/site-packages/statsmodels/regression/linear_model.py:903: RuntimeWarning: divide by zero encountered in log\n",
      "  llf = -nobs2*np.log(2*np.pi) - nobs2*np.log(ssr / nobs) - nobs2\n",
      "/Users/leiflyu/miniforge3/lib/python3.9/site-packages/statsmodels/regression/linear_model.py:903: RuntimeWarning: divide by zero encountered in log\n",
      "  llf = -nobs2*np.log(2*np.pi) - nobs2*np.log(ssr / nobs) - nobs2\n",
      "/Users/leiflyu/miniforge3/lib/python3.9/site-packages/statsmodels/regression/linear_model.py:903: RuntimeWarning: divide by zero encountered in log\n",
      "  llf = -nobs2*np.log(2*np.pi) - nobs2*np.log(ssr / nobs) - nobs2\n",
      "/Users/leiflyu/miniforge3/lib/python3.9/site-packages/statsmodels/regression/linear_model.py:903: RuntimeWarning: divide by zero encountered in log\n",
      "  llf = -nobs2*np.log(2*np.pi) - nobs2*np.log(ssr / nobs) - nobs2\n",
      "/Users/leiflyu/miniforge3/lib/python3.9/site-packages/statsmodels/regression/linear_model.py:903: RuntimeWarning: divide by zero encountered in log\n",
      "  llf = -nobs2*np.log(2*np.pi) - nobs2*np.log(ssr / nobs) - nobs2\n"
     ]
    },
    {
     "name": "stdout",
     "output_type": "stream",
     "text": [
      "26\n"
     ]
    },
    {
     "name": "stderr",
     "output_type": "stream",
     "text": [
      "/Users/leiflyu/miniforge3/lib/python3.9/site-packages/statsmodels/regression/linear_model.py:903: RuntimeWarning: divide by zero encountered in log\n",
      "  llf = -nobs2*np.log(2*np.pi) - nobs2*np.log(ssr / nobs) - nobs2\n",
      "/Users/leiflyu/miniforge3/lib/python3.9/site-packages/statsmodels/regression/linear_model.py:903: RuntimeWarning: divide by zero encountered in log\n",
      "  llf = -nobs2*np.log(2*np.pi) - nobs2*np.log(ssr / nobs) - nobs2\n",
      "/Users/leiflyu/miniforge3/lib/python3.9/site-packages/statsmodels/regression/linear_model.py:903: RuntimeWarning: divide by zero encountered in log\n",
      "  llf = -nobs2*np.log(2*np.pi) - nobs2*np.log(ssr / nobs) - nobs2\n",
      "/Users/leiflyu/miniforge3/lib/python3.9/site-packages/statsmodels/regression/linear_model.py:903: RuntimeWarning: divide by zero encountered in log\n",
      "  llf = -nobs2*np.log(2*np.pi) - nobs2*np.log(ssr / nobs) - nobs2\n",
      "/Users/leiflyu/miniforge3/lib/python3.9/site-packages/statsmodels/regression/linear_model.py:903: RuntimeWarning: divide by zero encountered in log\n",
      "  llf = -nobs2*np.log(2*np.pi) - nobs2*np.log(ssr / nobs) - nobs2\n",
      "/Users/leiflyu/miniforge3/lib/python3.9/site-packages/statsmodels/regression/linear_model.py:903: RuntimeWarning: divide by zero encountered in log\n",
      "  llf = -nobs2*np.log(2*np.pi) - nobs2*np.log(ssr / nobs) - nobs2\n",
      "/Users/leiflyu/miniforge3/lib/python3.9/site-packages/statsmodels/regression/linear_model.py:903: RuntimeWarning: divide by zero encountered in log\n",
      "  llf = -nobs2*np.log(2*np.pi) - nobs2*np.log(ssr / nobs) - nobs2\n"
     ]
    },
    {
     "name": "stdout",
     "output_type": "stream",
     "text": [
      "27\n"
     ]
    },
    {
     "name": "stderr",
     "output_type": "stream",
     "text": [
      "/Users/leiflyu/miniforge3/lib/python3.9/site-packages/statsmodels/regression/linear_model.py:903: RuntimeWarning: divide by zero encountered in log\n",
      "  llf = -nobs2*np.log(2*np.pi) - nobs2*np.log(ssr / nobs) - nobs2\n",
      "/Users/leiflyu/miniforge3/lib/python3.9/site-packages/statsmodels/regression/linear_model.py:903: RuntimeWarning: divide by zero encountered in log\n",
      "  llf = -nobs2*np.log(2*np.pi) - nobs2*np.log(ssr / nobs) - nobs2\n",
      "/Users/leiflyu/miniforge3/lib/python3.9/site-packages/statsmodels/regression/linear_model.py:903: RuntimeWarning: divide by zero encountered in log\n",
      "  llf = -nobs2*np.log(2*np.pi) - nobs2*np.log(ssr / nobs) - nobs2\n",
      "/Users/leiflyu/miniforge3/lib/python3.9/site-packages/statsmodels/regression/linear_model.py:903: RuntimeWarning: divide by zero encountered in log\n",
      "  llf = -nobs2*np.log(2*np.pi) - nobs2*np.log(ssr / nobs) - nobs2\n",
      "/Users/leiflyu/miniforge3/lib/python3.9/site-packages/statsmodels/regression/linear_model.py:903: RuntimeWarning: divide by zero encountered in log\n",
      "  llf = -nobs2*np.log(2*np.pi) - nobs2*np.log(ssr / nobs) - nobs2\n",
      "/Users/leiflyu/miniforge3/lib/python3.9/site-packages/statsmodels/regression/linear_model.py:903: RuntimeWarning: divide by zero encountered in log\n",
      "  llf = -nobs2*np.log(2*np.pi) - nobs2*np.log(ssr / nobs) - nobs2\n",
      "/Users/leiflyu/miniforge3/lib/python3.9/site-packages/statsmodels/regression/linear_model.py:903: RuntimeWarning: divide by zero encountered in log\n",
      "  llf = -nobs2*np.log(2*np.pi) - nobs2*np.log(ssr / nobs) - nobs2\n"
     ]
    },
    {
     "name": "stdout",
     "output_type": "stream",
     "text": [
      "28\n"
     ]
    },
    {
     "name": "stderr",
     "output_type": "stream",
     "text": [
      "/Users/leiflyu/miniforge3/lib/python3.9/site-packages/statsmodels/regression/linear_model.py:903: RuntimeWarning: divide by zero encountered in log\n",
      "  llf = -nobs2*np.log(2*np.pi) - nobs2*np.log(ssr / nobs) - nobs2\n",
      "/Users/leiflyu/miniforge3/lib/python3.9/site-packages/statsmodels/regression/linear_model.py:903: RuntimeWarning: divide by zero encountered in log\n",
      "  llf = -nobs2*np.log(2*np.pi) - nobs2*np.log(ssr / nobs) - nobs2\n",
      "/Users/leiflyu/miniforge3/lib/python3.9/site-packages/statsmodels/regression/linear_model.py:903: RuntimeWarning: divide by zero encountered in log\n",
      "  llf = -nobs2*np.log(2*np.pi) - nobs2*np.log(ssr / nobs) - nobs2\n",
      "/Users/leiflyu/miniforge3/lib/python3.9/site-packages/statsmodels/regression/linear_model.py:903: RuntimeWarning: divide by zero encountered in log\n",
      "  llf = -nobs2*np.log(2*np.pi) - nobs2*np.log(ssr / nobs) - nobs2\n",
      "/Users/leiflyu/miniforge3/lib/python3.9/site-packages/statsmodels/regression/linear_model.py:903: RuntimeWarning: divide by zero encountered in log\n",
      "  llf = -nobs2*np.log(2*np.pi) - nobs2*np.log(ssr / nobs) - nobs2\n",
      "/Users/leiflyu/miniforge3/lib/python3.9/site-packages/statsmodels/regression/linear_model.py:903: RuntimeWarning: divide by zero encountered in log\n",
      "  llf = -nobs2*np.log(2*np.pi) - nobs2*np.log(ssr / nobs) - nobs2\n",
      "/Users/leiflyu/miniforge3/lib/python3.9/site-packages/statsmodels/regression/linear_model.py:903: RuntimeWarning: divide by zero encountered in log\n",
      "  llf = -nobs2*np.log(2*np.pi) - nobs2*np.log(ssr / nobs) - nobs2\n"
     ]
    },
    {
     "name": "stdout",
     "output_type": "stream",
     "text": [
      "29\n"
     ]
    },
    {
     "name": "stderr",
     "output_type": "stream",
     "text": [
      "/Users/leiflyu/miniforge3/lib/python3.9/site-packages/statsmodels/regression/linear_model.py:903: RuntimeWarning: divide by zero encountered in log\n",
      "  llf = -nobs2*np.log(2*np.pi) - nobs2*np.log(ssr / nobs) - nobs2\n",
      "/Users/leiflyu/miniforge3/lib/python3.9/site-packages/statsmodels/regression/linear_model.py:903: RuntimeWarning: divide by zero encountered in log\n",
      "  llf = -nobs2*np.log(2*np.pi) - nobs2*np.log(ssr / nobs) - nobs2\n",
      "/Users/leiflyu/miniforge3/lib/python3.9/site-packages/statsmodels/regression/linear_model.py:903: RuntimeWarning: divide by zero encountered in log\n",
      "  llf = -nobs2*np.log(2*np.pi) - nobs2*np.log(ssr / nobs) - nobs2\n",
      "/Users/leiflyu/miniforge3/lib/python3.9/site-packages/statsmodels/regression/linear_model.py:903: RuntimeWarning: divide by zero encountered in log\n",
      "  llf = -nobs2*np.log(2*np.pi) - nobs2*np.log(ssr / nobs) - nobs2\n",
      "/Users/leiflyu/miniforge3/lib/python3.9/site-packages/statsmodels/regression/linear_model.py:903: RuntimeWarning: divide by zero encountered in log\n",
      "  llf = -nobs2*np.log(2*np.pi) - nobs2*np.log(ssr / nobs) - nobs2\n",
      "/Users/leiflyu/miniforge3/lib/python3.9/site-packages/statsmodels/regression/linear_model.py:903: RuntimeWarning: divide by zero encountered in log\n",
      "  llf = -nobs2*np.log(2*np.pi) - nobs2*np.log(ssr / nobs) - nobs2\n",
      "/Users/leiflyu/miniforge3/lib/python3.9/site-packages/statsmodels/regression/linear_model.py:903: RuntimeWarning: divide by zero encountered in log\n",
      "  llf = -nobs2*np.log(2*np.pi) - nobs2*np.log(ssr / nobs) - nobs2\n"
     ]
    },
    {
     "name": "stdout",
     "output_type": "stream",
     "text": [
      "30\n"
     ]
    },
    {
     "name": "stderr",
     "output_type": "stream",
     "text": [
      "/Users/leiflyu/miniforge3/lib/python3.9/site-packages/statsmodels/regression/linear_model.py:903: RuntimeWarning: divide by zero encountered in log\n",
      "  llf = -nobs2*np.log(2*np.pi) - nobs2*np.log(ssr / nobs) - nobs2\n",
      "/Users/leiflyu/miniforge3/lib/python3.9/site-packages/statsmodels/regression/linear_model.py:903: RuntimeWarning: divide by zero encountered in log\n",
      "  llf = -nobs2*np.log(2*np.pi) - nobs2*np.log(ssr / nobs) - nobs2\n",
      "/Users/leiflyu/miniforge3/lib/python3.9/site-packages/statsmodels/regression/linear_model.py:903: RuntimeWarning: divide by zero encountered in log\n",
      "  llf = -nobs2*np.log(2*np.pi) - nobs2*np.log(ssr / nobs) - nobs2\n",
      "/Users/leiflyu/miniforge3/lib/python3.9/site-packages/statsmodels/regression/linear_model.py:903: RuntimeWarning: divide by zero encountered in log\n",
      "  llf = -nobs2*np.log(2*np.pi) - nobs2*np.log(ssr / nobs) - nobs2\n",
      "/Users/leiflyu/miniforge3/lib/python3.9/site-packages/statsmodels/regression/linear_model.py:903: RuntimeWarning: divide by zero encountered in log\n",
      "  llf = -nobs2*np.log(2*np.pi) - nobs2*np.log(ssr / nobs) - nobs2\n",
      "/Users/leiflyu/miniforge3/lib/python3.9/site-packages/statsmodels/regression/linear_model.py:903: RuntimeWarning: divide by zero encountered in log\n",
      "  llf = -nobs2*np.log(2*np.pi) - nobs2*np.log(ssr / nobs) - nobs2\n",
      "/Users/leiflyu/miniforge3/lib/python3.9/site-packages/statsmodels/regression/linear_model.py:903: RuntimeWarning: divide by zero encountered in log\n",
      "  llf = -nobs2*np.log(2*np.pi) - nobs2*np.log(ssr / nobs) - nobs2\n"
     ]
    },
    {
     "name": "stdout",
     "output_type": "stream",
     "text": [
      "31\n"
     ]
    },
    {
     "name": "stderr",
     "output_type": "stream",
     "text": [
      "/Users/leiflyu/miniforge3/lib/python3.9/site-packages/statsmodels/regression/linear_model.py:903: RuntimeWarning: divide by zero encountered in log\n",
      "  llf = -nobs2*np.log(2*np.pi) - nobs2*np.log(ssr / nobs) - nobs2\n",
      "/Users/leiflyu/miniforge3/lib/python3.9/site-packages/statsmodels/regression/linear_model.py:903: RuntimeWarning: divide by zero encountered in log\n",
      "  llf = -nobs2*np.log(2*np.pi) - nobs2*np.log(ssr / nobs) - nobs2\n",
      "/Users/leiflyu/miniforge3/lib/python3.9/site-packages/statsmodels/regression/linear_model.py:903: RuntimeWarning: divide by zero encountered in log\n",
      "  llf = -nobs2*np.log(2*np.pi) - nobs2*np.log(ssr / nobs) - nobs2\n",
      "/Users/leiflyu/miniforge3/lib/python3.9/site-packages/statsmodels/regression/linear_model.py:903: RuntimeWarning: divide by zero encountered in log\n",
      "  llf = -nobs2*np.log(2*np.pi) - nobs2*np.log(ssr / nobs) - nobs2\n",
      "/Users/leiflyu/miniforge3/lib/python3.9/site-packages/statsmodels/regression/linear_model.py:903: RuntimeWarning: divide by zero encountered in log\n",
      "  llf = -nobs2*np.log(2*np.pi) - nobs2*np.log(ssr / nobs) - nobs2\n",
      "/Users/leiflyu/miniforge3/lib/python3.9/site-packages/statsmodels/regression/linear_model.py:903: RuntimeWarning: divide by zero encountered in log\n",
      "  llf = -nobs2*np.log(2*np.pi) - nobs2*np.log(ssr / nobs) - nobs2\n",
      "/Users/leiflyu/miniforge3/lib/python3.9/site-packages/statsmodels/regression/linear_model.py:903: RuntimeWarning: divide by zero encountered in log\n",
      "  llf = -nobs2*np.log(2*np.pi) - nobs2*np.log(ssr / nobs) - nobs2\n"
     ]
    },
    {
     "name": "stdout",
     "output_type": "stream",
     "text": [
      "32\n"
     ]
    },
    {
     "name": "stderr",
     "output_type": "stream",
     "text": [
      "/Users/leiflyu/miniforge3/lib/python3.9/site-packages/statsmodels/regression/linear_model.py:903: RuntimeWarning: divide by zero encountered in log\n",
      "  llf = -nobs2*np.log(2*np.pi) - nobs2*np.log(ssr / nobs) - nobs2\n",
      "/Users/leiflyu/miniforge3/lib/python3.9/site-packages/statsmodels/regression/linear_model.py:903: RuntimeWarning: divide by zero encountered in log\n",
      "  llf = -nobs2*np.log(2*np.pi) - nobs2*np.log(ssr / nobs) - nobs2\n",
      "/Users/leiflyu/miniforge3/lib/python3.9/site-packages/statsmodels/regression/linear_model.py:903: RuntimeWarning: divide by zero encountered in log\n",
      "  llf = -nobs2*np.log(2*np.pi) - nobs2*np.log(ssr / nobs) - nobs2\n",
      "/Users/leiflyu/miniforge3/lib/python3.9/site-packages/statsmodels/regression/linear_model.py:903: RuntimeWarning: divide by zero encountered in log\n",
      "  llf = -nobs2*np.log(2*np.pi) - nobs2*np.log(ssr / nobs) - nobs2\n",
      "/Users/leiflyu/miniforge3/lib/python3.9/site-packages/statsmodels/regression/linear_model.py:903: RuntimeWarning: divide by zero encountered in log\n",
      "  llf = -nobs2*np.log(2*np.pi) - nobs2*np.log(ssr / nobs) - nobs2\n",
      "/Users/leiflyu/miniforge3/lib/python3.9/site-packages/statsmodels/regression/linear_model.py:903: RuntimeWarning: divide by zero encountered in log\n",
      "  llf = -nobs2*np.log(2*np.pi) - nobs2*np.log(ssr / nobs) - nobs2\n",
      "/Users/leiflyu/miniforge3/lib/python3.9/site-packages/statsmodels/regression/linear_model.py:903: RuntimeWarning: divide by zero encountered in log\n",
      "  llf = -nobs2*np.log(2*np.pi) - nobs2*np.log(ssr / nobs) - nobs2\n"
     ]
    },
    {
     "name": "stdout",
     "output_type": "stream",
     "text": [
      "33\n"
     ]
    },
    {
     "name": "stderr",
     "output_type": "stream",
     "text": [
      "/Users/leiflyu/miniforge3/lib/python3.9/site-packages/statsmodels/regression/linear_model.py:903: RuntimeWarning: divide by zero encountered in log\n",
      "  llf = -nobs2*np.log(2*np.pi) - nobs2*np.log(ssr / nobs) - nobs2\n",
      "/Users/leiflyu/miniforge3/lib/python3.9/site-packages/statsmodels/regression/linear_model.py:903: RuntimeWarning: divide by zero encountered in log\n",
      "  llf = -nobs2*np.log(2*np.pi) - nobs2*np.log(ssr / nobs) - nobs2\n",
      "/Users/leiflyu/miniforge3/lib/python3.9/site-packages/statsmodels/regression/linear_model.py:903: RuntimeWarning: divide by zero encountered in log\n",
      "  llf = -nobs2*np.log(2*np.pi) - nobs2*np.log(ssr / nobs) - nobs2\n",
      "/Users/leiflyu/miniforge3/lib/python3.9/site-packages/statsmodels/regression/linear_model.py:903: RuntimeWarning: divide by zero encountered in log\n",
      "  llf = -nobs2*np.log(2*np.pi) - nobs2*np.log(ssr / nobs) - nobs2\n",
      "/Users/leiflyu/miniforge3/lib/python3.9/site-packages/statsmodels/regression/linear_model.py:903: RuntimeWarning: divide by zero encountered in log\n",
      "  llf = -nobs2*np.log(2*np.pi) - nobs2*np.log(ssr / nobs) - nobs2\n",
      "/Users/leiflyu/miniforge3/lib/python3.9/site-packages/statsmodels/regression/linear_model.py:903: RuntimeWarning: divide by zero encountered in log\n",
      "  llf = -nobs2*np.log(2*np.pi) - nobs2*np.log(ssr / nobs) - nobs2\n",
      "/Users/leiflyu/miniforge3/lib/python3.9/site-packages/statsmodels/regression/linear_model.py:903: RuntimeWarning: divide by zero encountered in log\n",
      "  llf = -nobs2*np.log(2*np.pi) - nobs2*np.log(ssr / nobs) - nobs2\n"
     ]
    },
    {
     "name": "stdout",
     "output_type": "stream",
     "text": [
      "34\n"
     ]
    },
    {
     "name": "stderr",
     "output_type": "stream",
     "text": [
      "/Users/leiflyu/miniforge3/lib/python3.9/site-packages/statsmodels/regression/linear_model.py:903: RuntimeWarning: divide by zero encountered in log\n",
      "  llf = -nobs2*np.log(2*np.pi) - nobs2*np.log(ssr / nobs) - nobs2\n",
      "/Users/leiflyu/miniforge3/lib/python3.9/site-packages/statsmodels/regression/linear_model.py:903: RuntimeWarning: divide by zero encountered in log\n",
      "  llf = -nobs2*np.log(2*np.pi) - nobs2*np.log(ssr / nobs) - nobs2\n",
      "/Users/leiflyu/miniforge3/lib/python3.9/site-packages/statsmodels/regression/linear_model.py:903: RuntimeWarning: divide by zero encountered in log\n",
      "  llf = -nobs2*np.log(2*np.pi) - nobs2*np.log(ssr / nobs) - nobs2\n",
      "/Users/leiflyu/miniforge3/lib/python3.9/site-packages/statsmodels/regression/linear_model.py:903: RuntimeWarning: divide by zero encountered in log\n",
      "  llf = -nobs2*np.log(2*np.pi) - nobs2*np.log(ssr / nobs) - nobs2\n",
      "/Users/leiflyu/miniforge3/lib/python3.9/site-packages/statsmodels/regression/linear_model.py:903: RuntimeWarning: divide by zero encountered in log\n",
      "  llf = -nobs2*np.log(2*np.pi) - nobs2*np.log(ssr / nobs) - nobs2\n",
      "/Users/leiflyu/miniforge3/lib/python3.9/site-packages/statsmodels/regression/linear_model.py:903: RuntimeWarning: divide by zero encountered in log\n",
      "  llf = -nobs2*np.log(2*np.pi) - nobs2*np.log(ssr / nobs) - nobs2\n",
      "/Users/leiflyu/miniforge3/lib/python3.9/site-packages/statsmodels/regression/linear_model.py:903: RuntimeWarning: divide by zero encountered in log\n",
      "  llf = -nobs2*np.log(2*np.pi) - nobs2*np.log(ssr / nobs) - nobs2\n"
     ]
    },
    {
     "name": "stdout",
     "output_type": "stream",
     "text": [
      "35\n"
     ]
    },
    {
     "name": "stderr",
     "output_type": "stream",
     "text": [
      "/Users/leiflyu/miniforge3/lib/python3.9/site-packages/statsmodels/regression/linear_model.py:903: RuntimeWarning: divide by zero encountered in log\n",
      "  llf = -nobs2*np.log(2*np.pi) - nobs2*np.log(ssr / nobs) - nobs2\n",
      "/Users/leiflyu/miniforge3/lib/python3.9/site-packages/statsmodels/regression/linear_model.py:903: RuntimeWarning: divide by zero encountered in log\n",
      "  llf = -nobs2*np.log(2*np.pi) - nobs2*np.log(ssr / nobs) - nobs2\n",
      "/Users/leiflyu/miniforge3/lib/python3.9/site-packages/statsmodels/regression/linear_model.py:903: RuntimeWarning: divide by zero encountered in log\n",
      "  llf = -nobs2*np.log(2*np.pi) - nobs2*np.log(ssr / nobs) - nobs2\n",
      "/Users/leiflyu/miniforge3/lib/python3.9/site-packages/statsmodels/regression/linear_model.py:903: RuntimeWarning: divide by zero encountered in log\n",
      "  llf = -nobs2*np.log(2*np.pi) - nobs2*np.log(ssr / nobs) - nobs2\n",
      "/Users/leiflyu/miniforge3/lib/python3.9/site-packages/statsmodels/regression/linear_model.py:903: RuntimeWarning: divide by zero encountered in log\n",
      "  llf = -nobs2*np.log(2*np.pi) - nobs2*np.log(ssr / nobs) - nobs2\n",
      "/Users/leiflyu/miniforge3/lib/python3.9/site-packages/statsmodels/regression/linear_model.py:903: RuntimeWarning: divide by zero encountered in log\n",
      "  llf = -nobs2*np.log(2*np.pi) - nobs2*np.log(ssr / nobs) - nobs2\n",
      "/Users/leiflyu/miniforge3/lib/python3.9/site-packages/statsmodels/regression/linear_model.py:903: RuntimeWarning: divide by zero encountered in log\n",
      "  llf = -nobs2*np.log(2*np.pi) - nobs2*np.log(ssr / nobs) - nobs2\n"
     ]
    },
    {
     "name": "stdout",
     "output_type": "stream",
     "text": [
      "36\n"
     ]
    },
    {
     "name": "stderr",
     "output_type": "stream",
     "text": [
      "/Users/leiflyu/miniforge3/lib/python3.9/site-packages/statsmodels/regression/linear_model.py:903: RuntimeWarning: divide by zero encountered in log\n",
      "  llf = -nobs2*np.log(2*np.pi) - nobs2*np.log(ssr / nobs) - nobs2\n",
      "/Users/leiflyu/miniforge3/lib/python3.9/site-packages/statsmodels/regression/linear_model.py:903: RuntimeWarning: divide by zero encountered in log\n",
      "  llf = -nobs2*np.log(2*np.pi) - nobs2*np.log(ssr / nobs) - nobs2\n",
      "/Users/leiflyu/miniforge3/lib/python3.9/site-packages/statsmodels/regression/linear_model.py:903: RuntimeWarning: divide by zero encountered in log\n",
      "  llf = -nobs2*np.log(2*np.pi) - nobs2*np.log(ssr / nobs) - nobs2\n",
      "/Users/leiflyu/miniforge3/lib/python3.9/site-packages/statsmodels/regression/linear_model.py:903: RuntimeWarning: divide by zero encountered in log\n",
      "  llf = -nobs2*np.log(2*np.pi) - nobs2*np.log(ssr / nobs) - nobs2\n",
      "/Users/leiflyu/miniforge3/lib/python3.9/site-packages/statsmodels/regression/linear_model.py:903: RuntimeWarning: divide by zero encountered in log\n",
      "  llf = -nobs2*np.log(2*np.pi) - nobs2*np.log(ssr / nobs) - nobs2\n",
      "/Users/leiflyu/miniforge3/lib/python3.9/site-packages/statsmodels/regression/linear_model.py:903: RuntimeWarning: divide by zero encountered in log\n",
      "  llf = -nobs2*np.log(2*np.pi) - nobs2*np.log(ssr / nobs) - nobs2\n",
      "/Users/leiflyu/miniforge3/lib/python3.9/site-packages/statsmodels/regression/linear_model.py:903: RuntimeWarning: divide by zero encountered in log\n",
      "  llf = -nobs2*np.log(2*np.pi) - nobs2*np.log(ssr / nobs) - nobs2\n"
     ]
    },
    {
     "name": "stdout",
     "output_type": "stream",
     "text": [
      "37\n"
     ]
    },
    {
     "name": "stderr",
     "output_type": "stream",
     "text": [
      "/Users/leiflyu/miniforge3/lib/python3.9/site-packages/statsmodels/regression/linear_model.py:903: RuntimeWarning: divide by zero encountered in log\n",
      "  llf = -nobs2*np.log(2*np.pi) - nobs2*np.log(ssr / nobs) - nobs2\n",
      "/Users/leiflyu/miniforge3/lib/python3.9/site-packages/statsmodels/regression/linear_model.py:903: RuntimeWarning: divide by zero encountered in log\n",
      "  llf = -nobs2*np.log(2*np.pi) - nobs2*np.log(ssr / nobs) - nobs2\n",
      "/Users/leiflyu/miniforge3/lib/python3.9/site-packages/statsmodels/regression/linear_model.py:903: RuntimeWarning: divide by zero encountered in log\n",
      "  llf = -nobs2*np.log(2*np.pi) - nobs2*np.log(ssr / nobs) - nobs2\n",
      "/Users/leiflyu/miniforge3/lib/python3.9/site-packages/statsmodels/regression/linear_model.py:903: RuntimeWarning: divide by zero encountered in log\n",
      "  llf = -nobs2*np.log(2*np.pi) - nobs2*np.log(ssr / nobs) - nobs2\n",
      "/Users/leiflyu/miniforge3/lib/python3.9/site-packages/statsmodels/regression/linear_model.py:903: RuntimeWarning: divide by zero encountered in log\n",
      "  llf = -nobs2*np.log(2*np.pi) - nobs2*np.log(ssr / nobs) - nobs2\n",
      "/Users/leiflyu/miniforge3/lib/python3.9/site-packages/statsmodels/regression/linear_model.py:903: RuntimeWarning: divide by zero encountered in log\n",
      "  llf = -nobs2*np.log(2*np.pi) - nobs2*np.log(ssr / nobs) - nobs2\n",
      "/Users/leiflyu/miniforge3/lib/python3.9/site-packages/statsmodels/regression/linear_model.py:903: RuntimeWarning: divide by zero encountered in log\n",
      "  llf = -nobs2*np.log(2*np.pi) - nobs2*np.log(ssr / nobs) - nobs2\n"
     ]
    },
    {
     "name": "stdout",
     "output_type": "stream",
     "text": [
      "38\n"
     ]
    },
    {
     "name": "stderr",
     "output_type": "stream",
     "text": [
      "/Users/leiflyu/miniforge3/lib/python3.9/site-packages/statsmodels/regression/linear_model.py:903: RuntimeWarning: divide by zero encountered in log\n",
      "  llf = -nobs2*np.log(2*np.pi) - nobs2*np.log(ssr / nobs) - nobs2\n",
      "/Users/leiflyu/miniforge3/lib/python3.9/site-packages/statsmodels/regression/linear_model.py:903: RuntimeWarning: divide by zero encountered in log\n",
      "  llf = -nobs2*np.log(2*np.pi) - nobs2*np.log(ssr / nobs) - nobs2\n",
      "/Users/leiflyu/miniforge3/lib/python3.9/site-packages/statsmodels/regression/linear_model.py:903: RuntimeWarning: divide by zero encountered in log\n",
      "  llf = -nobs2*np.log(2*np.pi) - nobs2*np.log(ssr / nobs) - nobs2\n",
      "/Users/leiflyu/miniforge3/lib/python3.9/site-packages/statsmodels/regression/linear_model.py:903: RuntimeWarning: divide by zero encountered in log\n",
      "  llf = -nobs2*np.log(2*np.pi) - nobs2*np.log(ssr / nobs) - nobs2\n",
      "/Users/leiflyu/miniforge3/lib/python3.9/site-packages/statsmodels/regression/linear_model.py:903: RuntimeWarning: divide by zero encountered in log\n",
      "  llf = -nobs2*np.log(2*np.pi) - nobs2*np.log(ssr / nobs) - nobs2\n",
      "/Users/leiflyu/miniforge3/lib/python3.9/site-packages/statsmodels/regression/linear_model.py:903: RuntimeWarning: divide by zero encountered in log\n",
      "  llf = -nobs2*np.log(2*np.pi) - nobs2*np.log(ssr / nobs) - nobs2\n",
      "/Users/leiflyu/miniforge3/lib/python3.9/site-packages/statsmodels/regression/linear_model.py:903: RuntimeWarning: divide by zero encountered in log\n",
      "  llf = -nobs2*np.log(2*np.pi) - nobs2*np.log(ssr / nobs) - nobs2\n"
     ]
    },
    {
     "name": "stdout",
     "output_type": "stream",
     "text": [
      "39\n"
     ]
    },
    {
     "name": "stderr",
     "output_type": "stream",
     "text": [
      "/Users/leiflyu/miniforge3/lib/python3.9/site-packages/statsmodels/regression/linear_model.py:903: RuntimeWarning: divide by zero encountered in log\n",
      "  llf = -nobs2*np.log(2*np.pi) - nobs2*np.log(ssr / nobs) - nobs2\n",
      "/Users/leiflyu/miniforge3/lib/python3.9/site-packages/statsmodels/regression/linear_model.py:903: RuntimeWarning: divide by zero encountered in log\n",
      "  llf = -nobs2*np.log(2*np.pi) - nobs2*np.log(ssr / nobs) - nobs2\n",
      "/Users/leiflyu/miniforge3/lib/python3.9/site-packages/statsmodels/regression/linear_model.py:903: RuntimeWarning: divide by zero encountered in log\n",
      "  llf = -nobs2*np.log(2*np.pi) - nobs2*np.log(ssr / nobs) - nobs2\n",
      "/Users/leiflyu/miniforge3/lib/python3.9/site-packages/statsmodels/regression/linear_model.py:903: RuntimeWarning: divide by zero encountered in log\n",
      "  llf = -nobs2*np.log(2*np.pi) - nobs2*np.log(ssr / nobs) - nobs2\n",
      "/Users/leiflyu/miniforge3/lib/python3.9/site-packages/statsmodels/regression/linear_model.py:903: RuntimeWarning: divide by zero encountered in log\n",
      "  llf = -nobs2*np.log(2*np.pi) - nobs2*np.log(ssr / nobs) - nobs2\n",
      "/Users/leiflyu/miniforge3/lib/python3.9/site-packages/statsmodels/regression/linear_model.py:903: RuntimeWarning: divide by zero encountered in log\n",
      "  llf = -nobs2*np.log(2*np.pi) - nobs2*np.log(ssr / nobs) - nobs2\n",
      "/Users/leiflyu/miniforge3/lib/python3.9/site-packages/statsmodels/regression/linear_model.py:903: RuntimeWarning: divide by zero encountered in log\n",
      "  llf = -nobs2*np.log(2*np.pi) - nobs2*np.log(ssr / nobs) - nobs2\n"
     ]
    },
    {
     "name": "stdout",
     "output_type": "stream",
     "text": [
      "40\n"
     ]
    },
    {
     "name": "stderr",
     "output_type": "stream",
     "text": [
      "/Users/leiflyu/miniforge3/lib/python3.9/site-packages/statsmodels/regression/linear_model.py:903: RuntimeWarning: divide by zero encountered in log\n",
      "  llf = -nobs2*np.log(2*np.pi) - nobs2*np.log(ssr / nobs) - nobs2\n",
      "/Users/leiflyu/miniforge3/lib/python3.9/site-packages/statsmodels/regression/linear_model.py:903: RuntimeWarning: divide by zero encountered in log\n",
      "  llf = -nobs2*np.log(2*np.pi) - nobs2*np.log(ssr / nobs) - nobs2\n",
      "/Users/leiflyu/miniforge3/lib/python3.9/site-packages/statsmodels/regression/linear_model.py:903: RuntimeWarning: divide by zero encountered in log\n",
      "  llf = -nobs2*np.log(2*np.pi) - nobs2*np.log(ssr / nobs) - nobs2\n",
      "/Users/leiflyu/miniforge3/lib/python3.9/site-packages/statsmodels/regression/linear_model.py:903: RuntimeWarning: divide by zero encountered in log\n",
      "  llf = -nobs2*np.log(2*np.pi) - nobs2*np.log(ssr / nobs) - nobs2\n",
      "/Users/leiflyu/miniforge3/lib/python3.9/site-packages/statsmodels/regression/linear_model.py:903: RuntimeWarning: divide by zero encountered in log\n",
      "  llf = -nobs2*np.log(2*np.pi) - nobs2*np.log(ssr / nobs) - nobs2\n",
      "/Users/leiflyu/miniforge3/lib/python3.9/site-packages/statsmodels/regression/linear_model.py:903: RuntimeWarning: divide by zero encountered in log\n",
      "  llf = -nobs2*np.log(2*np.pi) - nobs2*np.log(ssr / nobs) - nobs2\n",
      "/Users/leiflyu/miniforge3/lib/python3.9/site-packages/statsmodels/regression/linear_model.py:903: RuntimeWarning: divide by zero encountered in log\n",
      "  llf = -nobs2*np.log(2*np.pi) - nobs2*np.log(ssr / nobs) - nobs2\n"
     ]
    },
    {
     "name": "stdout",
     "output_type": "stream",
     "text": [
      "41\n"
     ]
    },
    {
     "name": "stderr",
     "output_type": "stream",
     "text": [
      "/Users/leiflyu/miniforge3/lib/python3.9/site-packages/statsmodels/regression/linear_model.py:903: RuntimeWarning: divide by zero encountered in log\n",
      "  llf = -nobs2*np.log(2*np.pi) - nobs2*np.log(ssr / nobs) - nobs2\n",
      "/Users/leiflyu/miniforge3/lib/python3.9/site-packages/statsmodels/regression/linear_model.py:903: RuntimeWarning: divide by zero encountered in log\n",
      "  llf = -nobs2*np.log(2*np.pi) - nobs2*np.log(ssr / nobs) - nobs2\n",
      "/Users/leiflyu/miniforge3/lib/python3.9/site-packages/statsmodels/regression/linear_model.py:903: RuntimeWarning: divide by zero encountered in log\n",
      "  llf = -nobs2*np.log(2*np.pi) - nobs2*np.log(ssr / nobs) - nobs2\n",
      "/Users/leiflyu/miniforge3/lib/python3.9/site-packages/statsmodels/regression/linear_model.py:903: RuntimeWarning: divide by zero encountered in log\n",
      "  llf = -nobs2*np.log(2*np.pi) - nobs2*np.log(ssr / nobs) - nobs2\n",
      "/Users/leiflyu/miniforge3/lib/python3.9/site-packages/statsmodels/regression/linear_model.py:903: RuntimeWarning: divide by zero encountered in log\n",
      "  llf = -nobs2*np.log(2*np.pi) - nobs2*np.log(ssr / nobs) - nobs2\n",
      "/Users/leiflyu/miniforge3/lib/python3.9/site-packages/statsmodels/regression/linear_model.py:903: RuntimeWarning: divide by zero encountered in log\n",
      "  llf = -nobs2*np.log(2*np.pi) - nobs2*np.log(ssr / nobs) - nobs2\n",
      "/Users/leiflyu/miniforge3/lib/python3.9/site-packages/statsmodels/regression/linear_model.py:903: RuntimeWarning: divide by zero encountered in log\n",
      "  llf = -nobs2*np.log(2*np.pi) - nobs2*np.log(ssr / nobs) - nobs2\n"
     ]
    },
    {
     "name": "stdout",
     "output_type": "stream",
     "text": [
      "42\n"
     ]
    },
    {
     "name": "stderr",
     "output_type": "stream",
     "text": [
      "/Users/leiflyu/miniforge3/lib/python3.9/site-packages/statsmodels/regression/linear_model.py:903: RuntimeWarning: divide by zero encountered in log\n",
      "  llf = -nobs2*np.log(2*np.pi) - nobs2*np.log(ssr / nobs) - nobs2\n",
      "/Users/leiflyu/miniforge3/lib/python3.9/site-packages/statsmodels/regression/linear_model.py:903: RuntimeWarning: divide by zero encountered in log\n",
      "  llf = -nobs2*np.log(2*np.pi) - nobs2*np.log(ssr / nobs) - nobs2\n",
      "/Users/leiflyu/miniforge3/lib/python3.9/site-packages/statsmodels/regression/linear_model.py:903: RuntimeWarning: divide by zero encountered in log\n",
      "  llf = -nobs2*np.log(2*np.pi) - nobs2*np.log(ssr / nobs) - nobs2\n",
      "/Users/leiflyu/miniforge3/lib/python3.9/site-packages/statsmodels/regression/linear_model.py:903: RuntimeWarning: divide by zero encountered in log\n",
      "  llf = -nobs2*np.log(2*np.pi) - nobs2*np.log(ssr / nobs) - nobs2\n",
      "/Users/leiflyu/miniforge3/lib/python3.9/site-packages/statsmodels/regression/linear_model.py:903: RuntimeWarning: divide by zero encountered in log\n",
      "  llf = -nobs2*np.log(2*np.pi) - nobs2*np.log(ssr / nobs) - nobs2\n",
      "/Users/leiflyu/miniforge3/lib/python3.9/site-packages/statsmodels/regression/linear_model.py:903: RuntimeWarning: divide by zero encountered in log\n",
      "  llf = -nobs2*np.log(2*np.pi) - nobs2*np.log(ssr / nobs) - nobs2\n",
      "/Users/leiflyu/miniforge3/lib/python3.9/site-packages/statsmodels/regression/linear_model.py:903: RuntimeWarning: divide by zero encountered in log\n",
      "  llf = -nobs2*np.log(2*np.pi) - nobs2*np.log(ssr / nobs) - nobs2\n"
     ]
    },
    {
     "name": "stdout",
     "output_type": "stream",
     "text": [
      "43\n"
     ]
    },
    {
     "name": "stderr",
     "output_type": "stream",
     "text": [
      "/Users/leiflyu/miniforge3/lib/python3.9/site-packages/statsmodels/regression/linear_model.py:903: RuntimeWarning: divide by zero encountered in log\n",
      "  llf = -nobs2*np.log(2*np.pi) - nobs2*np.log(ssr / nobs) - nobs2\n",
      "/Users/leiflyu/miniforge3/lib/python3.9/site-packages/statsmodels/regression/linear_model.py:903: RuntimeWarning: divide by zero encountered in log\n",
      "  llf = -nobs2*np.log(2*np.pi) - nobs2*np.log(ssr / nobs) - nobs2\n",
      "/Users/leiflyu/miniforge3/lib/python3.9/site-packages/statsmodels/regression/linear_model.py:903: RuntimeWarning: divide by zero encountered in log\n",
      "  llf = -nobs2*np.log(2*np.pi) - nobs2*np.log(ssr / nobs) - nobs2\n",
      "/Users/leiflyu/miniforge3/lib/python3.9/site-packages/statsmodels/regression/linear_model.py:903: RuntimeWarning: divide by zero encountered in log\n",
      "  llf = -nobs2*np.log(2*np.pi) - nobs2*np.log(ssr / nobs) - nobs2\n",
      "/Users/leiflyu/miniforge3/lib/python3.9/site-packages/statsmodels/regression/linear_model.py:903: RuntimeWarning: divide by zero encountered in log\n",
      "  llf = -nobs2*np.log(2*np.pi) - nobs2*np.log(ssr / nobs) - nobs2\n",
      "/Users/leiflyu/miniforge3/lib/python3.9/site-packages/statsmodels/regression/linear_model.py:903: RuntimeWarning: divide by zero encountered in log\n",
      "  llf = -nobs2*np.log(2*np.pi) - nobs2*np.log(ssr / nobs) - nobs2\n",
      "/Users/leiflyu/miniforge3/lib/python3.9/site-packages/statsmodels/regression/linear_model.py:903: RuntimeWarning: divide by zero encountered in log\n",
      "  llf = -nobs2*np.log(2*np.pi) - nobs2*np.log(ssr / nobs) - nobs2\n"
     ]
    },
    {
     "name": "stdout",
     "output_type": "stream",
     "text": [
      "44\n"
     ]
    },
    {
     "name": "stderr",
     "output_type": "stream",
     "text": [
      "/Users/leiflyu/miniforge3/lib/python3.9/site-packages/statsmodels/regression/linear_model.py:903: RuntimeWarning: divide by zero encountered in log\n",
      "  llf = -nobs2*np.log(2*np.pi) - nobs2*np.log(ssr / nobs) - nobs2\n",
      "/Users/leiflyu/miniforge3/lib/python3.9/site-packages/statsmodels/regression/linear_model.py:903: RuntimeWarning: divide by zero encountered in log\n",
      "  llf = -nobs2*np.log(2*np.pi) - nobs2*np.log(ssr / nobs) - nobs2\n",
      "/Users/leiflyu/miniforge3/lib/python3.9/site-packages/statsmodels/regression/linear_model.py:903: RuntimeWarning: divide by zero encountered in log\n",
      "  llf = -nobs2*np.log(2*np.pi) - nobs2*np.log(ssr / nobs) - nobs2\n",
      "/Users/leiflyu/miniforge3/lib/python3.9/site-packages/statsmodels/regression/linear_model.py:903: RuntimeWarning: divide by zero encountered in log\n",
      "  llf = -nobs2*np.log(2*np.pi) - nobs2*np.log(ssr / nobs) - nobs2\n",
      "/Users/leiflyu/miniforge3/lib/python3.9/site-packages/statsmodels/regression/linear_model.py:903: RuntimeWarning: divide by zero encountered in log\n",
      "  llf = -nobs2*np.log(2*np.pi) - nobs2*np.log(ssr / nobs) - nobs2\n",
      "/Users/leiflyu/miniforge3/lib/python3.9/site-packages/statsmodels/regression/linear_model.py:903: RuntimeWarning: divide by zero encountered in log\n",
      "  llf = -nobs2*np.log(2*np.pi) - nobs2*np.log(ssr / nobs) - nobs2\n",
      "/Users/leiflyu/miniforge3/lib/python3.9/site-packages/statsmodels/regression/linear_model.py:903: RuntimeWarning: divide by zero encountered in log\n",
      "  llf = -nobs2*np.log(2*np.pi) - nobs2*np.log(ssr / nobs) - nobs2\n"
     ]
    },
    {
     "name": "stdout",
     "output_type": "stream",
     "text": [
      "45\n"
     ]
    },
    {
     "name": "stderr",
     "output_type": "stream",
     "text": [
      "/Users/leiflyu/miniforge3/lib/python3.9/site-packages/statsmodels/regression/linear_model.py:903: RuntimeWarning: divide by zero encountered in log\n",
      "  llf = -nobs2*np.log(2*np.pi) - nobs2*np.log(ssr / nobs) - nobs2\n",
      "/Users/leiflyu/miniforge3/lib/python3.9/site-packages/statsmodels/regression/linear_model.py:903: RuntimeWarning: divide by zero encountered in log\n",
      "  llf = -nobs2*np.log(2*np.pi) - nobs2*np.log(ssr / nobs) - nobs2\n",
      "/Users/leiflyu/miniforge3/lib/python3.9/site-packages/statsmodels/regression/linear_model.py:903: RuntimeWarning: divide by zero encountered in log\n",
      "  llf = -nobs2*np.log(2*np.pi) - nobs2*np.log(ssr / nobs) - nobs2\n",
      "/Users/leiflyu/miniforge3/lib/python3.9/site-packages/statsmodels/regression/linear_model.py:903: RuntimeWarning: divide by zero encountered in log\n",
      "  llf = -nobs2*np.log(2*np.pi) - nobs2*np.log(ssr / nobs) - nobs2\n",
      "/Users/leiflyu/miniforge3/lib/python3.9/site-packages/statsmodels/regression/linear_model.py:903: RuntimeWarning: divide by zero encountered in log\n",
      "  llf = -nobs2*np.log(2*np.pi) - nobs2*np.log(ssr / nobs) - nobs2\n",
      "/Users/leiflyu/miniforge3/lib/python3.9/site-packages/statsmodels/regression/linear_model.py:903: RuntimeWarning: divide by zero encountered in log\n",
      "  llf = -nobs2*np.log(2*np.pi) - nobs2*np.log(ssr / nobs) - nobs2\n",
      "/Users/leiflyu/miniforge3/lib/python3.9/site-packages/statsmodels/regression/linear_model.py:903: RuntimeWarning: divide by zero encountered in log\n",
      "  llf = -nobs2*np.log(2*np.pi) - nobs2*np.log(ssr / nobs) - nobs2\n"
     ]
    },
    {
     "name": "stdout",
     "output_type": "stream",
     "text": [
      "46\n"
     ]
    },
    {
     "name": "stderr",
     "output_type": "stream",
     "text": [
      "/Users/leiflyu/miniforge3/lib/python3.9/site-packages/statsmodels/regression/linear_model.py:903: RuntimeWarning: divide by zero encountered in log\n",
      "  llf = -nobs2*np.log(2*np.pi) - nobs2*np.log(ssr / nobs) - nobs2\n",
      "/Users/leiflyu/miniforge3/lib/python3.9/site-packages/statsmodels/regression/linear_model.py:903: RuntimeWarning: divide by zero encountered in log\n",
      "  llf = -nobs2*np.log(2*np.pi) - nobs2*np.log(ssr / nobs) - nobs2\n",
      "/Users/leiflyu/miniforge3/lib/python3.9/site-packages/statsmodels/regression/linear_model.py:903: RuntimeWarning: divide by zero encountered in log\n",
      "  llf = -nobs2*np.log(2*np.pi) - nobs2*np.log(ssr / nobs) - nobs2\n",
      "/Users/leiflyu/miniforge3/lib/python3.9/site-packages/statsmodels/regression/linear_model.py:903: RuntimeWarning: divide by zero encountered in log\n",
      "  llf = -nobs2*np.log(2*np.pi) - nobs2*np.log(ssr / nobs) - nobs2\n",
      "/Users/leiflyu/miniforge3/lib/python3.9/site-packages/statsmodels/regression/linear_model.py:903: RuntimeWarning: divide by zero encountered in log\n",
      "  llf = -nobs2*np.log(2*np.pi) - nobs2*np.log(ssr / nobs) - nobs2\n",
      "/Users/leiflyu/miniforge3/lib/python3.9/site-packages/statsmodels/regression/linear_model.py:903: RuntimeWarning: divide by zero encountered in log\n",
      "  llf = -nobs2*np.log(2*np.pi) - nobs2*np.log(ssr / nobs) - nobs2\n",
      "/Users/leiflyu/miniforge3/lib/python3.9/site-packages/statsmodels/regression/linear_model.py:903: RuntimeWarning: divide by zero encountered in log\n",
      "  llf = -nobs2*np.log(2*np.pi) - nobs2*np.log(ssr / nobs) - nobs2\n"
     ]
    },
    {
     "name": "stdout",
     "output_type": "stream",
     "text": [
      "47\n"
     ]
    },
    {
     "name": "stderr",
     "output_type": "stream",
     "text": [
      "/Users/leiflyu/miniforge3/lib/python3.9/site-packages/statsmodels/regression/linear_model.py:903: RuntimeWarning: divide by zero encountered in log\n",
      "  llf = -nobs2*np.log(2*np.pi) - nobs2*np.log(ssr / nobs) - nobs2\n",
      "/Users/leiflyu/miniforge3/lib/python3.9/site-packages/statsmodels/regression/linear_model.py:903: RuntimeWarning: divide by zero encountered in log\n",
      "  llf = -nobs2*np.log(2*np.pi) - nobs2*np.log(ssr / nobs) - nobs2\n",
      "/Users/leiflyu/miniforge3/lib/python3.9/site-packages/statsmodels/regression/linear_model.py:903: RuntimeWarning: divide by zero encountered in log\n",
      "  llf = -nobs2*np.log(2*np.pi) - nobs2*np.log(ssr / nobs) - nobs2\n",
      "/Users/leiflyu/miniforge3/lib/python3.9/site-packages/statsmodels/regression/linear_model.py:903: RuntimeWarning: divide by zero encountered in log\n",
      "  llf = -nobs2*np.log(2*np.pi) - nobs2*np.log(ssr / nobs) - nobs2\n",
      "/Users/leiflyu/miniforge3/lib/python3.9/site-packages/statsmodels/regression/linear_model.py:903: RuntimeWarning: divide by zero encountered in log\n",
      "  llf = -nobs2*np.log(2*np.pi) - nobs2*np.log(ssr / nobs) - nobs2\n",
      "/Users/leiflyu/miniforge3/lib/python3.9/site-packages/statsmodels/regression/linear_model.py:903: RuntimeWarning: divide by zero encountered in log\n",
      "  llf = -nobs2*np.log(2*np.pi) - nobs2*np.log(ssr / nobs) - nobs2\n",
      "/Users/leiflyu/miniforge3/lib/python3.9/site-packages/statsmodels/regression/linear_model.py:903: RuntimeWarning: divide by zero encountered in log\n",
      "  llf = -nobs2*np.log(2*np.pi) - nobs2*np.log(ssr / nobs) - nobs2\n"
     ]
    },
    {
     "name": "stdout",
     "output_type": "stream",
     "text": [
      "48\n"
     ]
    },
    {
     "name": "stderr",
     "output_type": "stream",
     "text": [
      "/Users/leiflyu/miniforge3/lib/python3.9/site-packages/statsmodels/regression/linear_model.py:903: RuntimeWarning: divide by zero encountered in log\n",
      "  llf = -nobs2*np.log(2*np.pi) - nobs2*np.log(ssr / nobs) - nobs2\n",
      "/Users/leiflyu/miniforge3/lib/python3.9/site-packages/statsmodels/regression/linear_model.py:903: RuntimeWarning: divide by zero encountered in log\n",
      "  llf = -nobs2*np.log(2*np.pi) - nobs2*np.log(ssr / nobs) - nobs2\n",
      "/Users/leiflyu/miniforge3/lib/python3.9/site-packages/statsmodels/regression/linear_model.py:903: RuntimeWarning: divide by zero encountered in log\n",
      "  llf = -nobs2*np.log(2*np.pi) - nobs2*np.log(ssr / nobs) - nobs2\n",
      "/Users/leiflyu/miniforge3/lib/python3.9/site-packages/statsmodels/regression/linear_model.py:903: RuntimeWarning: divide by zero encountered in log\n",
      "  llf = -nobs2*np.log(2*np.pi) - nobs2*np.log(ssr / nobs) - nobs2\n",
      "/Users/leiflyu/miniforge3/lib/python3.9/site-packages/statsmodels/regression/linear_model.py:903: RuntimeWarning: divide by zero encountered in log\n",
      "  llf = -nobs2*np.log(2*np.pi) - nobs2*np.log(ssr / nobs) - nobs2\n",
      "/Users/leiflyu/miniforge3/lib/python3.9/site-packages/statsmodels/regression/linear_model.py:903: RuntimeWarning: divide by zero encountered in log\n",
      "  llf = -nobs2*np.log(2*np.pi) - nobs2*np.log(ssr / nobs) - nobs2\n",
      "/Users/leiflyu/miniforge3/lib/python3.9/site-packages/statsmodels/regression/linear_model.py:903: RuntimeWarning: divide by zero encountered in log\n",
      "  llf = -nobs2*np.log(2*np.pi) - nobs2*np.log(ssr / nobs) - nobs2\n"
     ]
    },
    {
     "name": "stdout",
     "output_type": "stream",
     "text": [
      "49\n"
     ]
    },
    {
     "name": "stderr",
     "output_type": "stream",
     "text": [
      "/Users/leiflyu/miniforge3/lib/python3.9/site-packages/statsmodels/regression/linear_model.py:903: RuntimeWarning: divide by zero encountered in log\n",
      "  llf = -nobs2*np.log(2*np.pi) - nobs2*np.log(ssr / nobs) - nobs2\n",
      "/Users/leiflyu/miniforge3/lib/python3.9/site-packages/statsmodels/regression/linear_model.py:903: RuntimeWarning: divide by zero encountered in log\n",
      "  llf = -nobs2*np.log(2*np.pi) - nobs2*np.log(ssr / nobs) - nobs2\n",
      "/Users/leiflyu/miniforge3/lib/python3.9/site-packages/statsmodels/regression/linear_model.py:903: RuntimeWarning: divide by zero encountered in log\n",
      "  llf = -nobs2*np.log(2*np.pi) - nobs2*np.log(ssr / nobs) - nobs2\n",
      "/Users/leiflyu/miniforge3/lib/python3.9/site-packages/statsmodels/regression/linear_model.py:903: RuntimeWarning: divide by zero encountered in log\n",
      "  llf = -nobs2*np.log(2*np.pi) - nobs2*np.log(ssr / nobs) - nobs2\n",
      "/Users/leiflyu/miniforge3/lib/python3.9/site-packages/statsmodels/regression/linear_model.py:903: RuntimeWarning: divide by zero encountered in log\n",
      "  llf = -nobs2*np.log(2*np.pi) - nobs2*np.log(ssr / nobs) - nobs2\n",
      "/Users/leiflyu/miniforge3/lib/python3.9/site-packages/statsmodels/regression/linear_model.py:903: RuntimeWarning: divide by zero encountered in log\n",
      "  llf = -nobs2*np.log(2*np.pi) - nobs2*np.log(ssr / nobs) - nobs2\n",
      "/Users/leiflyu/miniforge3/lib/python3.9/site-packages/statsmodels/regression/linear_model.py:903: RuntimeWarning: divide by zero encountered in log\n",
      "  llf = -nobs2*np.log(2*np.pi) - nobs2*np.log(ssr / nobs) - nobs2\n"
     ]
    },
    {
     "name": "stdout",
     "output_type": "stream",
     "text": [
      "50\n"
     ]
    },
    {
     "name": "stderr",
     "output_type": "stream",
     "text": [
      "/Users/leiflyu/miniforge3/lib/python3.9/site-packages/statsmodels/regression/linear_model.py:903: RuntimeWarning: divide by zero encountered in log\n",
      "  llf = -nobs2*np.log(2*np.pi) - nobs2*np.log(ssr / nobs) - nobs2\n",
      "/Users/leiflyu/miniforge3/lib/python3.9/site-packages/statsmodels/regression/linear_model.py:903: RuntimeWarning: divide by zero encountered in log\n",
      "  llf = -nobs2*np.log(2*np.pi) - nobs2*np.log(ssr / nobs) - nobs2\n",
      "/Users/leiflyu/miniforge3/lib/python3.9/site-packages/statsmodels/regression/linear_model.py:903: RuntimeWarning: divide by zero encountered in log\n",
      "  llf = -nobs2*np.log(2*np.pi) - nobs2*np.log(ssr / nobs) - nobs2\n",
      "/Users/leiflyu/miniforge3/lib/python3.9/site-packages/statsmodels/regression/linear_model.py:903: RuntimeWarning: divide by zero encountered in log\n",
      "  llf = -nobs2*np.log(2*np.pi) - nobs2*np.log(ssr / nobs) - nobs2\n",
      "/Users/leiflyu/miniforge3/lib/python3.9/site-packages/statsmodels/regression/linear_model.py:903: RuntimeWarning: divide by zero encountered in log\n",
      "  llf = -nobs2*np.log(2*np.pi) - nobs2*np.log(ssr / nobs) - nobs2\n",
      "/Users/leiflyu/miniforge3/lib/python3.9/site-packages/statsmodels/regression/linear_model.py:903: RuntimeWarning: divide by zero encountered in log\n",
      "  llf = -nobs2*np.log(2*np.pi) - nobs2*np.log(ssr / nobs) - nobs2\n",
      "/Users/leiflyu/miniforge3/lib/python3.9/site-packages/statsmodels/regression/linear_model.py:903: RuntimeWarning: divide by zero encountered in log\n",
      "  llf = -nobs2*np.log(2*np.pi) - nobs2*np.log(ssr / nobs) - nobs2\n"
     ]
    },
    {
     "name": "stdout",
     "output_type": "stream",
     "text": [
      "51\n"
     ]
    },
    {
     "name": "stderr",
     "output_type": "stream",
     "text": [
      "/Users/leiflyu/miniforge3/lib/python3.9/site-packages/statsmodels/regression/linear_model.py:903: RuntimeWarning: divide by zero encountered in log\n",
      "  llf = -nobs2*np.log(2*np.pi) - nobs2*np.log(ssr / nobs) - nobs2\n",
      "/Users/leiflyu/miniforge3/lib/python3.9/site-packages/statsmodels/regression/linear_model.py:903: RuntimeWarning: divide by zero encountered in log\n",
      "  llf = -nobs2*np.log(2*np.pi) - nobs2*np.log(ssr / nobs) - nobs2\n",
      "/Users/leiflyu/miniforge3/lib/python3.9/site-packages/statsmodels/regression/linear_model.py:903: RuntimeWarning: divide by zero encountered in log\n",
      "  llf = -nobs2*np.log(2*np.pi) - nobs2*np.log(ssr / nobs) - nobs2\n",
      "/Users/leiflyu/miniforge3/lib/python3.9/site-packages/statsmodels/regression/linear_model.py:903: RuntimeWarning: divide by zero encountered in log\n",
      "  llf = -nobs2*np.log(2*np.pi) - nobs2*np.log(ssr / nobs) - nobs2\n",
      "/Users/leiflyu/miniforge3/lib/python3.9/site-packages/statsmodels/regression/linear_model.py:903: RuntimeWarning: divide by zero encountered in log\n",
      "  llf = -nobs2*np.log(2*np.pi) - nobs2*np.log(ssr / nobs) - nobs2\n",
      "/Users/leiflyu/miniforge3/lib/python3.9/site-packages/statsmodels/regression/linear_model.py:903: RuntimeWarning: divide by zero encountered in log\n",
      "  llf = -nobs2*np.log(2*np.pi) - nobs2*np.log(ssr / nobs) - nobs2\n",
      "/Users/leiflyu/miniforge3/lib/python3.9/site-packages/statsmodels/regression/linear_model.py:903: RuntimeWarning: divide by zero encountered in log\n",
      "  llf = -nobs2*np.log(2*np.pi) - nobs2*np.log(ssr / nobs) - nobs2\n"
     ]
    },
    {
     "name": "stdout",
     "output_type": "stream",
     "text": [
      "52\n"
     ]
    },
    {
     "name": "stderr",
     "output_type": "stream",
     "text": [
      "/Users/leiflyu/miniforge3/lib/python3.9/site-packages/statsmodels/regression/linear_model.py:903: RuntimeWarning: divide by zero encountered in log\n",
      "  llf = -nobs2*np.log(2*np.pi) - nobs2*np.log(ssr / nobs) - nobs2\n",
      "/Users/leiflyu/miniforge3/lib/python3.9/site-packages/statsmodels/regression/linear_model.py:903: RuntimeWarning: divide by zero encountered in log\n",
      "  llf = -nobs2*np.log(2*np.pi) - nobs2*np.log(ssr / nobs) - nobs2\n",
      "/Users/leiflyu/miniforge3/lib/python3.9/site-packages/statsmodels/regression/linear_model.py:903: RuntimeWarning: divide by zero encountered in log\n",
      "  llf = -nobs2*np.log(2*np.pi) - nobs2*np.log(ssr / nobs) - nobs2\n",
      "/Users/leiflyu/miniforge3/lib/python3.9/site-packages/statsmodels/regression/linear_model.py:903: RuntimeWarning: divide by zero encountered in log\n",
      "  llf = -nobs2*np.log(2*np.pi) - nobs2*np.log(ssr / nobs) - nobs2\n",
      "/Users/leiflyu/miniforge3/lib/python3.9/site-packages/statsmodels/regression/linear_model.py:903: RuntimeWarning: divide by zero encountered in log\n",
      "  llf = -nobs2*np.log(2*np.pi) - nobs2*np.log(ssr / nobs) - nobs2\n",
      "/Users/leiflyu/miniforge3/lib/python3.9/site-packages/statsmodels/regression/linear_model.py:903: RuntimeWarning: divide by zero encountered in log\n",
      "  llf = -nobs2*np.log(2*np.pi) - nobs2*np.log(ssr / nobs) - nobs2\n",
      "/Users/leiflyu/miniforge3/lib/python3.9/site-packages/statsmodels/regression/linear_model.py:903: RuntimeWarning: divide by zero encountered in log\n",
      "  llf = -nobs2*np.log(2*np.pi) - nobs2*np.log(ssr / nobs) - nobs2\n"
     ]
    },
    {
     "name": "stdout",
     "output_type": "stream",
     "text": [
      "53\n"
     ]
    },
    {
     "name": "stderr",
     "output_type": "stream",
     "text": [
      "/Users/leiflyu/miniforge3/lib/python3.9/site-packages/statsmodels/regression/linear_model.py:903: RuntimeWarning: divide by zero encountered in log\n",
      "  llf = -nobs2*np.log(2*np.pi) - nobs2*np.log(ssr / nobs) - nobs2\n",
      "/Users/leiflyu/miniforge3/lib/python3.9/site-packages/statsmodels/regression/linear_model.py:903: RuntimeWarning: divide by zero encountered in log\n",
      "  llf = -nobs2*np.log(2*np.pi) - nobs2*np.log(ssr / nobs) - nobs2\n",
      "/Users/leiflyu/miniforge3/lib/python3.9/site-packages/statsmodels/regression/linear_model.py:903: RuntimeWarning: divide by zero encountered in log\n",
      "  llf = -nobs2*np.log(2*np.pi) - nobs2*np.log(ssr / nobs) - nobs2\n",
      "/Users/leiflyu/miniforge3/lib/python3.9/site-packages/statsmodels/regression/linear_model.py:903: RuntimeWarning: divide by zero encountered in log\n",
      "  llf = -nobs2*np.log(2*np.pi) - nobs2*np.log(ssr / nobs) - nobs2\n",
      "/Users/leiflyu/miniforge3/lib/python3.9/site-packages/statsmodels/regression/linear_model.py:903: RuntimeWarning: divide by zero encountered in log\n",
      "  llf = -nobs2*np.log(2*np.pi) - nobs2*np.log(ssr / nobs) - nobs2\n",
      "/Users/leiflyu/miniforge3/lib/python3.9/site-packages/statsmodels/regression/linear_model.py:903: RuntimeWarning: divide by zero encountered in log\n",
      "  llf = -nobs2*np.log(2*np.pi) - nobs2*np.log(ssr / nobs) - nobs2\n",
      "/Users/leiflyu/miniforge3/lib/python3.9/site-packages/statsmodels/regression/linear_model.py:903: RuntimeWarning: divide by zero encountered in log\n",
      "  llf = -nobs2*np.log(2*np.pi) - nobs2*np.log(ssr / nobs) - nobs2\n"
     ]
    },
    {
     "name": "stdout",
     "output_type": "stream",
     "text": [
      "54\n"
     ]
    },
    {
     "name": "stderr",
     "output_type": "stream",
     "text": [
      "/Users/leiflyu/miniforge3/lib/python3.9/site-packages/statsmodels/regression/linear_model.py:903: RuntimeWarning: divide by zero encountered in log\n",
      "  llf = -nobs2*np.log(2*np.pi) - nobs2*np.log(ssr / nobs) - nobs2\n",
      "/Users/leiflyu/miniforge3/lib/python3.9/site-packages/statsmodels/regression/linear_model.py:903: RuntimeWarning: divide by zero encountered in log\n",
      "  llf = -nobs2*np.log(2*np.pi) - nobs2*np.log(ssr / nobs) - nobs2\n",
      "/Users/leiflyu/miniforge3/lib/python3.9/site-packages/statsmodels/regression/linear_model.py:903: RuntimeWarning: divide by zero encountered in log\n",
      "  llf = -nobs2*np.log(2*np.pi) - nobs2*np.log(ssr / nobs) - nobs2\n",
      "/Users/leiflyu/miniforge3/lib/python3.9/site-packages/statsmodels/regression/linear_model.py:903: RuntimeWarning: divide by zero encountered in log\n",
      "  llf = -nobs2*np.log(2*np.pi) - nobs2*np.log(ssr / nobs) - nobs2\n",
      "/Users/leiflyu/miniforge3/lib/python3.9/site-packages/statsmodels/regression/linear_model.py:903: RuntimeWarning: divide by zero encountered in log\n",
      "  llf = -nobs2*np.log(2*np.pi) - nobs2*np.log(ssr / nobs) - nobs2\n",
      "/Users/leiflyu/miniforge3/lib/python3.9/site-packages/statsmodels/regression/linear_model.py:903: RuntimeWarning: divide by zero encountered in log\n",
      "  llf = -nobs2*np.log(2*np.pi) - nobs2*np.log(ssr / nobs) - nobs2\n",
      "/Users/leiflyu/miniforge3/lib/python3.9/site-packages/statsmodels/regression/linear_model.py:903: RuntimeWarning: divide by zero encountered in log\n",
      "  llf = -nobs2*np.log(2*np.pi) - nobs2*np.log(ssr / nobs) - nobs2\n"
     ]
    },
    {
     "name": "stdout",
     "output_type": "stream",
     "text": [
      "55\n"
     ]
    },
    {
     "name": "stderr",
     "output_type": "stream",
     "text": [
      "/Users/leiflyu/miniforge3/lib/python3.9/site-packages/statsmodels/regression/linear_model.py:903: RuntimeWarning: divide by zero encountered in log\n",
      "  llf = -nobs2*np.log(2*np.pi) - nobs2*np.log(ssr / nobs) - nobs2\n",
      "/Users/leiflyu/miniforge3/lib/python3.9/site-packages/statsmodels/regression/linear_model.py:903: RuntimeWarning: divide by zero encountered in log\n",
      "  llf = -nobs2*np.log(2*np.pi) - nobs2*np.log(ssr / nobs) - nobs2\n",
      "/Users/leiflyu/miniforge3/lib/python3.9/site-packages/statsmodels/regression/linear_model.py:903: RuntimeWarning: divide by zero encountered in log\n",
      "  llf = -nobs2*np.log(2*np.pi) - nobs2*np.log(ssr / nobs) - nobs2\n",
      "/Users/leiflyu/miniforge3/lib/python3.9/site-packages/statsmodels/regression/linear_model.py:903: RuntimeWarning: divide by zero encountered in log\n",
      "  llf = -nobs2*np.log(2*np.pi) - nobs2*np.log(ssr / nobs) - nobs2\n",
      "/Users/leiflyu/miniforge3/lib/python3.9/site-packages/statsmodels/regression/linear_model.py:903: RuntimeWarning: divide by zero encountered in log\n",
      "  llf = -nobs2*np.log(2*np.pi) - nobs2*np.log(ssr / nobs) - nobs2\n",
      "/Users/leiflyu/miniforge3/lib/python3.9/site-packages/statsmodels/regression/linear_model.py:903: RuntimeWarning: divide by zero encountered in log\n",
      "  llf = -nobs2*np.log(2*np.pi) - nobs2*np.log(ssr / nobs) - nobs2\n",
      "/Users/leiflyu/miniforge3/lib/python3.9/site-packages/statsmodels/regression/linear_model.py:903: RuntimeWarning: divide by zero encountered in log\n",
      "  llf = -nobs2*np.log(2*np.pi) - nobs2*np.log(ssr / nobs) - nobs2\n"
     ]
    },
    {
     "name": "stdout",
     "output_type": "stream",
     "text": [
      "56\n"
     ]
    },
    {
     "name": "stderr",
     "output_type": "stream",
     "text": [
      "/Users/leiflyu/miniforge3/lib/python3.9/site-packages/statsmodels/regression/linear_model.py:903: RuntimeWarning: divide by zero encountered in log\n",
      "  llf = -nobs2*np.log(2*np.pi) - nobs2*np.log(ssr / nobs) - nobs2\n",
      "/Users/leiflyu/miniforge3/lib/python3.9/site-packages/statsmodels/regression/linear_model.py:903: RuntimeWarning: divide by zero encountered in log\n",
      "  llf = -nobs2*np.log(2*np.pi) - nobs2*np.log(ssr / nobs) - nobs2\n",
      "/Users/leiflyu/miniforge3/lib/python3.9/site-packages/statsmodels/regression/linear_model.py:903: RuntimeWarning: divide by zero encountered in log\n",
      "  llf = -nobs2*np.log(2*np.pi) - nobs2*np.log(ssr / nobs) - nobs2\n",
      "/Users/leiflyu/miniforge3/lib/python3.9/site-packages/statsmodels/regression/linear_model.py:903: RuntimeWarning: divide by zero encountered in log\n",
      "  llf = -nobs2*np.log(2*np.pi) - nobs2*np.log(ssr / nobs) - nobs2\n",
      "/Users/leiflyu/miniforge3/lib/python3.9/site-packages/statsmodels/regression/linear_model.py:903: RuntimeWarning: divide by zero encountered in log\n",
      "  llf = -nobs2*np.log(2*np.pi) - nobs2*np.log(ssr / nobs) - nobs2\n",
      "/Users/leiflyu/miniforge3/lib/python3.9/site-packages/statsmodels/regression/linear_model.py:903: RuntimeWarning: divide by zero encountered in log\n",
      "  llf = -nobs2*np.log(2*np.pi) - nobs2*np.log(ssr / nobs) - nobs2\n",
      "/Users/leiflyu/miniforge3/lib/python3.9/site-packages/statsmodels/regression/linear_model.py:903: RuntimeWarning: divide by zero encountered in log\n",
      "  llf = -nobs2*np.log(2*np.pi) - nobs2*np.log(ssr / nobs) - nobs2\n"
     ]
    },
    {
     "name": "stdout",
     "output_type": "stream",
     "text": [
      "57\n"
     ]
    },
    {
     "name": "stderr",
     "output_type": "stream",
     "text": [
      "/Users/leiflyu/miniforge3/lib/python3.9/site-packages/statsmodels/regression/linear_model.py:903: RuntimeWarning: divide by zero encountered in log\n",
      "  llf = -nobs2*np.log(2*np.pi) - nobs2*np.log(ssr / nobs) - nobs2\n",
      "/Users/leiflyu/miniforge3/lib/python3.9/site-packages/statsmodels/regression/linear_model.py:903: RuntimeWarning: divide by zero encountered in log\n",
      "  llf = -nobs2*np.log(2*np.pi) - nobs2*np.log(ssr / nobs) - nobs2\n",
      "/Users/leiflyu/miniforge3/lib/python3.9/site-packages/statsmodels/regression/linear_model.py:903: RuntimeWarning: divide by zero encountered in log\n",
      "  llf = -nobs2*np.log(2*np.pi) - nobs2*np.log(ssr / nobs) - nobs2\n",
      "/Users/leiflyu/miniforge3/lib/python3.9/site-packages/statsmodels/regression/linear_model.py:903: RuntimeWarning: divide by zero encountered in log\n",
      "  llf = -nobs2*np.log(2*np.pi) - nobs2*np.log(ssr / nobs) - nobs2\n",
      "/Users/leiflyu/miniforge3/lib/python3.9/site-packages/statsmodels/regression/linear_model.py:903: RuntimeWarning: divide by zero encountered in log\n",
      "  llf = -nobs2*np.log(2*np.pi) - nobs2*np.log(ssr / nobs) - nobs2\n",
      "/Users/leiflyu/miniforge3/lib/python3.9/site-packages/statsmodels/regression/linear_model.py:903: RuntimeWarning: divide by zero encountered in log\n",
      "  llf = -nobs2*np.log(2*np.pi) - nobs2*np.log(ssr / nobs) - nobs2\n",
      "/Users/leiflyu/miniforge3/lib/python3.9/site-packages/statsmodels/regression/linear_model.py:903: RuntimeWarning: divide by zero encountered in log\n",
      "  llf = -nobs2*np.log(2*np.pi) - nobs2*np.log(ssr / nobs) - nobs2\n"
     ]
    },
    {
     "name": "stdout",
     "output_type": "stream",
     "text": [
      "58\n"
     ]
    },
    {
     "name": "stderr",
     "output_type": "stream",
     "text": [
      "/Users/leiflyu/miniforge3/lib/python3.9/site-packages/statsmodels/regression/linear_model.py:903: RuntimeWarning: divide by zero encountered in log\n",
      "  llf = -nobs2*np.log(2*np.pi) - nobs2*np.log(ssr / nobs) - nobs2\n",
      "/Users/leiflyu/miniforge3/lib/python3.9/site-packages/statsmodels/regression/linear_model.py:903: RuntimeWarning: divide by zero encountered in log\n",
      "  llf = -nobs2*np.log(2*np.pi) - nobs2*np.log(ssr / nobs) - nobs2\n",
      "/Users/leiflyu/miniforge3/lib/python3.9/site-packages/statsmodels/regression/linear_model.py:903: RuntimeWarning: divide by zero encountered in log\n",
      "  llf = -nobs2*np.log(2*np.pi) - nobs2*np.log(ssr / nobs) - nobs2\n",
      "/Users/leiflyu/miniforge3/lib/python3.9/site-packages/statsmodels/regression/linear_model.py:903: RuntimeWarning: divide by zero encountered in log\n",
      "  llf = -nobs2*np.log(2*np.pi) - nobs2*np.log(ssr / nobs) - nobs2\n",
      "/Users/leiflyu/miniforge3/lib/python3.9/site-packages/statsmodels/regression/linear_model.py:903: RuntimeWarning: divide by zero encountered in log\n",
      "  llf = -nobs2*np.log(2*np.pi) - nobs2*np.log(ssr / nobs) - nobs2\n",
      "/Users/leiflyu/miniforge3/lib/python3.9/site-packages/statsmodels/regression/linear_model.py:903: RuntimeWarning: divide by zero encountered in log\n",
      "  llf = -nobs2*np.log(2*np.pi) - nobs2*np.log(ssr / nobs) - nobs2\n",
      "/Users/leiflyu/miniforge3/lib/python3.9/site-packages/statsmodels/regression/linear_model.py:903: RuntimeWarning: divide by zero encountered in log\n",
      "  llf = -nobs2*np.log(2*np.pi) - nobs2*np.log(ssr / nobs) - nobs2\n"
     ]
    },
    {
     "name": "stdout",
     "output_type": "stream",
     "text": [
      "59\n"
     ]
    },
    {
     "name": "stderr",
     "output_type": "stream",
     "text": [
      "/Users/leiflyu/miniforge3/lib/python3.9/site-packages/statsmodels/regression/linear_model.py:903: RuntimeWarning: divide by zero encountered in log\n",
      "  llf = -nobs2*np.log(2*np.pi) - nobs2*np.log(ssr / nobs) - nobs2\n",
      "/Users/leiflyu/miniforge3/lib/python3.9/site-packages/statsmodels/regression/linear_model.py:903: RuntimeWarning: divide by zero encountered in log\n",
      "  llf = -nobs2*np.log(2*np.pi) - nobs2*np.log(ssr / nobs) - nobs2\n",
      "/Users/leiflyu/miniforge3/lib/python3.9/site-packages/statsmodels/regression/linear_model.py:903: RuntimeWarning: divide by zero encountered in log\n",
      "  llf = -nobs2*np.log(2*np.pi) - nobs2*np.log(ssr / nobs) - nobs2\n",
      "/Users/leiflyu/miniforge3/lib/python3.9/site-packages/statsmodels/regression/linear_model.py:903: RuntimeWarning: divide by zero encountered in log\n",
      "  llf = -nobs2*np.log(2*np.pi) - nobs2*np.log(ssr / nobs) - nobs2\n",
      "/Users/leiflyu/miniforge3/lib/python3.9/site-packages/statsmodels/regression/linear_model.py:903: RuntimeWarning: divide by zero encountered in log\n",
      "  llf = -nobs2*np.log(2*np.pi) - nobs2*np.log(ssr / nobs) - nobs2\n",
      "/Users/leiflyu/miniforge3/lib/python3.9/site-packages/statsmodels/regression/linear_model.py:903: RuntimeWarning: divide by zero encountered in log\n",
      "  llf = -nobs2*np.log(2*np.pi) - nobs2*np.log(ssr / nobs) - nobs2\n",
      "/Users/leiflyu/miniforge3/lib/python3.9/site-packages/statsmodels/regression/linear_model.py:903: RuntimeWarning: divide by zero encountered in log\n",
      "  llf = -nobs2*np.log(2*np.pi) - nobs2*np.log(ssr / nobs) - nobs2\n"
     ]
    },
    {
     "name": "stdout",
     "output_type": "stream",
     "text": [
      "60\n"
     ]
    },
    {
     "name": "stderr",
     "output_type": "stream",
     "text": [
      "/Users/leiflyu/miniforge3/lib/python3.9/site-packages/statsmodels/regression/linear_model.py:903: RuntimeWarning: divide by zero encountered in log\n",
      "  llf = -nobs2*np.log(2*np.pi) - nobs2*np.log(ssr / nobs) - nobs2\n",
      "/Users/leiflyu/miniforge3/lib/python3.9/site-packages/statsmodels/regression/linear_model.py:903: RuntimeWarning: divide by zero encountered in log\n",
      "  llf = -nobs2*np.log(2*np.pi) - nobs2*np.log(ssr / nobs) - nobs2\n",
      "/Users/leiflyu/miniforge3/lib/python3.9/site-packages/statsmodels/regression/linear_model.py:903: RuntimeWarning: divide by zero encountered in log\n",
      "  llf = -nobs2*np.log(2*np.pi) - nobs2*np.log(ssr / nobs) - nobs2\n",
      "/Users/leiflyu/miniforge3/lib/python3.9/site-packages/statsmodels/regression/linear_model.py:903: RuntimeWarning: divide by zero encountered in log\n",
      "  llf = -nobs2*np.log(2*np.pi) - nobs2*np.log(ssr / nobs) - nobs2\n",
      "/Users/leiflyu/miniforge3/lib/python3.9/site-packages/statsmodels/regression/linear_model.py:903: RuntimeWarning: divide by zero encountered in log\n",
      "  llf = -nobs2*np.log(2*np.pi) - nobs2*np.log(ssr / nobs) - nobs2\n",
      "/Users/leiflyu/miniforge3/lib/python3.9/site-packages/statsmodels/regression/linear_model.py:903: RuntimeWarning: divide by zero encountered in log\n",
      "  llf = -nobs2*np.log(2*np.pi) - nobs2*np.log(ssr / nobs) - nobs2\n",
      "/Users/leiflyu/miniforge3/lib/python3.9/site-packages/statsmodels/regression/linear_model.py:903: RuntimeWarning: divide by zero encountered in log\n",
      "  llf = -nobs2*np.log(2*np.pi) - nobs2*np.log(ssr / nobs) - nobs2\n"
     ]
    },
    {
     "name": "stdout",
     "output_type": "stream",
     "text": [
      "61\n"
     ]
    },
    {
     "name": "stderr",
     "output_type": "stream",
     "text": [
      "/Users/leiflyu/miniforge3/lib/python3.9/site-packages/statsmodels/regression/linear_model.py:903: RuntimeWarning: divide by zero encountered in log\n",
      "  llf = -nobs2*np.log(2*np.pi) - nobs2*np.log(ssr / nobs) - nobs2\n",
      "/Users/leiflyu/miniforge3/lib/python3.9/site-packages/statsmodels/regression/linear_model.py:903: RuntimeWarning: divide by zero encountered in log\n",
      "  llf = -nobs2*np.log(2*np.pi) - nobs2*np.log(ssr / nobs) - nobs2\n",
      "/Users/leiflyu/miniforge3/lib/python3.9/site-packages/statsmodels/regression/linear_model.py:903: RuntimeWarning: divide by zero encountered in log\n",
      "  llf = -nobs2*np.log(2*np.pi) - nobs2*np.log(ssr / nobs) - nobs2\n",
      "/Users/leiflyu/miniforge3/lib/python3.9/site-packages/statsmodels/regression/linear_model.py:903: RuntimeWarning: divide by zero encountered in log\n",
      "  llf = -nobs2*np.log(2*np.pi) - nobs2*np.log(ssr / nobs) - nobs2\n",
      "/Users/leiflyu/miniforge3/lib/python3.9/site-packages/statsmodels/regression/linear_model.py:903: RuntimeWarning: divide by zero encountered in log\n",
      "  llf = -nobs2*np.log(2*np.pi) - nobs2*np.log(ssr / nobs) - nobs2\n",
      "/Users/leiflyu/miniforge3/lib/python3.9/site-packages/statsmodels/regression/linear_model.py:903: RuntimeWarning: divide by zero encountered in log\n",
      "  llf = -nobs2*np.log(2*np.pi) - nobs2*np.log(ssr / nobs) - nobs2\n",
      "/Users/leiflyu/miniforge3/lib/python3.9/site-packages/statsmodels/regression/linear_model.py:903: RuntimeWarning: divide by zero encountered in log\n",
      "  llf = -nobs2*np.log(2*np.pi) - nobs2*np.log(ssr / nobs) - nobs2\n"
     ]
    },
    {
     "name": "stdout",
     "output_type": "stream",
     "text": [
      "62\n"
     ]
    },
    {
     "name": "stderr",
     "output_type": "stream",
     "text": [
      "/Users/leiflyu/miniforge3/lib/python3.9/site-packages/statsmodels/regression/linear_model.py:903: RuntimeWarning: divide by zero encountered in log\n",
      "  llf = -nobs2*np.log(2*np.pi) - nobs2*np.log(ssr / nobs) - nobs2\n",
      "/Users/leiflyu/miniforge3/lib/python3.9/site-packages/statsmodels/regression/linear_model.py:903: RuntimeWarning: divide by zero encountered in log\n",
      "  llf = -nobs2*np.log(2*np.pi) - nobs2*np.log(ssr / nobs) - nobs2\n",
      "/Users/leiflyu/miniforge3/lib/python3.9/site-packages/statsmodels/regression/linear_model.py:903: RuntimeWarning: divide by zero encountered in log\n",
      "  llf = -nobs2*np.log(2*np.pi) - nobs2*np.log(ssr / nobs) - nobs2\n",
      "/Users/leiflyu/miniforge3/lib/python3.9/site-packages/statsmodels/regression/linear_model.py:903: RuntimeWarning: divide by zero encountered in log\n",
      "  llf = -nobs2*np.log(2*np.pi) - nobs2*np.log(ssr / nobs) - nobs2\n",
      "/Users/leiflyu/miniforge3/lib/python3.9/site-packages/statsmodels/regression/linear_model.py:903: RuntimeWarning: divide by zero encountered in log\n",
      "  llf = -nobs2*np.log(2*np.pi) - nobs2*np.log(ssr / nobs) - nobs2\n",
      "/Users/leiflyu/miniforge3/lib/python3.9/site-packages/statsmodels/regression/linear_model.py:903: RuntimeWarning: divide by zero encountered in log\n",
      "  llf = -nobs2*np.log(2*np.pi) - nobs2*np.log(ssr / nobs) - nobs2\n",
      "/Users/leiflyu/miniforge3/lib/python3.9/site-packages/statsmodels/regression/linear_model.py:903: RuntimeWarning: divide by zero encountered in log\n",
      "  llf = -nobs2*np.log(2*np.pi) - nobs2*np.log(ssr / nobs) - nobs2\n"
     ]
    },
    {
     "name": "stdout",
     "output_type": "stream",
     "text": [
      "63\n"
     ]
    },
    {
     "name": "stderr",
     "output_type": "stream",
     "text": [
      "/Users/leiflyu/miniforge3/lib/python3.9/site-packages/statsmodels/regression/linear_model.py:903: RuntimeWarning: divide by zero encountered in log\n",
      "  llf = -nobs2*np.log(2*np.pi) - nobs2*np.log(ssr / nobs) - nobs2\n",
      "/Users/leiflyu/miniforge3/lib/python3.9/site-packages/statsmodels/regression/linear_model.py:903: RuntimeWarning: divide by zero encountered in log\n",
      "  llf = -nobs2*np.log(2*np.pi) - nobs2*np.log(ssr / nobs) - nobs2\n",
      "/Users/leiflyu/miniforge3/lib/python3.9/site-packages/statsmodels/regression/linear_model.py:903: RuntimeWarning: divide by zero encountered in log\n",
      "  llf = -nobs2*np.log(2*np.pi) - nobs2*np.log(ssr / nobs) - nobs2\n",
      "/Users/leiflyu/miniforge3/lib/python3.9/site-packages/statsmodels/regression/linear_model.py:903: RuntimeWarning: divide by zero encountered in log\n",
      "  llf = -nobs2*np.log(2*np.pi) - nobs2*np.log(ssr / nobs) - nobs2\n",
      "/Users/leiflyu/miniforge3/lib/python3.9/site-packages/statsmodels/regression/linear_model.py:903: RuntimeWarning: divide by zero encountered in log\n",
      "  llf = -nobs2*np.log(2*np.pi) - nobs2*np.log(ssr / nobs) - nobs2\n",
      "/Users/leiflyu/miniforge3/lib/python3.9/site-packages/statsmodels/regression/linear_model.py:903: RuntimeWarning: divide by zero encountered in log\n",
      "  llf = -nobs2*np.log(2*np.pi) - nobs2*np.log(ssr / nobs) - nobs2\n",
      "/Users/leiflyu/miniforge3/lib/python3.9/site-packages/statsmodels/regression/linear_model.py:903: RuntimeWarning: divide by zero encountered in log\n",
      "  llf = -nobs2*np.log(2*np.pi) - nobs2*np.log(ssr / nobs) - nobs2\n"
     ]
    },
    {
     "name": "stdout",
     "output_type": "stream",
     "text": [
      "64\n"
     ]
    },
    {
     "name": "stderr",
     "output_type": "stream",
     "text": [
      "/Users/leiflyu/miniforge3/lib/python3.9/site-packages/statsmodels/regression/linear_model.py:903: RuntimeWarning: divide by zero encountered in log\n",
      "  llf = -nobs2*np.log(2*np.pi) - nobs2*np.log(ssr / nobs) - nobs2\n",
      "/Users/leiflyu/miniforge3/lib/python3.9/site-packages/statsmodels/regression/linear_model.py:903: RuntimeWarning: divide by zero encountered in log\n",
      "  llf = -nobs2*np.log(2*np.pi) - nobs2*np.log(ssr / nobs) - nobs2\n",
      "/Users/leiflyu/miniforge3/lib/python3.9/site-packages/statsmodels/regression/linear_model.py:903: RuntimeWarning: divide by zero encountered in log\n",
      "  llf = -nobs2*np.log(2*np.pi) - nobs2*np.log(ssr / nobs) - nobs2\n",
      "/Users/leiflyu/miniforge3/lib/python3.9/site-packages/statsmodels/regression/linear_model.py:903: RuntimeWarning: divide by zero encountered in log\n",
      "  llf = -nobs2*np.log(2*np.pi) - nobs2*np.log(ssr / nobs) - nobs2\n",
      "/Users/leiflyu/miniforge3/lib/python3.9/site-packages/statsmodels/regression/linear_model.py:903: RuntimeWarning: divide by zero encountered in log\n",
      "  llf = -nobs2*np.log(2*np.pi) - nobs2*np.log(ssr / nobs) - nobs2\n",
      "/Users/leiflyu/miniforge3/lib/python3.9/site-packages/statsmodels/regression/linear_model.py:903: RuntimeWarning: divide by zero encountered in log\n",
      "  llf = -nobs2*np.log(2*np.pi) - nobs2*np.log(ssr / nobs) - nobs2\n",
      "/Users/leiflyu/miniforge3/lib/python3.9/site-packages/statsmodels/regression/linear_model.py:903: RuntimeWarning: divide by zero encountered in log\n",
      "  llf = -nobs2*np.log(2*np.pi) - nobs2*np.log(ssr / nobs) - nobs2\n"
     ]
    },
    {
     "name": "stdout",
     "output_type": "stream",
     "text": [
      "65\n"
     ]
    },
    {
     "name": "stderr",
     "output_type": "stream",
     "text": [
      "/Users/leiflyu/miniforge3/lib/python3.9/site-packages/statsmodels/regression/linear_model.py:903: RuntimeWarning: divide by zero encountered in log\n",
      "  llf = -nobs2*np.log(2*np.pi) - nobs2*np.log(ssr / nobs) - nobs2\n",
      "/Users/leiflyu/miniforge3/lib/python3.9/site-packages/statsmodels/regression/linear_model.py:903: RuntimeWarning: divide by zero encountered in log\n",
      "  llf = -nobs2*np.log(2*np.pi) - nobs2*np.log(ssr / nobs) - nobs2\n",
      "/Users/leiflyu/miniforge3/lib/python3.9/site-packages/statsmodels/regression/linear_model.py:903: RuntimeWarning: divide by zero encountered in log\n",
      "  llf = -nobs2*np.log(2*np.pi) - nobs2*np.log(ssr / nobs) - nobs2\n",
      "/Users/leiflyu/miniforge3/lib/python3.9/site-packages/statsmodels/regression/linear_model.py:903: RuntimeWarning: divide by zero encountered in log\n",
      "  llf = -nobs2*np.log(2*np.pi) - nobs2*np.log(ssr / nobs) - nobs2\n",
      "/Users/leiflyu/miniforge3/lib/python3.9/site-packages/statsmodels/regression/linear_model.py:903: RuntimeWarning: divide by zero encountered in log\n",
      "  llf = -nobs2*np.log(2*np.pi) - nobs2*np.log(ssr / nobs) - nobs2\n",
      "/Users/leiflyu/miniforge3/lib/python3.9/site-packages/statsmodels/regression/linear_model.py:903: RuntimeWarning: divide by zero encountered in log\n",
      "  llf = -nobs2*np.log(2*np.pi) - nobs2*np.log(ssr / nobs) - nobs2\n",
      "/Users/leiflyu/miniforge3/lib/python3.9/site-packages/statsmodels/regression/linear_model.py:903: RuntimeWarning: divide by zero encountered in log\n",
      "  llf = -nobs2*np.log(2*np.pi) - nobs2*np.log(ssr / nobs) - nobs2\n"
     ]
    },
    {
     "name": "stdout",
     "output_type": "stream",
     "text": [
      "66\n"
     ]
    },
    {
     "name": "stderr",
     "output_type": "stream",
     "text": [
      "/Users/leiflyu/miniforge3/lib/python3.9/site-packages/statsmodels/regression/linear_model.py:903: RuntimeWarning: divide by zero encountered in log\n",
      "  llf = -nobs2*np.log(2*np.pi) - nobs2*np.log(ssr / nobs) - nobs2\n",
      "/Users/leiflyu/miniforge3/lib/python3.9/site-packages/statsmodels/regression/linear_model.py:903: RuntimeWarning: divide by zero encountered in log\n",
      "  llf = -nobs2*np.log(2*np.pi) - nobs2*np.log(ssr / nobs) - nobs2\n",
      "/Users/leiflyu/miniforge3/lib/python3.9/site-packages/statsmodels/regression/linear_model.py:903: RuntimeWarning: divide by zero encountered in log\n",
      "  llf = -nobs2*np.log(2*np.pi) - nobs2*np.log(ssr / nobs) - nobs2\n",
      "/Users/leiflyu/miniforge3/lib/python3.9/site-packages/statsmodels/regression/linear_model.py:903: RuntimeWarning: divide by zero encountered in log\n",
      "  llf = -nobs2*np.log(2*np.pi) - nobs2*np.log(ssr / nobs) - nobs2\n",
      "/Users/leiflyu/miniforge3/lib/python3.9/site-packages/statsmodels/regression/linear_model.py:903: RuntimeWarning: divide by zero encountered in log\n",
      "  llf = -nobs2*np.log(2*np.pi) - nobs2*np.log(ssr / nobs) - nobs2\n",
      "/Users/leiflyu/miniforge3/lib/python3.9/site-packages/statsmodels/regression/linear_model.py:903: RuntimeWarning: divide by zero encountered in log\n",
      "  llf = -nobs2*np.log(2*np.pi) - nobs2*np.log(ssr / nobs) - nobs2\n",
      "/Users/leiflyu/miniforge3/lib/python3.9/site-packages/statsmodels/regression/linear_model.py:903: RuntimeWarning: divide by zero encountered in log\n",
      "  llf = -nobs2*np.log(2*np.pi) - nobs2*np.log(ssr / nobs) - nobs2\n"
     ]
    },
    {
     "name": "stdout",
     "output_type": "stream",
     "text": [
      "67\n"
     ]
    },
    {
     "name": "stderr",
     "output_type": "stream",
     "text": [
      "/Users/leiflyu/miniforge3/lib/python3.9/site-packages/statsmodels/regression/linear_model.py:903: RuntimeWarning: divide by zero encountered in log\n",
      "  llf = -nobs2*np.log(2*np.pi) - nobs2*np.log(ssr / nobs) - nobs2\n",
      "/Users/leiflyu/miniforge3/lib/python3.9/site-packages/statsmodels/regression/linear_model.py:903: RuntimeWarning: divide by zero encountered in log\n",
      "  llf = -nobs2*np.log(2*np.pi) - nobs2*np.log(ssr / nobs) - nobs2\n",
      "/Users/leiflyu/miniforge3/lib/python3.9/site-packages/statsmodels/regression/linear_model.py:903: RuntimeWarning: divide by zero encountered in log\n",
      "  llf = -nobs2*np.log(2*np.pi) - nobs2*np.log(ssr / nobs) - nobs2\n",
      "/Users/leiflyu/miniforge3/lib/python3.9/site-packages/statsmodels/regression/linear_model.py:903: RuntimeWarning: divide by zero encountered in log\n",
      "  llf = -nobs2*np.log(2*np.pi) - nobs2*np.log(ssr / nobs) - nobs2\n",
      "/Users/leiflyu/miniforge3/lib/python3.9/site-packages/statsmodels/regression/linear_model.py:903: RuntimeWarning: divide by zero encountered in log\n",
      "  llf = -nobs2*np.log(2*np.pi) - nobs2*np.log(ssr / nobs) - nobs2\n",
      "/Users/leiflyu/miniforge3/lib/python3.9/site-packages/statsmodels/regression/linear_model.py:903: RuntimeWarning: divide by zero encountered in log\n",
      "  llf = -nobs2*np.log(2*np.pi) - nobs2*np.log(ssr / nobs) - nobs2\n",
      "/Users/leiflyu/miniforge3/lib/python3.9/site-packages/statsmodels/regression/linear_model.py:903: RuntimeWarning: divide by zero encountered in log\n",
      "  llf = -nobs2*np.log(2*np.pi) - nobs2*np.log(ssr / nobs) - nobs2\n"
     ]
    },
    {
     "name": "stdout",
     "output_type": "stream",
     "text": [
      "68\n"
     ]
    },
    {
     "name": "stderr",
     "output_type": "stream",
     "text": [
      "/Users/leiflyu/miniforge3/lib/python3.9/site-packages/statsmodels/regression/linear_model.py:903: RuntimeWarning: divide by zero encountered in log\n",
      "  llf = -nobs2*np.log(2*np.pi) - nobs2*np.log(ssr / nobs) - nobs2\n",
      "/Users/leiflyu/miniforge3/lib/python3.9/site-packages/statsmodels/regression/linear_model.py:903: RuntimeWarning: divide by zero encountered in log\n",
      "  llf = -nobs2*np.log(2*np.pi) - nobs2*np.log(ssr / nobs) - nobs2\n",
      "/Users/leiflyu/miniforge3/lib/python3.9/site-packages/statsmodels/regression/linear_model.py:903: RuntimeWarning: divide by zero encountered in log\n",
      "  llf = -nobs2*np.log(2*np.pi) - nobs2*np.log(ssr / nobs) - nobs2\n",
      "/Users/leiflyu/miniforge3/lib/python3.9/site-packages/statsmodels/regression/linear_model.py:903: RuntimeWarning: divide by zero encountered in log\n",
      "  llf = -nobs2*np.log(2*np.pi) - nobs2*np.log(ssr / nobs) - nobs2\n",
      "/Users/leiflyu/miniforge3/lib/python3.9/site-packages/statsmodels/regression/linear_model.py:903: RuntimeWarning: divide by zero encountered in log\n",
      "  llf = -nobs2*np.log(2*np.pi) - nobs2*np.log(ssr / nobs) - nobs2\n",
      "/Users/leiflyu/miniforge3/lib/python3.9/site-packages/statsmodels/regression/linear_model.py:903: RuntimeWarning: divide by zero encountered in log\n",
      "  llf = -nobs2*np.log(2*np.pi) - nobs2*np.log(ssr / nobs) - nobs2\n",
      "/Users/leiflyu/miniforge3/lib/python3.9/site-packages/statsmodels/regression/linear_model.py:903: RuntimeWarning: divide by zero encountered in log\n",
      "  llf = -nobs2*np.log(2*np.pi) - nobs2*np.log(ssr / nobs) - nobs2\n"
     ]
    },
    {
     "name": "stdout",
     "output_type": "stream",
     "text": [
      "69\n"
     ]
    },
    {
     "name": "stderr",
     "output_type": "stream",
     "text": [
      "/Users/leiflyu/miniforge3/lib/python3.9/site-packages/statsmodels/regression/linear_model.py:903: RuntimeWarning: divide by zero encountered in log\n",
      "  llf = -nobs2*np.log(2*np.pi) - nobs2*np.log(ssr / nobs) - nobs2\n",
      "/Users/leiflyu/miniforge3/lib/python3.9/site-packages/statsmodels/regression/linear_model.py:903: RuntimeWarning: divide by zero encountered in log\n",
      "  llf = -nobs2*np.log(2*np.pi) - nobs2*np.log(ssr / nobs) - nobs2\n",
      "/Users/leiflyu/miniforge3/lib/python3.9/site-packages/statsmodels/regression/linear_model.py:903: RuntimeWarning: divide by zero encountered in log\n",
      "  llf = -nobs2*np.log(2*np.pi) - nobs2*np.log(ssr / nobs) - nobs2\n",
      "/Users/leiflyu/miniforge3/lib/python3.9/site-packages/statsmodels/regression/linear_model.py:903: RuntimeWarning: divide by zero encountered in log\n",
      "  llf = -nobs2*np.log(2*np.pi) - nobs2*np.log(ssr / nobs) - nobs2\n",
      "/Users/leiflyu/miniforge3/lib/python3.9/site-packages/statsmodels/regression/linear_model.py:903: RuntimeWarning: divide by zero encountered in log\n",
      "  llf = -nobs2*np.log(2*np.pi) - nobs2*np.log(ssr / nobs) - nobs2\n",
      "/Users/leiflyu/miniforge3/lib/python3.9/site-packages/statsmodels/regression/linear_model.py:903: RuntimeWarning: divide by zero encountered in log\n",
      "  llf = -nobs2*np.log(2*np.pi) - nobs2*np.log(ssr / nobs) - nobs2\n",
      "/Users/leiflyu/miniforge3/lib/python3.9/site-packages/statsmodels/regression/linear_model.py:903: RuntimeWarning: divide by zero encountered in log\n",
      "  llf = -nobs2*np.log(2*np.pi) - nobs2*np.log(ssr / nobs) - nobs2\n"
     ]
    },
    {
     "name": "stdout",
     "output_type": "stream",
     "text": [
      "70\n"
     ]
    },
    {
     "name": "stderr",
     "output_type": "stream",
     "text": [
      "/Users/leiflyu/miniforge3/lib/python3.9/site-packages/statsmodels/regression/linear_model.py:903: RuntimeWarning: divide by zero encountered in log\n",
      "  llf = -nobs2*np.log(2*np.pi) - nobs2*np.log(ssr / nobs) - nobs2\n",
      "/Users/leiflyu/miniforge3/lib/python3.9/site-packages/statsmodels/regression/linear_model.py:903: RuntimeWarning: divide by zero encountered in log\n",
      "  llf = -nobs2*np.log(2*np.pi) - nobs2*np.log(ssr / nobs) - nobs2\n",
      "/Users/leiflyu/miniforge3/lib/python3.9/site-packages/statsmodels/regression/linear_model.py:903: RuntimeWarning: divide by zero encountered in log\n",
      "  llf = -nobs2*np.log(2*np.pi) - nobs2*np.log(ssr / nobs) - nobs2\n",
      "/Users/leiflyu/miniforge3/lib/python3.9/site-packages/statsmodels/regression/linear_model.py:903: RuntimeWarning: divide by zero encountered in log\n",
      "  llf = -nobs2*np.log(2*np.pi) - nobs2*np.log(ssr / nobs) - nobs2\n",
      "/Users/leiflyu/miniforge3/lib/python3.9/site-packages/statsmodels/regression/linear_model.py:903: RuntimeWarning: divide by zero encountered in log\n",
      "  llf = -nobs2*np.log(2*np.pi) - nobs2*np.log(ssr / nobs) - nobs2\n",
      "/Users/leiflyu/miniforge3/lib/python3.9/site-packages/statsmodels/regression/linear_model.py:903: RuntimeWarning: divide by zero encountered in log\n",
      "  llf = -nobs2*np.log(2*np.pi) - nobs2*np.log(ssr / nobs) - nobs2\n",
      "/Users/leiflyu/miniforge3/lib/python3.9/site-packages/statsmodels/regression/linear_model.py:903: RuntimeWarning: divide by zero encountered in log\n",
      "  llf = -nobs2*np.log(2*np.pi) - nobs2*np.log(ssr / nobs) - nobs2\n"
     ]
    },
    {
     "name": "stdout",
     "output_type": "stream",
     "text": [
      "71\n"
     ]
    },
    {
     "name": "stderr",
     "output_type": "stream",
     "text": [
      "/Users/leiflyu/miniforge3/lib/python3.9/site-packages/statsmodels/regression/linear_model.py:903: RuntimeWarning: divide by zero encountered in log\n",
      "  llf = -nobs2*np.log(2*np.pi) - nobs2*np.log(ssr / nobs) - nobs2\n",
      "/Users/leiflyu/miniforge3/lib/python3.9/site-packages/statsmodels/regression/linear_model.py:903: RuntimeWarning: divide by zero encountered in log\n",
      "  llf = -nobs2*np.log(2*np.pi) - nobs2*np.log(ssr / nobs) - nobs2\n",
      "/Users/leiflyu/miniforge3/lib/python3.9/site-packages/statsmodels/regression/linear_model.py:903: RuntimeWarning: divide by zero encountered in log\n",
      "  llf = -nobs2*np.log(2*np.pi) - nobs2*np.log(ssr / nobs) - nobs2\n",
      "/Users/leiflyu/miniforge3/lib/python3.9/site-packages/statsmodels/regression/linear_model.py:903: RuntimeWarning: divide by zero encountered in log\n",
      "  llf = -nobs2*np.log(2*np.pi) - nobs2*np.log(ssr / nobs) - nobs2\n",
      "/Users/leiflyu/miniforge3/lib/python3.9/site-packages/statsmodels/regression/linear_model.py:903: RuntimeWarning: divide by zero encountered in log\n",
      "  llf = -nobs2*np.log(2*np.pi) - nobs2*np.log(ssr / nobs) - nobs2\n",
      "/Users/leiflyu/miniforge3/lib/python3.9/site-packages/statsmodels/regression/linear_model.py:903: RuntimeWarning: divide by zero encountered in log\n",
      "  llf = -nobs2*np.log(2*np.pi) - nobs2*np.log(ssr / nobs) - nobs2\n",
      "/Users/leiflyu/miniforge3/lib/python3.9/site-packages/statsmodels/regression/linear_model.py:903: RuntimeWarning: divide by zero encountered in log\n",
      "  llf = -nobs2*np.log(2*np.pi) - nobs2*np.log(ssr / nobs) - nobs2\n"
     ]
    },
    {
     "name": "stdout",
     "output_type": "stream",
     "text": [
      "72\n"
     ]
    },
    {
     "name": "stderr",
     "output_type": "stream",
     "text": [
      "/Users/leiflyu/miniforge3/lib/python3.9/site-packages/statsmodels/regression/linear_model.py:903: RuntimeWarning: divide by zero encountered in log\n",
      "  llf = -nobs2*np.log(2*np.pi) - nobs2*np.log(ssr / nobs) - nobs2\n",
      "/Users/leiflyu/miniforge3/lib/python3.9/site-packages/statsmodels/regression/linear_model.py:903: RuntimeWarning: divide by zero encountered in log\n",
      "  llf = -nobs2*np.log(2*np.pi) - nobs2*np.log(ssr / nobs) - nobs2\n",
      "/Users/leiflyu/miniforge3/lib/python3.9/site-packages/statsmodels/regression/linear_model.py:903: RuntimeWarning: divide by zero encountered in log\n",
      "  llf = -nobs2*np.log(2*np.pi) - nobs2*np.log(ssr / nobs) - nobs2\n",
      "/Users/leiflyu/miniforge3/lib/python3.9/site-packages/statsmodels/regression/linear_model.py:903: RuntimeWarning: divide by zero encountered in log\n",
      "  llf = -nobs2*np.log(2*np.pi) - nobs2*np.log(ssr / nobs) - nobs2\n",
      "/Users/leiflyu/miniforge3/lib/python3.9/site-packages/statsmodels/regression/linear_model.py:903: RuntimeWarning: divide by zero encountered in log\n",
      "  llf = -nobs2*np.log(2*np.pi) - nobs2*np.log(ssr / nobs) - nobs2\n",
      "/Users/leiflyu/miniforge3/lib/python3.9/site-packages/statsmodels/regression/linear_model.py:903: RuntimeWarning: divide by zero encountered in log\n",
      "  llf = -nobs2*np.log(2*np.pi) - nobs2*np.log(ssr / nobs) - nobs2\n",
      "/Users/leiflyu/miniforge3/lib/python3.9/site-packages/statsmodels/regression/linear_model.py:903: RuntimeWarning: divide by zero encountered in log\n",
      "  llf = -nobs2*np.log(2*np.pi) - nobs2*np.log(ssr / nobs) - nobs2\n"
     ]
    },
    {
     "name": "stdout",
     "output_type": "stream",
     "text": [
      "73\n"
     ]
    },
    {
     "name": "stderr",
     "output_type": "stream",
     "text": [
      "/Users/leiflyu/miniforge3/lib/python3.9/site-packages/statsmodels/regression/linear_model.py:903: RuntimeWarning: divide by zero encountered in log\n",
      "  llf = -nobs2*np.log(2*np.pi) - nobs2*np.log(ssr / nobs) - nobs2\n",
      "/Users/leiflyu/miniforge3/lib/python3.9/site-packages/statsmodels/regression/linear_model.py:903: RuntimeWarning: divide by zero encountered in log\n",
      "  llf = -nobs2*np.log(2*np.pi) - nobs2*np.log(ssr / nobs) - nobs2\n",
      "/Users/leiflyu/miniforge3/lib/python3.9/site-packages/statsmodels/regression/linear_model.py:903: RuntimeWarning: divide by zero encountered in log\n",
      "  llf = -nobs2*np.log(2*np.pi) - nobs2*np.log(ssr / nobs) - nobs2\n",
      "/Users/leiflyu/miniforge3/lib/python3.9/site-packages/statsmodels/regression/linear_model.py:903: RuntimeWarning: divide by zero encountered in log\n",
      "  llf = -nobs2*np.log(2*np.pi) - nobs2*np.log(ssr / nobs) - nobs2\n",
      "/Users/leiflyu/miniforge3/lib/python3.9/site-packages/statsmodels/regression/linear_model.py:903: RuntimeWarning: divide by zero encountered in log\n",
      "  llf = -nobs2*np.log(2*np.pi) - nobs2*np.log(ssr / nobs) - nobs2\n",
      "/Users/leiflyu/miniforge3/lib/python3.9/site-packages/statsmodels/regression/linear_model.py:903: RuntimeWarning: divide by zero encountered in log\n",
      "  llf = -nobs2*np.log(2*np.pi) - nobs2*np.log(ssr / nobs) - nobs2\n",
      "/Users/leiflyu/miniforge3/lib/python3.9/site-packages/statsmodels/regression/linear_model.py:903: RuntimeWarning: divide by zero encountered in log\n",
      "  llf = -nobs2*np.log(2*np.pi) - nobs2*np.log(ssr / nobs) - nobs2\n"
     ]
    },
    {
     "name": "stdout",
     "output_type": "stream",
     "text": [
      "74\n"
     ]
    },
    {
     "name": "stderr",
     "output_type": "stream",
     "text": [
      "/Users/leiflyu/miniforge3/lib/python3.9/site-packages/statsmodels/regression/linear_model.py:903: RuntimeWarning: divide by zero encountered in log\n",
      "  llf = -nobs2*np.log(2*np.pi) - nobs2*np.log(ssr / nobs) - nobs2\n",
      "/Users/leiflyu/miniforge3/lib/python3.9/site-packages/statsmodels/regression/linear_model.py:903: RuntimeWarning: divide by zero encountered in log\n",
      "  llf = -nobs2*np.log(2*np.pi) - nobs2*np.log(ssr / nobs) - nobs2\n",
      "/Users/leiflyu/miniforge3/lib/python3.9/site-packages/statsmodels/regression/linear_model.py:903: RuntimeWarning: divide by zero encountered in log\n",
      "  llf = -nobs2*np.log(2*np.pi) - nobs2*np.log(ssr / nobs) - nobs2\n",
      "/Users/leiflyu/miniforge3/lib/python3.9/site-packages/statsmodels/regression/linear_model.py:903: RuntimeWarning: divide by zero encountered in log\n",
      "  llf = -nobs2*np.log(2*np.pi) - nobs2*np.log(ssr / nobs) - nobs2\n",
      "/Users/leiflyu/miniforge3/lib/python3.9/site-packages/statsmodels/regression/linear_model.py:903: RuntimeWarning: divide by zero encountered in log\n",
      "  llf = -nobs2*np.log(2*np.pi) - nobs2*np.log(ssr / nobs) - nobs2\n",
      "/Users/leiflyu/miniforge3/lib/python3.9/site-packages/statsmodels/regression/linear_model.py:903: RuntimeWarning: divide by zero encountered in log\n",
      "  llf = -nobs2*np.log(2*np.pi) - nobs2*np.log(ssr / nobs) - nobs2\n",
      "/Users/leiflyu/miniforge3/lib/python3.9/site-packages/statsmodels/regression/linear_model.py:903: RuntimeWarning: divide by zero encountered in log\n",
      "  llf = -nobs2*np.log(2*np.pi) - nobs2*np.log(ssr / nobs) - nobs2\n"
     ]
    },
    {
     "name": "stdout",
     "output_type": "stream",
     "text": [
      "75\n"
     ]
    },
    {
     "name": "stderr",
     "output_type": "stream",
     "text": [
      "/Users/leiflyu/miniforge3/lib/python3.9/site-packages/statsmodels/regression/linear_model.py:903: RuntimeWarning: divide by zero encountered in log\n",
      "  llf = -nobs2*np.log(2*np.pi) - nobs2*np.log(ssr / nobs) - nobs2\n",
      "/Users/leiflyu/miniforge3/lib/python3.9/site-packages/statsmodels/regression/linear_model.py:903: RuntimeWarning: divide by zero encountered in log\n",
      "  llf = -nobs2*np.log(2*np.pi) - nobs2*np.log(ssr / nobs) - nobs2\n",
      "/Users/leiflyu/miniforge3/lib/python3.9/site-packages/statsmodels/regression/linear_model.py:903: RuntimeWarning: divide by zero encountered in log\n",
      "  llf = -nobs2*np.log(2*np.pi) - nobs2*np.log(ssr / nobs) - nobs2\n",
      "/Users/leiflyu/miniforge3/lib/python3.9/site-packages/statsmodels/regression/linear_model.py:903: RuntimeWarning: divide by zero encountered in log\n",
      "  llf = -nobs2*np.log(2*np.pi) - nobs2*np.log(ssr / nobs) - nobs2\n",
      "/Users/leiflyu/miniforge3/lib/python3.9/site-packages/statsmodels/regression/linear_model.py:903: RuntimeWarning: divide by zero encountered in log\n",
      "  llf = -nobs2*np.log(2*np.pi) - nobs2*np.log(ssr / nobs) - nobs2\n",
      "/Users/leiflyu/miniforge3/lib/python3.9/site-packages/statsmodels/regression/linear_model.py:903: RuntimeWarning: divide by zero encountered in log\n",
      "  llf = -nobs2*np.log(2*np.pi) - nobs2*np.log(ssr / nobs) - nobs2\n",
      "/Users/leiflyu/miniforge3/lib/python3.9/site-packages/statsmodels/regression/linear_model.py:903: RuntimeWarning: divide by zero encountered in log\n",
      "  llf = -nobs2*np.log(2*np.pi) - nobs2*np.log(ssr / nobs) - nobs2\n"
     ]
    },
    {
     "name": "stdout",
     "output_type": "stream",
     "text": [
      "76\n"
     ]
    },
    {
     "name": "stderr",
     "output_type": "stream",
     "text": [
      "/Users/leiflyu/miniforge3/lib/python3.9/site-packages/statsmodels/regression/linear_model.py:903: RuntimeWarning: divide by zero encountered in log\n",
      "  llf = -nobs2*np.log(2*np.pi) - nobs2*np.log(ssr / nobs) - nobs2\n",
      "/Users/leiflyu/miniforge3/lib/python3.9/site-packages/statsmodels/regression/linear_model.py:903: RuntimeWarning: divide by zero encountered in log\n",
      "  llf = -nobs2*np.log(2*np.pi) - nobs2*np.log(ssr / nobs) - nobs2\n",
      "/Users/leiflyu/miniforge3/lib/python3.9/site-packages/statsmodels/regression/linear_model.py:903: RuntimeWarning: divide by zero encountered in log\n",
      "  llf = -nobs2*np.log(2*np.pi) - nobs2*np.log(ssr / nobs) - nobs2\n",
      "/Users/leiflyu/miniforge3/lib/python3.9/site-packages/statsmodels/regression/linear_model.py:903: RuntimeWarning: divide by zero encountered in log\n",
      "  llf = -nobs2*np.log(2*np.pi) - nobs2*np.log(ssr / nobs) - nobs2\n",
      "/Users/leiflyu/miniforge3/lib/python3.9/site-packages/statsmodels/regression/linear_model.py:903: RuntimeWarning: divide by zero encountered in log\n",
      "  llf = -nobs2*np.log(2*np.pi) - nobs2*np.log(ssr / nobs) - nobs2\n",
      "/Users/leiflyu/miniforge3/lib/python3.9/site-packages/statsmodels/regression/linear_model.py:903: RuntimeWarning: divide by zero encountered in log\n",
      "  llf = -nobs2*np.log(2*np.pi) - nobs2*np.log(ssr / nobs) - nobs2\n",
      "/Users/leiflyu/miniforge3/lib/python3.9/site-packages/statsmodels/regression/linear_model.py:903: RuntimeWarning: divide by zero encountered in log\n",
      "  llf = -nobs2*np.log(2*np.pi) - nobs2*np.log(ssr / nobs) - nobs2\n"
     ]
    },
    {
     "name": "stdout",
     "output_type": "stream",
     "text": [
      "77\n"
     ]
    },
    {
     "name": "stderr",
     "output_type": "stream",
     "text": [
      "/Users/leiflyu/miniforge3/lib/python3.9/site-packages/statsmodels/regression/linear_model.py:903: RuntimeWarning: divide by zero encountered in log\n",
      "  llf = -nobs2*np.log(2*np.pi) - nobs2*np.log(ssr / nobs) - nobs2\n",
      "/Users/leiflyu/miniforge3/lib/python3.9/site-packages/statsmodels/regression/linear_model.py:903: RuntimeWarning: divide by zero encountered in log\n",
      "  llf = -nobs2*np.log(2*np.pi) - nobs2*np.log(ssr / nobs) - nobs2\n",
      "/Users/leiflyu/miniforge3/lib/python3.9/site-packages/statsmodels/regression/linear_model.py:903: RuntimeWarning: divide by zero encountered in log\n",
      "  llf = -nobs2*np.log(2*np.pi) - nobs2*np.log(ssr / nobs) - nobs2\n",
      "/Users/leiflyu/miniforge3/lib/python3.9/site-packages/statsmodels/regression/linear_model.py:903: RuntimeWarning: divide by zero encountered in log\n",
      "  llf = -nobs2*np.log(2*np.pi) - nobs2*np.log(ssr / nobs) - nobs2\n",
      "/Users/leiflyu/miniforge3/lib/python3.9/site-packages/statsmodels/regression/linear_model.py:903: RuntimeWarning: divide by zero encountered in log\n",
      "  llf = -nobs2*np.log(2*np.pi) - nobs2*np.log(ssr / nobs) - nobs2\n",
      "/Users/leiflyu/miniforge3/lib/python3.9/site-packages/statsmodels/regression/linear_model.py:903: RuntimeWarning: divide by zero encountered in log\n",
      "  llf = -nobs2*np.log(2*np.pi) - nobs2*np.log(ssr / nobs) - nobs2\n",
      "/Users/leiflyu/miniforge3/lib/python3.9/site-packages/statsmodels/regression/linear_model.py:903: RuntimeWarning: divide by zero encountered in log\n",
      "  llf = -nobs2*np.log(2*np.pi) - nobs2*np.log(ssr / nobs) - nobs2\n"
     ]
    },
    {
     "name": "stdout",
     "output_type": "stream",
     "text": [
      "78\n"
     ]
    },
    {
     "name": "stderr",
     "output_type": "stream",
     "text": [
      "/Users/leiflyu/miniforge3/lib/python3.9/site-packages/statsmodels/regression/linear_model.py:903: RuntimeWarning: divide by zero encountered in log\n",
      "  llf = -nobs2*np.log(2*np.pi) - nobs2*np.log(ssr / nobs) - nobs2\n",
      "/Users/leiflyu/miniforge3/lib/python3.9/site-packages/statsmodels/regression/linear_model.py:903: RuntimeWarning: divide by zero encountered in log\n",
      "  llf = -nobs2*np.log(2*np.pi) - nobs2*np.log(ssr / nobs) - nobs2\n",
      "/Users/leiflyu/miniforge3/lib/python3.9/site-packages/statsmodels/regression/linear_model.py:903: RuntimeWarning: divide by zero encountered in log\n",
      "  llf = -nobs2*np.log(2*np.pi) - nobs2*np.log(ssr / nobs) - nobs2\n",
      "/Users/leiflyu/miniforge3/lib/python3.9/site-packages/statsmodels/regression/linear_model.py:903: RuntimeWarning: divide by zero encountered in log\n",
      "  llf = -nobs2*np.log(2*np.pi) - nobs2*np.log(ssr / nobs) - nobs2\n",
      "/Users/leiflyu/miniforge3/lib/python3.9/site-packages/statsmodels/regression/linear_model.py:903: RuntimeWarning: divide by zero encountered in log\n",
      "  llf = -nobs2*np.log(2*np.pi) - nobs2*np.log(ssr / nobs) - nobs2\n",
      "/Users/leiflyu/miniforge3/lib/python3.9/site-packages/statsmodels/regression/linear_model.py:903: RuntimeWarning: divide by zero encountered in log\n",
      "  llf = -nobs2*np.log(2*np.pi) - nobs2*np.log(ssr / nobs) - nobs2\n",
      "/Users/leiflyu/miniforge3/lib/python3.9/site-packages/statsmodels/regression/linear_model.py:903: RuntimeWarning: divide by zero encountered in log\n",
      "  llf = -nobs2*np.log(2*np.pi) - nobs2*np.log(ssr / nobs) - nobs2\n"
     ]
    },
    {
     "name": "stdout",
     "output_type": "stream",
     "text": [
      "79\n"
     ]
    },
    {
     "name": "stderr",
     "output_type": "stream",
     "text": [
      "/Users/leiflyu/miniforge3/lib/python3.9/site-packages/statsmodels/regression/linear_model.py:903: RuntimeWarning: divide by zero encountered in log\n",
      "  llf = -nobs2*np.log(2*np.pi) - nobs2*np.log(ssr / nobs) - nobs2\n",
      "/Users/leiflyu/miniforge3/lib/python3.9/site-packages/statsmodels/regression/linear_model.py:903: RuntimeWarning: divide by zero encountered in log\n",
      "  llf = -nobs2*np.log(2*np.pi) - nobs2*np.log(ssr / nobs) - nobs2\n",
      "/Users/leiflyu/miniforge3/lib/python3.9/site-packages/statsmodels/regression/linear_model.py:903: RuntimeWarning: divide by zero encountered in log\n",
      "  llf = -nobs2*np.log(2*np.pi) - nobs2*np.log(ssr / nobs) - nobs2\n",
      "/Users/leiflyu/miniforge3/lib/python3.9/site-packages/statsmodels/regression/linear_model.py:903: RuntimeWarning: divide by zero encountered in log\n",
      "  llf = -nobs2*np.log(2*np.pi) - nobs2*np.log(ssr / nobs) - nobs2\n",
      "/Users/leiflyu/miniforge3/lib/python3.9/site-packages/statsmodels/regression/linear_model.py:903: RuntimeWarning: divide by zero encountered in log\n",
      "  llf = -nobs2*np.log(2*np.pi) - nobs2*np.log(ssr / nobs) - nobs2\n",
      "/Users/leiflyu/miniforge3/lib/python3.9/site-packages/statsmodels/regression/linear_model.py:903: RuntimeWarning: divide by zero encountered in log\n",
      "  llf = -nobs2*np.log(2*np.pi) - nobs2*np.log(ssr / nobs) - nobs2\n",
      "/Users/leiflyu/miniforge3/lib/python3.9/site-packages/statsmodels/regression/linear_model.py:903: RuntimeWarning: divide by zero encountered in log\n",
      "  llf = -nobs2*np.log(2*np.pi) - nobs2*np.log(ssr / nobs) - nobs2\n"
     ]
    },
    {
     "name": "stdout",
     "output_type": "stream",
     "text": [
      "80\n"
     ]
    },
    {
     "name": "stderr",
     "output_type": "stream",
     "text": [
      "/Users/leiflyu/miniforge3/lib/python3.9/site-packages/statsmodels/regression/linear_model.py:903: RuntimeWarning: divide by zero encountered in log\n",
      "  llf = -nobs2*np.log(2*np.pi) - nobs2*np.log(ssr / nobs) - nobs2\n",
      "/Users/leiflyu/miniforge3/lib/python3.9/site-packages/statsmodels/regression/linear_model.py:903: RuntimeWarning: divide by zero encountered in log\n",
      "  llf = -nobs2*np.log(2*np.pi) - nobs2*np.log(ssr / nobs) - nobs2\n",
      "/Users/leiflyu/miniforge3/lib/python3.9/site-packages/statsmodels/regression/linear_model.py:903: RuntimeWarning: divide by zero encountered in log\n",
      "  llf = -nobs2*np.log(2*np.pi) - nobs2*np.log(ssr / nobs) - nobs2\n",
      "/Users/leiflyu/miniforge3/lib/python3.9/site-packages/statsmodels/regression/linear_model.py:903: RuntimeWarning: divide by zero encountered in log\n",
      "  llf = -nobs2*np.log(2*np.pi) - nobs2*np.log(ssr / nobs) - nobs2\n",
      "/Users/leiflyu/miniforge3/lib/python3.9/site-packages/statsmodels/regression/linear_model.py:903: RuntimeWarning: divide by zero encountered in log\n",
      "  llf = -nobs2*np.log(2*np.pi) - nobs2*np.log(ssr / nobs) - nobs2\n",
      "/Users/leiflyu/miniforge3/lib/python3.9/site-packages/statsmodels/regression/linear_model.py:903: RuntimeWarning: divide by zero encountered in log\n",
      "  llf = -nobs2*np.log(2*np.pi) - nobs2*np.log(ssr / nobs) - nobs2\n",
      "/Users/leiflyu/miniforge3/lib/python3.9/site-packages/statsmodels/regression/linear_model.py:903: RuntimeWarning: divide by zero encountered in log\n",
      "  llf = -nobs2*np.log(2*np.pi) - nobs2*np.log(ssr / nobs) - nobs2\n"
     ]
    },
    {
     "name": "stdout",
     "output_type": "stream",
     "text": [
      "81\n"
     ]
    },
    {
     "name": "stderr",
     "output_type": "stream",
     "text": [
      "/Users/leiflyu/miniforge3/lib/python3.9/site-packages/statsmodels/regression/linear_model.py:903: RuntimeWarning: divide by zero encountered in log\n",
      "  llf = -nobs2*np.log(2*np.pi) - nobs2*np.log(ssr / nobs) - nobs2\n",
      "/Users/leiflyu/miniforge3/lib/python3.9/site-packages/statsmodels/regression/linear_model.py:903: RuntimeWarning: divide by zero encountered in log\n",
      "  llf = -nobs2*np.log(2*np.pi) - nobs2*np.log(ssr / nobs) - nobs2\n",
      "/Users/leiflyu/miniforge3/lib/python3.9/site-packages/statsmodels/regression/linear_model.py:903: RuntimeWarning: divide by zero encountered in log\n",
      "  llf = -nobs2*np.log(2*np.pi) - nobs2*np.log(ssr / nobs) - nobs2\n",
      "/Users/leiflyu/miniforge3/lib/python3.9/site-packages/statsmodels/regression/linear_model.py:903: RuntimeWarning: divide by zero encountered in log\n",
      "  llf = -nobs2*np.log(2*np.pi) - nobs2*np.log(ssr / nobs) - nobs2\n",
      "/Users/leiflyu/miniforge3/lib/python3.9/site-packages/statsmodels/regression/linear_model.py:903: RuntimeWarning: divide by zero encountered in log\n",
      "  llf = -nobs2*np.log(2*np.pi) - nobs2*np.log(ssr / nobs) - nobs2\n",
      "/Users/leiflyu/miniforge3/lib/python3.9/site-packages/statsmodels/regression/linear_model.py:903: RuntimeWarning: divide by zero encountered in log\n",
      "  llf = -nobs2*np.log(2*np.pi) - nobs2*np.log(ssr / nobs) - nobs2\n",
      "/Users/leiflyu/miniforge3/lib/python3.9/site-packages/statsmodels/regression/linear_model.py:903: RuntimeWarning: divide by zero encountered in log\n",
      "  llf = -nobs2*np.log(2*np.pi) - nobs2*np.log(ssr / nobs) - nobs2\n"
     ]
    },
    {
     "name": "stdout",
     "output_type": "stream",
     "text": [
      "82\n"
     ]
    },
    {
     "name": "stderr",
     "output_type": "stream",
     "text": [
      "/Users/leiflyu/miniforge3/lib/python3.9/site-packages/statsmodels/regression/linear_model.py:903: RuntimeWarning: divide by zero encountered in log\n",
      "  llf = -nobs2*np.log(2*np.pi) - nobs2*np.log(ssr / nobs) - nobs2\n",
      "/Users/leiflyu/miniforge3/lib/python3.9/site-packages/statsmodels/regression/linear_model.py:903: RuntimeWarning: divide by zero encountered in log\n",
      "  llf = -nobs2*np.log(2*np.pi) - nobs2*np.log(ssr / nobs) - nobs2\n",
      "/Users/leiflyu/miniforge3/lib/python3.9/site-packages/statsmodels/regression/linear_model.py:903: RuntimeWarning: divide by zero encountered in log\n",
      "  llf = -nobs2*np.log(2*np.pi) - nobs2*np.log(ssr / nobs) - nobs2\n",
      "/Users/leiflyu/miniforge3/lib/python3.9/site-packages/statsmodels/regression/linear_model.py:903: RuntimeWarning: divide by zero encountered in log\n",
      "  llf = -nobs2*np.log(2*np.pi) - nobs2*np.log(ssr / nobs) - nobs2\n",
      "/Users/leiflyu/miniforge3/lib/python3.9/site-packages/statsmodels/regression/linear_model.py:903: RuntimeWarning: divide by zero encountered in log\n",
      "  llf = -nobs2*np.log(2*np.pi) - nobs2*np.log(ssr / nobs) - nobs2\n",
      "/Users/leiflyu/miniforge3/lib/python3.9/site-packages/statsmodels/regression/linear_model.py:903: RuntimeWarning: divide by zero encountered in log\n",
      "  llf = -nobs2*np.log(2*np.pi) - nobs2*np.log(ssr / nobs) - nobs2\n",
      "/Users/leiflyu/miniforge3/lib/python3.9/site-packages/statsmodels/regression/linear_model.py:903: RuntimeWarning: divide by zero encountered in log\n",
      "  llf = -nobs2*np.log(2*np.pi) - nobs2*np.log(ssr / nobs) - nobs2\n"
     ]
    },
    {
     "name": "stdout",
     "output_type": "stream",
     "text": [
      "83\n"
     ]
    },
    {
     "name": "stderr",
     "output_type": "stream",
     "text": [
      "/Users/leiflyu/miniforge3/lib/python3.9/site-packages/statsmodels/regression/linear_model.py:903: RuntimeWarning: divide by zero encountered in log\n",
      "  llf = -nobs2*np.log(2*np.pi) - nobs2*np.log(ssr / nobs) - nobs2\n",
      "/Users/leiflyu/miniforge3/lib/python3.9/site-packages/statsmodels/regression/linear_model.py:903: RuntimeWarning: divide by zero encountered in log\n",
      "  llf = -nobs2*np.log(2*np.pi) - nobs2*np.log(ssr / nobs) - nobs2\n",
      "/Users/leiflyu/miniforge3/lib/python3.9/site-packages/statsmodels/regression/linear_model.py:903: RuntimeWarning: divide by zero encountered in log\n",
      "  llf = -nobs2*np.log(2*np.pi) - nobs2*np.log(ssr / nobs) - nobs2\n",
      "/Users/leiflyu/miniforge3/lib/python3.9/site-packages/statsmodels/regression/linear_model.py:903: RuntimeWarning: divide by zero encountered in log\n",
      "  llf = -nobs2*np.log(2*np.pi) - nobs2*np.log(ssr / nobs) - nobs2\n",
      "/Users/leiflyu/miniforge3/lib/python3.9/site-packages/statsmodels/regression/linear_model.py:903: RuntimeWarning: divide by zero encountered in log\n",
      "  llf = -nobs2*np.log(2*np.pi) - nobs2*np.log(ssr / nobs) - nobs2\n",
      "/Users/leiflyu/miniforge3/lib/python3.9/site-packages/statsmodels/regression/linear_model.py:903: RuntimeWarning: divide by zero encountered in log\n",
      "  llf = -nobs2*np.log(2*np.pi) - nobs2*np.log(ssr / nobs) - nobs2\n",
      "/Users/leiflyu/miniforge3/lib/python3.9/site-packages/statsmodels/regression/linear_model.py:903: RuntimeWarning: divide by zero encountered in log\n",
      "  llf = -nobs2*np.log(2*np.pi) - nobs2*np.log(ssr / nobs) - nobs2\n"
     ]
    },
    {
     "name": "stdout",
     "output_type": "stream",
     "text": [
      "84\n"
     ]
    },
    {
     "name": "stderr",
     "output_type": "stream",
     "text": [
      "/Users/leiflyu/miniforge3/lib/python3.9/site-packages/statsmodels/regression/linear_model.py:903: RuntimeWarning: divide by zero encountered in log\n",
      "  llf = -nobs2*np.log(2*np.pi) - nobs2*np.log(ssr / nobs) - nobs2\n",
      "/Users/leiflyu/miniforge3/lib/python3.9/site-packages/statsmodels/regression/linear_model.py:903: RuntimeWarning: divide by zero encountered in log\n",
      "  llf = -nobs2*np.log(2*np.pi) - nobs2*np.log(ssr / nobs) - nobs2\n",
      "/Users/leiflyu/miniforge3/lib/python3.9/site-packages/statsmodels/regression/linear_model.py:903: RuntimeWarning: divide by zero encountered in log\n",
      "  llf = -nobs2*np.log(2*np.pi) - nobs2*np.log(ssr / nobs) - nobs2\n",
      "/Users/leiflyu/miniforge3/lib/python3.9/site-packages/statsmodels/regression/linear_model.py:903: RuntimeWarning: divide by zero encountered in log\n",
      "  llf = -nobs2*np.log(2*np.pi) - nobs2*np.log(ssr / nobs) - nobs2\n",
      "/Users/leiflyu/miniforge3/lib/python3.9/site-packages/statsmodels/regression/linear_model.py:903: RuntimeWarning: divide by zero encountered in log\n",
      "  llf = -nobs2*np.log(2*np.pi) - nobs2*np.log(ssr / nobs) - nobs2\n",
      "/Users/leiflyu/miniforge3/lib/python3.9/site-packages/statsmodels/regression/linear_model.py:903: RuntimeWarning: divide by zero encountered in log\n",
      "  llf = -nobs2*np.log(2*np.pi) - nobs2*np.log(ssr / nobs) - nobs2\n",
      "/Users/leiflyu/miniforge3/lib/python3.9/site-packages/statsmodels/regression/linear_model.py:903: RuntimeWarning: divide by zero encountered in log\n",
      "  llf = -nobs2*np.log(2*np.pi) - nobs2*np.log(ssr / nobs) - nobs2\n"
     ]
    },
    {
     "name": "stdout",
     "output_type": "stream",
     "text": [
      "85\n"
     ]
    },
    {
     "name": "stderr",
     "output_type": "stream",
     "text": [
      "/Users/leiflyu/miniforge3/lib/python3.9/site-packages/statsmodels/regression/linear_model.py:903: RuntimeWarning: divide by zero encountered in log\n",
      "  llf = -nobs2*np.log(2*np.pi) - nobs2*np.log(ssr / nobs) - nobs2\n",
      "/Users/leiflyu/miniforge3/lib/python3.9/site-packages/statsmodels/regression/linear_model.py:903: RuntimeWarning: divide by zero encountered in log\n",
      "  llf = -nobs2*np.log(2*np.pi) - nobs2*np.log(ssr / nobs) - nobs2\n",
      "/Users/leiflyu/miniforge3/lib/python3.9/site-packages/statsmodels/regression/linear_model.py:903: RuntimeWarning: divide by zero encountered in log\n",
      "  llf = -nobs2*np.log(2*np.pi) - nobs2*np.log(ssr / nobs) - nobs2\n",
      "/Users/leiflyu/miniforge3/lib/python3.9/site-packages/statsmodels/regression/linear_model.py:903: RuntimeWarning: divide by zero encountered in log\n",
      "  llf = -nobs2*np.log(2*np.pi) - nobs2*np.log(ssr / nobs) - nobs2\n",
      "/Users/leiflyu/miniforge3/lib/python3.9/site-packages/statsmodels/regression/linear_model.py:903: RuntimeWarning: divide by zero encountered in log\n",
      "  llf = -nobs2*np.log(2*np.pi) - nobs2*np.log(ssr / nobs) - nobs2\n",
      "/Users/leiflyu/miniforge3/lib/python3.9/site-packages/statsmodels/regression/linear_model.py:903: RuntimeWarning: divide by zero encountered in log\n",
      "  llf = -nobs2*np.log(2*np.pi) - nobs2*np.log(ssr / nobs) - nobs2\n",
      "/Users/leiflyu/miniforge3/lib/python3.9/site-packages/statsmodels/regression/linear_model.py:903: RuntimeWarning: divide by zero encountered in log\n",
      "  llf = -nobs2*np.log(2*np.pi) - nobs2*np.log(ssr / nobs) - nobs2\n"
     ]
    },
    {
     "name": "stdout",
     "output_type": "stream",
     "text": [
      "86\n"
     ]
    },
    {
     "name": "stderr",
     "output_type": "stream",
     "text": [
      "/Users/leiflyu/miniforge3/lib/python3.9/site-packages/statsmodels/regression/linear_model.py:903: RuntimeWarning: divide by zero encountered in log\n",
      "  llf = -nobs2*np.log(2*np.pi) - nobs2*np.log(ssr / nobs) - nobs2\n",
      "/Users/leiflyu/miniforge3/lib/python3.9/site-packages/statsmodels/regression/linear_model.py:903: RuntimeWarning: divide by zero encountered in log\n",
      "  llf = -nobs2*np.log(2*np.pi) - nobs2*np.log(ssr / nobs) - nobs2\n",
      "/Users/leiflyu/miniforge3/lib/python3.9/site-packages/statsmodels/regression/linear_model.py:903: RuntimeWarning: divide by zero encountered in log\n",
      "  llf = -nobs2*np.log(2*np.pi) - nobs2*np.log(ssr / nobs) - nobs2\n",
      "/Users/leiflyu/miniforge3/lib/python3.9/site-packages/statsmodels/regression/linear_model.py:903: RuntimeWarning: divide by zero encountered in log\n",
      "  llf = -nobs2*np.log(2*np.pi) - nobs2*np.log(ssr / nobs) - nobs2\n",
      "/Users/leiflyu/miniforge3/lib/python3.9/site-packages/statsmodels/regression/linear_model.py:903: RuntimeWarning: divide by zero encountered in log\n",
      "  llf = -nobs2*np.log(2*np.pi) - nobs2*np.log(ssr / nobs) - nobs2\n",
      "/Users/leiflyu/miniforge3/lib/python3.9/site-packages/statsmodels/regression/linear_model.py:903: RuntimeWarning: divide by zero encountered in log\n",
      "  llf = -nobs2*np.log(2*np.pi) - nobs2*np.log(ssr / nobs) - nobs2\n",
      "/Users/leiflyu/miniforge3/lib/python3.9/site-packages/statsmodels/regression/linear_model.py:903: RuntimeWarning: divide by zero encountered in log\n",
      "  llf = -nobs2*np.log(2*np.pi) - nobs2*np.log(ssr / nobs) - nobs2\n"
     ]
    },
    {
     "name": "stdout",
     "output_type": "stream",
     "text": [
      "87\n"
     ]
    },
    {
     "name": "stderr",
     "output_type": "stream",
     "text": [
      "/Users/leiflyu/miniforge3/lib/python3.9/site-packages/statsmodels/regression/linear_model.py:903: RuntimeWarning: divide by zero encountered in log\n",
      "  llf = -nobs2*np.log(2*np.pi) - nobs2*np.log(ssr / nobs) - nobs2\n",
      "/Users/leiflyu/miniforge3/lib/python3.9/site-packages/statsmodels/regression/linear_model.py:903: RuntimeWarning: divide by zero encountered in log\n",
      "  llf = -nobs2*np.log(2*np.pi) - nobs2*np.log(ssr / nobs) - nobs2\n",
      "/Users/leiflyu/miniforge3/lib/python3.9/site-packages/statsmodels/regression/linear_model.py:903: RuntimeWarning: divide by zero encountered in log\n",
      "  llf = -nobs2*np.log(2*np.pi) - nobs2*np.log(ssr / nobs) - nobs2\n",
      "/Users/leiflyu/miniforge3/lib/python3.9/site-packages/statsmodels/regression/linear_model.py:903: RuntimeWarning: divide by zero encountered in log\n",
      "  llf = -nobs2*np.log(2*np.pi) - nobs2*np.log(ssr / nobs) - nobs2\n",
      "/Users/leiflyu/miniforge3/lib/python3.9/site-packages/statsmodels/regression/linear_model.py:903: RuntimeWarning: divide by zero encountered in log\n",
      "  llf = -nobs2*np.log(2*np.pi) - nobs2*np.log(ssr / nobs) - nobs2\n",
      "/Users/leiflyu/miniforge3/lib/python3.9/site-packages/statsmodels/regression/linear_model.py:903: RuntimeWarning: divide by zero encountered in log\n",
      "  llf = -nobs2*np.log(2*np.pi) - nobs2*np.log(ssr / nobs) - nobs2\n",
      "/Users/leiflyu/miniforge3/lib/python3.9/site-packages/statsmodels/regression/linear_model.py:903: RuntimeWarning: divide by zero encountered in log\n",
      "  llf = -nobs2*np.log(2*np.pi) - nobs2*np.log(ssr / nobs) - nobs2\n"
     ]
    },
    {
     "name": "stdout",
     "output_type": "stream",
     "text": [
      "88\n"
     ]
    },
    {
     "name": "stderr",
     "output_type": "stream",
     "text": [
      "/Users/leiflyu/miniforge3/lib/python3.9/site-packages/statsmodels/regression/linear_model.py:903: RuntimeWarning: divide by zero encountered in log\n",
      "  llf = -nobs2*np.log(2*np.pi) - nobs2*np.log(ssr / nobs) - nobs2\n",
      "/Users/leiflyu/miniforge3/lib/python3.9/site-packages/statsmodels/regression/linear_model.py:903: RuntimeWarning: divide by zero encountered in log\n",
      "  llf = -nobs2*np.log(2*np.pi) - nobs2*np.log(ssr / nobs) - nobs2\n",
      "/Users/leiflyu/miniforge3/lib/python3.9/site-packages/statsmodels/regression/linear_model.py:903: RuntimeWarning: divide by zero encountered in log\n",
      "  llf = -nobs2*np.log(2*np.pi) - nobs2*np.log(ssr / nobs) - nobs2\n",
      "/Users/leiflyu/miniforge3/lib/python3.9/site-packages/statsmodels/regression/linear_model.py:903: RuntimeWarning: divide by zero encountered in log\n",
      "  llf = -nobs2*np.log(2*np.pi) - nobs2*np.log(ssr / nobs) - nobs2\n",
      "/Users/leiflyu/miniforge3/lib/python3.9/site-packages/statsmodels/regression/linear_model.py:903: RuntimeWarning: divide by zero encountered in log\n",
      "  llf = -nobs2*np.log(2*np.pi) - nobs2*np.log(ssr / nobs) - nobs2\n",
      "/Users/leiflyu/miniforge3/lib/python3.9/site-packages/statsmodels/regression/linear_model.py:903: RuntimeWarning: divide by zero encountered in log\n",
      "  llf = -nobs2*np.log(2*np.pi) - nobs2*np.log(ssr / nobs) - nobs2\n",
      "/Users/leiflyu/miniforge3/lib/python3.9/site-packages/statsmodels/regression/linear_model.py:903: RuntimeWarning: divide by zero encountered in log\n",
      "  llf = -nobs2*np.log(2*np.pi) - nobs2*np.log(ssr / nobs) - nobs2\n"
     ]
    },
    {
     "name": "stdout",
     "output_type": "stream",
     "text": [
      "89\n"
     ]
    },
    {
     "name": "stderr",
     "output_type": "stream",
     "text": [
      "/Users/leiflyu/miniforge3/lib/python3.9/site-packages/statsmodels/regression/linear_model.py:903: RuntimeWarning: divide by zero encountered in log\n",
      "  llf = -nobs2*np.log(2*np.pi) - nobs2*np.log(ssr / nobs) - nobs2\n",
      "/Users/leiflyu/miniforge3/lib/python3.9/site-packages/statsmodels/regression/linear_model.py:903: RuntimeWarning: divide by zero encountered in log\n",
      "  llf = -nobs2*np.log(2*np.pi) - nobs2*np.log(ssr / nobs) - nobs2\n",
      "/Users/leiflyu/miniforge3/lib/python3.9/site-packages/statsmodels/regression/linear_model.py:903: RuntimeWarning: divide by zero encountered in log\n",
      "  llf = -nobs2*np.log(2*np.pi) - nobs2*np.log(ssr / nobs) - nobs2\n",
      "/Users/leiflyu/miniforge3/lib/python3.9/site-packages/statsmodels/regression/linear_model.py:903: RuntimeWarning: divide by zero encountered in log\n",
      "  llf = -nobs2*np.log(2*np.pi) - nobs2*np.log(ssr / nobs) - nobs2\n",
      "/Users/leiflyu/miniforge3/lib/python3.9/site-packages/statsmodels/regression/linear_model.py:903: RuntimeWarning: divide by zero encountered in log\n",
      "  llf = -nobs2*np.log(2*np.pi) - nobs2*np.log(ssr / nobs) - nobs2\n",
      "/Users/leiflyu/miniforge3/lib/python3.9/site-packages/statsmodels/regression/linear_model.py:903: RuntimeWarning: divide by zero encountered in log\n",
      "  llf = -nobs2*np.log(2*np.pi) - nobs2*np.log(ssr / nobs) - nobs2\n",
      "/Users/leiflyu/miniforge3/lib/python3.9/site-packages/statsmodels/regression/linear_model.py:903: RuntimeWarning: divide by zero encountered in log\n",
      "  llf = -nobs2*np.log(2*np.pi) - nobs2*np.log(ssr / nobs) - nobs2\n"
     ]
    },
    {
     "name": "stdout",
     "output_type": "stream",
     "text": [
      "90\n"
     ]
    },
    {
     "name": "stderr",
     "output_type": "stream",
     "text": [
      "/Users/leiflyu/miniforge3/lib/python3.9/site-packages/statsmodels/regression/linear_model.py:903: RuntimeWarning: divide by zero encountered in log\n",
      "  llf = -nobs2*np.log(2*np.pi) - nobs2*np.log(ssr / nobs) - nobs2\n",
      "/Users/leiflyu/miniforge3/lib/python3.9/site-packages/statsmodels/regression/linear_model.py:903: RuntimeWarning: divide by zero encountered in log\n",
      "  llf = -nobs2*np.log(2*np.pi) - nobs2*np.log(ssr / nobs) - nobs2\n",
      "/Users/leiflyu/miniforge3/lib/python3.9/site-packages/statsmodels/regression/linear_model.py:903: RuntimeWarning: divide by zero encountered in log\n",
      "  llf = -nobs2*np.log(2*np.pi) - nobs2*np.log(ssr / nobs) - nobs2\n",
      "/Users/leiflyu/miniforge3/lib/python3.9/site-packages/statsmodels/regression/linear_model.py:903: RuntimeWarning: divide by zero encountered in log\n",
      "  llf = -nobs2*np.log(2*np.pi) - nobs2*np.log(ssr / nobs) - nobs2\n",
      "/Users/leiflyu/miniforge3/lib/python3.9/site-packages/statsmodels/regression/linear_model.py:903: RuntimeWarning: divide by zero encountered in log\n",
      "  llf = -nobs2*np.log(2*np.pi) - nobs2*np.log(ssr / nobs) - nobs2\n",
      "/Users/leiflyu/miniforge3/lib/python3.9/site-packages/statsmodels/regression/linear_model.py:903: RuntimeWarning: divide by zero encountered in log\n",
      "  llf = -nobs2*np.log(2*np.pi) - nobs2*np.log(ssr / nobs) - nobs2\n",
      "/Users/leiflyu/miniforge3/lib/python3.9/site-packages/statsmodels/regression/linear_model.py:903: RuntimeWarning: divide by zero encountered in log\n",
      "  llf = -nobs2*np.log(2*np.pi) - nobs2*np.log(ssr / nobs) - nobs2\n"
     ]
    },
    {
     "name": "stdout",
     "output_type": "stream",
     "text": [
      "91\n"
     ]
    },
    {
     "name": "stderr",
     "output_type": "stream",
     "text": [
      "/Users/leiflyu/miniforge3/lib/python3.9/site-packages/statsmodels/regression/linear_model.py:903: RuntimeWarning: divide by zero encountered in log\n",
      "  llf = -nobs2*np.log(2*np.pi) - nobs2*np.log(ssr / nobs) - nobs2\n",
      "/Users/leiflyu/miniforge3/lib/python3.9/site-packages/statsmodels/regression/linear_model.py:903: RuntimeWarning: divide by zero encountered in log\n",
      "  llf = -nobs2*np.log(2*np.pi) - nobs2*np.log(ssr / nobs) - nobs2\n",
      "/Users/leiflyu/miniforge3/lib/python3.9/site-packages/statsmodels/regression/linear_model.py:903: RuntimeWarning: divide by zero encountered in log\n",
      "  llf = -nobs2*np.log(2*np.pi) - nobs2*np.log(ssr / nobs) - nobs2\n",
      "/Users/leiflyu/miniforge3/lib/python3.9/site-packages/statsmodels/regression/linear_model.py:903: RuntimeWarning: divide by zero encountered in log\n",
      "  llf = -nobs2*np.log(2*np.pi) - nobs2*np.log(ssr / nobs) - nobs2\n",
      "/Users/leiflyu/miniforge3/lib/python3.9/site-packages/statsmodels/regression/linear_model.py:903: RuntimeWarning: divide by zero encountered in log\n",
      "  llf = -nobs2*np.log(2*np.pi) - nobs2*np.log(ssr / nobs) - nobs2\n",
      "/Users/leiflyu/miniforge3/lib/python3.9/site-packages/statsmodels/regression/linear_model.py:903: RuntimeWarning: divide by zero encountered in log\n",
      "  llf = -nobs2*np.log(2*np.pi) - nobs2*np.log(ssr / nobs) - nobs2\n",
      "/Users/leiflyu/miniforge3/lib/python3.9/site-packages/statsmodels/regression/linear_model.py:903: RuntimeWarning: divide by zero encountered in log\n",
      "  llf = -nobs2*np.log(2*np.pi) - nobs2*np.log(ssr / nobs) - nobs2\n"
     ]
    },
    {
     "name": "stdout",
     "output_type": "stream",
     "text": [
      "92\n"
     ]
    },
    {
     "name": "stderr",
     "output_type": "stream",
     "text": [
      "/Users/leiflyu/miniforge3/lib/python3.9/site-packages/statsmodels/regression/linear_model.py:903: RuntimeWarning: divide by zero encountered in log\n",
      "  llf = -nobs2*np.log(2*np.pi) - nobs2*np.log(ssr / nobs) - nobs2\n",
      "/Users/leiflyu/miniforge3/lib/python3.9/site-packages/statsmodels/regression/linear_model.py:903: RuntimeWarning: divide by zero encountered in log\n",
      "  llf = -nobs2*np.log(2*np.pi) - nobs2*np.log(ssr / nobs) - nobs2\n",
      "/Users/leiflyu/miniforge3/lib/python3.9/site-packages/statsmodels/regression/linear_model.py:903: RuntimeWarning: divide by zero encountered in log\n",
      "  llf = -nobs2*np.log(2*np.pi) - nobs2*np.log(ssr / nobs) - nobs2\n",
      "/Users/leiflyu/miniforge3/lib/python3.9/site-packages/statsmodels/regression/linear_model.py:903: RuntimeWarning: divide by zero encountered in log\n",
      "  llf = -nobs2*np.log(2*np.pi) - nobs2*np.log(ssr / nobs) - nobs2\n",
      "/Users/leiflyu/miniforge3/lib/python3.9/site-packages/statsmodels/regression/linear_model.py:903: RuntimeWarning: divide by zero encountered in log\n",
      "  llf = -nobs2*np.log(2*np.pi) - nobs2*np.log(ssr / nobs) - nobs2\n",
      "/Users/leiflyu/miniforge3/lib/python3.9/site-packages/statsmodels/regression/linear_model.py:903: RuntimeWarning: divide by zero encountered in log\n",
      "  llf = -nobs2*np.log(2*np.pi) - nobs2*np.log(ssr / nobs) - nobs2\n",
      "/Users/leiflyu/miniforge3/lib/python3.9/site-packages/statsmodels/regression/linear_model.py:903: RuntimeWarning: divide by zero encountered in log\n",
      "  llf = -nobs2*np.log(2*np.pi) - nobs2*np.log(ssr / nobs) - nobs2\n"
     ]
    },
    {
     "name": "stdout",
     "output_type": "stream",
     "text": [
      "93\n"
     ]
    },
    {
     "name": "stderr",
     "output_type": "stream",
     "text": [
      "/Users/leiflyu/miniforge3/lib/python3.9/site-packages/statsmodels/regression/linear_model.py:903: RuntimeWarning: divide by zero encountered in log\n",
      "  llf = -nobs2*np.log(2*np.pi) - nobs2*np.log(ssr / nobs) - nobs2\n",
      "/Users/leiflyu/miniforge3/lib/python3.9/site-packages/statsmodels/regression/linear_model.py:903: RuntimeWarning: divide by zero encountered in log\n",
      "  llf = -nobs2*np.log(2*np.pi) - nobs2*np.log(ssr / nobs) - nobs2\n",
      "/Users/leiflyu/miniforge3/lib/python3.9/site-packages/statsmodels/regression/linear_model.py:903: RuntimeWarning: divide by zero encountered in log\n",
      "  llf = -nobs2*np.log(2*np.pi) - nobs2*np.log(ssr / nobs) - nobs2\n",
      "/Users/leiflyu/miniforge3/lib/python3.9/site-packages/statsmodels/regression/linear_model.py:903: RuntimeWarning: divide by zero encountered in log\n",
      "  llf = -nobs2*np.log(2*np.pi) - nobs2*np.log(ssr / nobs) - nobs2\n",
      "/Users/leiflyu/miniforge3/lib/python3.9/site-packages/statsmodels/regression/linear_model.py:903: RuntimeWarning: divide by zero encountered in log\n",
      "  llf = -nobs2*np.log(2*np.pi) - nobs2*np.log(ssr / nobs) - nobs2\n",
      "/Users/leiflyu/miniforge3/lib/python3.9/site-packages/statsmodels/regression/linear_model.py:903: RuntimeWarning: divide by zero encountered in log\n",
      "  llf = -nobs2*np.log(2*np.pi) - nobs2*np.log(ssr / nobs) - nobs2\n",
      "/Users/leiflyu/miniforge3/lib/python3.9/site-packages/statsmodels/regression/linear_model.py:903: RuntimeWarning: divide by zero encountered in log\n",
      "  llf = -nobs2*np.log(2*np.pi) - nobs2*np.log(ssr / nobs) - nobs2\n"
     ]
    },
    {
     "name": "stdout",
     "output_type": "stream",
     "text": [
      "94\n"
     ]
    },
    {
     "name": "stderr",
     "output_type": "stream",
     "text": [
      "/Users/leiflyu/miniforge3/lib/python3.9/site-packages/statsmodels/regression/linear_model.py:903: RuntimeWarning: divide by zero encountered in log\n",
      "  llf = -nobs2*np.log(2*np.pi) - nobs2*np.log(ssr / nobs) - nobs2\n",
      "/Users/leiflyu/miniforge3/lib/python3.9/site-packages/statsmodels/regression/linear_model.py:903: RuntimeWarning: divide by zero encountered in log\n",
      "  llf = -nobs2*np.log(2*np.pi) - nobs2*np.log(ssr / nobs) - nobs2\n",
      "/Users/leiflyu/miniforge3/lib/python3.9/site-packages/statsmodels/regression/linear_model.py:903: RuntimeWarning: divide by zero encountered in log\n",
      "  llf = -nobs2*np.log(2*np.pi) - nobs2*np.log(ssr / nobs) - nobs2\n",
      "/Users/leiflyu/miniforge3/lib/python3.9/site-packages/statsmodels/regression/linear_model.py:903: RuntimeWarning: divide by zero encountered in log\n",
      "  llf = -nobs2*np.log(2*np.pi) - nobs2*np.log(ssr / nobs) - nobs2\n",
      "/Users/leiflyu/miniforge3/lib/python3.9/site-packages/statsmodels/regression/linear_model.py:903: RuntimeWarning: divide by zero encountered in log\n",
      "  llf = -nobs2*np.log(2*np.pi) - nobs2*np.log(ssr / nobs) - nobs2\n",
      "/Users/leiflyu/miniforge3/lib/python3.9/site-packages/statsmodels/regression/linear_model.py:903: RuntimeWarning: divide by zero encountered in log\n",
      "  llf = -nobs2*np.log(2*np.pi) - nobs2*np.log(ssr / nobs) - nobs2\n",
      "/Users/leiflyu/miniforge3/lib/python3.9/site-packages/statsmodels/regression/linear_model.py:903: RuntimeWarning: divide by zero encountered in log\n",
      "  llf = -nobs2*np.log(2*np.pi) - nobs2*np.log(ssr / nobs) - nobs2\n"
     ]
    },
    {
     "name": "stdout",
     "output_type": "stream",
     "text": [
      "95\n"
     ]
    },
    {
     "name": "stderr",
     "output_type": "stream",
     "text": [
      "/Users/leiflyu/miniforge3/lib/python3.9/site-packages/statsmodels/regression/linear_model.py:903: RuntimeWarning: divide by zero encountered in log\n",
      "  llf = -nobs2*np.log(2*np.pi) - nobs2*np.log(ssr / nobs) - nobs2\n",
      "/Users/leiflyu/miniforge3/lib/python3.9/site-packages/statsmodels/regression/linear_model.py:903: RuntimeWarning: divide by zero encountered in log\n",
      "  llf = -nobs2*np.log(2*np.pi) - nobs2*np.log(ssr / nobs) - nobs2\n",
      "/Users/leiflyu/miniforge3/lib/python3.9/site-packages/statsmodels/regression/linear_model.py:903: RuntimeWarning: divide by zero encountered in log\n",
      "  llf = -nobs2*np.log(2*np.pi) - nobs2*np.log(ssr / nobs) - nobs2\n",
      "/Users/leiflyu/miniforge3/lib/python3.9/site-packages/statsmodels/regression/linear_model.py:903: RuntimeWarning: divide by zero encountered in log\n",
      "  llf = -nobs2*np.log(2*np.pi) - nobs2*np.log(ssr / nobs) - nobs2\n",
      "/Users/leiflyu/miniforge3/lib/python3.9/site-packages/statsmodels/regression/linear_model.py:903: RuntimeWarning: divide by zero encountered in log\n",
      "  llf = -nobs2*np.log(2*np.pi) - nobs2*np.log(ssr / nobs) - nobs2\n",
      "/Users/leiflyu/miniforge3/lib/python3.9/site-packages/statsmodels/regression/linear_model.py:903: RuntimeWarning: divide by zero encountered in log\n",
      "  llf = -nobs2*np.log(2*np.pi) - nobs2*np.log(ssr / nobs) - nobs2\n",
      "/Users/leiflyu/miniforge3/lib/python3.9/site-packages/statsmodels/regression/linear_model.py:903: RuntimeWarning: divide by zero encountered in log\n",
      "  llf = -nobs2*np.log(2*np.pi) - nobs2*np.log(ssr / nobs) - nobs2\n"
     ]
    },
    {
     "name": "stdout",
     "output_type": "stream",
     "text": [
      "96\n"
     ]
    },
    {
     "name": "stderr",
     "output_type": "stream",
     "text": [
      "/Users/leiflyu/miniforge3/lib/python3.9/site-packages/statsmodels/regression/linear_model.py:903: RuntimeWarning: divide by zero encountered in log\n",
      "  llf = -nobs2*np.log(2*np.pi) - nobs2*np.log(ssr / nobs) - nobs2\n",
      "/Users/leiflyu/miniforge3/lib/python3.9/site-packages/statsmodels/regression/linear_model.py:903: RuntimeWarning: divide by zero encountered in log\n",
      "  llf = -nobs2*np.log(2*np.pi) - nobs2*np.log(ssr / nobs) - nobs2\n",
      "/Users/leiflyu/miniforge3/lib/python3.9/site-packages/statsmodels/regression/linear_model.py:903: RuntimeWarning: divide by zero encountered in log\n",
      "  llf = -nobs2*np.log(2*np.pi) - nobs2*np.log(ssr / nobs) - nobs2\n",
      "/Users/leiflyu/miniforge3/lib/python3.9/site-packages/statsmodels/regression/linear_model.py:903: RuntimeWarning: divide by zero encountered in log\n",
      "  llf = -nobs2*np.log(2*np.pi) - nobs2*np.log(ssr / nobs) - nobs2\n",
      "/Users/leiflyu/miniforge3/lib/python3.9/site-packages/statsmodels/regression/linear_model.py:903: RuntimeWarning: divide by zero encountered in log\n",
      "  llf = -nobs2*np.log(2*np.pi) - nobs2*np.log(ssr / nobs) - nobs2\n",
      "/Users/leiflyu/miniforge3/lib/python3.9/site-packages/statsmodels/regression/linear_model.py:903: RuntimeWarning: divide by zero encountered in log\n",
      "  llf = -nobs2*np.log(2*np.pi) - nobs2*np.log(ssr / nobs) - nobs2\n",
      "/Users/leiflyu/miniforge3/lib/python3.9/site-packages/statsmodels/regression/linear_model.py:903: RuntimeWarning: divide by zero encountered in log\n",
      "  llf = -nobs2*np.log(2*np.pi) - nobs2*np.log(ssr / nobs) - nobs2\n"
     ]
    },
    {
     "name": "stdout",
     "output_type": "stream",
     "text": [
      "97\n"
     ]
    },
    {
     "name": "stderr",
     "output_type": "stream",
     "text": [
      "/Users/leiflyu/miniforge3/lib/python3.9/site-packages/statsmodels/regression/linear_model.py:903: RuntimeWarning: divide by zero encountered in log\n",
      "  llf = -nobs2*np.log(2*np.pi) - nobs2*np.log(ssr / nobs) - nobs2\n",
      "/Users/leiflyu/miniforge3/lib/python3.9/site-packages/statsmodels/regression/linear_model.py:903: RuntimeWarning: divide by zero encountered in log\n",
      "  llf = -nobs2*np.log(2*np.pi) - nobs2*np.log(ssr / nobs) - nobs2\n",
      "/Users/leiflyu/miniforge3/lib/python3.9/site-packages/statsmodels/regression/linear_model.py:903: RuntimeWarning: divide by zero encountered in log\n",
      "  llf = -nobs2*np.log(2*np.pi) - nobs2*np.log(ssr / nobs) - nobs2\n",
      "/Users/leiflyu/miniforge3/lib/python3.9/site-packages/statsmodels/regression/linear_model.py:903: RuntimeWarning: divide by zero encountered in log\n",
      "  llf = -nobs2*np.log(2*np.pi) - nobs2*np.log(ssr / nobs) - nobs2\n",
      "/Users/leiflyu/miniforge3/lib/python3.9/site-packages/statsmodels/regression/linear_model.py:903: RuntimeWarning: divide by zero encountered in log\n",
      "  llf = -nobs2*np.log(2*np.pi) - nobs2*np.log(ssr / nobs) - nobs2\n",
      "/Users/leiflyu/miniforge3/lib/python3.9/site-packages/statsmodels/regression/linear_model.py:903: RuntimeWarning: divide by zero encountered in log\n",
      "  llf = -nobs2*np.log(2*np.pi) - nobs2*np.log(ssr / nobs) - nobs2\n",
      "/Users/leiflyu/miniforge3/lib/python3.9/site-packages/statsmodels/regression/linear_model.py:903: RuntimeWarning: divide by zero encountered in log\n",
      "  llf = -nobs2*np.log(2*np.pi) - nobs2*np.log(ssr / nobs) - nobs2\n"
     ]
    },
    {
     "name": "stdout",
     "output_type": "stream",
     "text": [
      "98\n"
     ]
    },
    {
     "name": "stderr",
     "output_type": "stream",
     "text": [
      "/Users/leiflyu/miniforge3/lib/python3.9/site-packages/statsmodels/regression/linear_model.py:903: RuntimeWarning: divide by zero encountered in log\n",
      "  llf = -nobs2*np.log(2*np.pi) - nobs2*np.log(ssr / nobs) - nobs2\n",
      "/Users/leiflyu/miniforge3/lib/python3.9/site-packages/statsmodels/regression/linear_model.py:903: RuntimeWarning: divide by zero encountered in log\n",
      "  llf = -nobs2*np.log(2*np.pi) - nobs2*np.log(ssr / nobs) - nobs2\n",
      "/Users/leiflyu/miniforge3/lib/python3.9/site-packages/statsmodels/regression/linear_model.py:903: RuntimeWarning: divide by zero encountered in log\n",
      "  llf = -nobs2*np.log(2*np.pi) - nobs2*np.log(ssr / nobs) - nobs2\n",
      "/Users/leiflyu/miniforge3/lib/python3.9/site-packages/statsmodels/regression/linear_model.py:903: RuntimeWarning: divide by zero encountered in log\n",
      "  llf = -nobs2*np.log(2*np.pi) - nobs2*np.log(ssr / nobs) - nobs2\n",
      "/Users/leiflyu/miniforge3/lib/python3.9/site-packages/statsmodels/regression/linear_model.py:903: RuntimeWarning: divide by zero encountered in log\n",
      "  llf = -nobs2*np.log(2*np.pi) - nobs2*np.log(ssr / nobs) - nobs2\n",
      "/Users/leiflyu/miniforge3/lib/python3.9/site-packages/statsmodels/regression/linear_model.py:903: RuntimeWarning: divide by zero encountered in log\n",
      "  llf = -nobs2*np.log(2*np.pi) - nobs2*np.log(ssr / nobs) - nobs2\n"
     ]
    },
    {
     "name": "stdout",
     "output_type": "stream",
     "text": [
      "99\n"
     ]
    },
    {
     "name": "stderr",
     "output_type": "stream",
     "text": [
      "/Users/leiflyu/miniforge3/lib/python3.9/site-packages/statsmodels/regression/linear_model.py:903: RuntimeWarning: divide by zero encountered in log\n",
      "  llf = -nobs2*np.log(2*np.pi) - nobs2*np.log(ssr / nobs) - nobs2\n"
     ]
    }
   ],
   "source": [
    "PCnumbers = []\n",
    "x = range(0,100,1)\n",
    "for gamma in x:\n",
    "    gamma1 = gamma\n",
    "    d2, pcafit = PCA_val(gamma1,df_marks,vrdata)\n",
    "    PCnumbers.append(d2)\n",
    "    print(gamma)"
   ]
  },
  {
   "cell_type": "code",
   "execution_count": 25,
   "id": "b20e523e",
   "metadata": {},
   "outputs": [
    {
     "data": {
      "text/plain": [
       "(array([ 5.,  6.,  7.,  8.,  9., 10., 11., 12., 13.]),\n",
       " [Text(0, 0, ''),\n",
       "  Text(0, 0, ''),\n",
       "  Text(0, 0, ''),\n",
       "  Text(0, 0, ''),\n",
       "  Text(0, 0, ''),\n",
       "  Text(0, 0, ''),\n",
       "  Text(0, 0, ''),\n",
       "  Text(0, 0, ''),\n",
       "  Text(0, 0, '')])"
      ]
     },
     "execution_count": 25,
     "metadata": {},
     "output_type": "execute_result"
    },
    {
     "data": {
      "image/png": "[encoded data removed]",
      "text/plain": [
       "<Figure size 1440x432 with 1 Axes>"
      ]
     },
     "metadata": {
      "needs_background": "light"
     },
     "output_type": "display_data"
    }
   ],
   "source": [
    "from scipy.interpolate import make_interp_spline, BSpline\n",
    "# represents number of points to make between x.min and x.max\n",
    "xnew =np.linspace(0, 100, 100)\n",
    "spl = make_interp_spline(x, PCnumbers, k=1)  # type: BSpline\n",
    "PCno_smooth = spl(xnew)\n",
    "\n",
    "color1 = \"#0085c3\"\n",
    "color2 = \"#7ab800\"\n",
    "color3 = \"#dc5034\"\n",
    "\n",
    "fig = plt.figure(figsize=(20, 6))\n",
    "ax = fig.add_subplot(111)\n",
    "ax.plot(x, PCnumbers , color=color1)\n",
    "ax.grid(ls=\":\", color=\"gray\", alpha=0.6)\n",
    "\n",
    "plt.xlabel(r'$\\gamma$')\n",
    "plt.ylabel('Number of PCs')\n",
    "\n",
    "\n",
    "plt.xticks(rotation=45, fontsize=12)\n",
    "plt.yticks(fontsize=12)"
   ]
  },
  {
   "cell_type": "code",
   "execution_count": 26,
   "id": "70329d46",
   "metadata": {},
   "outputs": [],
   "source": [
    "gammaindexList = []\n",
    "for i in range(12,6,-1):\n",
    "   aa = min([index for index,value in enumerate(PCnumbers) if int(value)  == i])\n",
    "   gammaindexList.append(aa)\n",
    "gammaList = np.linspace(0, 100, 100)[gammaindexList]"
   ]
  },
  {
   "cell_type": "code",
   "execution_count": 27,
   "id": "b7795f29",
   "metadata": {},
   "outputs": [
    {
     "data": {
      "text/plain": [
       "array([ 0.        ,  2.02020202,  5.05050505, 10.1010101 , 17.17171717,\n",
       "       28.28282828])"
      ]
     },
     "execution_count": 27,
     "metadata": {},
     "output_type": "execute_result"
    }
   ],
   "source": [
    "gammaList"
   ]
  },
  {
   "cell_type": "code",
   "execution_count": 28,
   "id": "fa02a0d1",
   "metadata": {},
   "outputs": [],
   "source": [
    "pcadf['date'] = dfHILDA['date']  \n",
    "pcadf[\"date\"] = pd.to_datetime(pcadf[\"date\"]) - pd.offsets.MonthEnd(6)\n",
    "pcadf_sa4_date_new = pcadf\n"
   ]
  },
  {
   "cell_type": "code",
   "execution_count": 29,
   "id": "8d4608c7",
   "metadata": {},
   "outputs": [
    {
     "name": "stdout",
     "output_type": "stream",
     "text": [
      "6\n"
     ]
    }
   ],
   "source": [
    "xls1 = pd.read_excel(\"f01hist.xls\", sheet_name=\"Data\", header=2)\n",
    "xls1 = xls1.drop(xls1.index[0:8], axis=0)\n",
    "xls1[\"Description\"] = pd.to_datetime(xls1[\"Description\"])\n",
    "xls1[\"Description\"] = xls1[\"Description\"].dt.date.apply(lambda x: x.strftime(\"%Y-%m\"))\n",
    "xls3 = pd.read_excel(\"f11hist-1969-2009.xls\", sheet_name=\"Data\", header=2)\n",
    "xls3 = xls3.drop(xls3.index[0:8], axis=0)\n",
    "xls3[\"Description\"] = pd.to_datetime(xls3[\"Description\"])\n",
    "xls3[\"Description\"] = xls3[\"Description\"].dt.date.apply(lambda x: x.strftime(\"%Y-%m\"))\n",
    "xls4 = pd.read_excel(\"f11hist.xls\", sheet_name=\"Data\", header=2)\n",
    "xls4 = xls4.drop(xls4.index[0:8], axis=0)\n",
    "xls4[\"Description\"] = pd.to_datetime(xls4[\"Description\"])\n",
    "xls4[\"Description\"] = xls4[\"Description\"].dt.date.apply(lambda x: x.strftime(\"%Y-%m\"))\n",
    "xls34 = pd.concat([xls3, xls4], axis=0)\n",
    "xls5 = pd.read_excel(\"g01hist.xls\", sheet_name=\"Data\", header=2)\n",
    "xls5 = xls5.drop(xls5.index[0:8], axis=0)\n",
    "xls5[\"Description\"] = pd.to_datetime(xls5[\"Description\"])\n",
    "xls5[\"Description\"] = xls5[\"Description\"].dt.date.apply(lambda x: x.strftime(\"%Y-%m\"))\n",
    "xls6 = pd.read_excel(\"h01hist.xls\", sheet_name=\"Data\", header=2)\n",
    "xls6 = xls6.drop(xls6.index[0:8], axis=0)\n",
    "xls6[\"Description\"] = pd.to_datetime(xls6[\"Description\"])\n",
    "xls6[\"Description\"] = xls6[\"Description\"].dt.date.apply(lambda x: x.strftime(\"%Y-%m\"))\n",
    "xls7 = pd.read_excel(\"h03hist.xls\", sheet_name=\"Data\", header=2)\n",
    "xls7 = xls7.drop(xls7.index[0:8], axis=0)\n",
    "xls7[\"Description\"] = pd.to_datetime(xls7[\"Description\"])\n",
    "xls7[\"Description\"] = xls7[\"Description\"].dt.date.apply(lambda x: x.strftime(\"%Y-%m\"))\n",
    "# Download ASX data from Yahoo Finance\n",
    "\n",
    "ASX200data = yf.download('^AXJO', start='1999-01-01', end='2021-06-01', interval = \"1mo\", progress=False)\n",
    "ASX200data = ASX200data.reset_index()\n",
    "ASX200data[\"Description\"] = pd.to_datetime(ASX200data[\"Date\"])\n",
    "ASX200data[\"Description\"] = ASX200data[\"Description\"].dt.date.apply(lambda x: x.strftime(\"%Y-%m\"))\n",
    "\n",
    "macvar = pd.DataFrame().assign(\n",
    "    Description=xls7.loc[\n",
    "        (\"2021-06\" > xls7[\"Description\"]) & (xls7[\"Description\"] > \"1998-12\")\n",
    "    ][\"Description\"]\n",
    ")\n",
    "macvar.reset_index(drop=True, inplace=True)\n",
    "\n",
    "macvar = pd.merge(\n",
    "    macvar,\n",
    "    xls1[[\"Description\", \"Cash Rate Target; monthly average\"]],\n",
    "    on=\"Description\",\n",
    "    how=\"left\",\n",
    ")\n",
    "macvar = pd.merge(\n",
    "    macvar,\n",
    "    xls34[[\"Description\", \"AUD/USD Exchange Rate; see notes for further detail.\"]],\n",
    "    on=\"Description\",\n",
    "    how=\"left\",\n",
    ")\n",
    "macvar = pd.merge(\n",
    "    macvar,\n",
    "    xls5[[\"Description\", \"Consumer price index; All groups\"]],\n",
    "    on=\"Description\",\n",
    "    how=\"left\",\n",
    ")\n",
    "macvar = pd.merge(\n",
    "    macvar,\n",
    "    xls6[[\"Description\", \"Gross domestic product (GDP); Chain volume\"]],\n",
    "    on=\"Description\",\n",
    "    how=\"left\",\n",
    ")\n",
    "macvar = pd.merge(\n",
    "    macvar,\n",
    "    xls7[[\"Description\", \"Retail sales; All industries; Current price\"]],\n",
    "    on=\"Description\",\n",
    "    how=\"left\",\n",
    ")\n",
    "macvar = pd.merge(\n",
    "    macvar,\n",
    "    xls7[[\"Description\", \"Private dwelling approvals\"]],\n",
    "    on=\"Description\",\n",
    "    how=\"left\",\n",
    ")\n",
    "\n",
    "macvar = pd.merge(\n",
    "    macvar,\n",
    "    ASX200data[[\"Description\", \"Adj Close\"]],\n",
    "    on=\"Description\",\n",
    "    how=\"left\",\n",
    ")\n",
    "\n",
    "macvar = macvar.set_axis(\n",
    "    [\"date\", \"ir\", \"exr\", \"cpi\", \"gdp\", \"rs\", \"pda\", \"asx\"], axis=1, inplace=False\n",
    ")\n",
    "\n",
    "\n",
    "macvar[\"ir\"] = macvar[\"ir\"].astype(float, errors=\"raise\")\n",
    "macvar[\"exr\"] = macvar[\"exr\"].astype(float, errors=\"raise\")\n",
    "macvar[\"cpi\"] = macvar[\"cpi\"].astype(float, errors=\"raise\")\n",
    "macvar[\"gdp\"] = macvar[\"gdp\"].astype(float, errors=\"raise\")\n",
    "macvar[\"rs\"] = macvar[\"rs\"].astype(float, errors=\"raise\")\n",
    "macvar[\"pda\"] = macvar[\"pda\"].astype(float, errors=\"raise\")\n",
    "macvar[\"asx\"] = macvar[\"asx\"].astype(float, errors=\"raise\")\n",
    "macvar = macvar.interpolate()\n",
    "\n",
    "threshold = 0.01\n",
    "\n",
    "def selectStationaySeries(variable_tar):\n",
    "        if adfuller(variable_tar.dropna(how=\"all\"))[1] < threshold:\n",
    "            stationary_variable = variable_tar\n",
    "            suffix =  \"original\"\n",
    "        elif adfuller(variable_tar.pct_change(1).dropna(how=\"all\"))[1] < threshold:\n",
    "            stationary_variable = variable_tar.pct_change(1).dropna(how=\"all\")\n",
    "            suffix = \"1storderdiff\"\n",
    "        elif adfuller(variable_tar.pct_change(3).dropna(how=\"all\"))[1] < threshold:\n",
    "            stationary_variable = variable_tar.pct_change(3).dropna(how=\"all\")\n",
    "            suffix = \"seasonaldiff\"\n",
    "        elif adfuller(variable_tar.pct_change(12).dropna(how=\"all\"))[1] < threshold:\n",
    "            stationary_variable = variable_tar.pct_change(12).dropna(how=\"all\")\n",
    "            suffix = \"annualdiff\"     \n",
    "        elif adfuller(variable_tar.pct_change(1).diff().dropna(how=\"all\"))[1] < threshold:\n",
    "            stationary_variable = variable_tar.pct_change(1).diff().dropna(how=\"all\")\n",
    "            suffix = \"2ndorderdiff\"\n",
    "        else:\n",
    "            print(\"not found\")\n",
    "        return(pd.DataFrame(stationary_variable))\n",
    "    \n",
    "macvarst = macvar[\"date\"] \n",
    "for vn in macvar.columns.values[1:]:\n",
    "    macvarst = pd.concat([macvarst, selectStationaySeries(macvar[vn])], axis=1)\n",
    "\n",
    "macvarsta = macvarst  \n",
    "matrixmac = macvarsta.corr().round(2)\n",
    "macdata = macvarsta.loc[\n",
    "    (\"2020-01\" > macvarsta[\"date\"]) & (macvarsta[\"date\"] > \"1999-12\")\n",
    "]\n",
    "\n",
    "pca = PCA()\n",
    "X_train = macdata.loc[:, macdata.columns != \"date\"]\n",
    "poly= PolynomialFeatures(degree=2)\n",
    "scaler = StandardScaler()\n",
    "\n",
    "#X_train_poly = poly.fit_transform(X_train)\n",
    "#X_train_std = scaler.fit_transform(X_train_poly)\n",
    "X_train_std = scaler.fit_transform(X_train)\n",
    "\n",
    "pca.fit(X_train_std)\n",
    "cumsum = np.cumsum(pca.explained_variance_ratio_)\n",
    "d = np.argmax(cumsum >= 0.9) + 1\n",
    "print(d)\n",
    "\n",
    "pca_d = PCA(n_components=d)\n",
    "pca_d.fit(X_train_std)\n",
    "X_pca_d = pca_d.transform(X_train_std)\n",
    "PCnames = []\n",
    "for i in range(1, d + 1, 1):\n",
    "    PCnames.append(f\"PC{i}\")\n",
    "PC_nat = pd.DataFrame(X_pca_d, columns=PCnames)\n",
    "\n",
    "PC_nat['date'] = aveHPIdf_lv3.loc[(\"2020-01\" > aveHPIdf_lv3[\"date\"]) & (aveHPIdf_lv3[\"date\"] > \"2000-01\")].reset_index(drop= True)[\"date\"]\n",
    "PC_nat= PC_nat.set_index(\"date\")"
   ]
  },
  {
   "cell_type": "code",
   "execution_count": 30,
   "id": "bced01f9",
   "metadata": {},
   "outputs": [],
   "source": [
    "avg_1_y = aveHPIdf_lv3.groupby([\"year\"])[\"logHPIdiff\"].agg([\"mean\"]).reset_index()\n",
    "avg_1_y=avg_1_y.rename(columns = {'mean':'l0'})\n",
    "avg_1_y['date'] = pd.to_datetime(avg_1_y['year'].apply(str)) + pd.offsets.YearEnd()\n",
    "avg_1_y = avg_1_y.set_index(\"date\")\n",
    "\n",
    "avg_1 = aveHPIdf_lv3.groupby([\"date\"])[\"logHPIdiff\"].agg([\"mean\"]).reset_index()\n",
    "avg_1 = avg_1.set_index(\"date\")\n",
    "avg_1=avg_1.rename(columns = {'mean':'l0'})\n",
    "\n",
    "avg_2 = aveHPIdf_lv3.groupby([\"state\",\"year\"])[\"logHPIdiff\"].agg([\"mean\"]).reset_index()\n",
    "avg_2['date'] = pd.to_datetime(avg_2['year'].apply(str)) + pd.offsets.YearEnd()\n",
    "avg_2 = avg_2.set_index(\"date\")\n",
    "\n",
    "avg_3 = aveHPIdf_lv3.groupby([\"sa4\",\"date\"])[\"logHPIdiff\"].agg([\"mean\"]).reset_index()\n",
    "avg_3=avg_3.rename(columns = {'mean':'l01'})\n",
    "\n",
    "\n",
    "avg_4 = aveHPIdf_lv3.groupby([\"postcode\",\"date\"])[\"logHPIdiff\"].agg([\"mean\"]).reset_index()\n",
    "avg_4=avg_4.rename(columns = {'mean':'l012'})\n"
   ]
  },
  {
   "cell_type": "code",
   "execution_count": 188,
   "id": "bab122ce",
   "metadata": {},
   "outputs": [
    {
     "name": "stdout",
     "output_type": "stream",
     "text": [
      " VAR Order Selection (* highlights the minimums)  \n",
      "==================================================\n",
      "       AIC         BIC         FPE         HQIC   \n",
      "--------------------------------------------------\n",
      "0       -1.447      -1.339      0.2352      -1.404\n",
      "1       -3.836     -2.967*     0.02158     -3.485*\n",
      "2       -3.989      -2.359     0.01855      -3.331\n",
      "3      -4.211*      -1.820    0.01491*      -3.245\n",
      "4       -4.021     -0.8691     0.01814      -2.748\n",
      "5       -3.879     0.03323     0.02112      -2.299\n",
      "6       -3.962      0.7110     0.01973      -2.075\n",
      "7       -3.837       1.597     0.02285      -1.642\n",
      "8       -3.726       2.468     0.02627      -1.224\n",
      "9       -3.745       3.210     0.02676     -0.9360\n",
      "10      -3.597       4.119     0.03257     -0.4800\n",
      "11      -3.526       4.951     0.03710     -0.1022\n",
      "12      -3.432       5.806     0.04387      0.2996\n",
      "--------------------------------------------------\n",
      "PC1 : 2.02\n",
      "PC2 : 2.02\n",
      "PC3 : 2.15\n",
      "PC4 : 1.95\n",
      "PC5 : 1.94\n",
      "PC6 : 1.94\n",
      "l0 : 2.06\n"
     ]
    }
   ],
   "source": [
    "agg = avg_1.reset_index()\n",
    "pcadf0 = PC_nat.reset_index()\n",
    "pcadf = pcadf0.loc[(\"2020-01\" > pcadf0[\"date\"]) & (pcadf0[\"date\"] > \"2000-11\")].reset_index(drop = True)\n",
    "\n",
    "\n",
    "values  = agg[\"l0\"].loc[(\"2020-01\" > agg[\"date\"]) & (agg[\"date\"] > \"2000-11\")].reset_index(drop=True).values\n",
    "values = values.reshape((len(values), 1))\n",
    "\n",
    "scaler1 = scaler.fit(values)\n",
    "normalized  = scaler1.transform(values)\n",
    "normalized_list =  [i[0] for i in normalized]\n",
    "normalized_df = pd.DataFrame(normalized_list,columns = ['l0'])\n",
    "\n",
    "pca_avg = pd.concat(\n",
    "    [\n",
    "        pcadf,\n",
    "        normalized_df,\n",
    "    ],\n",
    "    axis=1,\n",
    ")\n",
    "\n",
    "\n",
    "df = pca_avg.iloc[:,1:]\n",
    "model = VAR(df)\n",
    "print(model.select_order(12).summary() )\n",
    "# lag order should be one here\n",
    "\n",
    "model_fitted = model.fit(2)\n",
    "model_fitted.summary()\n",
    "model_fitted_l0 =  model_fitted\n",
    "\n",
    "\n",
    "from statsmodels.stats.stattools import durbin_watson\n",
    "out = durbin_watson(model_fitted.resid)\n",
    "\n",
    "\n",
    "for col, val in zip(df.columns, out):\n",
    "    print(col, \":\", round(val, 2))\n",
    "\n",
    "lag_order = model_fitted.k_ar\n",
    "forecast_input = df\n",
    "start_point = lag_order \n",
    "\n",
    "df_forecast = []\n",
    "for i in range(1,df.shape[0]-lag_order+1, 1):\n",
    "    forecast_input = df.values[\n",
    "        -lag_order + start_point + i - 1 : start_point + i - 1,\n",
    "    ]\n",
    "    df_forecast.append(\n",
    "        model_fitted.forecast(y=forecast_input, steps=1)[\n",
    "            0,\n",
    "        ][-1]\n",
    "    )\n",
    "    \n",
    "values_forecast = np.array(df_forecast)\n",
    "values_forecast = values_forecast.reshape((len(values_forecast), 1))\n",
    "inversed = scaler1.inverse_transform(values_forecast)\n",
    "inversed_list =  [i[0] for i in inversed]\n",
    "\n",
    "lag_order_l0 = lag_order\n",
    "start_point_l0 =  start_point"
   ]
  },
  {
   "cell_type": "code",
   "execution_count": 138,
   "id": "e5fcefef",
   "metadata": {},
   "outputs": [],
   "source": [
    "avg_1_pred = pd.DataFrame(inversed_list, columns=[\"l0_forecast\"])\n",
    "avg_1_pred['date'] = aveHPIdf_lv3.loc[(\"2020-01\" > aveHPIdf_lv3[\"date\"]) & (aveHPIdf_lv3[\"date\"] > \"2001-01\")].reset_index(drop= True)[\"date\"]    \n",
    "avg_1_pred  = avg_1_pred.set_index(\"date\")\n"
   ]
  },
  {
   "cell_type": "code",
   "execution_count": 139,
   "id": "eeff09d8",
   "metadata": {},
   "outputs": [],
   "source": [
    "# scaler = StandardScaler()\n",
    "\n",
    "# values  = agg[\"l0\"].loc[(\"2020-01\" > agg[\"date\"]) & (agg[\"date\"] > \"2000-11\")].reset_index(drop=True).values\n",
    "# values = values.reshape((len(values), 1))\n",
    "\n",
    "# scaler1 = scaler.fit(values)\n",
    "# normalized  = scaler1.transform(values)\n",
    "# normalized_list =  [i[0] for i in normalized]\n",
    "# normalized_df = pd.DataFrame(normalized_list,columns = ['l0'])\n",
    "\n",
    "\n",
    "# inversed = scaler1.inverse_transform(normalized)\n",
    "\n",
    "# inversed_list =  [i[0] for i in inversed]"
   ]
  },
  {
   "cell_type": "code",
   "execution_count": 155,
   "id": "28e380f1",
   "metadata": {},
   "outputs": [],
   "source": [
    "# # This is the simulation using forecasts, which is usually used in the long run. Related information is considered \n",
    "# # as unknown beyond the present, and this techinique can be to forecast. \n",
    "\n",
    "# import random\n",
    "# random.seed(123)\n",
    "# mu, sigma = 0, 1 \n",
    "# sim_times = 1000\n",
    "\n",
    "# DF_simResults_l0 = pd.DataFrame({}, columns = ['l0'])\n",
    "\n",
    "# for t in range(1, sim_times):\n",
    "#     df_forecast_sim = pd.DataFrame({},columns=df.columns)\n",
    "#     df_forecast_sim = df_forecast_sim.append(pca_avg.iloc[ -123:-121,1: ]).reset_index(drop = True)\n",
    "#     for i in range(1,pca_avg.iloc[ -123:,1: ].shape[0]-lag_order+1, 1):\n",
    "#         forecast_input = df_forecast_sim.values[-lag_order + start_point + i - 1 : start_point + i - 1,]\n",
    "#         arr_pred = model_fitted.forecast(y=forecast_input, steps=1)\n",
    "#         arr_noise = np.random.normal(mu, sigma, len(df.columns))\n",
    "#         arr_new = np.add(arr_pred,arr_noise)\n",
    "#         df_new =  pd.DataFrame( arr_new ,columns=df.columns )\n",
    "#         df_forecast_sim = df_forecast_sim.append(df_new)\n",
    "#         df_forecast_sim = df_forecast_sim.reset_index(drop = True)\n",
    "#     DF_simResults_l0 = DF_simResults_l0.join(df_forecast_sim['l0'], how='right', rsuffix = f'_sim{t}')\n",
    "    \n",
    "# DF_simResults_l0['date'] = aveHPIdf_lv3.loc[(\"2020-01\" > aveHPIdf_lv3[\"date\"]) & (aveHPIdf_lv3[\"date\"] > \"2009-10\")].reset_index(drop= True)[\"date\"] \n",
    "# DF_simResults_l0.set_index(\"date\", inplace = True)\n",
    "# DF_simResults_l0.drop(labels='l0', axis=1, inplace=True)\n",
    "\n",
    "# DF_simResults_l0 = pd.DataFrame(scaler1.inverse_transform(DF_simResults_l0.values), index = DF_simResults_l0.index, columns =   DF_simResults_l0.columns)\n",
    "        \n",
    "    \n"
   ]
  },
  {
   "cell_type": "code",
   "execution_count": 159,
   "id": "6921953a",
   "metadata": {},
   "outputs": [
    {
     "name": "stderr",
     "output_type": "stream",
     "text": [
      "/var/folders/s1/vpd2prqd5fsc16qqsymrc9b00000gn/T/ipykernel_1973/50417860.py:24: PerformanceWarning: DataFrame is highly fragmented.  This is usually the result of calling `frame.insert` many times, which has poor performance.  Consider using pd.concat instead.  To get a de-fragmented frame, use `newframe = frame.copy()`\n",
      "  DF_simResults_l0['date'] = aveHPIdf_lv3.loc[(\"2020-01\" > aveHPIdf_lv3[\"date\"]) & (aveHPIdf_lv3[\"date\"] > \"2009-10\")].reset_index(drop= True)[\"date\"]\n"
     ]
    }
   ],
   "source": [
    "# # This is the simulation using forecasts, which is usually used in the long run. Related information is considered \n",
    "# # as unknown beyond the present, and this techinique can be to forecast. \n",
    "\n",
    "# import random\n",
    "# random.seed(123)\n",
    "# mu, sigma = 0, 1 \n",
    "# sim_times = 1000\n",
    "\n",
    "# DF_simResults_l0 = pd.DataFrame({}, columns = ['l0'])\n",
    "\n",
    "# for t in range(1, sim_times):\n",
    "#     df_forecast_sim = pd.DataFrame({},columns=df.columns)\n",
    "#     df_forecast_sim = df_forecast_sim.append(pca_avg.iloc[ -123:-121,1: ]).reset_index(drop = True)\n",
    "#     for i in range(1,pca_avg.iloc[ -123:,1: ].shape[0]-lag_order+1, 1):\n",
    "#         forecast_input = pca_avg.values[-lag_order + start_point + i - 1 -123 : start_point + i - 1-123,1:]\n",
    "#         arr_pred = model_fitted.forecast(y=forecast_input, steps=1)\n",
    "#         arr_noise = np.random.normal(mu, sigma, len(df.columns))\n",
    "#         arr_new = np.add(arr_pred,arr_noise)\n",
    "#         df_new =  pd.DataFrame( arr_new ,columns=df.columns )\n",
    "#         df_forecast_sim = df_forecast_sim.append(df_new)\n",
    "#         df_forecast_sim = df_forecast_sim.reset_index(drop = True)\n",
    "#     DF_simResults_l0 = DF_simResults_l0.join(df_forecast_sim['l0'], how='right', rsuffix = f'_sim{t}')\n",
    "    \n",
    "# DF_simResults_l0['date'] = aveHPIdf_lv3.loc[(\"2020-01\" > aveHPIdf_lv3[\"date\"]) & (aveHPIdf_lv3[\"date\"] > \"2009-10\")].reset_index(drop= True)[\"date\"] \n",
    "# DF_simResults_l0.set_index(\"date\", inplace = True)\n",
    "# DF_simResults_l0.drop(labels='l0', axis=1, inplace=True)\n",
    "\n",
    "# DF_simResults_l0 = pd.DataFrame(scaler1.inverse_transform(DF_simResults_l0.values), index = DF_simResults_l0.index, columns =   DF_simResults_l0.columns)\n",
    "        \n",
    "    \n"
   ]
  },
  {
   "cell_type": "code",
   "execution_count": null,
   "id": "8e575c19",
   "metadata": {},
   "outputs": [],
   "source": [
    "# y = avg_1_pred[\"l0_forecast\"]\n",
    "# y2 = df[\"l0\"][2:]\n",
    "\n",
    "\n",
    "# fig = plt.figure(figsize=(20, 6))\n",
    "# ax = fig.add_subplot(111)\n",
    "# ax.plot(avg_1_pred[\"date\"], y2, marker=\"o\", color=color1, label=\"Average HPI Growth Rate\")\n",
    "# ax.plot(\n",
    "#     avg_1_pred[\"date\"], y, marker=\"o\", ls=\"--\", color=color2, label=\"Average HPI Growth Rate Forecast\"\n",
    "# )\n",
    "\n",
    "\n",
    "# ax.grid(ls=\":\", color=\"gray\", alpha=0.6)\n",
    "\n",
    "# ax.legend(loc=\"upper left\", fontsize=10)\n",
    "\n",
    "# plt.xticks(rotation=45, fontsize=12)\n",
    "# plt.yticks(fontsize=12)\n",
    "\n",
    "# # need to be checked again "
   ]
  },
  {
   "cell_type": "code",
   "execution_count": null,
   "id": "5ebec671",
   "metadata": {},
   "outputs": [],
   "source": []
  },
  {
   "cell_type": "code",
   "execution_count": 40,
   "id": "27b8de81",
   "metadata": {},
   "outputs": [],
   "source": [
    "lst_whole = list(dfHILDA.columns)\n",
    "result_ancob = [i for i in lst_whole if i.startswith('ancob_')]\n",
    "list_ancob0 = ['1101', '2100', '1201', '7103', '5204', '6101', '9225', '5105', '2308']\n",
    "list_ancob =  ['ancob_' + sub for sub in list_ancob0]\n",
    "result_edhigh = [i for i in lst_whole if i.startswith('edhigh1_')]\n",
    "list_edhigh0= ['1','2','3','4','5','8','9']\n",
    "list_edhigh =  ['edhigh1_' + sub for sub in list_edhigh0]\n",
    "result_anatsi = [i for i in lst_whole if i.startswith('anatsi_')]\n",
    "list_anatsi0= ['1','2','3','4']\n",
    "list_anatsi =  ['anatsi_' + sub for sub in list_anatsi0]\n",
    "result_chkb =  [i for i in lst_whole if i.startswith('chkb12_')]\n",
    "list_chkb0= ['1','2','3','4']\n",
    "list_chkb =  ['chkb12_' + sub for sub in list_chkb0]\n",
    "list_deleted =  [i for i in lst_whole if i.startswith(('ancob_','edhigh1_','chkb12_','anatsi_'))]\n",
    "list_remained = [vn for vn in lst_whole if vn not in list_deleted]\n",
    "list_final = list_remained + list_ancob + list_edhigh + list_anatsi + list_chkb"
   ]
  },
  {
   "cell_type": "code",
   "execution_count": 110,
   "id": "1aa38d59",
   "metadata": {},
   "outputs": [],
   "source": [
    "def gamma2AIC_VAR(key,pcafit,d3,lag):\n",
    "    Dictdf = DataFrameDict_Hsa4[key].interpolate(\"bfill\").interpolate(\"ffill\").loc[:, DataFrameDict_Hsa4[key].columns != \"date\"]\n",
    "    Xtraindata = pd.DataFrame([], columns = df_marks['Variable Names'].values)\n",
    "    lst = list(set(df_marks['Variable Names'].values) & set(Dictdf.columns.values))\n",
    "\n",
    "    for vn in lst:\n",
    "        Xtraindata[vn] = Dictdf[vn]\n",
    "    X_train = Xtraindata.reset_index(drop =True).fillna(value = 0)     \n",
    "    scaler = StandardScaler()\n",
    "\n",
    "# X_train.replace([np.inf, -np.inf], np.nan, inplace=True)\n",
    "    X_train_std = scaler.fit_transform(X_train)\n",
    "    X_pca_d_sa4_new = pcafit.transform(X_train_std)\n",
    "\n",
    "    PCnames = []\n",
    "    for i in range(1, d3 + 1, 1):\n",
    "        PCnames.append(f\"sa4PC{i}\")  \n",
    "    \n",
    "    pcadf = pd.DataFrame(X_pca_d_sa4_new , columns=PCnames)\n",
    "    pcadf['date'] = avg_1_y.reset_index()['date'][1:21].reset_index(drop= True)\n",
    "    pcadf= pcadf.set_index(\"date\")    \n",
    "    \n",
    "    df1 = pd.concat([pcadf,avg_1['l0']], axis=1, join = \"outer\")\n",
    "    df2 = avg_3.loc[avg_3['sa4'] == key].set_index('date')\n",
    "    df3 = pd.concat([df1,df2['l01']], axis=1,join = \"outer\")\n",
    "#     df4 = df3.interpolate(method='linear').interpolate(method=\"spline\", order=1, limit_direction=\"both\")\n",
    "    df4 = df3.interpolate(\"bfill\").interpolate(\"ffill\")\n",
    "    df4['l1'] = df4['l01'] - df4['l0']\n",
    "    pcadf_sa4_date_new = df4.drop(['l01', 'l0'], axis=1)\n",
    "\n",
    "    modelsa4 = VAR(pcadf_sa4_date_new)\n",
    "    result = modelsa4.fit(lag)\n",
    "    #print(\"Lag Order =\", lag)\n",
    "    #print(\"AIC : \", result.aic)\n",
    "    return(result.aic)"
   ]
  },
  {
   "cell_type": "code",
   "execution_count": 111,
   "id": "aff2d460",
   "metadata": {},
   "outputs": [],
   "source": [
    "# # using the outcome from the previous VAR model (l0)\n",
    "# def gamma2AIC_VAR(key,pcafit,d3,lag):\n",
    "#     Dictdf = DataFrameDict_Hsa4[key].interpolate(\"bfill\").interpolate(\"ffill\").loc[:, DataFrameDict_Hsa4[key].columns != \"date\"]\n",
    "#     Xtraindata = pd.DataFrame([], columns = df_marks['Variable Names'].values)\n",
    "#     lst = list(set(df_marks['Variable Names'].values) & set(Dictdf.columns.values))\n",
    "\n",
    "#     for vn in lst:\n",
    "#         Xtraindata[vn] = Dictdf[vn]\n",
    "#     X_train = Xtraindata.reset_index(drop =True).fillna(value = 0)     \n",
    "#     scaler = StandardScaler()\n",
    "\n",
    "# # X_train.replace([np.inf, -np.inf], np.nan, inplace=True)\n",
    "#     X_train_std = scaler.fit_transform(X_train)\n",
    "#     X_pca_d_sa4_new = pcafit.transform(X_train_std)\n",
    "\n",
    "#     PCnames = []\n",
    "#     for i in range(1, d3 + 1, 1):\n",
    "#         PCnames.append(f\"sa4PC{i}\")  \n",
    "    \n",
    "#     pcadf = pd.DataFrame(X_pca_d_sa4_new , columns=PCnames)\n",
    "#     pcadf['date'] = avg_1_y.reset_index()['date'][1:21].reset_index(drop= True)\n",
    "#     pcadf= pcadf.set_index(\"date\")    \n",
    "    \n",
    "#     df1 = pd.concat([pcadf,avg_1_pred['l0_forecast']], axis=1, join = \"outer\")\n",
    "#     df2 = avg_3.loc[avg_3['sa4'] == key].set_index('date')\n",
    "#     df3 = pd.concat([df1,df2['l01']], axis=1,join = \"outer\")\n",
    "# #     df4 = df3.interpolate(method='linear').interpolate(method=\"spline\", order=1, limit_direction=\"both\")\n",
    "#     df4 = df3.interpolate(\"bfill\").interpolate(\"ffill\")\n",
    "#     df4['l1'] = df4['l01'] - df4['l0_forecast']\n",
    "#     pcadf_sa4_date_new = df4.drop(['l01', 'l0_forecast'], axis=1)\n",
    "\n",
    "#     modelsa4 = VAR(pcadf_sa4_date_new)\n",
    "#     result = modelsa4.fit(lag)\n",
    "#     #print(\"Lag Order =\", lag)\n",
    "#     #print(\"AIC : \", result.aic)\n",
    "#     return(result.aic)"
   ]
  },
  {
   "cell_type": "code",
   "execution_count": 112,
   "id": "bb7a6d34",
   "metadata": {},
   "outputs": [],
   "source": [
    "def gamma2pre_VAR(key,pcafit,d3,lag):\n",
    "    Dictdf = DataFrameDict_Hsa4[key].interpolate(\"bfill\").interpolate(\"ffill\").loc[:, DataFrameDict_Hsa4[key].columns != \"date\"]\n",
    "    Xtraindata = pd.DataFrame([], columns = df_marks['Variable Names'].values)\n",
    "    lst = list(set(df_marks['Variable Names'].values) & set(Dictdf.columns.values))\n",
    "\n",
    "    for vn in lst:\n",
    "        Xtraindata[vn] = Dictdf[vn]\n",
    "    X_train = Xtraindata.reset_index(drop =True).fillna(value = 0)     \n",
    "    scaler = StandardScaler()\n",
    "\n",
    "# X_train.replace([np.inf, -np.inf], np.nan, inplace=True)\n",
    "    X_train_std = scaler.fit_transform(X_train)\n",
    "    X_pca_d_sa4_new = pcafit.transform(X_train_std)\n",
    "\n",
    "    PCnames = []\n",
    "    for i in range(1, d3 + 1, 1):\n",
    "        PCnames.append(f\"sa4PC{i}\")  \n",
    "    \n",
    "    pcadf = pd.DataFrame(X_pca_d_sa4_new , columns=PCnames)\n",
    "    pcadf['date'] = avg_1_y.reset_index()['date'][1:21].reset_index(drop= True)\n",
    "    pcadf= pcadf.set_index(\"date\")    \n",
    "    \n",
    "    df1 = pd.concat([pcadf,avg_1['l0']], axis=1, join = \"outer\")\n",
    "    df2 = avg_3.loc[avg_3['sa4'] == key].set_index('date')\n",
    "    df3 = pd.concat([df1,df2['l01']], axis=1,join = \"outer\")\n",
    "#     df4 = df3.interpolate(method='linear').interpolate(method=\"spline\", order=1, limit_direction=\"both\")\n",
    "    df4 = df3.interpolate(\"bfill\").interpolate(\"ffill\")\n",
    "    df4['l1'] = df4['l01'] - df4['l0']\n",
    "    pcadf_sa4_date_new = df4.drop(['l01', 'l0'], axis=1)\n",
    "    pcadf_sa4_date_new = pcadf_sa4_date_new.reset_index() \n",
    "    df5= pcadf_sa4_date_new.loc[(\"2020-01\" >pcadf_sa4_date_new[\"date\"])&(pcadf_sa4_date_new[\"date\"]> \"2000-12\")].reset_index(drop = True)\n",
    "    df = df5.iloc[:,1:]\n",
    "\n",
    "    modelsa4 = VAR(df)\n",
    "    model_fitted = modelsa4.fit(lag)\n",
    "    \n",
    "    lag_order = model_fitted.k_ar\n",
    "    forecast_input = df\n",
    "    start_point = lag_order \n",
    "\n",
    "    df_forecast = []\n",
    "    for i in range(1,df.shape[0]-lag_order+1, 1):\n",
    "        forecast_input = df.values[\n",
    "            -lag_order + start_point + i - 1 : start_point + i - 1,\n",
    "        ]\n",
    "        df_forecast.append(\n",
    "            model_fitted.forecast(y=forecast_input, steps=1)[\n",
    "                0,\n",
    "            ][-1]\n",
    "        )\n",
    "    avg_3_pred_sa4 = pd.DataFrame(df_forecast, columns=[\"l1_forecast\"])\n",
    "    #print(\"Lag Order =\", lag)\n",
    "    #print(\"AIC : \", result.aic)\n",
    "    return(avg_3_pred_sa4)"
   ]
  },
  {
   "cell_type": "code",
   "execution_count": 43,
   "id": "aa76ac88",
   "metadata": {},
   "outputs": [],
   "source": [
    "# def gamma2pre_VAR(key,pcafit,d3,lag):\n",
    "#     Dictdf = DataFrameDict_Hsa4[key].interpolate(\"bfill\").interpolate(\"ffill\").loc[:, DataFrameDict_Hsa4[key].columns != \"date\"]\n",
    "#     Xtraindata = pd.DataFrame([], columns = df_marks['Variable Names'].values)\n",
    "#     lst = list(set(df_marks['Variable Names'].values) & set(Dictdf.columns.values))\n",
    "\n",
    "#     for vn in lst:\n",
    "#         Xtraindata[vn] = Dictdf[vn]\n",
    "#     X_train = Xtraindata.reset_index(drop =True).fillna(value = 0)     \n",
    "#     scaler = StandardScaler()\n",
    "\n",
    "# # X_train.replace([np.inf, -np.inf], np.nan, inplace=True)\n",
    "#     X_train_std = scaler.fit_transform(X_train)\n",
    "#     X_pca_d_sa4_new = pcafit.transform(X_train_std)\n",
    "\n",
    "#     PCnames = []\n",
    "#     for i in range(1, d3 + 1, 1):\n",
    "#         PCnames.append(f\"sa4PC{i}\")  \n",
    "    \n",
    "#     pcadf = pd.DataFrame(X_pca_d_sa4_new , columns=PCnames)\n",
    "#     pcadf['date'] = avg_1_y.reset_index()['date'][1:21].reset_index(drop= True)\n",
    "#     pcadf= pcadf.set_index(\"date\")    \n",
    "    \n",
    "#     df1 = pd.concat([pcadf,avg_1_pred['l0_forecast']], axis=1, join = \"outer\")\n",
    "#     df2 = avg_3.loc[avg_3['sa4'] == key].set_index('date')\n",
    "#     df3 = pd.concat([df1,df2['l01']], axis=1,join = \"outer\")\n",
    "# #     df4 = df3.interpolate(method='linear').interpolate(method=\"spline\", order=1, limit_direction=\"both\")\n",
    "#     df4 = df3.interpolate(\"bfill\").interpolate(\"ffill\")\n",
    "#     df4['l1'] = df4['l01'] - df4['l0_forecast']\n",
    "#     pcadf_sa4_date_new = df4.drop(['l01', 'l0_forecast'], axis=1)\n",
    "#     pcadf_sa4_date_new = pcadf_sa4_date_new.reset_index() \n",
    "#     df5= pcadf_sa4_date_new.loc[(\"2020-01\" >pcadf_sa4_date_new[\"date\"])&(pcadf_sa4_date_new[\"date\"]> \"2000-12\")].reset_index(drop = True)\n",
    "#     df = df5.iloc[:,1:]\n",
    "\n",
    "#     modelsa4 = VAR(df)\n",
    "#     model_fitted = modelsa4.fit(lag)\n",
    "    \n",
    "#     lag_order = model_fitted.k_ar\n",
    "#     forecast_input = df\n",
    "#     start_point = lag_order \n",
    "\n",
    "#     df_forecast = []\n",
    "#     for i in range(1,df.shape[0]-lag_order+1, 1):\n",
    "#         forecast_input = df.values[\n",
    "#             -lag_order + start_point + i - 1 : start_point + i - 1,\n",
    "#         ]\n",
    "#         df_forecast.append(\n",
    "#             model_fitted.forecast(y=forecast_input, steps=1)[\n",
    "#                 0,\n",
    "#             ][-1]\n",
    "#         )\n",
    "#     avg_3_pred_sa4 = pd.DataFrame(df_forecast, columns=[\"l1_forecast\"])\n",
    "#     #print(\"Lag Order =\", lag)\n",
    "#     #print(\"AIC : \", result.aic)\n",
    "#     return(avg_3_pred_sa4)"
   ]
  },
  {
   "cell_type": "code",
   "execution_count": 114,
   "id": "823716a2",
   "metadata": {},
   "outputs": [],
   "source": [
    "# agg = avg_1.reset_index()\n",
    "# pcadf0 = PC_nat.reset_index()\n",
    "# pcadf = pcadf0.loc[(\"2020-01\" > pcadf0[\"date\"]) & (pcadf0[\"date\"] > \"2000-11\")].reset_index(drop = True)\n",
    "\n",
    "\n",
    "# values  = agg[\"l0\"].loc[(\"2020-01\" > agg[\"date\"]) & (agg[\"date\"] > \"2000-11\")].reset_index(drop=True).values\n",
    "# values = values.reshape((len(values), 1))\n",
    "\n",
    "# scaler1 = scaler.fit(values)\n",
    "# normalized  = scaler1.transform(values)\n",
    "# normalized_list =  [i[0] for i in normalized]\n",
    "# normalized_df = pd.DataFrame(normalized_list,columns = ['l0'])\n",
    "\n",
    "# pca_avg = pd.concat(\n",
    "#     [\n",
    "#         pcadf,\n",
    "#         normalized_df,\n",
    "#     ],\n",
    "#     axis=1,\n",
    "# )\n",
    "\n",
    "\n",
    "# df = pca_avg.iloc[:,1:]\n",
    "# model = VAR(df)\n",
    "# print(model.select_order(12).summary() )\n",
    "# # lag order should be one here\n",
    "\n",
    "# model_fitted = model.fit(2)\n",
    "# model_fitted.summary()\n",
    "\n",
    "# from statsmodels.stats.stattools import durbin_watson\n",
    "# out = durbin_watson(model_fitted.resid)\n",
    "\n",
    "\n",
    "# for col, val in zip(df.columns, out):\n",
    "#     print(col, \":\", round(val, 2))\n",
    "\n",
    "# lag_order = model_fitted.k_ar\n",
    "# forecast_input = df\n",
    "# start_point = lag_order \n",
    "\n",
    "# df_forecast = []\n",
    "# for i in range(1,df.shape[0]-lag_order+1, 1):\n",
    "#     forecast_input = df.values[\n",
    "#         -lag_order + start_point + i - 1 : start_point + i - 1,\n",
    "#     ]\n",
    "#     df_forecast.append(\n",
    "#         model_fitted.forecast(y=forecast_input, steps=1)[\n",
    "#             0,\n",
    "#         ][-1]\n",
    "#     )\n",
    "    \n",
    "# values_forecast = np.array(df_forecast)\n",
    "# values_forecast = values_forecast.reshape((len(values_forecast), 1))\n",
    "# inversed = scaler1.inverse_transform(values_forecast)\n",
    "# inversed_list =  [i[0] for i in inversed]"
   ]
  },
  {
   "cell_type": "code",
   "execution_count": 115,
   "id": "cf13f1de",
   "metadata": {},
   "outputs": [],
   "source": [
    "def gamma2rf(key,pcafit,d3,lag):\n",
    "    Dictdf = DataFrameDict_Hsa4[key].interpolate(\"bfill\").interpolate(\"ffill\").loc[:, DataFrameDict_Hsa4[key].columns != \"date\"]\n",
    "    Xtraindata = pd.DataFrame([], columns = df_marks['Variable Names'].values)\n",
    "    lst = list(set(df_marks['Variable Names'].values) & set(Dictdf.columns.values))\n",
    "\n",
    "    for vn in lst:\n",
    "        Xtraindata[vn] = Dictdf[vn]\n",
    "    X_train = Xtraindata.reset_index(drop =True).fillna(value = 0)     \n",
    "    scaler = StandardScaler()\n",
    "\n",
    "# X_train.replace([np.inf, -np.inf], np.nan, inplace=True)\n",
    "    X_train_std = scaler.fit_transform(X_train)\n",
    "    X_pca_d_sa4_new = pcafit.transform(X_train_std)\n",
    "\n",
    "    PCnames = []\n",
    "    for i in range(1, d3 + 1, 1):\n",
    "        PCnames.append(f\"sa4PC{i}\")  \n",
    "    \n",
    "    pcadf = pd.DataFrame(X_pca_d_sa4_new , columns=PCnames)\n",
    "    pcadf['date'] = avg_1_y.reset_index()['date'][1:21].reset_index(drop= True)\n",
    "    pcadf= pcadf.set_index(\"date\")    \n",
    "    #print(\"Lag Order =\", lag)\n",
    "    #print(\"AIC : \", result.aic)\n",
    "    return(pcadf)"
   ]
  },
  {
   "cell_type": "code",
   "execution_count": 116,
   "id": "06cee80c",
   "metadata": {},
   "outputs": [
    {
     "name": "stdout",
     "output_type": "stream",
     "text": [
      "PCnum:  12\n",
      "lag:  0\n",
      "count:  73\n",
      "PCnum:  12\n",
      "lag:  1\n",
      "count:  75\n",
      "PCnum:  12\n",
      "lag:  2\n",
      "count:  72\n",
      "PCnum:  12\n",
      "lag:  3\n",
      "count:  73\n",
      "PCnum:  12\n",
      "lag:  4\n",
      "count:  73\n",
      "PCnum:  12\n",
      "lag:  5\n",
      "count:  71\n",
      "PCnum:  12\n",
      "lag:  6\n",
      "count:  71\n",
      "PCnum:  12\n",
      "lag:  7\n",
      "count:  75\n",
      "PCnum:  12\n",
      "lag:  8\n",
      "count:  69\n",
      "PCnum:  11\n",
      "lag:  0\n",
      "count:  82\n",
      "PCnum:  11\n",
      "lag:  1\n",
      "count:  85\n",
      "PCnum:  11\n",
      "lag:  2\n",
      "count:  81\n",
      "PCnum:  11\n",
      "lag:  3\n",
      "count:  82\n",
      "PCnum:  11\n",
      "lag:  4\n",
      "count:  83\n",
      "PCnum:  11\n",
      "lag:  5\n",
      "count:  83\n",
      "PCnum:  11\n",
      "lag:  6\n",
      "count:  84\n",
      "PCnum:  11\n",
      "lag:  7\n",
      "count:  85\n",
      "PCnum:  11\n",
      "lag:  8\n",
      "count:  85\n",
      "PCnum:  10\n",
      "lag:  0\n",
      "count:  87\n",
      "PCnum:  10\n",
      "lag:  1\n",
      "count:  87\n",
      "PCnum:  10\n",
      "lag:  2\n",
      "count:  87\n",
      "PCnum:  10\n",
      "lag:  3\n",
      "count:  87\n",
      "PCnum:  10\n",
      "lag:  4\n",
      "count:  87\n",
      "PCnum:  10\n",
      "lag:  5\n",
      "count:  87\n",
      "PCnum:  10\n",
      "lag:  6\n",
      "count:  87\n",
      "PCnum:  10\n",
      "lag:  7\n",
      "count:  87\n",
      "PCnum:  10\n",
      "lag:  8\n",
      "count:  87\n",
      "PCnum:  9\n",
      "lag:  0\n",
      "count:  87\n",
      "PCnum:  9\n",
      "lag:  1\n",
      "count:  87\n",
      "PCnum:  9\n",
      "lag:  2\n",
      "count:  87\n",
      "PCnum:  9\n",
      "lag:  3\n",
      "count:  87\n",
      "PCnum:  9\n",
      "lag:  4\n",
      "count:  87\n",
      "PCnum:  9\n",
      "lag:  5\n",
      "count:  87\n",
      "PCnum:  9\n",
      "lag:  6\n",
      "count:  87\n",
      "PCnum:  9\n",
      "lag:  7\n",
      "count:  87\n",
      "PCnum:  9\n",
      "lag:  8\n",
      "count:  87\n",
      "PCnum:  8\n",
      "lag:  0\n",
      "count:  87\n",
      "PCnum:  8\n",
      "lag:  1\n",
      "count:  87\n",
      "PCnum:  8\n",
      "lag:  2\n",
      "count:  87\n",
      "PCnum:  8\n",
      "lag:  3\n",
      "count:  87\n",
      "PCnum:  8\n",
      "lag:  4\n",
      "count:  87\n",
      "PCnum:  8\n",
      "lag:  5\n",
      "count:  87\n",
      "PCnum:  8\n",
      "lag:  6\n",
      "count:  87\n",
      "PCnum:  8\n",
      "lag:  7\n",
      "count:  87\n",
      "PCnum:  8\n",
      "lag:  8\n",
      "count:  87\n",
      "PCnum:  7\n",
      "lag:  0\n",
      "count:  87\n",
      "PCnum:  7\n",
      "lag:  1\n",
      "count:  87\n",
      "PCnum:  7\n",
      "lag:  2\n",
      "count:  87\n",
      "PCnum:  7\n",
      "lag:  3\n",
      "count:  87\n",
      "PCnum:  7\n",
      "lag:  4\n",
      "count:  87\n",
      "PCnum:  7\n",
      "lag:  5\n",
      "count:  87\n",
      "PCnum:  7\n",
      "lag:  6\n",
      "count:  87\n",
      "PCnum:  7\n",
      "lag:  7\n",
      "count:  87\n",
      "PCnum:  7\n",
      "lag:  8\n",
      "count:  87\n"
     ]
    }
   ],
   "source": [
    "import warnings\n",
    "warnings.filterwarnings(\"ignore\", category=RuntimeWarning)\n",
    "\n",
    "gamma_order = -1\n",
    "lag_list = [0,1,2,3,4,5,6,7,8]\n",
    "aic_array = np.zeros((len(gammaList), len(lag_list)) )\n",
    "count_array = np.zeros((len(gammaList), len(lag_list)))\n",
    "for gamma1 in gammaList:\n",
    "    gamma_order = gamma_order+1\n",
    "    d3_0, pcafit_0 = PCA_val(gamma1,df_marks,vrdata)\n",
    "    for lag0 in lag_list:\n",
    "        count = 0\n",
    "        AICtotal = 0\n",
    "        #print('Initial_count: ', count)\n",
    "        for key in DataFrameDict_Hsa4.keys():    \n",
    "            try:\n",
    "                #print(key)\n",
    "                AICtotal = AICtotal+gamma2AIC_VAR(key, pcafit_0, d3_0, lag0)\n",
    "                count = count+1\n",
    "            except:\n",
    "                #print(AICtotal)\n",
    "                pass\n",
    "            \n",
    "        avg =  AICtotal/count \n",
    "        PCnum = 12 - gamma_order\n",
    "        \n",
    "        print('PCnum: ', PCnum)\n",
    "        print('lag: ',lag0)\n",
    "        print('count: ',count)\n",
    "        \n",
    "        count_array[gamma_order][lag0] = count\n",
    "#         print('avgAIC: ', avg )\n",
    "        aic_array[gamma_order][lag0] = avg\n"
   ]
  },
  {
   "cell_type": "code",
   "execution_count": 117,
   "id": "a01c0a30",
   "metadata": {},
   "outputs": [
    {
     "name": "stdout",
     "output_type": "stream",
     "text": [
      "\\begin{bmatrix}\n",
      "  73.00 &  75.00 &  72.00 &  73.00 &  73.00 &  71.00 &  71.00 &  75.00 &  69.00\\\\\n",
      "  82.00 &  85.00 &  81.00 &  82.00 &  83.00 &  83.00 &  84.00 &  85.00 &  85.00\\\\\n",
      "  87.00 &  87.00 &  87.00 &  87.00 &  87.00 &  87.00 &  87.00 &  87.00 &  87.00\\\\\n",
      "  87.00 &  87.00 &  87.00 &  87.00 &  87.00 &  87.00 &  87.00 &  87.00 &  87.00\\\\\n",
      "  87.00 &  87.00 &  87.00 &  87.00 &  87.00 &  87.00 &  87.00 &  87.00 &  87.00\\\\\n",
      "  87.00 &  87.00 &  87.00 &  87.00 &  87.00 &  87.00 &  87.00 &  87.00 &  87.00\n",
      "\\end{bmatrix}\n"
     ]
    }
   ],
   "source": [
    "a2l.to_ltx(count_array)"
   ]
  },
  {
   "cell_type": "code",
   "execution_count": 118,
   "id": "439005af",
   "metadata": {},
   "outputs": [
    {
     "name": "stdout",
     "output_type": "stream",
     "text": [
      "\\begin{bmatrix}\n",
      " -29.40 & -59.70 & -56.73 & -55.31 & -55.16 & -52.01 & -50.87 & -52.58 & -47.38\\\\\n",
      " -23.01 & -50.71 & -47.88 & -47.37 & -46.91 & -45.87 & -45.15 & -43.85 & -43.45\\\\\n",
      " -18.98 & -43.28 & -42.39 & -41.51 & -40.63 & -39.76 & -38.92 & -38.11 & -37.38\\\\\n",
      " -17.25 & -39.31 & -38.59 & -37.87 & -37.15 & -36.44 & -35.74 & -35.07 & -34.45\\\\\n",
      " -15.53 & -35.35 & -34.78 & -34.20 & -33.62 & -33.04 & -32.48 & -31.93 & -31.43\\\\\n",
      " -13.15 & -30.66 & -30.22 & -29.77 & -29.31 & -28.86 & -28.42 & -27.99 & -27.58\n",
      "\\end{bmatrix}\n"
     ]
    }
   ],
   "source": [
    "a2l.to_ltx(aic_array)"
   ]
  },
  {
   "cell_type": "code",
   "execution_count": 119,
   "id": "9510ebd0",
   "metadata": {},
   "outputs": [
    {
     "data": {
      "text/plain": [
       "5.050505050505051"
      ]
     },
     "execution_count": 119,
     "metadata": {},
     "output_type": "execute_result"
    }
   ],
   "source": [
    "gammaList[2]"
   ]
  },
  {
   "cell_type": "code",
   "execution_count": 120,
   "id": "480bf920",
   "metadata": {},
   "outputs": [],
   "source": [
    "import statsmodels.api as statm\n",
    "from statistics import mean\n",
    "from sklearn.datasets import make_regression\n",
    "from sklearn.model_selection import train_test_split\n",
    "gamma_final = gammaList[2]\n",
    "d3_final, pcafit_final = PCA_val(gamma_final,df_marks,vrdata)\n",
    "lag_final = 1"
   ]
  },
  {
   "cell_type": "code",
   "execution_count": 121,
   "id": "204e28b9",
   "metadata": {},
   "outputs": [],
   "source": [
    "avg_3_pred_values= []\n",
    "lst = [\"date\",\"sa4\", \"l0_fc\", \"l1_fc\", \"l01_fc\"]\n",
    "# Calling DataFrame constructor on list\n",
    "for key in DataFrameDict_Hsa4.keys():    \n",
    "    try:\n",
    "        df = pd.DataFrame([], columns=lst)\n",
    "        df1 = avg_1_pred.reset_index()\n",
    "        df[\"date\"] = df1[\"date\"].loc[(\"2020-01\" >df1[\"date\"])& (df1[\"date\"] > \"1999-12\")]\n",
    "        df[\"sa4\"] = key \n",
    "        df[\"l0_fc\"] = df1[\"l0_forecast\"].loc[(\"2020-01\" >df1[\"date\"])& (df1[\"date\"] > \"1999-12\")]\n",
    "        df[\"l1_fc\"] = gamma2pre_VAR(key, pcafit_final, d3_final, lag_final)[\"l1_forecast\"]\n",
    "        df[\"l01_fc\"]  = df[\"l0_fc\"] + df[\"l1_fc\"]\n",
    "        avg_3_pred_values.append(df)\n",
    "        \n",
    "    except:\n",
    "        pass\n",
    "    \n",
    "\n",
    "\n",
    "avg_3_pred = pd.concat(avg_3_pred_values)\n",
    "avg_3_pred = avg_3_pred.reset_index(drop=True)\n",
    "avg_3_pred['date'] = pd.to_datetime(avg_3_pred['date'],errors = 'coerce')\n",
    "    "
   ]
  },
  {
   "cell_type": "code",
   "execution_count": 122,
   "id": "e59e3a4b",
   "metadata": {},
   "outputs": [],
   "source": [
    "avg_3_pred = avg_3_pred.drop(['l0_fc', 'l1_fc'], axis=1)    "
   ]
  },
  {
   "cell_type": "code",
   "execution_count": 126,
   "id": "ea6accd3",
   "metadata": {},
   "outputs": [
    {
     "name": "stdout",
     "output_type": "stream",
     "text": [
      "4670\n",
      "Wide Bay\n",
      "4655\n",
      "Wide Bay\n",
      "4650\n",
      "Wide Bay\n",
      "4615\n",
      "Wide Bay\n"
     ]
    },
    {
     "data": {
      "text/plain": [
       "0.11998853082572593"
      ]
     },
     "execution_count": 126,
     "metadata": {},
     "output_type": "execute_result"
    }
   ],
   "source": [
    "Rsq = []\n",
    "postcode_list_OLS = []\n",
    "sa4_list_OLS = []\n",
    "for key in DataFrameDict_postcode.keys():\n",
    "    try:\n",
    "        df = pd.DataFrame([])\n",
    "        sa4_name =  DataFrameDict_postcode[key][\"sa4_name16\"].unique()[0]\n",
    "        df_rf_sa4 = gamma2rf(sa4_name,pcafit_final,d3_final,lag_final)\n",
    "        df_rf_nat = PC_nat\n",
    "        df1 = df_rf_nat.join(df_rf_sa4)\n",
    "        df2 = df1.join(avg_4.loc[avg_4['postcode'] == key].set_index('date'))\n",
    "        df3 = df2.join(avg_3.loc[avg_3['sa4'] == sa4_name].set_index('date'))\n",
    "        df4 = df3.interpolate(method='linear').interpolate(method=\"spline\", order=1, limit_direction=\"both\")\n",
    "        df4['l2'] = df4['l012'] - df4['l01']\n",
    "        df5 = df4.drop(['postcode','sa4','l012', 'l01'], axis=1)    \n",
    "        df6 = df1.interpolate(\"bfill\").interpolate(\"ffill\").reset_index()\n",
    "        df6['date'] = df6['date'].astype(str)\n",
    "        month = [int(my_str.split(\"-\")[1]) for my_str in df6[\"date\"].values]\n",
    "        quater = [(m - 1) // 3 + 1 for m in month]\n",
    "        monthdummies = pd.get_dummies(month, prefix=\"month\").iloc[:,:-1]\n",
    "        quaterdummies = pd.get_dummies(quater, prefix=\"quater\").iloc[:,:-1]\n",
    "        dummies = pd.concat([monthdummies, quaterdummies], axis=1)\n",
    "        df7 =  pd.concat([df6,dummies],axis =1)\n",
    "        X = df7.iloc[:, 1:].values\n",
    "        y = df5.iloc[:, -1].values\n",
    "        \n",
    "#         result = statm.OLS(y, X).fit()\n",
    "        result = statm.OLS(y, X).fit()\n",
    "        Rsq.append(result.rsquared)\n",
    "        sa4_list_OLS.append(sa4_name)\n",
    "        postcode_list_OLS.append(key)\n",
    "        \n",
    "    except:\n",
    "        print(key)\n",
    "        print(sa4_name)\n",
    "        pass\n",
    "        \n",
    "cleanedRsq = [x for x in Rsq if str(x) != \"nan\"]\n",
    "mean(cleanedRsq)   \n"
   ]
  },
  {
   "cell_type": "code",
   "execution_count": 56,
   "id": "5abcf62c",
   "metadata": {},
   "outputs": [
    {
     "name": "stdout",
     "output_type": "stream",
     "text": [
      "4670\n",
      "Wide Bay\n",
      "4655\n",
      "Wide Bay\n",
      "4650\n",
      "Wide Bay\n",
      "4615\n",
      "Wide Bay\n"
     ]
    },
    {
     "data": {
      "text/plain": [
       "0.13748357227299313"
      ]
     },
     "execution_count": 56,
     "metadata": {},
     "output_type": "execute_result"
    }
   ],
   "source": [
    "# Rsq = []\n",
    "# postcode_list_OLS = []\n",
    "# sa4_list_OLS = []\n",
    "# for key in DataFrameDict_postcode.keys():\n",
    "#     try:\n",
    "#         df = pd.DataFrame([])\n",
    "#         sa4_name =  DataFrameDict_postcode[key][\"sa4_name16\"].unique()[0]\n",
    "#         df_rf_sa4 = gamma2rf(sa4_name,pcafit_final,d3_final,lag_final)\n",
    "#         df_rf_nat = PC_nat\n",
    "#         df1 = df_rf_nat.join(df_rf_sa4)\n",
    "#         df2 = df1.join(avg_4.loc[avg_4['postcode'] == key].set_index('date'))\n",
    "#         df3 = df2.join(avg_3_pred.loc[avg_3_pred['sa4'] == sa4_name].set_index('date'))\n",
    "#         df4 = df3.interpolate(method='linear').interpolate(method=\"spline\", order=1, limit_direction=\"both\")\n",
    "#         df4['l2'] = df4['l012'] - df4['l01_fc']\n",
    "#         df5 = df4.drop(['postcode','sa4','l012', 'l01_fc'], axis=1)    \n",
    "#         df6 = df1.interpolate(\"bfill\").interpolate(\"ffill\").reset_index()\n",
    "#         df6['date'] = df6['date'].astype(str)\n",
    "#         month = [int(my_str.split(\"-\")[1]) for my_str in df6[\"date\"].values]\n",
    "#         quater = [(m - 1) // 3 + 1 for m in month]\n",
    "#         monthdummies = pd.get_dummies(month, prefix=\"month\").iloc[:,:-1]\n",
    "#         quaterdummies = pd.get_dummies(quater, prefix=\"quater\").iloc[:,:-1]\n",
    "#         dummies = pd.concat([monthdummies, quaterdummies], axis=1)\n",
    "#         df7 =  pd.concat([df6,dummies],axis =1)\n",
    "#         X = df7.iloc[:, 1:].values\n",
    "#         y = df5.iloc[:, -1].values\n",
    "        \n",
    "# #         result = statm.OLS(y, X).fit()\n",
    "#         result = statm.OLS(y, X).fit()\n",
    "#         Rsq.append(result.rsquared)\n",
    "#         sa4_list_OLS.append(sa4_name)\n",
    "#         postcode_list_OLS.append(key)\n",
    "        \n",
    "#     except:\n",
    "#         print(key)\n",
    "#         print(sa4_name)\n",
    "#         pass\n",
    "        \n",
    "# cleanedRsq = [x for x in Rsq if str(x) != \"nan\"]\n",
    "# mean(cleanedRsq)   \n"
   ]
  },
  {
   "cell_type": "code",
   "execution_count": 127,
   "id": "69b803e5",
   "metadata": {},
   "outputs": [
    {
     "name": "stdout",
     "output_type": "stream",
     "text": [
      "Mackay - Isaac - Whitsunday\n",
      "0.2980586298437037\n"
     ]
    }
   ],
   "source": [
    "print(sa4_list_OLS[cleanedRsq.index(max(cleanedRsq))])\n",
    "print(cleanedRsq[cleanedRsq.index(max(cleanedRsq))])"
   ]
  },
  {
   "cell_type": "markdown",
   "id": "a887a1d6",
   "metadata": {},
   "source": [
    "# Map\n"
   ]
  },
  {
   "cell_type": "code",
   "execution_count": 128,
   "id": "dbebfbf0",
   "metadata": {},
   "outputs": [
    {
     "name": "stdout",
     "output_type": "stream",
     "text": [
      "2668\n",
      "2669\n"
     ]
    }
   ],
   "source": [
    "postcodecsv = pd.read_csv(\"au_postcodes.csv\")\n",
    "# References:\n",
    "# https://blog.greglow.com/2019/11/05/power-bi-creating-a-topojson-file-of-australian-postcodes-for-use-with-shape-map/\n",
    "# https://mapshaper.org/\n",
    "# https://www.abs.gov.au/AUSSTATS/abs@.nsf/DetailsPage/1270.0.55.003July%202016?OpenDocument\n",
    "\n",
    "from statistics import mean, median\n",
    "\n",
    "import pandas as pd\n",
    "from scipy import stats\n",
    "\n",
    "ndf = pd.read_json(\"POA_2016_AUST.json\")\n",
    "ndf1 = ndf[\"features\"].apply(pd.Series)\n",
    "ndf2 = ndf1[\"geometry\"].apply(pd.Series)\n",
    "ndf3 = ndf1[\"properties\"].apply(pd.Series)\n",
    "border = ndf2[\"coordinates\"]\n",
    "\n",
    "depth = lambda L: isinstance(L, list) and max(map(depth, L)) + 1\n",
    "\n",
    "\n",
    "def flatten(d, l=1):\n",
    "    for i in d:\n",
    "        yield from ([i] if l == 1 else flatten(i, l - 1))\n",
    "\n",
    "\n",
    "def centerlocation(index):\n",
    "    tmplst = list(flatten(border[index], l=depth(border[index])))\n",
    "    longi = median([i for i in tmplst if i > 0])\n",
    "    lati = median([i for i in tmplst if i < 0])\n",
    "    return [longi, lati]\n",
    "\n",
    "\n",
    "postcodedf = []\n",
    "i = 0\n",
    "for i in range(len(ndf)):\n",
    "    if depth(border[i]) > 0:\n",
    "        tpd = {\n",
    "            \"postcode\": [ndf3[\"POA_CODE16\"].iloc[i]],\n",
    "            \"longitude\": [centerlocation(i)[0]],\n",
    "            \"latitude\": [centerlocation(i)[1]],\n",
    "        }\n",
    "        tpdf = pd.DataFrame(tpd)\n",
    "        postcodedf.append(tpdf)\n",
    "    else:\n",
    "        print(i)\n",
    "        continue\n",
    "    i = i + 1\n",
    "postcodedf = pd.concat(postcodedf, ignore_index=True)"
   ]
  },
  {
   "cell_type": "code",
   "execution_count": 129,
   "id": "1f744e7e",
   "metadata": {},
   "outputs": [],
   "source": [
    "# residuals_OLS = []\n",
    "\n",
    "# for key in DataFrameDict_postcode.keys():\n",
    "#     try:\n",
    "#         if sum(postcodedf[\"postcode\"] == key) > 0:\n",
    "#             # ind = placepc.loc[placepc == pc].index[0]\n",
    "#             ind = postcodedf.loc[postcodedf[\"postcode\"] == key].index[0]\n",
    "#             df = DataFrameDict_postcode[key]\n",
    "#             if len(df[\"Hedonic Home Value Index\"]) > 360:\n",
    "#                 sa4_name =  DataFrameDict_postcode[key][\"sa4_name16\"].unique()[0]\n",
    "#                 df_rf_sa4 = gamma2rf(sa4_name,pcafit_final,d3_final,lag_final)\n",
    "#                 df_rf_nat = PC_nat\n",
    "#                 df1 = df_rf_nat.join(df_rf_sa4)\n",
    "#                 df2 = df1.join(avg_4.loc[avg_4['postcode'] == key].set_index('date'))\n",
    "#                 df3 = df2.join(avg_3_pred.loc[avg_3_pred['sa4'] ==sa4_name].set_index('date'))\n",
    "#                 df4 = df3.interpolate(method='linear').interpolate(method=\"spline\", order=1, limit_direction=\"both\")\n",
    "#                 df4['l2'] = df4['l012'] - df4['l01_fc']\n",
    "#                 df5 = df4.drop(['postcode','sa4','l012', 'l01_fc'], axis=1)    \n",
    "#                 df6 = df1.interpolate(\"bfill\").interpolate(\"ffill\").reset_index()\n",
    "#                 df6['date'] = df6['date'].astype(str)\n",
    "#                 month = [int(my_str.split(\"-\")[1]) for my_str in df6[\"date\"].values]\n",
    "#                 quater = [(m - 1) // 3 + 1 for m in month]\n",
    "#                 monthdummies = pd.get_dummies(month, prefix=\"month\").iloc[:,:-1]\n",
    "#                 quaterdummies = pd.get_dummies(quater, prefix=\"quater\").iloc[:,:-1]\n",
    "#                 dummies = pd.concat([monthdummies, quaterdummies], axis=1)\n",
    "#                 df7 =  pd.concat([df6,dummies],axis =1)\n",
    "#                 X = df7.iloc[:, 1:].values\n",
    "#                 y = df5.iloc[:, -1].values\n",
    "#                 result = statm.OLS(y, X).fit()\n",
    "#                 predicted =  df4['l01_fc']+ result.predict(X)\n",
    "                \n",
    "#                 true_final_value = DataFrameDict_postcode[key].loc[DataFrameDict_postcode[key].value_at_date == \"2019-11-30\"]['Hedonic Home Value Index']\n",
    "#                 predicted_final_value = 2**(sum(predicted[-119:]))*100\n",
    "                \n",
    "#                         # ind = placepc.loc[placepc == pc].index[0]\n",
    "#                 ind = postcodedf.loc[postcodedf[\"postcode\"] == key].index[0]\n",
    "#                 df = DataFrameDict_postcode[key]\n",
    "#                 tpd = {\n",
    "#                     \"Suburbs\": \", \".join(\n",
    "#                         (\n",
    "#                             (\n",
    "#                                 postcodecsv.loc[(postcodecsv[\"postcode\"] == int(key))][\n",
    "#                                     \"place_name\"\n",
    "#                                 ]\n",
    "#                             ).tolist()\n",
    "#                         )\n",
    "#                     ),\n",
    "#                     \"UniqueNames_sa3\": DataFrameDict_postcode[key][\"sa3_name16\"].unique(),\n",
    "#                     \"UniqueNames_sa4\": DataFrameDict_postcode[key][\"sa4_name16\"].unique(),\n",
    "#                     \"S/T\": DataFrameDict_postcode[key][\"state\"].unique(),\n",
    "#                     \"Postcode\": [postcodedf.loc[ind, \"postcode\"]],\n",
    "#                     \"longitude\": [postcodedf.loc[ind, \"longitude\"]],\n",
    "#                     \"latitude\": [postcodedf.loc[ind, \"latitude\"]],\n",
    "#                     \"FinalHPI_Houses\": true_final_value,\n",
    "#                     \"Pre_FinalHPI_Houses\": predicted_final_value,\n",
    "#                     \"Relative Error\": (predicted_final_value - true_final_value)/true_final_value\n",
    "#                     # 'Suburbs':\", \". join( ((postcodecsv.loc[(postcodecsv['postcode'] ==int(postcodedf.loc[ind,'Postcode']))]['place_name']).tolist()))}\n",
    "                    \n",
    "#                 }\n",
    "\n",
    "#                 tpdf = pd.DataFrame(tpd)\n",
    "#                 residuals_OLS.append(tpdf)\n",
    "\n",
    "#         else:\n",
    "#             print(\"area(value) %s: data incomplete\" % (key))\n",
    "#             continue\n",
    "#     except:\n",
    "#         print(key)\n",
    "#         print(sa4_name)\n",
    "#         pass    \n",
    "\n",
    "# residuals_OLS = pd.concat(residuals_OLS, ignore_index=True)\n",
    "# residuals_OLS[\"Postcode\"] = residuals_OLS[\"Postcode\"].astype(str)"
   ]
  },
  {
   "cell_type": "code",
   "execution_count": 130,
   "id": "5457fb19",
   "metadata": {},
   "outputs": [],
   "source": [
    "import pandas as pd\n",
    "import pdfkit as pdf\n",
    "import sqlite3\n",
    "import numpy as np\n",
    "\n",
    "\n",
    "df = residuals_OLS\n",
    "# df.to_html('f.html')\n",
    "# nazivFajla='z.pdf'\n",
    "# pdf.from_file('f.html', nazivFajla)"
   ]
  },
  {
   "cell_type": "code",
   "execution_count": 62,
   "id": "7cf10d5b",
   "metadata": {},
   "outputs": [],
   "source": [
    "# folium_map4 = folium.Map(location=[-30, 138], zoom_start=4.4, titles=\"cartodbpositron\")\n",
    "\n",
    "\n",
    "# f = open(\"POA_2016_AUST.json\")\n",
    "# postcode_geo = json.load(f)\n",
    "# postcodedata2 = pd.DataFrame(\n",
    "#     {\"postcode\": df_retainedpc[0], \"fill\": [1] * len(df_retainedpc[0])}\n",
    "# )\n",
    "\n",
    "# folium.Choropleth(\n",
    "#     geo_data=postcode_geo,\n",
    "#     name=\"choropleth\",\n",
    "#     data=postcodedata2,\n",
    "#     fill_color=\"BrBG\",\n",
    "#     columns=[\"postcode\", \"fill\"],\n",
    "#     key_on=\"feature.properties.POA_CODE16\",\n",
    "#     fill_opacity=0.4,\n",
    "#     line_opacity=0.6,\n",
    "# ).add_to(folium_map4)\n",
    "\n",
    "# mc1 = MarkerCluster(name=\"Marker Cluster\")\n",
    "# df = residuals_OLS\n",
    "# def color_producer(err):\n",
    "#     if err < 0:\n",
    "#         return 'red'\n",
    "#     else:\n",
    "#         return 'green'\n",
    "    \n",
    "# for index, row in df.iterrows():\n",
    "#     html = \" Postcode: {}<br><br>Suburb(s): {}<br><br> Location (SA3): {} <br><br> Location (SA3): {} <br><br>State: {} <br><br> Relative Error:{} <br><br> Final HPI:{}\".format(\n",
    "#         row[\"Postcode\"],\n",
    "#         row[\"Suburbs\"],\n",
    "#         row[\"UniqueNames_sa3\"],\n",
    "#         row[\"UniqueNames_sa4\"],\n",
    "#         row[\"S/T\"],\n",
    "#         format(row[\"Relative Error\"], \".4f\"),\n",
    "#         format(row[\"FinalHPI_Houses\"], \".4f\")\n",
    "#     )\n",
    "\n",
    "#     iframe = folium.IFrame(html)\n",
    "#     popup = folium.Popup(iframe, min_width=400, max_width=400)\n",
    "#     folium.CircleMarker(\n",
    "#         location=[row[\"latitude\"], row[\"longitude\"]],\n",
    "#         color= color_producer(row[\"Relative Error\"]),\n",
    "#         fill_opacity=row[\"Relative Error\"]*50,\n",
    "#         weight=0.8,\n",
    "#         popup=popup,\n",
    "#         fill= True,\n",
    "#     ).add_to(mc1)\n",
    "\n",
    "# mc1.add_to(folium_map4)\n",
    "\n",
    "# folium.LayerControl().add_to(folium_map4)\n",
    "\n",
    "# folium_map4\n",
    "\n"
   ]
  },
  {
   "cell_type": "code",
   "execution_count": 63,
   "id": "6713c44c",
   "metadata": {},
   "outputs": [],
   "source": [
    "# folium_map4.save(\"index.html\")"
   ]
  },
  {
   "cell_type": "code",
   "execution_count": null,
   "id": "acad124a",
   "metadata": {},
   "outputs": [],
   "source": [
    "DataFrameDict_results1 = {elem: pd.DataFrame for elem in DataFrameDict_postcode.keys()}\n",
    "for key in DataFrameDict_results1.keys():\n",
    "    try:\n",
    "        if sum(postcodedf[\"postcode\"] == key) > 0:\n",
    "            # ind = placepc.loc[placepc == pc].index[0]\n",
    "            ind = postcodedf.loc[postcodedf[\"postcode\"] == key].index[0]\n",
    "            df = DataFrameDict_postcode[key]\n",
    "            if len(df[\"Hedonic Home Value Index\"]) > 360:\n",
    "                sa4_name =  DataFrameDict_postcode[key][\"sa4_name16\"].unique()[0]\n",
    "                df_rf_sa4 = gamma2rf(sa4_name,pcafit_final,d3_final,lag_final)\n",
    "                df_rf_nat = PC_nat\n",
    "                df1 = df_rf_nat.join(df_rf_sa4)\n",
    "                df2 = df1.join(avg_4.loc[avg_4['postcode'] == key].set_index('date'))\n",
    "                df3 = df2.join(avg_3_pred.loc[avg_3_pred['sa4'] ==sa4_name].set_index('date'))\n",
    "                df4 = df3.interpolate(method='linear').interpolate(method=\"spline\", order=1, limit_direction=\"both\")\n",
    "                df4['l2'] = df4['l012'] - df4['l01_fc']\n",
    "                df5 = df4.drop(['postcode','sa4','l012', 'l01_fc'], axis=1)    \n",
    "                df6 = df1.interpolate(\"bfill\").interpolate(\"ffill\").reset_index()\n",
    "                df6['date'] = df6['date'].astype(str)\n",
    "                month = [int(my_str.split(\"-\")[1]) for my_str in df6[\"date\"].values]\n",
    "                quater = [(m - 1) // 3 + 1 for m in month]\n",
    "                monthdummies = pd.get_dummies(month, prefix=\"month\").iloc[:,:-1]\n",
    "                quaterdummies = pd.get_dummies(quater, prefix=\"quater\").iloc[:,:-1]\n",
    "                dummies = pd.concat([monthdummies, quaterdummies], axis=1)\n",
    "                df7 =  pd.concat([df6,dummies],axis =1)\n",
    "                X = df7.iloc[:, 1:].values\n",
    "                y = df5.iloc[:, -1].values\n",
    "                result = statm.OLS(y, X).fit()\n",
    "                predicted =  df4['l01_fc']+ result.predict(X)\n",
    "                \n",
    "                true_final_value = DataFrameDict_postcode[key].loc[DataFrameDict_postcode[key].value_at_date == \"2019-11-30\"]['Hedonic Home Value Index']\n",
    "                predicted_final_value = 2**(sum(predicted[-119:]))*100\n",
    "                \n",
    "                        # ind = placepc.loc[placepc == pc].index[0]\n",
    "                ind = postcodedf.loc[postcodedf[\"postcode\"] == key].index[0]\n",
    "                tpd = {\"l012\": df4['l012'],\n",
    "                    \"l012_pred\": predicted}\n",
    "                tpdf = pd.DataFrame(tpd)\n",
    "                tpdf['residuals'] = tpdf['l012_pred'] - tpdf['l012']\n",
    "                DataFrameDict_results1[key] =  tpdf \n",
    "                \n",
    "\n",
    "        else:\n",
    "            print(\"area(value) %s: data incomplete\" % (key))\n",
    "            continue\n",
    "    except:\n",
    "        print(key)\n",
    "        pass  "
   ]
  },
  {
   "cell_type": "code",
   "execution_count": 64,
   "id": "8878e67f",
   "metadata": {},
   "outputs": [
    {
     "name": "stdout",
     "output_type": "stream",
     "text": [
      "4670\n",
      "4655\n",
      "4650\n",
      "4615\n"
     ]
    }
   ],
   "source": [
    "# DataFrameDict_results1 = {elem: pd.DataFrame for elem in DataFrameDict_postcode.keys()}\n",
    "# for key in DataFrameDict_results1.keys():\n",
    "#     try:\n",
    "#         if sum(postcodedf[\"postcode\"] == key) > 0:\n",
    "#             # ind = placepc.loc[placepc == pc].index[0]\n",
    "#             ind = postcodedf.loc[postcodedf[\"postcode\"] == key].index[0]\n",
    "#             df = DataFrameDict_postcode[key]\n",
    "#             if len(df[\"Hedonic Home Value Index\"]) > 360:\n",
    "#                 sa4_name =  DataFrameDict_postcode[key][\"sa4_name16\"].unique()[0]\n",
    "#                 df_rf_sa4 = gamma2rf(sa4_name,pcafit_final,d3_final,lag_final)\n",
    "#                 df_rf_nat = PC_nat\n",
    "#                 df1 = df_rf_nat.join(df_rf_sa4)\n",
    "#                 df2 = df1.join(avg_4.loc[avg_4['postcode'] == key].set_index('date'))\n",
    "#                 df3 = df2.join(avg_3_pred.loc[avg_3_pred['sa4'] ==sa4_name].set_index('date'))\n",
    "#                 df4 = df3.interpolate(method='linear').interpolate(method=\"spline\", order=1, limit_direction=\"both\")\n",
    "#                 df4['l2'] = df4['l012'] - df4['l01_fc']\n",
    "#                 df5 = df4.drop(['postcode','sa4','l012', 'l01_fc'], axis=1)    \n",
    "#                 df6 = df1.interpolate(\"bfill\").interpolate(\"ffill\").reset_index()\n",
    "#                 df6['date'] = df6['date'].astype(str)\n",
    "#                 month = [int(my_str.split(\"-\")[1]) for my_str in df6[\"date\"].values]\n",
    "#                 quater = [(m - 1) // 3 + 1 for m in month]\n",
    "#                 monthdummies = pd.get_dummies(month, prefix=\"month\").iloc[:,:-1]\n",
    "#                 quaterdummies = pd.get_dummies(quater, prefix=\"quater\").iloc[:,:-1]\n",
    "#                 dummies = pd.concat([monthdummies, quaterdummies], axis=1)\n",
    "#                 df7 =  pd.concat([df6,dummies],axis =1)\n",
    "#                 X = df7.iloc[:, 1:].values\n",
    "#                 y = df5.iloc[:, -1].values\n",
    "#                 result = statm.OLS(y, X).fit()\n",
    "#                 predicted =  df4['l01_fc']+ result.predict(X)\n",
    "                \n",
    "#                 true_final_value = DataFrameDict_postcode[key].loc[DataFrameDict_postcode[key].value_at_date == \"2019-11-30\"]['Hedonic Home Value Index']\n",
    "#                 predicted_final_value = 2**(sum(predicted[-119:]))*100\n",
    "                \n",
    "#                         # ind = placepc.loc[placepc == pc].index[0]\n",
    "#                 ind = postcodedf.loc[postcodedf[\"postcode\"] == key].index[0]\n",
    "#                 tpd = {\"l012\": df4['l012'],\n",
    "#                     \"l012_pred\": predicted}\n",
    "#                 tpdf = pd.DataFrame(tpd)\n",
    "#                 tpdf['residuals'] = tpdf['l012_pred'] - tpdf['l012']\n",
    "#                 DataFrameDict_results1[key] =  tpdf \n",
    "                \n",
    "\n",
    "#         else:\n",
    "#             print(\"area(value) %s: data incomplete\" % (key))\n",
    "#             continue\n",
    "#     except:\n",
    "#         print(key)\n",
    "#         pass    \n"
   ]
  },
  {
   "cell_type": "code",
   "execution_count": 65,
   "id": "96be8fff",
   "metadata": {},
   "outputs": [],
   "source": [
    "# with open('DataFrameDict_results1.pickle', 'wb') as f:\n",
    "#      pickle.dump(DataFrameDict_results1, f)"
   ]
  },
  {
   "cell_type": "code",
   "execution_count": 177,
   "id": "e9a2aff0",
   "metadata": {},
   "outputs": [],
   "source": [
    "# remain to be deleted \n",
    "key = 'Sydney - City and Inner South'\n",
    "d3= d3_final\n",
    "pcafit = pcafit_final\n",
    "gamma = gamma_final\n",
    "Dictdf = DataFrameDict_Hsa4[key].interpolate(\"bfill\").interpolate(\"ffill\").loc[:, DataFrameDict_Hsa4[key].columns != \"date\"]\n",
    "Xtraindata = pd.DataFrame([], columns = df_marks['Variable Names'].values)\n",
    "lst = list(set(df_marks['Variable Names'].values) & set(Dictdf.columns.values))\n",
    "\n",
    "for vn in lst:\n",
    "    Xtraindata[vn] = Dictdf[vn]\n",
    "X_train = Xtraindata.reset_index(drop =True).fillna(value = 0)     \n",
    "scaler = StandardScaler()\n",
    "\n",
    "# X_train.replace([np.inf, -np.inf], np.nan, inplace=True)\n",
    "X_train_std = scaler.fit_transform(X_train)\n",
    "X_pca_d_sa4_new = pcafit.transform(X_train_std)\n",
    "\n",
    "PCnames = []\n",
    "for i in range(1, d3 + 1, 1):\n",
    "    PCnames.append(f\"sa4PC{i}\")  \n",
    "    \n",
    "pcadf = pd.DataFrame(X_pca_d_sa4_new , columns=PCnames)\n",
    "pcadf['date'] = avg_1_y.reset_index()['date'][1:21].reset_index(drop= True)\n",
    "pcadf= pcadf.set_index(\"date\")    \n",
    "    \n",
    "df1 = pd.concat([pcadf,avg_1_pred['l0_forecast']], axis=1, join = \"outer\")\n",
    "df2 = avg_3.loc[avg_3['sa4'] == key].set_index('date')\n",
    "df3 = pd.concat([df1,df2['l01']], axis=1,join = \"outer\")\n",
    "#     df4 = df3.interpolate(method='linear').interpolate(method=\"spline\", order=1, limit_direction=\"both\")\n",
    "df4 = df3.interpolate(\"bfill\").interpolate(\"ffill\")\n",
    "\n",
    "\n",
    "\n",
    "values  = (df4['l01'] - df4['l0_forecast']).values\n",
    "values = values.reshape((len(values), 1))\n",
    "\n",
    "scaler2 = scaler.fit(values)\n",
    "normalized  = scaler2.transform(values)\n",
    "normalized_list =  [i[0] for i in normalized]\n",
    "\n",
    "df4['l1'] = normalized_list\n",
    "\n",
    "\n",
    "pcadf_sa4_date_new = df4.drop(['l01', 'l0_forecast'], axis=1)\n",
    "pcadf_sa4_date_new = pcadf_sa4_date_new.reset_index() \n",
    "df5= pcadf_sa4_date_new.loc[(\"2020-01\" >pcadf_sa4_date_new[\"date\"])&(pcadf_sa4_date_new[\"date\"]> \"2000-12\")].reset_index(drop = True)\n",
    "df = df5.iloc[:,1:]\n",
    "\n",
    "\n",
    "modelsa4 = VAR(df)\n",
    "model_fitted = modelsa4.fit(lag_final)\n",
    "df_example = df\n",
    "\n",
    "\n",
    "    \n",
    "        "
   ]
  },
  {
   "cell_type": "code",
   "execution_count": 176,
   "id": "2e9525db",
   "metadata": {},
   "outputs": [
    {
     "data": {
      "text/html": [
       "<div>\n",
       "<style scoped>\n",
       "    .dataframe tbody tr th:only-of-type {\n",
       "        vertical-align: middle;\n",
       "    }\n",
       "\n",
       "    .dataframe tbody tr th {\n",
       "        vertical-align: top;\n",
       "    }\n",
       "\n",
       "    .dataframe thead th {\n",
       "        text-align: right;\n",
       "    }\n",
       "</style>\n",
       "<table border=\"1\" class=\"dataframe\">\n",
       "  <thead>\n",
       "    <tr style=\"text-align: right;\">\n",
       "      <th></th>\n",
       "      <th>sa4PC1</th>\n",
       "      <th>sa4PC2</th>\n",
       "      <th>sa4PC3</th>\n",
       "      <th>sa4PC4</th>\n",
       "      <th>sa4PC5</th>\n",
       "      <th>sa4PC6</th>\n",
       "      <th>sa4PC7</th>\n",
       "      <th>sa4PC8</th>\n",
       "      <th>sa4PC9</th>\n",
       "      <th>sa4PC10</th>\n",
       "      <th>l1</th>\n",
       "    </tr>\n",
       "  </thead>\n",
       "  <tbody>\n",
       "    <tr>\n",
       "      <th>0</th>\n",
       "      <td>1.663688</td>\n",
       "      <td>0.039440</td>\n",
       "      <td>-1.253023</td>\n",
       "      <td>1.500108</td>\n",
       "      <td>1.683881</td>\n",
       "      <td>-1.404837</td>\n",
       "      <td>-1.037125</td>\n",
       "      <td>0.930967</td>\n",
       "      <td>-1.428023</td>\n",
       "      <td>1.905729</td>\n",
       "      <td>0.080578</td>\n",
       "    </tr>\n",
       "    <tr>\n",
       "      <th>1</th>\n",
       "      <td>-1.458222</td>\n",
       "      <td>1.340682</td>\n",
       "      <td>0.102470</td>\n",
       "      <td>-1.397899</td>\n",
       "      <td>0.618966</td>\n",
       "      <td>-0.532343</td>\n",
       "      <td>0.676281</td>\n",
       "      <td>0.411926</td>\n",
       "      <td>-0.039337</td>\n",
       "      <td>-4.387104</td>\n",
       "      <td>-0.539914</td>\n",
       "    </tr>\n",
       "    <tr>\n",
       "      <th>2</th>\n",
       "      <td>-1.458222</td>\n",
       "      <td>1.340682</td>\n",
       "      <td>0.102470</td>\n",
       "      <td>-1.397899</td>\n",
       "      <td>0.618966</td>\n",
       "      <td>-0.532343</td>\n",
       "      <td>0.676281</td>\n",
       "      <td>0.411926</td>\n",
       "      <td>-0.039337</td>\n",
       "      <td>-4.387104</td>\n",
       "      <td>0.978877</td>\n",
       "    </tr>\n",
       "    <tr>\n",
       "      <th>3</th>\n",
       "      <td>-1.458222</td>\n",
       "      <td>1.340682</td>\n",
       "      <td>0.102470</td>\n",
       "      <td>-1.397899</td>\n",
       "      <td>0.618966</td>\n",
       "      <td>-0.532343</td>\n",
       "      <td>0.676281</td>\n",
       "      <td>0.411926</td>\n",
       "      <td>-0.039337</td>\n",
       "      <td>-4.387104</td>\n",
       "      <td>0.763500</td>\n",
       "    </tr>\n",
       "    <tr>\n",
       "      <th>4</th>\n",
       "      <td>-1.458222</td>\n",
       "      <td>1.340682</td>\n",
       "      <td>0.102470</td>\n",
       "      <td>-1.397899</td>\n",
       "      <td>0.618966</td>\n",
       "      <td>-0.532343</td>\n",
       "      <td>0.676281</td>\n",
       "      <td>0.411926</td>\n",
       "      <td>-0.039337</td>\n",
       "      <td>-4.387104</td>\n",
       "      <td>0.840949</td>\n",
       "    </tr>\n",
       "    <tr>\n",
       "      <th>...</th>\n",
       "      <td>...</td>\n",
       "      <td>...</td>\n",
       "      <td>...</td>\n",
       "      <td>...</td>\n",
       "      <td>...</td>\n",
       "      <td>...</td>\n",
       "      <td>...</td>\n",
       "      <td>...</td>\n",
       "      <td>...</td>\n",
       "      <td>...</td>\n",
       "      <td>...</td>\n",
       "    </tr>\n",
       "    <tr>\n",
       "      <th>224</th>\n",
       "      <td>0.783030</td>\n",
       "      <td>-0.419303</td>\n",
       "      <td>-0.729160</td>\n",
       "      <td>-0.257628</td>\n",
       "      <td>-0.674330</td>\n",
       "      <td>-0.959077</td>\n",
       "      <td>0.748884</td>\n",
       "      <td>0.987015</td>\n",
       "      <td>1.186440</td>\n",
       "      <td>1.184487</td>\n",
       "      <td>2.382032</td>\n",
       "    </tr>\n",
       "    <tr>\n",
       "      <th>225</th>\n",
       "      <td>0.783030</td>\n",
       "      <td>-0.419303</td>\n",
       "      <td>-0.729160</td>\n",
       "      <td>-0.257628</td>\n",
       "      <td>-0.674330</td>\n",
       "      <td>-0.959077</td>\n",
       "      <td>0.748884</td>\n",
       "      <td>0.987015</td>\n",
       "      <td>1.186440</td>\n",
       "      <td>1.184487</td>\n",
       "      <td>1.188637</td>\n",
       "    </tr>\n",
       "    <tr>\n",
       "      <th>226</th>\n",
       "      <td>0.783030</td>\n",
       "      <td>-0.419303</td>\n",
       "      <td>-0.729160</td>\n",
       "      <td>-0.257628</td>\n",
       "      <td>-0.674330</td>\n",
       "      <td>-0.959077</td>\n",
       "      <td>0.748884</td>\n",
       "      <td>0.987015</td>\n",
       "      <td>1.186440</td>\n",
       "      <td>1.184487</td>\n",
       "      <td>2.713337</td>\n",
       "    </tr>\n",
       "    <tr>\n",
       "      <th>227</th>\n",
       "      <td>0.783030</td>\n",
       "      <td>-0.419303</td>\n",
       "      <td>-0.729160</td>\n",
       "      <td>-0.257628</td>\n",
       "      <td>-0.674330</td>\n",
       "      <td>-0.959077</td>\n",
       "      <td>0.748884</td>\n",
       "      <td>0.987015</td>\n",
       "      <td>1.186440</td>\n",
       "      <td>1.184487</td>\n",
       "      <td>2.858486</td>\n",
       "    </tr>\n",
       "    <tr>\n",
       "      <th>228</th>\n",
       "      <td>0.783030</td>\n",
       "      <td>-0.419303</td>\n",
       "      <td>-0.729160</td>\n",
       "      <td>-0.257628</td>\n",
       "      <td>-0.674330</td>\n",
       "      <td>-0.959077</td>\n",
       "      <td>0.748884</td>\n",
       "      <td>0.987015</td>\n",
       "      <td>1.186440</td>\n",
       "      <td>1.184487</td>\n",
       "      <td>2.429518</td>\n",
       "    </tr>\n",
       "  </tbody>\n",
       "</table>\n",
       "<p>229 rows × 11 columns</p>\n",
       "</div>"
      ],
      "text/plain": [
       "       sa4PC1    sa4PC2    sa4PC3    sa4PC4    sa4PC5    sa4PC6    sa4PC7  \\\n",
       "0    1.663688  0.039440 -1.253023  1.500108  1.683881 -1.404837 -1.037125   \n",
       "1   -1.458222  1.340682  0.102470 -1.397899  0.618966 -0.532343  0.676281   \n",
       "2   -1.458222  1.340682  0.102470 -1.397899  0.618966 -0.532343  0.676281   \n",
       "3   -1.458222  1.340682  0.102470 -1.397899  0.618966 -0.532343  0.676281   \n",
       "4   -1.458222  1.340682  0.102470 -1.397899  0.618966 -0.532343  0.676281   \n",
       "..        ...       ...       ...       ...       ...       ...       ...   \n",
       "224  0.783030 -0.419303 -0.729160 -0.257628 -0.674330 -0.959077  0.748884   \n",
       "225  0.783030 -0.419303 -0.729160 -0.257628 -0.674330 -0.959077  0.748884   \n",
       "226  0.783030 -0.419303 -0.729160 -0.257628 -0.674330 -0.959077  0.748884   \n",
       "227  0.783030 -0.419303 -0.729160 -0.257628 -0.674330 -0.959077  0.748884   \n",
       "228  0.783030 -0.419303 -0.729160 -0.257628 -0.674330 -0.959077  0.748884   \n",
       "\n",
       "       sa4PC8    sa4PC9   sa4PC10        l1  \n",
       "0    0.930967 -1.428023  1.905729  0.080578  \n",
       "1    0.411926 -0.039337 -4.387104 -0.539914  \n",
       "2    0.411926 -0.039337 -4.387104  0.978877  \n",
       "3    0.411926 -0.039337 -4.387104  0.763500  \n",
       "4    0.411926 -0.039337 -4.387104  0.840949  \n",
       "..        ...       ...       ...       ...  \n",
       "224  0.987015  1.186440  1.184487  2.382032  \n",
       "225  0.987015  1.186440  1.184487  1.188637  \n",
       "226  0.987015  1.186440  1.184487  2.713337  \n",
       "227  0.987015  1.186440  1.184487  2.858486  \n",
       "228  0.987015  1.186440  1.184487  2.429518  \n",
       "\n",
       "[229 rows x 11 columns]"
      ]
     },
     "execution_count": 176,
     "metadata": {},
     "output_type": "execute_result"
    }
   ],
   "source": [
    "df"
   ]
  },
  {
   "cell_type": "code",
   "execution_count": 144,
   "id": "b77b3ed7",
   "metadata": {},
   "outputs": [
    {
     "name": "stderr",
     "output_type": "stream",
     "text": [
      "/var/folders/s1/vpd2prqd5fsc16qqsymrc9b00000gn/T/ipykernel_1973/3863077688.py:19: PerformanceWarning: DataFrame is highly fragmented.  This is usually the result of calling `frame.insert` many times, which has poor performance.  Consider using pd.concat instead.  To get a de-fragmented frame, use `newframe = frame.copy()`\n",
      "  DF_simResults_l1['date'] = aveHPIdf_lv3.loc[(\"2020-01\" > aveHPIdf_lv3[\"date\"]) & (aveHPIdf_lv3[\"date\"] > \"2009-11\")].reset_index(drop= True)[\"date\"]\n"
     ]
    }
   ],
   "source": [
    "# lag_order = model_fitted.k_ar\n",
    "\n",
    "# start_point = lag_order \n",
    "\n",
    "# DF_simResults_l1 = pd.DataFrame({}, columns = ['l1'])\n",
    "\n",
    "# for t in range(1, sim_times):\n",
    "#     df_forecast_sim = pd.DataFrame({},columns=df.columns)\n",
    "#     df_forecast_sim = df_forecast_sim.append(df.iloc[-121:-119, ])\n",
    "#     for i in range(1,df.iloc[-121:, ].shape[0]-lag_order+1, 1):\n",
    "#         forecast_input = df_forecast_sim.values[-lag_order + start_point + i - 1 : start_point + i - 1,]\n",
    "#         arr_pred = model_fitted.forecast(y=forecast_input, steps=1)\n",
    "#         arr_noise = np.random.normal(mu, sigma, len(df.columns))\n",
    "#         arr_new = np.add(arr_pred,arr_noise)\n",
    "#         df_new =  pd.DataFrame( arr_new ,columns=df.columns )\n",
    "#         df_forecast_sim = df_forecast_sim.append(df_new)\n",
    "#         df_forecast_sim = df_forecast_sim.reset_index(drop = True)\n",
    "#     DF_simResults_l1 = DF_simResults_l1.join(df_forecast_sim['l1'], how='right', rsuffix = f'_sim{t}')\n",
    "# DF_simResults_l1['date'] = aveHPIdf_lv3.loc[(\"2020-01\" > aveHPIdf_lv3[\"date\"]) & (aveHPIdf_lv3[\"date\"] > \"2009-11\")].reset_index(drop= True)[\"date\"] \n",
    "# DF_simResults_l1.set_index(\"date\", inplace = True)\n",
    "# DF_simResults_l1.drop(labels='l1', axis=1, inplace=True)\n",
    "\n",
    "# DF_simResults_l1 = pd.DataFrame(scaler2.inverse_transform(DF_simResults_l1.values), index = DF_simResults_l1.index, columns =   DF_simResults_l0.columns)\n",
    "        "
   ]
  },
  {
   "cell_type": "code",
   "execution_count": 100,
   "id": "905be277",
   "metadata": {},
   "outputs": [
    {
     "name": "stderr",
     "output_type": "stream",
     "text": [
      "/var/folders/s1/vpd2prqd5fsc16qqsymrc9b00000gn/T/ipykernel_1973/2362361902.py:19: PerformanceWarning: DataFrame is highly fragmented.  This is usually the result of calling `frame.insert` many times, which has poor performance.  Consider using pd.concat instead.  To get a de-fragmented frame, use `newframe = frame.copy()`\n",
      "  DF_simResults_l1['date'] = aveHPIdf_lv3.loc[(\"2020-01\" > aveHPIdf_lv3[\"date\"]) & (aveHPIdf_lv3[\"date\"] > \"2009-11\")].reset_index(drop= True)[\"date\"]\n"
     ]
    }
   ],
   "source": [
    "# lag_order = model_fitted.k_ar\n",
    "\n",
    "# start_point = lag_order \n",
    "\n",
    "# DF_simResults_l1 = pd.DataFrame({}, columns = ['l1'])\n",
    "\n",
    "# for t in range(1, sim_times):\n",
    "#     df_forecast_sim = pd.DataFrame({},columns=df.columns)\n",
    "#     df_forecast_sim = df_forecast_sim.append(df.iloc[-121:-119, ])\n",
    "#     for i in range(1,df.iloc[-121:, ].shape[0]-lag_order+1, 1):\n",
    "#         forecast_input = df.values[-lag_order + start_point + i - 1 -121: start_point + i - 1-121,]\n",
    "#         arr_pred = model_fitted.forecast(y=forecast_input, steps=1)\n",
    "#         arr_noise = np.random.normal(mu, sigma, len(df.columns))\n",
    "#         arr_new = np.add(arr_pred,arr_noise)\n",
    "#         df_new =  pd.DataFrame( arr_new ,columns=df.columns )\n",
    "#         df_forecast_sim = df_forecast_sim.append(df_new)\n",
    "#         df_forecast_sim = df_forecast_sim.reset_index(drop = True)\n",
    "#     DF_simResults_l1 = DF_simResults_l1.join(df_forecast_sim['l1'], how='right', rsuffix = f'_sim{t}')\n",
    "# DF_simResults_l1['date'] = aveHPIdf_lv3.loc[(\"2020-01\" > aveHPIdf_lv3[\"date\"]) & (aveHPIdf_lv3[\"date\"] > \"2009-11\")].reset_index(drop= True)[\"date\"] \n",
    "# DF_simResults_l1.set_index(\"date\", inplace = True)\n",
    "# DF_simResults_l1.drop(labels='l1', axis=1, inplace=True)\n",
    "\n",
    "# DF_simResults_l1 = pd.DataFrame(scaler2.inverse_transform(DF_simResults_l1.values), index = DF_simResults_l1.index, columns =   DF_simResults_l0.columns)\n",
    "        "
   ]
  },
  {
   "cell_type": "code",
   "execution_count": 154,
   "id": "78a63b37",
   "metadata": {},
   "outputs": [],
   "source": [
    "   \n"
   ]
  },
  {
   "cell_type": "code",
   "execution_count": 147,
   "id": "e7f17434",
   "metadata": {},
   "outputs": [],
   "source": [
    "\n",
    "# key = '2039'\n",
    "# ind = postcodedf.loc[postcodedf[\"postcode\"] == key].index[0]\n",
    "# df = DataFrameDict_postcode[key]\n",
    "\n",
    "# z_critical = stats.norm.ppf(q = 0.95) \n",
    "\n",
    "\n",
    "\n",
    "# if len(df[\"Hedonic Home Value Index\"]) > 360:\n",
    "#     sa4_name =  DataFrameDict_postcode[key][\"sa4_name16\"].unique()[0]\n",
    "#     df_rf_sa4 = gamma2rf(sa4_name,pcafit_final,d3_final,lag_final)\n",
    "#     df_rf_nat = PC_nat\n",
    "#     df1 = df_rf_nat.join(df_rf_sa4)\n",
    "#     df2 = df1.join(avg_4.loc[avg_4['postcode'] == key].set_index('date'))\n",
    "#     df3 = df2.join(avg_3_pred.loc[avg_3_pred['sa4'] ==sa4_name].set_index('date'))\n",
    "#     df4 = df3.interpolate(method='linear').interpolate(method=\"spline\", order=1, limit_direction=\"both\")\n",
    "#     df4['l2'] = df4['l012'] - df4['l01_fc']\n",
    "#     df5 = df4.drop(['postcode','sa4','l012', 'l01_fc'], axis=1)    \n",
    "#     df6 = df1.interpolate(\"bfill\").interpolate(\"ffill\").reset_index()\n",
    "#     df6['date'] = df6['date'].astype(str)\n",
    "#     month = [int(my_str.split(\"-\")[1]) for my_str in df6[\"date\"].values]\n",
    "#     quater = [(m - 1) // 3 + 1 for m in month]\n",
    "#     monthdummies = pd.get_dummies(month, prefix=\"month\").iloc[:,:-1]\n",
    "#     quaterdummies = pd.get_dummies(quater, prefix=\"quater\").iloc[:,:-1]\n",
    "#     dummies = pd.concat([monthdummies, quaterdummies], axis=1)\n",
    "#     df7 =  pd.concat([df6,dummies],axis =1)\n",
    "#     X = df7.iloc[:, 1:].values\n",
    "#     y = df5.iloc[:, -1].values\n",
    "#     result = statm.OLS(y, X).fit()\n",
    "    \n",
    "    \n",
    "    \n",
    "    \n",
    "#     sim_res_example = pd.DataFrame({} ) \n",
    "#     for t in range(0,99):\n",
    "#         predicted =  DF_simResults_l0.iloc[2:,t]+ DF_simResults_l1.iloc[1:,t]+ result.predict(X)[-121:] \n",
    "#         df1 = pd.DataFrame(np.cumsum(predicted.values),columns = ['l012_sim'],index =predicted.index )\n",
    "#         sim_res_example = sim_res_example.join(df1['l012_sim'], how='right', rsuffix = f'_{t}') \n",
    "#         sim_res_example['mean'] =  sim_res_example.mean(axis=1)\n",
    "#         sim_res_example['stdev'] = sim_res_example.std(axis=1)\n",
    "#         sim_res_example['moe'] = z_critical * (sim_res_example['stdev']/math.sqrt(sim_times))\n",
    "#         sim_res_example['Ubound'] = sim_res_example['mean'] + sim_res_example['moe'] \n",
    "#         sim_res_example['Lbound'] = sim_res_example['mean'] - sim_res_example['moe'] \n",
    "        \n",
    "# df_final = 2**sim_res_example*100 "
   ]
  },
  {
   "cell_type": "markdown",
   "id": "f4ff504d",
   "metadata": {},
   "source": [
    "         \n",
    "                                    \n",
    "                                    \n",
    "                                    \n",
    "                                    \n",
    "                                    \n",
    "                                    \n",
    "                                    \n",
    "                                    \n",
    "                                    \n",
    "\n",
    "\n",
    "\n",
    "\n",
    "\n",
    "# CONFIDENCE INTERVALS FOR PARAMETERIZED MODELS\n",
    "The confidence interval of the house price model can be estimated, because it is linear in nature. However this process is too cumbersome and many assumptions need to be made. (see Chryssolouris, G., Lee, M. and Ramsey, A., 1996. Confidence interval prediction for neural network models. IEEE Transactions on neural networks, 7(1), pp.229-232.)"
   ]
  },
  {
   "cell_type": "markdown",
   "id": "86189756",
   "metadata": {},
   "source": [
    "\n",
    "\n",
    "# Margin of Error\n",
    "\n",
    "## Long term\n",
    "The graph below shows the long-term forecast of the house price index of a suburb (code 2018). Information prior to 2010 is treated as known, but information after 2010 is treated as unknown. The graph shows the actual HPI, the predicted value, and the confidence interval of the predicted value. As can be seen from the graph, there may be a significant difference between the long-term forecast and the actual HPI.\n"
   ]
  },
  {
   "cell_type": "code",
   "execution_count": 189,
   "id": "5bb843a4",
   "metadata": {},
   "outputs": [
    {
     "name": "stderr",
     "output_type": "stream",
     "text": [
      "/var/folders/s1/vpd2prqd5fsc16qqsymrc9b00000gn/T/ipykernel_1973/128015655.py:30: PerformanceWarning: DataFrame is highly fragmented.  This is usually the result of calling `frame.insert` many times, which has poor performance.  Consider using pd.concat instead.  To get a de-fragmented frame, use `newframe = frame.copy()`\n",
      "  DF_simResults_l0['date'] = aveHPIdf_lv3.loc[(\"2020-01\" > aveHPIdf_lv3[\"date\"]) & (aveHPIdf_lv3[\"date\"] > \"2009-10\")].reset_index(drop= True)[\"date\"]\n"
     ]
    }
   ],
   "source": [
    "# This is the simulation using forecasts, which is usually used in the long run. Related information is considered \n",
    "# as unknown beyond the present, and this techinique can be to forecast. \n",
    "\n",
    "import random\n",
    "random.seed(123)\n",
    "mu, sigma = 0, 1 \n",
    "sim_times = 100\n",
    "\n",
    "df = pca_avg.iloc[:,1:]\n",
    "model_fitted = model_fitted_l0\n",
    "lag_order_l0 = lag_order\n",
    "start_point_l0 =  start_point\n",
    "\n",
    "\n",
    "DF_simResults_l0 = pd.DataFrame({}, columns = ['l0'])\n",
    "\n",
    "for t in range(1, sim_times):\n",
    "    df_forecast_sim = pd.DataFrame({},columns=df.columns)\n",
    "    df_forecast_sim = df_forecast_sim.append(pca_avg.iloc[ -123:-121,1: ]).reset_index(drop = True)\n",
    "    for i in range(1,pca_avg.iloc[ -123:,1: ].shape[0]-lag_order+1, 1):\n",
    "        forecast_input = df_forecast_sim.values[-lag_order + start_point + i - 1 : start_point + i - 1,]\n",
    "        arr_pred = model_fitted.forecast(y=forecast_input, steps=1)\n",
    "        arr_noise = np.random.normal(mu, sigma, len(df.columns))\n",
    "        arr_new = np.add(arr_pred,arr_noise)\n",
    "        df_new =  pd.DataFrame( arr_new ,columns=df.columns )\n",
    "        df_forecast_sim = df_forecast_sim.append(df_new)\n",
    "        df_forecast_sim = df_forecast_sim.reset_index(drop = True)\n",
    "    DF_simResults_l0 = DF_simResults_l0.join(df_forecast_sim['l0'], how='right', rsuffix = f'_sim{t}')\n",
    "    \n",
    "DF_simResults_l0['date'] = aveHPIdf_lv3.loc[(\"2020-01\" > aveHPIdf_lv3[\"date\"]) & (aveHPIdf_lv3[\"date\"] > \"2009-10\")].reset_index(drop= True)[\"date\"] \n",
    "DF_simResults_l0.set_index(\"date\", inplace = True)\n",
    "DF_simResults_l0.drop(labels='l0', axis=1, inplace=True)\n",
    "\n",
    "DF_simResults_l0 = pd.DataFrame(scaler1.inverse_transform(DF_simResults_l0.values), index = DF_simResults_l0.index, columns =   DF_simResults_l0.columns)\n",
    "\n"
   ]
  },
  {
   "cell_type": "code",
   "execution_count": 190,
   "id": "34ee5e68",
   "metadata": {},
   "outputs": [],
   "source": [
    "# remain to be deleted \n",
    "key = 'Sydney - City and Inner South'\n",
    "d3= d3_final\n",
    "pcafit = pcafit_final\n",
    "gamma = gamma_final\n",
    "Dictdf = DataFrameDict_Hsa4[key].interpolate(\"bfill\").interpolate(\"ffill\").loc[:, DataFrameDict_Hsa4[key].columns != \"date\"]\n",
    "Xtraindata = pd.DataFrame([], columns = df_marks['Variable Names'].values)\n",
    "lst = list(set(df_marks['Variable Names'].values) & set(Dictdf.columns.values))\n",
    "\n",
    "for vn in lst:\n",
    "    Xtraindata[vn] = Dictdf[vn]\n",
    "X_train = Xtraindata.reset_index(drop =True).fillna(value = 0)     \n",
    "scaler = StandardScaler()\n",
    "\n",
    "# X_train.replace([np.inf, -np.inf], np.nan, inplace=True)\n",
    "X_train_std = scaler.fit_transform(X_train)\n",
    "X_pca_d_sa4_new = pcafit.transform(X_train_std)\n",
    "\n",
    "PCnames = []\n",
    "for i in range(1, d3 + 1, 1):\n",
    "    PCnames.append(f\"sa4PC{i}\")  \n",
    "    \n",
    "pcadf = pd.DataFrame(X_pca_d_sa4_new , columns=PCnames)\n",
    "pcadf['date'] = avg_1_y.reset_index()['date'][1:21].reset_index(drop= True)\n",
    "pcadf= pcadf.set_index(\"date\")    \n",
    "    \n",
    "df1 = pd.concat([pcadf,avg_1_pred['l0_forecast']], axis=1, join = \"outer\")\n",
    "df2 = avg_3.loc[avg_3['sa4'] == key].set_index('date')\n",
    "df3 = pd.concat([df1,df2['l01']], axis=1,join = \"outer\")\n",
    "#     df4 = df3.interpolate(method='linear').interpolate(method=\"spline\", order=1, limit_direction=\"both\")\n",
    "df4 = df3.interpolate(\"bfill\").interpolate(\"ffill\")\n",
    "\n",
    "\n",
    "\n",
    "values  = (df4['l01'] - df4['l0_forecast']).values\n",
    "values = values.reshape((len(values), 1))\n",
    "\n",
    "scaler2 = scaler.fit(values)\n",
    "normalized  = scaler2.transform(values)\n",
    "normalized_list =  [i[0] for i in normalized]\n",
    "\n",
    "df4['l1'] = normalized_list\n",
    "\n",
    "\n",
    "pcadf_sa4_date_new = df4.drop(['l01', 'l0_forecast'], axis=1)\n",
    "pcadf_sa4_date_new = pcadf_sa4_date_new.reset_index() \n",
    "df5= pcadf_sa4_date_new.loc[(\"2020-01\" >pcadf_sa4_date_new[\"date\"])&(pcadf_sa4_date_new[\"date\"]> \"2000-12\")].reset_index(drop = True)\n",
    "df = df5.iloc[:,1:]\n",
    "\n",
    "\n",
    "modelsa4 = VAR(df)\n",
    "model_fitted_l1 = modelsa4.fit(lag_final)\n",
    "df_example = df"
   ]
  },
  {
   "cell_type": "code",
   "execution_count": 191,
   "id": "fae5bc82",
   "metadata": {},
   "outputs": [
    {
     "name": "stderr",
     "output_type": "stream",
     "text": [
      "/var/folders/s1/vpd2prqd5fsc16qqsymrc9b00000gn/T/ipykernel_1973/1351475135.py:23: PerformanceWarning: DataFrame is highly fragmented.  This is usually the result of calling `frame.insert` many times, which has poor performance.  Consider using pd.concat instead.  To get a de-fragmented frame, use `newframe = frame.copy()`\n",
      "  DF_simResults_l1['date'] = aveHPIdf_lv3.loc[(\"2020-01\" > aveHPIdf_lv3[\"date\"]) & (aveHPIdf_lv3[\"date\"] > \"2009-11\")].reset_index(drop= True)[\"date\"]\n"
     ]
    }
   ],
   "source": [
    "lag_order = model_fitted.k_ar\n",
    "forecast_input = df\n",
    "start_point = lag_order \n",
    "\n",
    "model_fitted = model_fitted_l1 \n",
    "df = df_example\n",
    "\n",
    "DF_simResults_l1 = pd.DataFrame({}, columns = ['l1'])\n",
    "\n",
    "\n",
    "for t in range(1, sim_times):\n",
    "    df_forecast_sim = pd.DataFrame({},columns=df.columns)\n",
    "    df_forecast_sim = df_forecast_sim.append(df.iloc[-121:-119, ])\n",
    "    for i in range(1,df.iloc[-121:, ].shape[0]-lag_order+1, 1):\n",
    "        forecast_input = df_forecast_sim.values[-lag_order + start_point + i - 1 : start_point + i - 1,]\n",
    "        arr_pred = model_fitted.forecast(y=forecast_input, steps=1)\n",
    "        arr_noise = np.random.normal(mu, sigma, len(df.columns))\n",
    "        arr_new = np.add(arr_pred,arr_noise)\n",
    "        df_new =  pd.DataFrame( arr_new ,columns=df.columns )\n",
    "        df_forecast_sim = df_forecast_sim.append(df_new)\n",
    "        df_forecast_sim = df_forecast_sim.reset_index(drop = True)\n",
    "    DF_simResults_l1 = DF_simResults_l1.join(df_forecast_sim['l1'], how='right', rsuffix = f'_sim{t}')\n",
    "DF_simResults_l1['date'] = aveHPIdf_lv3.loc[(\"2020-01\" > aveHPIdf_lv3[\"date\"]) & (aveHPIdf_lv3[\"date\"] > \"2009-11\")].reset_index(drop= True)[\"date\"] \n",
    "DF_simResults_l1.set_index(\"date\", inplace = True)\n",
    "DF_simResults_l1.drop(labels='l1', axis=1, inplace=True)\n",
    "\n",
    "DF_simResults_l1 = pd.DataFrame(scaler2.inverse_transform(DF_simResults_l1.values), index = DF_simResults_l1.index, columns =   DF_simResults_l0.columns)\n",
    "        "
   ]
  },
  {
   "cell_type": "code",
   "execution_count": 192,
   "id": "d27bc78e",
   "metadata": {},
   "outputs": [],
   "source": [
    "key = '2018'\n",
    "ind = postcodedf.loc[postcodedf[\"postcode\"] == key].index[0]\n",
    "df = DataFrameDict_postcode[key]\n",
    "\n",
    "z_critical = stats.norm.ppf(q = 0.95) \n",
    "\n",
    "\n",
    "\n",
    "if len(df[\"Hedonic Home Value Index\"]) > 360:\n",
    "    sa4_name =  DataFrameDict_postcode[key][\"sa4_name16\"].unique()[0]\n",
    "    df_rf_sa4 = gamma2rf(sa4_name,pcafit_final,d3_final,lag_final)\n",
    "    df_rf_nat = PC_nat\n",
    "    df1 = df_rf_nat.join(df_rf_sa4)\n",
    "    df2 = df1.join(avg_4.loc[avg_4['postcode'] == key].set_index('date'))\n",
    "    df3 = df2.join(avg_3.loc[avg_3['sa4'] ==sa4_name].set_index('date'))\n",
    "    df4 = df3.interpolate(method='linear').interpolate(method=\"spline\", order=1, limit_direction=\"both\")\n",
    "    df4['l2'] = df4['l012'] - df4['l01']\n",
    "    df5 = df4.drop(['postcode','sa4','l012', 'l01'], axis=1)    \n",
    "    df6 = df1.interpolate(\"bfill\").interpolate(\"ffill\").reset_index()\n",
    "    df6['date'] = df6['date'].astype(str)\n",
    "    month = [int(my_str.split(\"-\")[1]) for my_str in df6[\"date\"].values]\n",
    "    quater = [(m - 1) // 3 + 1 for m in month]\n",
    "    monthdummies = pd.get_dummies(month, prefix=\"month\").iloc[:,:-1]\n",
    "    quaterdummies = pd.get_dummies(quater, prefix=\"quater\").iloc[:,:-1]\n",
    "    dummies = pd.concat([monthdummies, quaterdummies], axis=1)\n",
    "    df7 =  pd.concat([df6,dummies],axis =1)\n",
    "    X = df7.iloc[:, 1:].values\n",
    "    y = df5.iloc[:, -1].values\n",
    "    result = statm.OLS(y, X).fit()\n",
    "    \n",
    "    \n",
    "    \n",
    "    \n",
    "    sim_res_example = pd.DataFrame({} ) \n",
    "    for t in range(0,99):\n",
    "        predicted =  DF_simResults_l0.iloc[2:,t]+ DF_simResults_l1.iloc[1:,t]+ result.predict(X)[-121:] \n",
    "        df1 = pd.DataFrame(np.cumsum(predicted.values),columns = ['l012_sim'],index =predicted.index )\n",
    "        sim_res_example = sim_res_example.join(df1['l012_sim'], how='right', rsuffix = f'_{t}') \n",
    "        sim_res_example['mean'] =  sim_res_example.mean(axis=1)\n",
    "        sim_res_example['stdev'] = sim_res_example.std(axis=1)\n",
    "        sim_res_example['moe'] = z_critical * (sim_res_example['stdev']/math.sqrt(sim_times))\n",
    "        sim_res_example['Ubound'] = sim_res_example['mean'] + sim_res_example['moe'] \n",
    "        sim_res_example['Lbound'] = sim_res_example['mean'] - sim_res_example['moe'] \n",
    "        \n",
    "df_final = 2**sim_res_example*100      "
   ]
  },
  {
   "cell_type": "code",
   "execution_count": 193,
   "id": "f41e9d3d",
   "metadata": {},
   "outputs": [
    {
     "data": {
      "text/plain": [
       "(array([ 80., 100., 120., 140., 160., 180., 200., 220., 240., 260.]),\n",
       " [Text(0, 0, ''),\n",
       "  Text(0, 0, ''),\n",
       "  Text(0, 0, ''),\n",
       "  Text(0, 0, ''),\n",
       "  Text(0, 0, ''),\n",
       "  Text(0, 0, ''),\n",
       "  Text(0, 0, ''),\n",
       "  Text(0, 0, ''),\n",
       "  Text(0, 0, ''),\n",
       "  Text(0, 0, '')])"
      ]
     },
     "execution_count": 193,
     "metadata": {},
     "output_type": "execute_result"
    },
    {
     "data": {
      "image/png": "[encoded data removed]",
      "text/plain": [
       "<Figure size 1440x432 with 1 Axes>"
      ]
     },
     "metadata": {
      "needs_background": "light"
     },
     "output_type": "display_data"
    }
   ],
   "source": [
    "import numpy as np \n",
    "import pandas as pd\n",
    "import matplotlib.pyplot as plt\n",
    "from datetime import timedelta\n",
    "from scipy.signal import savgol_filter\n",
    "\n",
    "color1 = '#0085c3'\n",
    "color2 = '#7ab800'\n",
    "color3 = '#dc5034'\n",
    "\n",
    "fig = plt.figure(figsize=(20,6))\n",
    "ax = fig.add_subplot(111)\n",
    "\n",
    "\n",
    "df1 =  sim_res_example.reset_index()\n",
    "x1 = df1['date'].values\n",
    "df2 = DataFrameDict_postcode[key].loc[(DataFrameDict_postcode[key]['value_at_date']>'2009-11-30')&(DataFrameDict_postcode[key]['value_at_date']<'2020-01-01')]\n",
    "x2= df2['value_at_date'].values\n",
    "\n",
    "\n",
    "\n",
    "\n",
    "ax.plot(x1,df_final['mean'] , color=color2, marker='.', label='Mean')\n",
    "ax.plot(x1,df_final['Ubound'], color=color1,ls='--')\n",
    "ax.plot(x1, df_final['Lbound'] , color=color1,ls='--')\n",
    "ax.plot(x1, df2['Hedonic Home Value Index'] ,marker='.',label = 'True')\n",
    "\n",
    "\n",
    "\n",
    "ax.grid(ls=':', color='gray', alpha=0.6)\n",
    "\n",
    "ax.legend(loc='upper left', fontsize=10)\n",
    "\n",
    "plt.xticks(rotation=45, fontsize=12)\n",
    "plt.yticks(fontsize=12)"
   ]
  },
  {
   "cell_type": "markdown",
   "id": "3ae13ac4",
   "metadata": {},
   "source": [
    "## Short term \n",
    "Of course, if new information is incorporated into the model, the short-term prediction results will become better. The confidence intervals of the short-term prediction results can also be simulated in a similar way. I prefer to use this approach to show my results in my paper and evaluate this model by counting the total number of true HPIs that fall in the confidence interval. \n",
    "\n",
    "However, during the simulation, the random terms are subject to standard normal distribution according to the assumptions of the VAR model. Therefore, further analysis of the variance is necessary. Otherwise the result would be very simple: the confidence interval is constructed entirely from a standard normal distribution and the short-term forecast of HPI. "
   ]
  },
  {
   "cell_type": "code",
   "execution_count": 172,
   "id": "4607aee1",
   "metadata": {},
   "outputs": [],
   "source": [
    "sim_times = 100"
   ]
  },
  {
   "cell_type": "code",
   "execution_count": 195,
   "id": "20938949",
   "metadata": {},
   "outputs": [
    {
     "name": "stderr",
     "output_type": "stream",
     "text": [
      "/var/folders/s1/vpd2prqd5fsc16qqsymrc9b00000gn/T/ipykernel_1973/2422718436.py:26: PerformanceWarning: DataFrame is highly fragmented.  This is usually the result of calling `frame.insert` many times, which has poor performance.  Consider using pd.concat instead.  To get a de-fragmented frame, use `newframe = frame.copy()`\n",
      "  DF_simResults_l0['date'] = aveHPIdf_lv3.loc[(\"2020-01\" > aveHPIdf_lv3[\"date\"]) & (aveHPIdf_lv3[\"date\"] > \"2009-10\")].reset_index(drop= True)[\"date\"]\n"
     ]
    }
   ],
   "source": [
    "# This is the simulation using forecasts, which is usually used in the long run. Related information is considered \n",
    "# as unknown beyond the present, and this techinique can be to forecast. \n",
    "\n",
    "import random\n",
    "random.seed(123)\n",
    "mu, sigma = 0, 1 \n",
    "\n",
    "df = pca_avg.iloc[:,1:]\n",
    "model_fitted = model_fitted_l0\n",
    "\n",
    "DF_simResults_l0 = pd.DataFrame({}, columns = ['l0'])\n",
    "\n",
    "for t in range(1, sim_times):\n",
    "    df_forecast_sim = pd.DataFrame({},columns=df.columns)\n",
    "    df_forecast_sim = df_forecast_sim.append(pca_avg.iloc[ -123:-121,1: ]).reset_index(drop = True)\n",
    "    for i in range(1,pca_avg.iloc[ -123:,1: ].shape[0]-lag_order+1, 1):\n",
    "        forecast_input = pca_avg.values[-lag_order + start_point + i - 1 -123 : start_point + i - 1-123,1:]\n",
    "        arr_pred = model_fitted.forecast(y=forecast_input, steps=1)\n",
    "        arr_noise = np.random.normal(mu, sigma, len(df.columns))\n",
    "        arr_new = np.add(arr_pred,arr_noise)\n",
    "        df_new =  pd.DataFrame( arr_new ,columns=df.columns )\n",
    "        df_forecast_sim = df_forecast_sim.append(df_new)\n",
    "        df_forecast_sim = df_forecast_sim.reset_index(drop = True)\n",
    "    DF_simResults_l0 = DF_simResults_l0.join(df_forecast_sim['l0'], how='right', rsuffix = f'_sim{t}')\n",
    "    \n",
    "DF_simResults_l0['date'] = aveHPIdf_lv3.loc[(\"2020-01\" > aveHPIdf_lv3[\"date\"]) & (aveHPIdf_lv3[\"date\"] > \"2009-10\")].reset_index(drop= True)[\"date\"] \n",
    "DF_simResults_l0.set_index(\"date\", inplace = True)\n",
    "DF_simResults_l0.drop(labels='l0', axis=1, inplace=True)\n",
    "\n",
    "DF_simResults_l0 = pd.DataFrame(scaler1.inverse_transform(DF_simResults_l0.values), index = DF_simResults_l0.index, columns =   DF_simResults_l0.columns)\n",
    "        \n",
    "    "
   ]
  },
  {
   "cell_type": "code",
   "execution_count": 194,
   "id": "12642455",
   "metadata": {},
   "outputs": [],
   "source": [
    "# remain to be deleted \n",
    "key = 'Sydney - City and Inner South'\n",
    "d3= d3_final\n",
    "pcafit = pcafit_final\n",
    "gamma = gamma_final\n",
    "Dictdf = DataFrameDict_Hsa4[key].interpolate(\"bfill\").interpolate(\"ffill\").loc[:, DataFrameDict_Hsa4[key].columns != \"date\"]\n",
    "Xtraindata = pd.DataFrame([], columns = df_marks['Variable Names'].values)\n",
    "lst = list(set(df_marks['Variable Names'].values) & set(Dictdf.columns.values))\n",
    "\n",
    "for vn in lst:\n",
    "    Xtraindata[vn] = Dictdf[vn]\n",
    "X_train = Xtraindata.reset_index(drop =True).fillna(value = 0)     \n",
    "scaler = StandardScaler()\n",
    "\n",
    "# X_train.replace([np.inf, -np.inf], np.nan, inplace=True)\n",
    "X_train_std = scaler.fit_transform(X_train)\n",
    "X_pca_d_sa4_new = pcafit.transform(X_train_std)\n",
    "\n",
    "PCnames = []\n",
    "for i in range(1, d3 + 1, 1):\n",
    "    PCnames.append(f\"sa4PC{i}\")  \n",
    "    \n",
    "pcadf = pd.DataFrame(X_pca_d_sa4_new , columns=PCnames)\n",
    "pcadf['date'] = avg_1_y.reset_index()['date'][1:21].reset_index(drop= True)\n",
    "pcadf= pcadf.set_index(\"date\")    \n",
    "    \n",
    "df1 = pd.concat([pcadf,avg_1_pred['l0_forecast']], axis=1, join = \"outer\")\n",
    "df2 = avg_3.loc[avg_3['sa4'] == key].set_index('date')\n",
    "df3 = pd.concat([df1,df2['l01']], axis=1,join = \"outer\")\n",
    "#     df4 = df3.interpolate(method='linear').interpolate(method=\"spline\", order=1, limit_direction=\"both\")\n",
    "df4 = df3.interpolate(\"bfill\").interpolate(\"ffill\")\n",
    "\n",
    "\n",
    "\n",
    "values  = (df4['l01'] - df4['l0_forecast']).values\n",
    "values = values.reshape((len(values), 1))\n",
    "\n",
    "scaler2 = scaler.fit(values)\n",
    "normalized  = scaler2.transform(values)\n",
    "normalized_list =  [i[0] for i in normalized]\n",
    "\n",
    "df4['l1'] = normalized_list\n",
    "\n",
    "\n",
    "pcadf_sa4_date_new = df4.drop(['l01', 'l0_forecast'], axis=1)\n",
    "pcadf_sa4_date_new = pcadf_sa4_date_new.reset_index() \n",
    "df5= pcadf_sa4_date_new.loc[(\"2020-01\" >pcadf_sa4_date_new[\"date\"])&(pcadf_sa4_date_new[\"date\"]> \"2000-12\")].reset_index(drop = True)\n",
    "df = df5.iloc[:,1:]\n",
    "\n",
    "\n",
    "modelsa4 = VAR(df)\n",
    "model_fitted_l1 = modelsa4.fit(lag_final)\n",
    "df_example = df\n",
    "lag_order_l1 = lag_order\n",
    "start_point_l1 = start_point\n",
    "\n"
   ]
  },
  {
   "cell_type": "code",
   "execution_count": 196,
   "id": "d279ab77",
   "metadata": {},
   "outputs": [
    {
     "name": "stderr",
     "output_type": "stream",
     "text": [
      "/var/folders/s1/vpd2prqd5fsc16qqsymrc9b00000gn/T/ipykernel_1973/660411959.py:20: PerformanceWarning: DataFrame is highly fragmented.  This is usually the result of calling `frame.insert` many times, which has poor performance.  Consider using pd.concat instead.  To get a de-fragmented frame, use `newframe = frame.copy()`\n",
      "  DF_simResults_l1['date'] = aveHPIdf_lv3.loc[(\"2020-01\" > aveHPIdf_lv3[\"date\"]) & (aveHPIdf_lv3[\"date\"] > \"2009-11\")].reset_index(drop= True)[\"date\"]\n"
     ]
    }
   ],
   "source": [
    "\n",
    "model_fitted = model_fitted_l1 \n",
    "df = df_example\n",
    "lag_order = lag_order_l1\n",
    "start_point = start_point_l1 \n",
    "\n",
    "DF_simResults_l1 = pd.DataFrame({}, columns = ['l1'])\n",
    "\n",
    "for t in range(1, sim_times):\n",
    "    df_forecast_sim = pd.DataFrame({},columns=df.columns)\n",
    "    df_forecast_sim = df_forecast_sim.append(df.iloc[-121:-119, ])\n",
    "    for i in range(1,df.iloc[-121:, ].shape[0]-lag_order+1, 1):\n",
    "        forecast_input = df.values[-lag_order + start_point + i - 1 -121: start_point + i - 1-121,]\n",
    "        arr_pred = model_fitted.forecast(y=forecast_input, steps=1)\n",
    "        arr_noise = np.random.normal(mu, sigma, len(df.columns))\n",
    "        arr_new = np.add(arr_pred,arr_noise)\n",
    "        df_new =  pd.DataFrame( arr_new ,columns=df.columns )\n",
    "        df_forecast_sim = df_forecast_sim.append(df_new)\n",
    "        df_forecast_sim = df_forecast_sim.reset_index(drop = True)\n",
    "    DF_simResults_l1 = DF_simResults_l1.join(df_forecast_sim['l1'], how='right', rsuffix = f'_sim{t}')\n",
    "DF_simResults_l1['date'] = aveHPIdf_lv3.loc[(\"2020-01\" > aveHPIdf_lv3[\"date\"]) & (aveHPIdf_lv3[\"date\"] > \"2009-11\")].reset_index(drop= True)[\"date\"] \n",
    "DF_simResults_l1.set_index(\"date\", inplace = True)\n",
    "DF_simResults_l1.drop(labels='l1', axis=1, inplace=True)\n",
    "\n",
    "DF_simResults_l1 = pd.DataFrame(scaler2.inverse_transform(DF_simResults_l1.values), index = DF_simResults_l1.index, columns =   DF_simResults_l0.columns)\n",
    "        \n"
   ]
  },
  {
   "cell_type": "code",
   "execution_count": 199,
   "id": "e7276c0b",
   "metadata": {},
   "outputs": [],
   "source": [
    "key = '2018'\n",
    "ind = postcodedf.loc[postcodedf[\"postcode\"] == key].index[0]\n",
    "df = DataFrameDict_postcode[key]\n",
    "\n",
    "z_critical = stats.norm.ppf(q = 0.95) \n",
    "\n",
    "\n",
    "\n",
    "if len(df[\"Hedonic Home Value Index\"]) > 360:\n",
    "    sa4_name =  DataFrameDict_postcode[key][\"sa4_name16\"].unique()[0]\n",
    "    df_rf_sa4 = gamma2rf(sa4_name,pcafit_final,d3_final,lag_final)\n",
    "    df_rf_nat = PC_nat\n",
    "    df1 = df_rf_nat.join(df_rf_sa4)\n",
    "    df2 = df1.join(avg_4.loc[avg_4['postcode'] == key].set_index('date'))\n",
    "    df3 = df2.join(avg_3.loc[avg_3['sa4'] ==sa4_name].set_index('date'))\n",
    "    df4 = df3.interpolate(method='linear').interpolate(method=\"spline\", order=1, limit_direction=\"both\")\n",
    "    df4['l2'] = df4['l012'] - df4['l01']\n",
    "    df5 = df4.drop(['postcode','sa4','l012', 'l01'], axis=1)    \n",
    "    df6 = df1.interpolate(\"bfill\").interpolate(\"ffill\").reset_index()\n",
    "    df6['date'] = df6['date'].astype(str)\n",
    "    month = [int(my_str.split(\"-\")[1]) for my_str in df6[\"date\"].values]\n",
    "    quater = [(m - 1) // 3 + 1 for m in month]\n",
    "    monthdummies = pd.get_dummies(month, prefix=\"month\").iloc[:,:-1]\n",
    "    quaterdummies = pd.get_dummies(quater, prefix=\"quater\").iloc[:,:-1]\n",
    "    dummies = pd.concat([monthdummies, quaterdummies], axis=1)\n",
    "    df7 =  pd.concat([df6,dummies],axis =1)\n",
    "    X = df7.iloc[:, 1:].values\n",
    "    y = df5.iloc[:, -1].values\n",
    "    result = statm.OLS(y, X).fit()\n",
    "    \n",
    "    \n",
    "    \n",
    "    \n",
    "    sim_res_example = pd.DataFrame({} ) \n",
    "    for t in range(0,99):\n",
    "        predicted =  DF_simResults_l0.iloc[2:,t]+ DF_simResults_l1.iloc[1:,t]+ result.predict(X)[-121:] \n",
    "        df1 = pd.DataFrame(np.cumsum(predicted.values),columns = ['l012_sim'],index =predicted.index )\n",
    "        sim_res_example = sim_res_example.join(df1['l012_sim'], how='right', rsuffix = f'_{t}') \n",
    "        sim_res_example['mean'] =  sim_res_example.mean(axis=1)\n",
    "        sim_res_example['stdev'] = sim_res_example.std(axis=1)\n",
    "        sim_res_example['moe'] = z_critical * (sim_res_example['stdev']/math.sqrt(sim_times))\n",
    "        sim_res_example['Ubound'] = sim_res_example.quantile(0.95,axis = 1)\n",
    "        sim_res_example['Lbound'] = sim_res_example.quantile(0.05,axis = 1)\n",
    "        \n",
    "        \n",
    "#         sim_res_example['Lbound'] = sim_res_example['mean'] + sim_res_example['moe']         \n",
    "#         sim_res_example['Lbound'] = sim_res_example['mean'] - sim_res_example['moe'] \n",
    "        \n",
    "df_final = 2**sim_res_example*100    "
   ]
  },
  {
   "cell_type": "code",
   "execution_count": 200,
   "id": "2bf8f108",
   "metadata": {},
   "outputs": [
    {
     "data": {
      "text/plain": [
       "(array([ 80., 100., 120., 140., 160., 180., 200., 220., 240., 260.]),\n",
       " [Text(0, 0, ''),\n",
       "  Text(0, 0, ''),\n",
       "  Text(0, 0, ''),\n",
       "  Text(0, 0, ''),\n",
       "  Text(0, 0, ''),\n",
       "  Text(0, 0, ''),\n",
       "  Text(0, 0, ''),\n",
       "  Text(0, 0, ''),\n",
       "  Text(0, 0, ''),\n",
       "  Text(0, 0, '')])"
      ]
     },
     "execution_count": 200,
     "metadata": {},
     "output_type": "execute_result"
    },
    {
     "data": {
      "image/png": "[encoded data removed]",
      "text/plain": [
       "<Figure size 1440x432 with 1 Axes>"
      ]
     },
     "metadata": {
      "needs_background": "light"
     },
     "output_type": "display_data"
    }
   ],
   "source": [
    "key = '2018'\n",
    "\n",
    "import numpy as np \n",
    "import pandas as pd\n",
    "import matplotlib.pyplot as plt\n",
    "from datetime import timedelta\n",
    "from scipy.signal import savgol_filter\n",
    "\n",
    "color1 = '#0085c3'\n",
    "color2 = '#7ab800'\n",
    "color3 = '#dc5034'\n",
    "\n",
    "fig = plt.figure(figsize=(20,6))\n",
    "ax = fig.add_subplot(111)\n",
    "\n",
    "\n",
    "df1 =  sim_res_example.reset_index()\n",
    "x1 = df1['date'].values\n",
    "df2 = DataFrameDict_postcode[key].loc[(DataFrameDict_postcode[key]['value_at_date']>'2009-11-30')&(DataFrameDict_postcode[key]['value_at_date']<'2020-01-01')]\n",
    "x2= df2['value_at_date'].values\n",
    "\n",
    "\n",
    "\n",
    "\n",
    "ax.plot(x1,df_final['mean'] , color=color2, marker='.', label='Mean')\n",
    "ax.plot(x1,df_final['Ubound'], color=color1,ls='--')\n",
    "ax.plot(x1, df_final['Lbound'] , color=color1,ls='--')\n",
    "ax.plot(x1, df2['Hedonic Home Value Index'] ,marker='.',label = 'True')\n",
    "\n",
    "\n",
    "\n",
    "ax.grid(ls=':', color='gray', alpha=0.6)\n",
    "\n",
    "ax.legend(loc='upper left', fontsize=10)\n",
    "\n",
    "plt.xticks(rotation=45, fontsize=12)\n",
    "plt.yticks(fontsize=12)"
   ]
  },
  {
   "cell_type": "code",
   "execution_count": null,
   "id": "20c52b4f",
   "metadata": {},
   "outputs": [],
   "source": []
  }
 ],
 "metadata": {
  "kernelspec": {
   "display_name": "Python 3 (ipykernel)",
   "language": "python",
   "name": "python3"
  },
  "language_info": {
   "codemirror_mode": {
    "name": "ipython",
    "version": 3
   },
   "file_extension": ".py",
   "mimetype": "text/x-python",
   "name": "python",
   "nbconvert_exporter": "python",
   "pygments_lexer": "ipython3",
   "version": "3.9.5"
  }
 },
 "nbformat": 4,
 "nbformat_minor": 5
}
