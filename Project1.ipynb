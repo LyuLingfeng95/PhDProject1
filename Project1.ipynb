{
 "cells": [
  {
   "cell_type": "code",
   "execution_count": 16,
   "id": "704c30d2",
   "metadata": {},
   "outputs": [],
   "source": [
    "import seaborn as sns\n",
    "import pandas as pd\n",
    "import missingno as msno\n",
    "import numpy as np\n",
    "from sklearn.impute import SimpleImputer\n",
    "import difflib\n",
    "from random import sample\n",
    "import folium\n",
    "import math\n",
    "import matplotlib.pyplot as plt\n",
    "import seaborn as sns\n",
    "from folium.plugins import HeatMap\n",
    "from folium.features import CustomIcon\n",
    "from folium.plugins import FastMarkerCluster, MarkerCluster\n",
    "import json\n",
    "import pyreadstat\n",
    "import string"
   ]
  },
  {
   "cell_type": "code",
   "execution_count": 2,
   "id": "b101ee7e",
   "metadata": {},
   "outputs": [
    {
     "name": "stdout",
     "output_type": "stream",
     "text": [
      "2668\n",
      "2669\n"
     ]
    }
   ],
   "source": [
    "postcodecsv = pd.read_csv('au_postcodes.csv') \n",
    "# References: \n",
    "#https://blog.greglow.com/2019/11/05/power-bi-creating-a-topojson-file-of-australian-postcodes-for-use-with-shape-map/\n",
    "#https://mapshaper.org/ \n",
    "#https://www.abs.gov.au/AUSSTATS/abs@.nsf/DetailsPage/1270.0.55.003July%202016?OpenDocument\n",
    "\n",
    "import pandas as pd\n",
    "from statistics import median\n",
    "from statistics import mean\n",
    "from scipy import stats\n",
    "\n",
    "ndf = pd.read_json('POA_2016_AUST.json')\n",
    "ndf1 = ndf['features'].apply(pd.Series)\n",
    "ndf2 = ndf1['geometry'].apply(pd.Series)\n",
    "ndf3 = ndf1['properties'].apply(pd.Series)\n",
    "border = ndf2['coordinates']\n",
    "\n",
    "depth = lambda L: isinstance(L, list) and max(map(depth, L))+1\n",
    "\n",
    "def flatten(d, l=1):\n",
    "    for i in d:\n",
    "        yield from ([i] if l == 1 else flatten(i, l-1))\n",
    "\n",
    "def centerlocation(index):\n",
    "    tmplst = list(flatten(border[index], l= depth(border[index])))\n",
    "    longi = median([i for i in tmplst  if i > 0])\n",
    "    lati = median([i for i in tmplst  if i < 0])\n",
    "    return[longi,lati]\n",
    "\n",
    "postcodedf = []\n",
    "i = 0\n",
    "for i in range(len(ndf)):\n",
    "    if depth(border[i])>0:\n",
    "        tpd = {\n",
    "        'postcode':[ndf3['POA_CODE16'].iloc[i]],\n",
    "        'longitude':[centerlocation(i)[0]],\n",
    "        'latitude':[centerlocation(i)[1]]}\n",
    "        tpdf = pd.DataFrame(tpd)\n",
    "        postcodedf.append(tpdf)\n",
    "    else:\n",
    "        print(i)\n",
    "        continue\n",
    "    i = i+1        \n",
    "postcodedf = pd.concat(postcodedf,ignore_index=True)"
   ]
  },
  {
   "cell_type": "code",
   "execution_count": 4,
   "id": "b119f30a",
   "metadata": {},
   "outputs": [],
   "source": [
    "data =  pd.read_csv('./markettrends0.csv', dtype = {'state': 'str', 'sa3_name16': 'str','sa4_name16': 'str',\n",
    "                                                   'postcode': 'str','state': 'str','property_type':'str'})\n",
    "ndata = data.fillna({'Volume of new rental listings (1 month)': 0, 'Volume of sales (1 month)': 0}).dropna(subset = ['postcode'])\n",
    "ndatahouses = ndata[:][ndata.property_type == 'Houses']\n",
    "ndataunits = ndata[:][ndata.property_type == 'Units']"
   ]
  },
  {
   "cell_type": "code",
   "execution_count": 5,
   "id": "19af3095",
   "metadata": {},
   "outputs": [],
   "source": [
    "# So far, Houses only\n",
    "UniqueNames_sa3 = ndatahouses.sa3_name16.unique()[:-1]\n",
    "DataFrameDict_sa3 = {elem : pd.DataFrame for elem in UniqueNames_sa3}\n",
    "for key in DataFrameDict_sa3.keys():\n",
    "     DataFrameDict_sa3[key] = ndata[:][ndata.sa3_name16 == key]"
   ]
  },
  {
   "cell_type": "code",
   "execution_count": 17,
   "id": "34c3fb64",
   "metadata": {},
   "outputs": [],
   "source": [
    "year = list(range(2001,2021))\n",
    "DataFrameDict_HILDA = {elem : pd.DataFrame for elem in year}\n",
    "for key in DataFrameDict_HILDA.keys():\n",
    "    order = key - 2001\n",
    "    ini = string.ascii_lowercase[order]\n",
    "    df, meta = pyreadstat.read_dta(f'Household_{ini}200u.dta')\n",
    "    df.columns = df.columns.str[1:]\n",
    "    DataFrameDict_HILDA[key] = df\n",
    "list_postcodes = DataFrameDict_HILDA[2001]['hhpcode']\n",
    "for key in DataFrameDict_HILDA.keys():\n",
    "    list_ny = DataFrameDict_HILDA[key]['hhpcode']\n",
    "    list_postcodes =list(set(list_postcodes).intersection(list_ny))\n",
    "count_dict = dict()\n",
    "for key in DataFrameDict_HILDA.keys():\n",
    "    for item in DataFrameDict_HILDA[key]['hhpcode'].unique():\n",
    "        if item in count_dict:\n",
    "            count_dict[item] +=1\n",
    "        else:\n",
    "            count_dict[item] =1\n",
    "df_allpostcode = pd.DataFrame(count_dict.items()) \n",
    "\n",
    "# if the amount of missing values are greater than 5, delete!\n",
    "\n"
   ]
  },
  {
   "cell_type": "code",
   "execution_count": 19,
   "id": "1c3681d4",
   "metadata": {},
   "outputs": [],
   "source": [
    "df_retainedpc = df_allpostcode.drop(df_allpostcode[df_allpostcode[1] < 16].index)"
   ]
  },
  {
   "cell_type": "code",
   "execution_count": 21,
   "id": "afca6581",
   "metadata": {},
   "outputs": [
    {
     "data": {
      "text/plain": [
       "0       2018\n",
       "1       2039\n",
       "2       2037\n",
       "3       2048\n",
       "4       2044\n",
       "        ... \n",
       "1380    3820\n",
       "1382    4883\n",
       "1386    3464\n",
       "1389    3043\n",
       "1391    3685\n",
       "Name: 0, Length: 1052, dtype: object"
      ]
     },
     "execution_count": 21,
     "metadata": {},
     "output_type": "execute_result"
    }
   ],
   "source": [
    "df_retainedpc[0]"
   ]
  },
  {
   "cell_type": "code",
   "execution_count": 22,
   "id": "a0c78316",
   "metadata": {},
   "outputs": [],
   "source": [
    "UniquePostcode = df_retainedpc[0]\n",
    "DataFrameDict_postcode = {elem : pd.DataFrame for elem in UniquePostcode}\n",
    "for key in DataFrameDict_postcode.keys():\n",
    "    DataFrameDict_postcode[key] = ndatahouses[:][ndatahouses.postcode == key]"
   ]
  },
  {
   "cell_type": "code",
   "execution_count": 26,
   "id": "afcde3c7",
   "metadata": {},
   "outputs": [
    {
     "name": "stdout",
     "output_type": "stream",
     "text": [
      "area -7: data incomplete\n",
      "area -2: data incomplete\n"
     ]
    }
   ],
   "source": [
    "def unique_non_null(s):\n",
    "    return s.dropna().unique()\n",
    "#placepc  = postcodedf['Postcode']\n",
    "\n",
    "growthrate = []\n",
    "\n",
    "for key in DataFrameDict_postcode.keys():\n",
    "    if  sum(postcodedf['postcode']==key)>0:\n",
    "        # ind = placepc.loc[placepc == pc].index[0]\n",
    "        ind = postcodedf.loc[postcodedf['postcode']== key].index[0]\n",
    "        df = DataFrameDict_postcode[key]\n",
    "        if len(df['Hedonic Home Value Index'])>360:\n",
    "            tpd = {\n",
    "                'UniqueNames_sa3':DataFrameDict_postcode[key]['sa3_name16'].unique(),\n",
    "                'S/T':DataFrameDict_postcode[key]['state'].unique(),\n",
    "                #'Postcode':[postcodedf.loc[ind,'Postcode']],\n",
    "               # 'longitude':[postcodedf.loc[ind,'longitude']],\n",
    "                #'latitude':[postcodedf.loc[ind,'latitude']],\n",
    "                'Postcode':[postcodedf.loc[ind,'postcode']],\n",
    "                'longitude':[postcodedf.loc[ind,'longitude']],\n",
    "                'latitude':[postcodedf.loc[ind,'latitude']],\n",
    "                'Growth_Houses': [df['Hedonic Home Value Index'].iloc[-1]/df['Hedonic Home Value Index'].iloc[359]], \n",
    "                'FinalHPI_Houses': [df['Hedonic Home Value Index'].iloc[-1]],\n",
    "               # 'Suburbs':\", \". join( ((postcodecsv.loc[(postcodecsv['postcode'] ==int(postcodedf.loc[ind,'Postcode']))]['place_name']).tolist()))}\n",
    "                'Suburbs':\", \". join( ((postcodecsv.loc[(postcodecsv['postcode'] == int(key))]['place_name']).tolist()))}\n",
    "            tpdf = pd.DataFrame(tpd)\n",
    "            growthrate.append(tpdf)\n",
    "    else:\n",
    "        print(\"area %s: data incomplete\" %(key)) \n",
    "        continue  \n",
    "    \n",
    "growthrate = pd.concat(growthrate,ignore_index=True)\n",
    "growthrate['Postcode'] = growthrate['Postcode'].astype(str)"
   ]
  },
  {
   "cell_type": "code",
   "execution_count": 24,
   "id": "0f022d20",
   "metadata": {},
   "outputs": [],
   "source": [
    "\n",
    "\n",
    "ndfsa3 = pd.read_json('SA3_2016_AUST.json')\n",
    "ndf1sa3 = ndfsa3['features'].apply(pd.Series)\n",
    "ndf2sa3 = ndf1sa3['geometry'].apply(pd.Series)\n",
    "ndf3sa3 = ndf1sa3['properties'].apply(pd.Series)\n",
    "borderdsa3 = ndf2sa3['coordinates']\n",
    "placename = ndf3sa3['SA3_NAME16']\n",
    "\n",
    "\n",
    "growthsa3 = []\n",
    "\n",
    "i = -1\n",
    "\n",
    "for key in DataFrameDict_sa3.keys():\n",
    "    i = i+1  \n",
    "    ind = placename[placename == difflib.get_close_matches(key, placename)[0]].index[0]\n",
    "    df = DataFrameDict_sa3[key]\n",
    "    tpd = {'UniqueNames_sa3':[DataFrameDict_sa3[key]['sa3_name16'].unique()[0]],\n",
    "            'sa3code':[ndf3sa3.loc[ind,'SA3_CODE16']], \n",
    "            'FinalHPI_Houses': [DataFrameDict_sa3[key][df.value_at_date == '2021-05-31']['Hedonic Home Value Index'].mean()]}\n",
    "    tpdf = pd.DataFrame(tpd)\n",
    "    growthsa3.append(tpdf)\n",
    "growthsa3= pd.concat(growthsa3,ignore_index=True)  "
   ]
  },
  {
   "cell_type": "code",
   "execution_count": 29,
   "id": "193262c1",
   "metadata": {},
   "outputs": [
    {
     "data": {
      "text/plain": [
       "dict_keys(['Darwin City', 'Darwin Suburbs', 'Litchfield', 'Palmerston', 'Daly - Tiwi - West Arnhem', 'Katherine', 'Barkly', 'Alice Springs', 'East Arnhem', 'Sydney Inner City', 'Botany', 'Eastern Suburbs - North', 'Eastern Suburbs - South', 'Leichhardt', 'Marrickville - Sydenham - Petersham', 'Strathfield - Burwood - Ashfield', 'Canada Bay', 'North Sydney - Mosman', 'Chatswood - Lane Cove', 'Ku-ring-gai', 'Hornsby', 'Warringah', 'Manly', 'Pittwater', 'Ryde - Hunters Hill', 'Carlingford', 'Pennant Hills - Epping', 'Parramatta', 'Baulkham Hills', 'Auburn', 'Merrylands - Guildford', 'Blacktown', 'Rouse Hill - McGraths Hill', 'Dural - Wisemans Ferry', 'Fairfield', 'Campbelltown (NSW)', 'Bringelly - Green Valley', 'Liverpool', 'Bankstown', 'Canterbury', 'Kogarah - Rockdale', 'Hurstville', 'Cronulla - Miranda - Caringbah', 'Sutherland - Menai - Heathcote', 'Gosford', 'Wyong', 'Lake Macquarie - West', 'Lake Macquarie - East', 'Newcastle', 'Lower Hunter', 'Great Lakes', 'Port Stephens', 'Maitland', 'Upper Hunter', 'Tamworth - Gunnedah', 'Armidale', 'Moree - Narrabri', 'Dubbo', 'Inverell - Tenterfield', 'Bourke - Cobar - Coonamble', 'Taree - Gloucester', 'Kempsey - Nambucca', 'Port Macquarie', 'Coffs Harbour', 'Clarence Valley', 'Richmond Valley - Hinterland', 'Richmond Valley - Coastal', 'Tweed Valley', 'Wollongong', 'Dapto - Port Kembla', 'Kiama - Shellharbour', 'Shoalhaven', 'South Coast', 'Camden', 'Wollondilly', 'Southern Highlands', 'Goulburn - Mulwaree', 'Young - Yass', 'Wagga Wagga', 'South Canberra', 'North Canberra', 'Woden Valley', 'Weston Creek', 'Belconnen', 'Queanbeyan', 'Snowy Mountains', 'Albury', 'Upper Murray exc. Albury', 'Lower Murray', 'Tumut - Tumbarumba', 'Lachlan Valley', 'Griffith - Murrumbidgee (West)', 'Penrith', 'Richmond - Windsor', 'Hawkesbury', 'St Marys', 'Mount Druitt', 'Blacktown - North', 'Blue Mountains', 'Bathurst', 'Lithgow - Mudgee', 'Orange', 'Broken Hill and Far West', 'Tuggeranong', 'Gungahlin', 'Melbourne City', 'Port Phillip', 'Maribyrnong', 'Hobsons Bay', 'Brimbank', 'Melton - Bacchus Marsh', 'Wyndham', 'Essendon', 'Keilor', 'Tullamarine - Broadmeadows', 'Moreland - North', 'Yarra', 'Brunswick - Coburg', 'Darebin - South', 'Darebin - North', 'Whittlesea - Wallan', 'Banyule', 'Nillumbik - Kinglake', 'Boroondara', 'Manningham - West', 'Manningham - East', 'Yarra Ranges', 'Whitehorse - West', 'Whitehorse - East', 'Maroondah', 'Stonnington - West', 'Stonnington - East', 'Monash', 'Knox', 'Glen Eira', 'Dandenong', 'Casey - North', 'Bayside', 'Kingston', 'Frankston', 'Geelong', 'Barwon - West', 'Surf Coast - Bellarine Peninsula', 'Colac - Corangamite', 'Warrnambool', 'Glenelg - Southern Grampians', 'Grampians', 'Creswick - Daylesford - Ballan', 'Ballarat', 'Maryborough - Pyrenees', 'Sunbury', 'Macedon Ranges', 'Heathcote - Castlemaine - Kyneton', 'Murray River - Swan Hill', 'Mildura', 'Loddon - Elmore', 'Upper Goulburn Valley', 'Bendigo', 'Campaspe', 'Shepparton', 'Moira', 'Wangaratta - Benalla', 'Wodonga - Alpine', 'Cardinia', 'Baw Baw', 'Latrobe Valley', 'Wellington', 'Gippsland - East', 'Gippsland - South West', 'Mornington Peninsula', 'Casey - South', 'Brisbane Inner', 'Brisbane Inner - North', 'Nundah', 'Sandgate', 'Redcliffe', 'Chermside', 'The Hills District', 'Bald Hills - Everton Park', 'The Gap - Enoggera', 'Brisbane Inner - West', 'Sherwood - Indooroopilly', 'Kenmore - Brookfield - Moggill', 'Centenary', 'Forest Lake - Oxley', 'Holland Park - Yeronga', 'Nathan', 'Rocklea - Acacia Ridge', 'Sunnybank', 'Mt Gravatt', 'Springwood - Kingston', 'Browns Plains', 'Jimboomba', 'Loganlea - Carbrook', 'Carindale', 'Capalaba', 'Wynnum - Manly', 'Cleveland - Stradbroke', 'Brisbane Inner - East', 'Beenleigh', 'Ormeau - Oxenford', 'Nerang', 'Mudgeeraba - Tallebudgera', 'Southport', 'Gold Coast - North', 'Surfers Paradise', 'Broadbeach - Burleigh', 'Coolangatta', 'Robina', 'Gold Coast Hinterland', 'Beaudesert', 'Springfield - Redbank', 'Ipswich Inner', 'Ipswich Hinterland', 'Toowoomba', 'Darling Downs - East', 'Granite Belt', 'Darling Downs (West) - Maranoa', 'Biloela', 'Outback - South', 'Strathpine', 'North Lakes', 'Narangba - Burpengary', 'Caboolture', 'Bribie - Beachmere', 'Caboolture Hinterland', 'Sunshine Coast Hinterland', 'Caloundra', 'Buderim', 'Maroochy', 'Nambour', 'Noosa Hinterland', 'Noosa', 'Gympie - Cooloola', 'Burnett', 'Maryborough', 'Hervey Bay', 'Bundaberg', 'Gladstone', 'Rockhampton', 'Bowen Basin - North', 'Central Highlands (Qld)', 'Mackay', 'Whitsunday', 'Charters Towers - Ayr - Ingham', 'Townsville', 'Outback - North', 'Innisfail - Cassowary Coast', 'Cairns - South', 'Far North', 'Tablelands (East) - Kuranda', 'Port Douglas - Daintree', 'Cairns - North', 'Adelaide City', 'Charles Sturt', 'Port Adelaide - West', 'West Torrens', 'Unley', 'Marion', 'Mitcham', 'Holdfast Bay', 'Burnside', 'Norwood - Payneham - St Peters', 'Campbelltown (SA)', 'Prospect - Walkerville', 'Port Adelaide - East', 'Tea Tree Gully', 'Salisbury', 'Playford', 'Gawler - Two Wells', 'Adelaide Hills', 'Onkaparinga', 'Fleurieu - Kangaroo Island', 'Barossa', 'Murray and Mallee', 'Limestone Coast', 'Lower North', 'Mid North', 'Outback - North and East', 'Yorke Peninsula', 'Eyre Peninsula and South West', 'Perth City', 'Cottesloe - Claremont', 'Stirling', 'Joondalup', 'Wanneroo', 'Wheat Belt - North', 'Bayswater - Bassendean', 'Swan', 'Kalamunda', 'Mundaring', 'Belmont - Victoria Park', 'Canning', 'Gosnells', 'Armadale', 'Serpentine - Jarrahdale', 'Melville', 'South Perth', 'Fremantle', 'Cockburn', 'Kwinana', 'Rockingham', 'Mandurah', 'Wheat Belt - South', 'Bunbury', 'Manjimup', 'Augusta - Margaret River - Busselton', 'Albany', 'Esperance', 'Goldfields', 'Mid West', 'Gascoyne', 'West Pilbara', 'East Pilbara', 'Kimberley', 'Hobart Inner', 'Hobart - North West', 'Hobart - North East', 'Brighton', 'Sorell - Dodges Ferry', 'Central Highlands (Tas.)', 'Hobart - South and West', 'Huon - Bruny Island', 'South East Coast', 'North East', 'Launceston', 'West Coast', 'Meander Valley - West Tamar', 'Devonport'])"
      ]
     },
     "execution_count": 29,
     "metadata": {},
     "output_type": "execute_result"
    }
   ],
   "source": [
    "DataFrameDict_sa3.keys()"
   ]
  },
  {
   "cell_type": "code",
   "execution_count": 34,
   "id": "8f7cb807",
   "metadata": {},
   "outputs": [],
   "source": [
    "folium_map4 = folium.Map(location=[-30, 138],\n",
    "                        zoom_start=4.4, titles ='cartodbpositron')\n",
    "\n",
    "\n",
    "f = open('POA_2016_AUST.json')\n",
    "postcode_geo =json.load(f)\n",
    "postcodedata2 = pd.DataFrame({'postcode':  df_retainedpc[0], 'fill': [1] * len(df_retainedpc[0])})\n",
    "\n",
    "folium.Choropleth(\n",
    "    geo_data=postcode_geo,\n",
    "    name=\"choropleth\",\n",
    "    data= postcodedata2,\n",
    "    fill_color=\"BrBG\",\n",
    "    columns=[\"postcode\",\"fill\"],\n",
    "    key_on=\"feature.properties.POA_CODE16\",\n",
    "    fill_opacity=0.4,\n",
    "    line_opacity=0.6\n",
    ").add_to(folium_map4)\n",
    "\n",
    "mc1 = MarkerCluster(name=\"Marker Cluster\")\n",
    "df = growthrate\n",
    "for index, row in df.iterrows():\n",
    "    html = \" Postcode: {}<br><br>Suburb(s): {}<br><br> Location (SA3): {} <br><br>State: {} <br><br>Current HPI: {}<br><br> Fixed Based Growth Rate since 31/12/2009: {}  \".format(\n",
    "                      row[\"Postcode\"],\n",
    "                      row[\"Suburbs\"],\n",
    "                      row[\"UniqueNames_sa3\"],   \n",
    "                      row[\"S/T\"], \n",
    "                      row[\"FinalHPI_Houses\"],\n",
    "                      format(row[\"Growth_Houses\"], '.4f'),\n",
    "                     \n",
    "                      )\n",
    "\n",
    "\n",
    "    iframe = folium.IFrame(html)\n",
    "    popup = folium.Popup(iframe,\n",
    "                     min_width=400,\n",
    "                     max_width=400)\n",
    "    folium.CircleMarker(location=[row[\"latitude\"],row[\"longitude\"]],\n",
    "                        color=\"blue\",\n",
    "                        fill_opacity=math.pow(row['Growth_Houses'],4)/10,\n",
    "                        weight=0.8,\n",
    "                        popup=popup,\n",
    "                        fill=True).add_to(mc1)\n",
    "\n",
    "mc1.add_to(folium_map4)\n",
    "\n",
    "folium.LayerControl().add_to(folium_map4)\n",
    "\n",
    "folium_map4\n",
    "\n",
    "\n",
    "\n"
   ]
  },
  {
   "cell_type": "code",
   "execution_count": 35,
   "id": "e8ce7326",
   "metadata": {},
   "outputs": [],
   "source": [
    "folium_map4.save(\"index.html\")"
   ]
  },
  {
   "cell_type": "code",
   "execution_count": null,
   "id": "d5c4a483",
   "metadata": {},
   "outputs": [],
   "source": []
  }
 ],
 "metadata": {
  "kernelspec": {
   "display_name": "Python 3 (ipykernel)",
   "language": "python",
   "name": "python3"
  },
  "language_info": {
   "codemirror_mode": {
    "name": "ipython",
    "version": 3
   },
   "file_extension": ".py",
   "mimetype": "text/x-python",
   "name": "python",
   "nbconvert_exporter": "python",
   "pygments_lexer": "ipython3",
   "version": "3.9.5"
  }
 },
 "nbformat": 4,
 "nbformat_minor": 5
}
