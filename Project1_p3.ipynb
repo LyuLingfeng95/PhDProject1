{
 "cells": [
  {
   "cell_type": "code",
   "execution_count": 1,
   "id": "0e4b4336",
   "metadata": {},
   "outputs": [],
   "source": [
    "import datetime as dt\n",
    "import difflib\n",
    "import json\n",
    "import math\n",
    "import os\n",
    "import string\n",
    "import sys\n",
    "from datetime import timedelta\n",
    "from random import sample\n",
    "\n",
    "import folium\n",
    "import matplotlib as mpl\n",
    "import matplotlib.pyplot as plt\n",
    "import missingno as msno\n",
    "import numpy as np\n",
    "import pandas as pd\n",
    "import pyreadstat\n",
    "import seaborn as sns\n",
    "import statsmodels.tools.tools as sm\n",
    "import statsmodels.base as sb\n",
    "from folium.features import CustomIcon\n",
    "from folium.plugins import FastMarkerCluster, HeatMap, MarkerCluster\n",
    "from linearmodels.panel.model import PooledOLS\n",
    "from scipy.signal import savgol_filter\n",
    "from sklearn.decomposition import PCA\n",
    "from sklearn.impute import SimpleImputer\n",
    "from sklearn.preprocessing import StandardScaler\n",
    "from statsmodels.stats.stattools import durbin_watson\n",
    "from statsmodels.tools.eval_measures import aic, rmse\n",
    "from statsmodels.tsa.api import VAR\n",
    "from statsmodels.tsa.stattools import adfuller\n",
    "import yfinance as yf\n",
    "from yahoofinancials import YahooFinancials\n",
    "import pickle\n",
    "import array_to_latex as a2l\n",
    "import markdown\n",
    "from sklearn.preprocessing import PolynomialFeatures\n",
    "from sklearn.preprocessing import StandardScaler"
   ]
  },
  {
   "cell_type": "code",
   "execution_count": 4,
   "id": "03cbcdad",
   "metadata": {},
   "outputs": [],
   "source": [
    "data = pd.read_csv(\n",
    "    \"./markettrends0.csv\",\n",
    "    dtype={\n",
    "        \"state\": \"str\",\n",
    "        \"sa3_name16\": \"str\",\n",
    "        \"sa4_name16\": \"str\",\n",
    "        \"postcode\": \"str\",\n",
    "        \"state\": \"str\",\n",
    "        \"property_type\": \"str\",\n",
    "    },\n",
    ")\n",
    "ndata = data.fillna(\n",
    "    {\"Volume of new rental listings (1 month)\": 0, \"Volume of sales (1 month)\": 0}\n",
    ").dropna(subset=[\"postcode\"])\n",
    "ndatahouses = ndata[:][ndata.property_type == \"Houses\"]\n",
    "ndataunits = ndata[:][ndata.property_type == \"Units\"]"
   ]
  },
  {
   "cell_type": "code",
   "execution_count": null,
   "id": "113f95f9",
   "metadata": {},
   "outputs": [],
   "source": [
    "UniqueNames_sa4 = ndatahouses.sa4_name16.unique()[:-1]"
   ]
  },
  {
   "cell_type": "code",
   "execution_count": 16,
   "id": "c9bf1134",
   "metadata": {},
   "outputs": [
    {
     "data": {
      "text/plain": [
       "array(['Darwin', 'Northern Territory - Outback',\n",
       "       'Sydney - City and Inner South', 'Sydney - Eastern Suburbs',\n",
       "       'Sydney - Inner West', 'Sydney - North Sydney and Hornsby',\n",
       "       'Sydney - Northern Beaches', 'Sydney - Ryde',\n",
       "       'Sydney - Parramatta', 'Sydney - Baulkham Hills and Hawkesbury',\n",
       "       'Sydney - Blacktown', 'Sydney - South West',\n",
       "       'Sydney - Outer South West', 'Sydney - Inner South West',\n",
       "       'Sydney - Sutherland', 'Central Coast',\n",
       "       'Newcastle and Lake Macquarie', 'Hunter Valley exc Newcastle',\n",
       "       'Mid North Coast', 'New England and North West',\n",
       "       'Far West and Orana', 'Coffs Harbour - Grafton',\n",
       "       'Richmond - Tweed', 'Illawarra',\n",
       "       'Southern Highlands and Shoalhaven', 'Capital Region', 'Riverina',\n",
       "       'Australian Capital Territory', 'Murray', 'Central West',\n",
       "       'Sydney - Outer West and Blue Mountains', 'Melbourne - Inner',\n",
       "       'Melbourne - West', 'Melbourne - North West',\n",
       "       'Melbourne - North East', 'Melbourne - Inner East',\n",
       "       'Melbourne - Outer East', 'Melbourne - Inner South',\n",
       "       'Melbourne - South East', 'Mornington Peninsula', 'Geelong',\n",
       "       'Warrnambool and South West', 'North West', 'Ballarat', 'Bendigo',\n",
       "       'Hume', 'Shepparton', 'Latrobe - Gippsland', 'Brisbane Inner City',\n",
       "       'Brisbane - North', 'Moreton Bay - North', 'Moreton Bay - South',\n",
       "       'Brisbane - West', 'Ipswich', 'Brisbane - South',\n",
       "       'Logan - Beaudesert', 'Brisbane - East', 'Gold Coast', 'Toowoomba',\n",
       "       'Darling Downs - Maranoa', 'Central Queensland',\n",
       "       'Queensland - Outback', 'Sunshine Coast', 'Wide Bay',\n",
       "       'Mackay - Isaac - Whitsunday', 'Townsville', 'Cairns',\n",
       "       'Adelaide - Central and Hills', 'Adelaide - West',\n",
       "       'Adelaide - South', 'Adelaide - North',\n",
       "       'South Australia - South East', 'Barossa - Yorke - Mid North',\n",
       "       'South Australia - Outback', 'Perth - Inner', 'Perth - North West',\n",
       "       'Western Australia - Wheat Belt', 'Perth - North East',\n",
       "       'Perth - South East', 'Perth - South West', 'Mandurah', 'Bunbury',\n",
       "       'Western Australia - Outback (South)',\n",
       "       'Western Australia - Outback (North)', 'Hobart', 'South East',\n",
       "       'Launceston and North East', 'West and North West'], dtype=object)"
      ]
     },
     "execution_count": 16,
     "metadata": {},
     "output_type": "execute_result"
    }
   ],
   "source": [
    "ndatahouses.sa4_name16.unique()"
   ]
  },
  {
   "cell_type": "code",
   "execution_count": null,
   "id": "67a25e90",
   "metadata": {},
   "outputs": [],
   "source": [
    "year = list(range(2001, 2021))\n",
    "DataFrameDict_HILDAp = {elem: pd.DataFrame for elem in year}\n",
    "for key in DataFrameDict_HILDAp.keys():\n",
    "    order = key - 2001\n",
    "    ini = string.ascii_lowercase[order]\n",
    "    df, meta = pyreadstat.read_dta(f\"Rperson_{ini}200u.dta\")\n",
    "    df.columns = df.columns.str[1:]\n",
    "    DataFrameDict_HILDAp[key] = df\n",
    "DataFrameDict_HILDA_cw = {elem: pd.DataFrame for elem in year}\n",
    "for key in DataFrameDict_HILDA_cw.keys():\n",
    "    order = key - 2001\n",
    "    ini = string.ascii_lowercase[order]\n",
    "    df, meta = pyreadstat.read_dta(f\"Combined_{ini}200u.dta\")\n",
    "    df.columns = df.columns.str[1:]\n",
    "    DataFrameDict_HILDA_cw[key] = df\n",
    "DataFrameDict_HILDA = {elem: pd.DataFrame for elem in year}\n",
    "for key in DataFrameDict_HILDA.keys():\n",
    "    order = key - 2001\n",
    "    ini = string.ascii_lowercase[order]\n",
    "    df, meta = pyreadstat.read_dta(f\"Household_{ini}200u.dta\")\n",
    "    df.columns = df.columns.str[1:]\n",
    "    DataFrameDict_HILDA[key] = df    "
   ]
  },
  {
   "cell_type": "code",
   "execution_count": null,
   "id": "6cb36a57",
   "metadata": {},
   "outputs": [],
   "source": [
    "list_postcodes = DataFrameDict_HILDA[2001][\"hhpcode\"]\n",
    "for key in DataFrameDict_HILDA.keys():\n",
    "    list_ny = DataFrameDict_HILDA[key][\"hhpcode\"]\n",
    "    list_postcodes = list(set(list_postcodes).intersection(list_ny))\n",
    "count_dict = dict()\n",
    "for key in DataFrameDict_HILDA.keys():\n",
    "    for item in DataFrameDict_HILDA[key][\"hhpcode\"].unique():\n",
    "        if item in count_dict:\n",
    "            count_dict[item] += 1\n",
    "        else:\n",
    "            count_dict[item] = 1\n",
    "df_allpostcode = pd.DataFrame(count_dict.items())\n",
    "HILDAallpc = df_allpostcode[0].values\n",
    "df_retainedpc = df_allpostcode.drop(df_allpostcode[df_allpostcode[1] < 20].index)"
   ]
  }
 ],
 "metadata": {
  "kernelspec": {
   "display_name": "Python 3 (ipykernel)",
   "language": "python",
   "name": "python3"
  },
  "language_info": {
   "codemirror_mode": {
    "name": "ipython",
    "version": 3
   },
   "file_extension": ".py",
   "mimetype": "text/x-python",
   "name": "python",
   "nbconvert_exporter": "python",
   "pygments_lexer": "ipython3",
   "version": "3.9.5"
  }
 },
 "nbformat": 4,
 "nbformat_minor": 5
}
